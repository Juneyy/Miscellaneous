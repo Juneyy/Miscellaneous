{
 "cells": [
  {
   "cell_type": "markdown",
   "metadata": {
    "colab_type": "text",
    "id": "56d3oMiMw8Wm"
   },
   "source": [
    "# Google Colab\n",
    "\n",
    "The following lines of code will configure your Google Colab environment for this assignment."
   ]
  },
  {
   "cell_type": "markdown",
   "metadata": {
    "colab_type": "text",
    "id": "eveuKTSV2RXo"
   },
   "source": [
    "### Enable GPU runtime\n",
    "\n",
    "Use the following instructions to switch the default Colab instance into a GPU-enabled runtime:\n",
    "\n",
    "```\n",
    "Runtime > Change runtime type > Hardware accelerator > GPU\n",
    "```"
   ]
  },
  {
   "cell_type": "markdown",
   "metadata": {
    "colab_type": "text",
    "id": "BFPCqOsA2RXo"
   },
   "source": [
    "### Mount Google Drive\n",
    "\n",
    "The Google Colab environment is transient and will reset after any prolonged break in activity. To retain important and/or large files between sessions, use the following lines of code to mount your personal Google drive to this Colab instance:"
   ]
  },
  {
   "cell_type": "code",
   "execution_count": 22,
   "metadata": {
    "colab": {
     "base_uri": "https://localhost:8080/",
     "height": 35
    },
    "colab_type": "code",
    "executionInfo": {
     "elapsed": 822,
     "status": "ok",
     "timestamp": 1589515736124,
     "user": {
      "displayName": "June Chen",
      "photoUrl": "",
      "userId": "14724189092965811373"
     },
     "user_tz": 420
    },
    "id": "-ETtXFds2RXp",
    "outputId": "0825323b-70fd-45a1-e7a7-8e6bfdad1da5"
   },
   "outputs": [
    {
     "name": "stdout",
     "output_type": "stream",
     "text": [
      "Drive already mounted at /content/drive; to attempt to forcibly remount, call drive.mount(\"/content/drive\", force_remount=True).\n"
     ]
    }
   ],
   "source": [
    "try:\n",
    "    # --- Mount gdrive to /content/drive/My Drive/\n",
    "    from google.colab import drive\n",
    "    drive.mount('/content/drive')\n",
    "    \n",
    "except: pass"
   ]
  },
  {
   "cell_type": "markdown",
   "metadata": {
    "colab_type": "text",
    "id": "Dx2bZY5P2RXx"
   },
   "source": [
    "Throughout this assignment we will use the following global `MOUNT_ROOT` variable to reference a location to store long-term data. If you are using a local Jupyter server and/or wish to store your data elsewhere, please update this variable now."
   ]
  },
  {
   "cell_type": "code",
   "execution_count": 0,
   "metadata": {
    "colab": {},
    "colab_type": "code",
    "id": "wnRtX4kn2RXy"
   },
   "outputs": [],
   "source": [
    "# --- Set data directory\n",
    "MOUNT_ROOT = '/content/drive/My Drive'"
   ]
  },
  {
   "cell_type": "markdown",
   "metadata": {
    "colab_type": "text",
    "id": "xmOTyShp2RX2"
   },
   "source": [
    "### Select Tensorflow library version\n",
    "\n",
    "This assignment will use the (new) Tensorflow 2.0 library. Use the following line of code to select this updated version:"
   ]
  },
  {
   "cell_type": "code",
   "execution_count": 6,
   "metadata": {
    "colab": {
     "base_uri": "https://localhost:8080/",
     "height": 1000
    },
    "colab_type": "code",
    "executionInfo": {
     "elapsed": 78060,
     "status": "ok",
     "timestamp": 1589506730349,
     "user": {
      "displayName": "June Chen",
      "photoUrl": "",
      "userId": "14724189092965811373"
     },
     "user_tz": 420
    },
    "id": "O5OHAYxM2RX3",
    "outputId": "6225a3b5-ba27-4265-b6ec-088b18d4b0d4"
   },
   "outputs": [
    {
     "name": "stdout",
     "output_type": "stream",
     "text": [
      "Collecting tensorflow-gpu==2.1\n",
      "\u001b[?25l  Downloading https://files.pythonhosted.org/packages/0a/93/c7bca39b23aae45cd2e85ad3871c81eccc63b9c5276e926511e2e5b0879d/tensorflow_gpu-2.1.0-cp36-cp36m-manylinux2010_x86_64.whl (421.8MB)\n",
      "\u001b[K     |████████████████████████████████| 421.8MB 23kB/s \n",
      "\u001b[?25hRequirement already satisfied: keras-applications>=1.0.8 in /usr/local/lib/python3.6/dist-packages (from tensorflow-gpu==2.1) (1.0.8)\n",
      "Requirement already satisfied: absl-py>=0.7.0 in /usr/local/lib/python3.6/dist-packages (from tensorflow-gpu==2.1) (0.9.0)\n",
      "Requirement already satisfied: keras-preprocessing>=1.1.0 in /usr/local/lib/python3.6/dist-packages (from tensorflow-gpu==2.1) (1.1.0)\n",
      "Requirement already satisfied: google-pasta>=0.1.6 in /usr/local/lib/python3.6/dist-packages (from tensorflow-gpu==2.1) (0.2.0)\n",
      "Requirement already satisfied: astor>=0.6.0 in /usr/local/lib/python3.6/dist-packages (from tensorflow-gpu==2.1) (0.8.1)\n",
      "Collecting tensorboard<2.2.0,>=2.1.0\n",
      "\u001b[?25l  Downloading https://files.pythonhosted.org/packages/d9/41/bbf49b61370e4f4d245d4c6051dfb6db80cec672605c91b1652ac8cc3d38/tensorboard-2.1.1-py3-none-any.whl (3.8MB)\n",
      "\u001b[K     |████████████████████████████████| 3.9MB 34.6MB/s \n",
      "\u001b[?25hRequirement already satisfied: wrapt>=1.11.1 in /usr/local/lib/python3.6/dist-packages (from tensorflow-gpu==2.1) (1.12.1)\n",
      "Requirement already satisfied: grpcio>=1.8.6 in /usr/local/lib/python3.6/dist-packages (from tensorflow-gpu==2.1) (1.28.1)\n",
      "Requirement already satisfied: opt-einsum>=2.3.2 in /usr/local/lib/python3.6/dist-packages (from tensorflow-gpu==2.1) (3.2.1)\n",
      "Requirement already satisfied: termcolor>=1.1.0 in /usr/local/lib/python3.6/dist-packages (from tensorflow-gpu==2.1) (1.1.0)\n",
      "Requirement already satisfied: protobuf>=3.8.0 in /usr/local/lib/python3.6/dist-packages (from tensorflow-gpu==2.1) (3.10.0)\n",
      "Requirement already satisfied: scipy==1.4.1; python_version >= \"3\" in /usr/local/lib/python3.6/dist-packages (from tensorflow-gpu==2.1) (1.4.1)\n",
      "Requirement already satisfied: six>=1.12.0 in /usr/local/lib/python3.6/dist-packages (from tensorflow-gpu==2.1) (1.12.0)\n",
      "Requirement already satisfied: wheel>=0.26; python_version >= \"3\" in /usr/local/lib/python3.6/dist-packages (from tensorflow-gpu==2.1) (0.34.2)\n",
      "Requirement already satisfied: numpy<2.0,>=1.16.0 in /usr/local/lib/python3.6/dist-packages (from tensorflow-gpu==2.1) (1.18.4)\n",
      "Collecting gast==0.2.2\n",
      "  Downloading https://files.pythonhosted.org/packages/4e/35/11749bf99b2d4e3cceb4d55ca22590b0d7c2c62b9de38ac4a4a7f4687421/gast-0.2.2.tar.gz\n",
      "Collecting tensorflow-estimator<2.2.0,>=2.1.0rc0\n",
      "\u001b[?25l  Downloading https://files.pythonhosted.org/packages/18/90/b77c328a1304437ab1310b463e533fa7689f4bfc41549593056d812fab8e/tensorflow_estimator-2.1.0-py2.py3-none-any.whl (448kB)\n",
      "\u001b[K     |████████████████████████████████| 450kB 26.2MB/s \n",
      "\u001b[?25hRequirement already satisfied: h5py in /usr/local/lib/python3.6/dist-packages (from keras-applications>=1.0.8->tensorflow-gpu==2.1) (2.10.0)\n",
      "Requirement already satisfied: markdown>=2.6.8 in /usr/local/lib/python3.6/dist-packages (from tensorboard<2.2.0,>=2.1.0->tensorflow-gpu==2.1) (3.2.1)\n",
      "Requirement already satisfied: google-auth<2,>=1.6.3 in /usr/local/lib/python3.6/dist-packages (from tensorboard<2.2.0,>=2.1.0->tensorflow-gpu==2.1) (1.7.2)\n",
      "Requirement already satisfied: requests<3,>=2.21.0 in /usr/local/lib/python3.6/dist-packages (from tensorboard<2.2.0,>=2.1.0->tensorflow-gpu==2.1) (2.23.0)\n",
      "Requirement already satisfied: setuptools>=41.0.0 in /usr/local/lib/python3.6/dist-packages (from tensorboard<2.2.0,>=2.1.0->tensorflow-gpu==2.1) (46.1.3)\n",
      "Requirement already satisfied: werkzeug>=0.11.15 in /usr/local/lib/python3.6/dist-packages (from tensorboard<2.2.0,>=2.1.0->tensorflow-gpu==2.1) (1.0.1)\n",
      "Requirement already satisfied: google-auth-oauthlib<0.5,>=0.4.1 in /usr/local/lib/python3.6/dist-packages (from tensorboard<2.2.0,>=2.1.0->tensorflow-gpu==2.1) (0.4.1)\n",
      "Requirement already satisfied: pyasn1-modules>=0.2.1 in /usr/local/lib/python3.6/dist-packages (from google-auth<2,>=1.6.3->tensorboard<2.2.0,>=2.1.0->tensorflow-gpu==2.1) (0.2.8)\n",
      "Requirement already satisfied: rsa<4.1,>=3.1.4 in /usr/local/lib/python3.6/dist-packages (from google-auth<2,>=1.6.3->tensorboard<2.2.0,>=2.1.0->tensorflow-gpu==2.1) (4.0)\n",
      "Requirement already satisfied: cachetools<3.2,>=2.0.0 in /usr/local/lib/python3.6/dist-packages (from google-auth<2,>=1.6.3->tensorboard<2.2.0,>=2.1.0->tensorflow-gpu==2.1) (3.1.1)\n",
      "Requirement already satisfied: certifi>=2017.4.17 in /usr/local/lib/python3.6/dist-packages (from requests<3,>=2.21.0->tensorboard<2.2.0,>=2.1.0->tensorflow-gpu==2.1) (2020.4.5.1)\n",
      "Requirement already satisfied: urllib3!=1.25.0,!=1.25.1,<1.26,>=1.21.1 in /usr/local/lib/python3.6/dist-packages (from requests<3,>=2.21.0->tensorboard<2.2.0,>=2.1.0->tensorflow-gpu==2.1) (1.24.3)\n",
      "Requirement already satisfied: chardet<4,>=3.0.2 in /usr/local/lib/python3.6/dist-packages (from requests<3,>=2.21.0->tensorboard<2.2.0,>=2.1.0->tensorflow-gpu==2.1) (3.0.4)\n",
      "Requirement already satisfied: idna<3,>=2.5 in /usr/local/lib/python3.6/dist-packages (from requests<3,>=2.21.0->tensorboard<2.2.0,>=2.1.0->tensorflow-gpu==2.1) (2.9)\n",
      "Requirement already satisfied: requests-oauthlib>=0.7.0 in /usr/local/lib/python3.6/dist-packages (from google-auth-oauthlib<0.5,>=0.4.1->tensorboard<2.2.0,>=2.1.0->tensorflow-gpu==2.1) (1.3.0)\n",
      "Requirement already satisfied: pyasn1<0.5.0,>=0.4.6 in /usr/local/lib/python3.6/dist-packages (from pyasn1-modules>=0.2.1->google-auth<2,>=1.6.3->tensorboard<2.2.0,>=2.1.0->tensorflow-gpu==2.1) (0.4.8)\n",
      "Requirement already satisfied: oauthlib>=3.0.0 in /usr/local/lib/python3.6/dist-packages (from requests-oauthlib>=0.7.0->google-auth-oauthlib<0.5,>=0.4.1->tensorboard<2.2.0,>=2.1.0->tensorflow-gpu==2.1) (3.1.0)\n",
      "Building wheels for collected packages: gast\n",
      "  Building wheel for gast (setup.py) ... \u001b[?25l\u001b[?25hdone\n",
      "  Created wheel for gast: filename=gast-0.2.2-cp36-none-any.whl size=7540 sha256=2b7d5c0b414d089da34a7fe90391568acbd13acc6193705550b8892093f795df\n",
      "  Stored in directory: /root/.cache/pip/wheels/5c/2e/7e/a1d4d4fcebe6c381f378ce7743a3ced3699feb89bcfbdadadd\n",
      "Successfully built gast\n",
      "\u001b[31mERROR: tensorflow 2.2.0 has requirement gast==0.3.3, but you'll have gast 0.2.2 which is incompatible.\u001b[0m\n",
      "\u001b[31mERROR: tensorflow 2.2.0 has requirement tensorboard<2.3.0,>=2.2.0, but you'll have tensorboard 2.1.1 which is incompatible.\u001b[0m\n",
      "\u001b[31mERROR: tensorflow 2.2.0 has requirement tensorflow-estimator<2.3.0,>=2.2.0, but you'll have tensorflow-estimator 2.1.0 which is incompatible.\u001b[0m\n",
      "\u001b[31mERROR: tensorflow-probability 0.10.0rc0 has requirement gast>=0.3.2, but you'll have gast 0.2.2 which is incompatible.\u001b[0m\n",
      "Installing collected packages: tensorboard, gast, tensorflow-estimator, tensorflow-gpu\n",
      "  Found existing installation: tensorboard 2.2.1\n",
      "    Uninstalling tensorboard-2.2.1:\n",
      "      Successfully uninstalled tensorboard-2.2.1\n",
      "  Found existing installation: gast 0.3.3\n",
      "    Uninstalling gast-0.3.3:\n",
      "      Successfully uninstalled gast-0.3.3\n",
      "  Found existing installation: tensorflow-estimator 2.2.0\n",
      "    Uninstalling tensorflow-estimator-2.2.0:\n",
      "      Successfully uninstalled tensorflow-estimator-2.2.0\n",
      "Successfully installed gast-0.2.2 tensorboard-2.1.1 tensorflow-estimator-2.1.0 tensorflow-gpu-2.1.0\n"
     ]
    }
   ],
   "source": [
    "# --- Select Tensorflow 2.0 (only in Google Colab)\n",
    "% tensorflow_version 2.x\n",
    "% pip install tensorflow-gpu==2.1"
   ]
  },
  {
   "cell_type": "markdown",
   "metadata": {
    "colab_type": "text",
    "id": "_mMzdDet2RX7"
   },
   "source": [
    "# Environment"
   ]
  },
  {
   "cell_type": "markdown",
   "metadata": {
    "colab_type": "text",
    "id": "mmCf2sVy2RX8"
   },
   "source": [
    "### Jarvis library\n",
    "\n",
    "In this notebook we will Jarvis, a custom Python package to facilitate data science and deep learning for healthcare. Among other things, this library will be used for low-level data management, stratification and visualization of high-dimensional medical data."
   ]
  },
  {
   "cell_type": "code",
   "execution_count": 7,
   "metadata": {
    "colab": {
     "base_uri": "https://localhost:8080/",
     "height": 605
    },
    "colab_type": "code",
    "executionInfo": {
     "elapsed": 87303,
     "status": "ok",
     "timestamp": 1589506739596,
     "user": {
      "displayName": "June Chen",
      "photoUrl": "",
      "userId": "14724189092965811373"
     },
     "user_tz": 420
    },
    "id": "9wCR3izu2RX-",
    "outputId": "cceae063-6359-4793-eb57-fbf85c4e6a4b"
   },
   "outputs": [
    {
     "name": "stdout",
     "output_type": "stream",
     "text": [
      "Collecting jarvis-md\n",
      "\u001b[?25l  Downloading https://files.pythonhosted.org/packages/2c/b7/28006fe159ff4ab5ab02ac0f08cc0171ce308a301aabe1eaa8791bea7d23/jarvis_md-0.0.1a7-py3-none-any.whl (68kB)\n",
      "\u001b[K     |████████████████████████████████| 71kB 2.1MB/s \n",
      "\u001b[?25hRequirement already satisfied: pandas in /usr/local/lib/python3.6/dist-packages (from jarvis-md) (1.0.3)\n",
      "Requirement already satisfied: numpy in /usr/local/lib/python3.6/dist-packages (from jarvis-md) (1.18.4)\n",
      "Requirement already satisfied: scipy in /usr/local/lib/python3.6/dist-packages (from jarvis-md) (1.4.1)\n",
      "Requirement already satisfied: h5py in /usr/local/lib/python3.6/dist-packages (from jarvis-md) (2.10.0)\n",
      "Requirement already satisfied: matplotlib in /usr/local/lib/python3.6/dist-packages (from jarvis-md) (3.2.1)\n",
      "Collecting pyyaml>=5.2\n",
      "\u001b[?25l  Downloading https://files.pythonhosted.org/packages/64/c2/b80047c7ac2478f9501676c988a5411ed5572f35d1beff9cae07d321512c/PyYAML-5.3.1.tar.gz (269kB)\n",
      "\u001b[K     |████████████████████████████████| 276kB 7.2MB/s \n",
      "\u001b[?25hRequirement already satisfied: requests in /usr/local/lib/python3.6/dist-packages (from jarvis-md) (2.23.0)\n",
      "Requirement already satisfied: python-dateutil>=2.6.1 in /usr/local/lib/python3.6/dist-packages (from pandas->jarvis-md) (2.8.1)\n",
      "Requirement already satisfied: pytz>=2017.2 in /usr/local/lib/python3.6/dist-packages (from pandas->jarvis-md) (2018.9)\n",
      "Requirement already satisfied: six in /usr/local/lib/python3.6/dist-packages (from h5py->jarvis-md) (1.12.0)\n",
      "Requirement already satisfied: pyparsing!=2.0.4,!=2.1.2,!=2.1.6,>=2.0.1 in /usr/local/lib/python3.6/dist-packages (from matplotlib->jarvis-md) (2.4.7)\n",
      "Requirement already satisfied: kiwisolver>=1.0.1 in /usr/local/lib/python3.6/dist-packages (from matplotlib->jarvis-md) (1.2.0)\n",
      "Requirement already satisfied: cycler>=0.10 in /usr/local/lib/python3.6/dist-packages (from matplotlib->jarvis-md) (0.10.0)\n",
      "Requirement already satisfied: chardet<4,>=3.0.2 in /usr/local/lib/python3.6/dist-packages (from requests->jarvis-md) (3.0.4)\n",
      "Requirement already satisfied: certifi>=2017.4.17 in /usr/local/lib/python3.6/dist-packages (from requests->jarvis-md) (2020.4.5.1)\n",
      "Requirement already satisfied: idna<3,>=2.5 in /usr/local/lib/python3.6/dist-packages (from requests->jarvis-md) (2.9)\n",
      "Requirement already satisfied: urllib3!=1.25.0,!=1.25.1,<1.26,>=1.21.1 in /usr/local/lib/python3.6/dist-packages (from requests->jarvis-md) (1.24.3)\n",
      "Building wheels for collected packages: pyyaml\n",
      "  Building wheel for pyyaml (setup.py) ... \u001b[?25l\u001b[?25hdone\n",
      "  Created wheel for pyyaml: filename=PyYAML-5.3.1-cp36-cp36m-linux_x86_64.whl size=44621 sha256=a15b423cd5c53d6b09a9d9d936f503b1485ccb75fc2c1f735aba59554b8b04c5\n",
      "  Stored in directory: /root/.cache/pip/wheels/a7/c1/ea/cf5bd31012e735dc1dfea3131a2d5eae7978b251083d6247bd\n",
      "Successfully built pyyaml\n",
      "Installing collected packages: pyyaml, jarvis-md\n",
      "  Found existing installation: PyYAML 3.13\n",
      "    Uninstalling PyYAML-3.13:\n",
      "      Successfully uninstalled PyYAML-3.13\n",
      "Successfully installed jarvis-md-0.0.1a7 pyyaml-5.3.1\n"
     ]
    }
   ],
   "source": [
    "# --- Install jarvis (only in Google Colab or local runtime)\n",
    "% pip install jarvis-md"
   ]
  },
  {
   "cell_type": "markdown",
   "metadata": {
    "colab_type": "text",
    "id": "MUKCYV782RYC"
   },
   "source": [
    "### Imports\n",
    "\n",
    "Use the following lines to import any additional needed libraries:"
   ]
  },
  {
   "cell_type": "code",
   "execution_count": 0,
   "metadata": {
    "colab": {},
    "colab_type": "code",
    "id": "1qUrVW-b2RYE"
   },
   "outputs": [],
   "source": [
    "import numpy as np, pandas as pd\n",
    "from tensorflow import losses, optimizers\n",
    "from tensorflow.keras import Input, Model, models, layers, metrics\n",
    "from jarvis.train import datasets, custom\n",
    "from jarvis.train.box import BoundingBox"
   ]
  },
  {
   "cell_type": "markdown",
   "metadata": {
    "colab_type": "text",
    "id": "RoFaZhKI2RYK"
   },
   "source": [
    "# Data\n",
    "\n",
    "As in the tutorial, data for this assignment will consist of prostate MRI exams. In prior work, an algorithm was created to separate out different MRI sequences. In this current assignment, only T2-weighted images (isolated using the prior algorithm) will be used for segmentation. In prostate imaging, the T2-weighted sequence captures the greatest amount of anatomic detail and is thus ideal for delineation of prostate gland structures.\n",
    "\n",
    "The following line of code will download the dataset (if not already present) and prepare the required generators:"
   ]
  },
  {
   "cell_type": "code",
   "execution_count": 9,
   "metadata": {
    "colab": {
     "base_uri": "https://localhost:8080/",
     "height": 35
    },
    "colab_type": "code",
    "executionInfo": {
     "elapsed": 116848,
     "status": "ok",
     "timestamp": 1589506769150,
     "user": {
      "displayName": "June Chen",
      "photoUrl": "",
      "userId": "14724189092965811373"
     },
     "user_tz": 420
    },
    "id": "boFg-jr32RYK",
    "outputId": "90ad010b-0d2f-456c-83c8-93beb2a022db"
   },
   "outputs": [
    {
     "name": "stdout",
     "output_type": "stream",
     "text": [
      "[ 2020-05-15 01:39:28 ] [====================] 100.000% : Extracting archive (0001381 / 0001381) "
     ]
    }
   ],
   "source": [
    "# --- Download dataset\n",
    "datasets.download(name='mr/prostatex-seg')\n",
    "\n",
    "# --- Prepare generators\n",
    "configs = {'batch': {'size': 12}}\n",
    "gen_train, gen_valid, client = datasets.prepare(name='mr/prostatex-seg', configs=configs, keyword='box')\n",
    "\n"
   ]
  },
  {
   "cell_type": "markdown",
   "metadata": {
    "colab_type": "text",
    "id": "RMupuWPl2RYP"
   },
   "source": [
    "# Training\n",
    "\n",
    "In this assignment we will train a box localization network for prostate segmentation."
   ]
  },
  {
   "cell_type": "markdown",
   "metadata": {
    "colab_type": "text",
    "id": "b_2a-hHo2RYQ"
   },
   "source": [
    "### Define box parameters\n",
    "\n",
    "Use the following cell block to define your `BoundingBox` object as discussed in the tutorial. Feel free to optimize hyperparameter choices for grid size, anchor shapes, anchor aspect ratios, and anchor scales: "
   ]
  },
  {
   "cell_type": "code",
   "execution_count": 0,
   "metadata": {
    "colab": {},
    "colab_type": "code",
    "id": "vGswRe6O2RYQ"
   },
   "outputs": [],
   "source": [
    "# --- Create BoundingBox\n",
    "bb = BoundingBox(\n",
    "    image_shape=(256, 256),\n",
    "    classes=1,\n",
    "    c=[3, 4, 5], #refers to c1, c2, c3, how many ancher points. \n",
    "    anchor_shapes=[16, 32, 64], #box sizes of c\n",
    "    anchor_scales=[0, 1, 2], #multiplication of height and width\n",
    "    anchor_ratios=[0.5, 1, 2], # ratio of height and width\n",
    "    iou_upper=0.7,\n",
    "    iou_lower=0.35)\n",
    "\n",
    "# c = 3 match with anchor_shape 16, with anchor scales [0,1,2] and anchor_ratios = [0.5,1,2]\n",
    "# c = 4 match with anchor_shape 32, with anchor scales [0,1,2] and anchor_ratios = [0.5,1,2]"
   ]
  },
  {
   "cell_type": "markdown",
   "metadata": {
    "colab_type": "text",
    "id": "77M7LOaq2RYY"
   },
   "source": [
    "### Define inputs\n",
    "\n",
    "Use the following cell block to define the nested generators needed to convert raw masks into bounding box ground-truth predictions:"
   ]
  },
  {
   "cell_type": "code",
   "execution_count": 0,
   "metadata": {
    "colab": {},
    "colab_type": "code",
    "id": "ddbFip_y52Vo"
   },
   "outputs": [],
   "source": [
    "gen_train, gen_valid = client.create_generators()\n",
    "gen_train, gen_valid = bb.create_generators(gen_train, gen_valid, msk='prostate')\n",
    "inputs = client.get_inputs(Input)\n",
    "inputs = bb.get_inputs(inputs, Input)"
   ]
  },
  {
   "cell_type": "code",
   "execution_count": 0,
   "metadata": {
    "colab": {},
    "colab_type": "code",
    "id": "urT4uzdN2RYZ"
   },
   "outputs": [],
   "source": [
    "# --- Define kwargs dictionary\n",
    "kwargs = {\n",
    "    'kernel_size': (1, 3, 3),\n",
    "    'padding': 'same'}\n",
    "\n",
    "# --- Define lambda functions\n",
    "conv = lambda x, filters, strides : layers.Conv3D(filters=filters, strides=strides, **kwargs)(x)\n",
    "norm = lambda x : layers.BatchNormalization()(x)\n",
    "relu = lambda x : layers.LeakyReLU()(x)\n",
    "\n",
    "# --- Define stride-1, stride-2 blocks\n",
    "conv1 = lambda filters, x : relu(norm(conv(x, filters, strides=1)))\n",
    "conv2 = lambda filters, x : relu(norm(conv(x, filters, strides=(1, 2, 2))))\n",
    "\n",
    "# --- Expanding \n",
    "# --- Define zoom\n",
    "zoom = lambda x : layers.UpSampling3D(\n",
    "    size=(1, 2, 2))(x)\n",
    "\n",
    "# --- Define 1 x 1 x 1 projection\n",
    "proj = lambda filters, x : layers.Conv3D(\n",
    "    filters=filters,\n",
    "    strides=1,\n",
    "    kernel_size=(1, 1, 1),\n",
    "    padding='same',\n",
    "    kernel_initializer='he_normal')(x)"
   ]
  },
  {
   "cell_type": "code",
   "execution_count": 0,
   "metadata": {
    "colab": {},
    "colab_type": "code",
    "id": "hs6AchPiLZIB"
   },
   "outputs": [],
   "source": [
    "# --- Define contracting layers\n",
    "l1 = conv1(4, inputs['dat'])\n",
    "l2 = conv1(8, conv2(8, l1))\n",
    "l3 = conv1(16, conv2(16, l2))\n",
    "l4 = conv1(32, conv2(32, l3))\n",
    "l5 = conv1(64, conv2(64, l4))\n",
    "l6 = conv1(96, conv2(96, l5))\n",
    "l7 = proj(96, l6)\n",
    "l8 = conv1(96, zoom(l7) + proj(96, l5))\n",
    "l9 = conv1(96, zoom(l8) + proj(96, l4))\n"
   ]
  },
  {
   "cell_type": "markdown",
   "metadata": {
    "colab_type": "text",
    "id": "HDWS_Uo02RYd"
   },
   "source": [
    "### Define the model\n",
    "\n",
    "Use the following cell block to define your feature pyramid network backbone and RetinaNet classification / regression networks:"
   ]
  },
  {
   "cell_type": "code",
   "execution_count": 0,
   "metadata": {
    "colab": {},
    "colab_type": "code",
    "id": "7f0UNPQA2RYd"
   },
   "outputs": [],
   "source": [
    "# --- Determine filter sizes\n",
    "logits = {}\n",
    "K = 1\n",
    "A = 9\n",
    "\n",
    "Constant = 96\n",
    "\n",
    "# --- C2\n",
    "c3_cls = conv1(Constant, conv1(Constant, l9))\n",
    "c3_reg = conv1(Constant, conv1(Constant, l9))\n",
    "logits['cls-c3'] = layers.Conv3D(filters=(A * K), name='cls-c3', **kwargs)(c3_cls)\n",
    "logits['reg-c3'] = layers.Conv3D(filters=(A * 4), name='reg-c3', **kwargs)(c3_reg)\n",
    "\n",
    "# --- C3\n",
    "c4_cls = conv1(Constant, conv1(Constant, l8))\n",
    "c4_reg = conv1(Constant, conv1(Constant, l8))\n",
    "logits['cls-c4'] = layers.Conv3D(filters=(A * K), name='cls-c4', **kwargs)(c4_cls)\n",
    "logits['reg-c4'] = layers.Conv3D(filters=(A * 4), name='reg-c4', **kwargs)(c4_reg)\n",
    "\n",
    "# --- C4\n",
    "c5_cls = conv1(Constant, conv1(Constant, l7))\n",
    "c5_reg = conv1(Constant, conv1(Constant, l7))\n",
    "logits['cls-c5'] = layers.Conv3D(filters=(A * K), name='cls-c5', **kwargs)(c5_cls)\n",
    "logits['reg-c5'] = layers.Conv3D(filters=(A * 4), name='reg-c5', **kwargs)(c5_reg)\n",
    "\n",
    "model = Model(inputs=inputs, outputs=logits)"
   ]
  },
  {
   "cell_type": "markdown",
   "metadata": {
    "colab_type": "text",
    "id": "QIOVcJlP2RYi"
   },
   "source": [
    "### Compile the model\n",
    "\n",
    "Use the following cell block to compile your model. Recall the following requirements as described in the tutorial:\n",
    "\n",
    "* use of a focal sigmoid (binary) cross-entropy loss function for regression\n",
    "* use of a Huber loss function for classification\n",
    "* use of masked loss functions to ensure only relevant examples are used for training\n",
    "* use of appropriate metrics to track algorithm training"
   ]
  },
  {
   "cell_type": "code",
   "execution_count": 0,
   "metadata": {
    "colab": {},
    "colab_type": "code",
    "id": "BjR2Rkxr2RYi"
   },
   "outputs": [],
   "source": [
    "def focal_sigmoid_ce(weights=1.0, scale=1.0, gamma=2.0, alpha=0.25):\n",
    "    \"\"\"\n",
    "    Method to implement focal sigmoid (binary) cross-entropy loss\n",
    " \n",
    "    \"\"\"\n",
    "    def focal_sigmoid_ce(y_true, y_pred):\n",
    " \n",
    "        # --- Calculate standard cross entropy with alpha weighting\n",
    "        loss = tf.nn.weighted_cross_entropy_with_logits(\n",
    "            labels=y_true, logits=y_pred, pos_weight=alpha)\n",
    " \n",
    "        # --- Calculate modulation to pos and neg labels \n",
    "        p = tf.math.sigmoid(y_pred)\n",
    "        modulation_pos = (1 - p) ** gamma\n",
    "        modulation_neg = p ** gamma\n",
    " \n",
    "        mask = tf.dtypes.cast(y_true, dtype=tf.bool)\n",
    "        modulation = tf.where(mask, modulation_pos, modulation_neg)\n",
    " \n",
    "        return tf.math.reduce_sum(modulation * loss * weights * scale)\n",
    " \n",
    "    return focal_sigmoid_ce"
   ]
  },
  {
   "cell_type": "code",
   "execution_count": 0,
   "metadata": {
    "colab": {},
    "colab_type": "code",
    "id": "5TfiFZ2xKkCU"
   },
   "outputs": [],
   "source": [
    "model.compile(\n",
    "    optimizer=optimizers.Adam(learning_rate=2e-4),\n",
    "    loss={\n",
    "        'cls-c3': custom.focal_sigmoid_ce(inputs['cls-c3-msk']),\n",
    "        'cls-c4': custom.focal_sigmoid_ce(inputs['cls-c4-msk']),\n",
    "        'cls-c5': custom.focal_sigmoid_ce(inputs['cls-c5-msk']),\n",
    "        'reg-c3': custom.sl1(inputs['reg-c3-msk']),\n",
    "        'reg-c4': custom.sl1(inputs['reg-c4-msk']),\n",
    "        'reg-c5': custom.sl1(inputs['reg-c5-msk'])\n",
    "        },\n",
    "    metrics={\n",
    "        'cls-c3': [custom.sigmoid_ce_sens(), custom.sigmoid_ce_ppv()],\n",
    "        'cls-c4': [custom.sigmoid_ce_sens(), custom.sigmoid_ce_ppv()],\n",
    "        'cls-c5': [custom.sigmoid_ce_sens(), custom.sigmoid_ce_ppv()]},\n",
    "    experimental_run_tf_function=False)"
   ]
  },
  {
   "cell_type": "markdown",
   "metadata": {
    "colab_type": "text",
    "id": "-2MppV-z2RYm"
   },
   "source": [
    "### Train the model\n",
    "\n",
    "Use the following cell block to train your model. **Note**: it is recommended to train for at least 10,000 iterations for convergence."
   ]
  },
  {
   "cell_type": "code",
   "execution_count": 17,
   "metadata": {
    "colab": {
     "base_uri": "https://localhost:8080/",
     "height": 35
    },
    "colab_type": "code",
    "executionInfo": {
     "elapsed": 132756,
     "status": "ok",
     "timestamp": 1589506785088,
     "user": {
      "displayName": "June Chen",
      "photoUrl": "",
      "userId": "14724189092965811373"
     },
     "user_tz": 420
    },
    "id": "Pm12TFgq2RYn",
    "outputId": "674ca8d4-4f4a-4058-d8c8-1b6f947fa2a4"
   },
   "outputs": [
    {
     "name": "stdout",
     "output_type": "stream",
     "text": [
      "[ 2020-05-15 01:39:44 ] [====================] 100.000% : Iterating | 000342    "
     ]
    }
   ],
   "source": [
    "client.load_data_in_memory()"
   ]
  },
  {
   "cell_type": "code",
   "execution_count": 18,
   "metadata": {
    "colab": {
     "base_uri": "https://localhost:8080/",
     "height": 1000
    },
    "colab_type": "code",
    "executionInfo": {
     "elapsed": 8530184,
     "status": "ok",
     "timestamp": 1589515182520,
     "user": {
      "displayName": "June Chen",
      "photoUrl": "",
      "userId": "14724189092965811373"
     },
     "user_tz": 420
    },
    "id": "B4pKqLrJK48r",
    "outputId": "aa68db72-03ef-4990-c36e-797848e3f4e8"
   },
   "outputs": [
    {
     "name": "stdout",
     "output_type": "stream",
     "text": [
      "WARNING:tensorflow:multiprocessing can interact badly with TensorFlow, causing nondeterministic deadlocks. For high performance data pipelines tf.data is recommended.\n",
      "Epoch 1/100\n",
      "500/500 [==============================] - 87s 173ms/step - loss: 0.0300 - cls-c3_loss: 0.0109 - cls-c4_loss: 0.0104 - cls-c5_loss: 0.0087 - reg-c3_loss: 3.6946e-06 - reg-c4_loss: 1.2324e-05 - reg-c5_loss: 4.5786e-05 - cls-c3_sigmoid_ce_sens: 0.0097 - cls-c3_sigmoid_ce_ppv: 3.4262e-06 - cls-c4_sigmoid_ce_sens: 0.0158 - cls-c4_sigmoid_ce_ppv: 2.2947e-04 - cls-c5_sigmoid_ce_sens: 0.0409 - cls-c5_sigmoid_ce_ppv: 0.0670\n",
      "Epoch 2/100\n",
      "500/500 [==============================] - 69s 137ms/step - loss: 6.2765e-04 - cls-c3_loss: 1.6465e-04 - cls-c4_loss: 2.2410e-04 - cls-c5_loss: 2.3024e-04 - reg-c3_loss: 1.5095e-06 - reg-c4_loss: 2.1143e-06 - reg-c5_loss: 5.0359e-06 - cls-c3_sigmoid_ce_sens: 0.0000e+00 - cls-c3_sigmoid_ce_ppv: 0.0000e+00 - cls-c4_sigmoid_ce_sens: 9.5556e-04 - cls-c4_sigmoid_ce_ppv: 0.0030 - cls-c5_sigmoid_ce_sens: 0.2005 - cls-c5_sigmoid_ce_ppv: 0.2821\n",
      "Epoch 3/100\n",
      "500/500 [==============================] - 69s 139ms/step - loss: 3.3357e-04 - cls-c3_loss: 7.2298e-05 - cls-c4_loss: 1.2504e-04 - cls-c5_loss: 1.3014e-04 - reg-c3_loss: 1.4074e-06 - reg-c4_loss: 1.5389e-06 - reg-c5_loss: 3.1478e-06 - cls-c3_sigmoid_ce_sens: 0.0000e+00 - cls-c3_sigmoid_ce_ppv: 0.0000e+00 - cls-c4_sigmoid_ce_sens: 0.0262 - cls-c4_sigmoid_ce_ppv: 0.0731 - cls-c5_sigmoid_ce_sens: 0.3490 - cls-c5_sigmoid_ce_ppv: 0.3486\n",
      "Epoch 4/100\n",
      "499/500 [============================>.] - ETA: 0s - loss: 2.2300e-04 - cls-c3_loss: 4.5188e-05 - cls-c4_loss: 8.9196e-05 - cls-c5_loss: 8.4054e-05 - reg-c3_loss: 9.6405e-07 - reg-c4_loss: 1.2668e-06 - reg-c5_loss: 2.3298e-06 - cls-c3_sigmoid_ce_sens: 0.0000e+00 - cls-c3_sigmoid_ce_ppv: 0.0000e+00 - cls-c4_sigmoid_ce_sens: 0.0874 - cls-c4_sigmoid_ce_ppv: 0.1686 - cls-c5_sigmoid_ce_sens: 0.4805 - cls-c5_sigmoid_ce_ppv: 0.3821WARNING:tensorflow:multiprocessing can interact badly with TensorFlow, causing nondeterministic deadlocks. For high performance data pipelines tf.data is recommended.\n",
      "Epoch 1/100\n",
      "500/500 [==============================] - 60s 119ms/step - loss: 2.2691e-04 - cls-c3_loss: 3.8921e-05 - cls-c4_loss: 8.1395e-05 - cls-c5_loss: 9.8950e-05 - reg-c3_loss: 1.3505e-06 - reg-c4_loss: 1.6413e-06 - reg-c5_loss: 4.6528e-06 - cls-c3_sigmoid_ce_sens: 0.0000e+00 - cls-c3_sigmoid_ce_ppv: 0.0000e+00 - cls-c4_sigmoid_ce_sens: 0.1218 - cls-c4_sigmoid_ce_ppv: 0.1697 - cls-c5_sigmoid_ce_sens: 0.5099 - cls-c5_sigmoid_ce_ppv: 0.4296\n",
      "500/500 [==============================] - 129s 258ms/step - loss: 2.2292e-04 - cls-c3_loss: 4.5182e-05 - cls-c4_loss: 8.9172e-05 - cls-c5_loss: 8.4012e-05 - reg-c3_loss: 9.6262e-07 - reg-c4_loss: 1.2653e-06 - reg-c5_loss: 2.3276e-06 - cls-c3_sigmoid_ce_sens: 0.0000e+00 - cls-c3_sigmoid_ce_ppv: 0.0000e+00 - cls-c4_sigmoid_ce_sens: 0.0872 - cls-c4_sigmoid_ce_ppv: 0.1682 - cls-c5_sigmoid_ce_sens: 0.4804 - cls-c5_sigmoid_ce_ppv: 0.3820 - val_loss: 2.2691e-04 - val_cls-c3_loss: 3.8921e-05 - val_cls-c4_loss: 8.1395e-05 - val_cls-c5_loss: 9.8950e-05 - val_reg-c3_loss: 1.3505e-06 - val_reg-c4_loss: 1.6413e-06 - val_reg-c5_loss: 4.6528e-06 - val_cls-c3_sigmoid_ce_sens: 0.0000e+00 - val_cls-c3_sigmoid_ce_ppv: 0.0000e+00 - val_cls-c4_sigmoid_ce_sens: 0.1218 - val_cls-c4_sigmoid_ce_ppv: 0.1697 - val_cls-c5_sigmoid_ce_sens: 0.5099 - val_cls-c5_sigmoid_ce_ppv: 0.4296\n",
      "Epoch 5/100\n",
      "500/500 [==============================] - 69s 138ms/step - loss: 1.6425e-04 - cls-c3_loss: 3.3538e-05 - cls-c4_loss: 6.9546e-05 - cls-c5_loss: 5.7065e-05 - reg-c3_loss: 9.6049e-07 - reg-c4_loss: 1.1134e-06 - reg-c5_loss: 2.0308e-06 - cls-c3_sigmoid_ce_sens: 0.0000e+00 - cls-c3_sigmoid_ce_ppv: 0.0000e+00 - cls-c4_sigmoid_ce_sens: 0.1657 - cls-c4_sigmoid_ce_ppv: 0.2224 - cls-c5_sigmoid_ce_sens: 0.5747 - cls-c5_sigmoid_ce_ppv: 0.3947\n",
      "Epoch 6/100\n",
      "500/500 [==============================] - 69s 137ms/step - loss: 1.2600e-04 - cls-c3_loss: 2.7879e-05 - cls-c4_loss: 5.6114e-05 - cls-c5_loss: 3.8398e-05 - reg-c3_loss: 8.1806e-07 - reg-c4_loss: 9.9441e-07 - reg-c5_loss: 1.7995e-06 - cls-c3_sigmoid_ce_sens: 0.0000e+00 - cls-c3_sigmoid_ce_ppv: 0.0000e+00 - cls-c4_sigmoid_ce_sens: 0.2425 - cls-c4_sigmoid_ce_ppv: 0.2409 - cls-c5_sigmoid_ce_sens: 0.6484 - cls-c5_sigmoid_ce_ppv: 0.3878\n",
      "Epoch 7/100\n",
      "500/500 [==============================] - 69s 138ms/step - loss: 9.8037e-05 - cls-c3_loss: 2.3053e-05 - cls-c4_loss: 4.7360e-05 - cls-c5_loss: 2.4465e-05 - reg-c3_loss: 7.0458e-07 - reg-c4_loss: 8.9397e-07 - reg-c5_loss: 1.5605e-06 - cls-c3_sigmoid_ce_sens: 0.0000e+00 - cls-c3_sigmoid_ce_ppv: 0.0000e+00 - cls-c4_sigmoid_ce_sens: 0.3041 - cls-c4_sigmoid_ce_ppv: 0.2418 - cls-c5_sigmoid_ce_sens: 0.6959 - cls-c5_sigmoid_ce_ppv: 0.3762\n",
      "Epoch 8/100\n",
      "499/500 [============================>.] - ETA: 0s - loss: 7.9118e-05 - cls-c3_loss: 2.0662e-05 - cls-c4_loss: 4.0146e-05 - cls-c5_loss: 1.5600e-05 - reg-c3_loss: 6.2983e-07 - reg-c4_loss: 7.9663e-07 - reg-c5_loss: 1.2826e-06 - cls-c3_sigmoid_ce_sens: 0.0000e+00 - cls-c3_sigmoid_ce_ppv: 0.0000e+00 - cls-c4_sigmoid_ce_sens: 0.3677 - cls-c4_sigmoid_ce_ppv: 0.2437 - cls-c5_sigmoid_ce_sens: 0.7334 - cls-c5_sigmoid_ce_ppv: 0.3663WARNING:tensorflow:multiprocessing can interact badly with TensorFlow, causing nondeterministic deadlocks. For high performance data pipelines tf.data is recommended.\n",
      "Epoch 1/100\n",
      "500/500 [==============================] - 58s 115ms/step - loss: 1.2363e-04 - cls-c3_loss: 1.8587e-05 - cls-c4_loss: 4.6277e-05 - cls-c5_loss: 5.3261e-05 - reg-c3_loss: 1.4692e-06 - reg-c4_loss: 1.1295e-06 - reg-c5_loss: 2.9033e-06 - cls-c3_sigmoid_ce_sens: 0.0000e+00 - cls-c3_sigmoid_ce_ppv: 0.0000e+00 - cls-c4_sigmoid_ce_sens: 0.4173 - cls-c4_sigmoid_ce_ppv: 0.1998 - cls-c5_sigmoid_ce_sens: 0.7135 - cls-c5_sigmoid_ce_ppv: 0.3330\n",
      "500/500 [==============================] - 126s 253ms/step - loss: 7.9115e-05 - cls-c3_loss: 2.0649e-05 - cls-c4_loss: 4.0126e-05 - cls-c5_loss: 1.5632e-05 - reg-c3_loss: 6.2876e-07 - reg-c4_loss: 7.9657e-07 - reg-c5_loss: 1.2828e-06 - cls-c3_sigmoid_ce_sens: 0.0000e+00 - cls-c3_sigmoid_ce_ppv: 0.0000e+00 - cls-c4_sigmoid_ce_sens: 0.3678 - cls-c4_sigmoid_ce_ppv: 0.2436 - cls-c5_sigmoid_ce_sens: 0.7329 - cls-c5_sigmoid_ce_ppv: 0.3658 - val_loss: 1.2363e-04 - val_cls-c3_loss: 1.8587e-05 - val_cls-c4_loss: 4.6277e-05 - val_cls-c5_loss: 5.3261e-05 - val_reg-c3_loss: 1.4692e-06 - val_reg-c4_loss: 1.1295e-06 - val_reg-c5_loss: 2.9033e-06 - val_cls-c3_sigmoid_ce_sens: 0.0000e+00 - val_cls-c3_sigmoid_ce_ppv: 0.0000e+00 - val_cls-c4_sigmoid_ce_sens: 0.4173 - val_cls-c4_sigmoid_ce_ppv: 0.1998 - val_cls-c5_sigmoid_ce_sens: 0.7135 - val_cls-c5_sigmoid_ce_ppv: 0.3330\n",
      "Epoch 9/100\n",
      "500/500 [==============================] - 68s 135ms/step - loss: 6.2299e-05 - cls-c3_loss: 1.7508e-05 - cls-c4_loss: 3.2199e-05 - cls-c5_loss: 1.0159e-05 - reg-c3_loss: 5.1153e-07 - reg-c4_loss: 7.1657e-07 - reg-c5_loss: 1.2048e-06 - cls-c3_sigmoid_ce_sens: 0.0000e+00 - cls-c3_sigmoid_ce_ppv: 0.0000e+00 - cls-c4_sigmoid_ce_sens: 0.4447 - cls-c4_sigmoid_ce_ppv: 0.2398 - cls-c5_sigmoid_ce_sens: 0.7515 - cls-c5_sigmoid_ce_ppv: 0.3532\n",
      "Epoch 10/100\n",
      "500/500 [==============================] - 69s 138ms/step - loss: 5.0361e-05 - cls-c3_loss: 1.6046e-05 - cls-c4_loss: 2.6000e-05 - cls-c5_loss: 6.1675e-06 - reg-c3_loss: 4.4668e-07 - reg-c4_loss: 6.5778e-07 - reg-c5_loss: 1.0434e-06 - cls-c3_sigmoid_ce_sens: 0.0000e+00 - cls-c3_sigmoid_ce_ppv: 0.0000e+00 - cls-c4_sigmoid_ce_sens: 0.5033 - cls-c4_sigmoid_ce_ppv: 0.2453 - cls-c5_sigmoid_ce_sens: 0.7577 - cls-c5_sigmoid_ce_ppv: 0.3415\n",
      "Epoch 11/100\n",
      "500/500 [==============================] - 69s 137ms/step - loss: 4.3792e-05 - cls-c3_loss: 1.5345e-05 - cls-c4_loss: 2.1004e-05 - cls-c5_loss: 5.4677e-06 - reg-c3_loss: 3.7495e-07 - reg-c4_loss: 5.9236e-07 - reg-c5_loss: 1.0081e-06 - cls-c3_sigmoid_ce_sens: 0.0000e+00 - cls-c3_sigmoid_ce_ppv: 0.0000e+00 - cls-c4_sigmoid_ce_sens: 0.5574 - cls-c4_sigmoid_ce_ppv: 0.2422 - cls-c5_sigmoid_ce_sens: 0.7564 - cls-c5_sigmoid_ce_ppv: 0.3374\n",
      "Epoch 12/100\n",
      "499/500 [============================>.] - ETA: 0s - loss: 3.4806e-05 - cls-c3_loss: 1.4297e-05 - cls-c4_loss: 1.5172e-05 - cls-c5_loss: 3.5981e-06 - reg-c3_loss: 3.3594e-07 - reg-c4_loss: 5.4597e-07 - reg-c5_loss: 8.5738e-07 - cls-c3_sigmoid_ce_sens: 0.0000e+00 - cls-c3_sigmoid_ce_ppv: 0.0000e+00 - cls-c4_sigmoid_ce_sens: 0.6147 - cls-c4_sigmoid_ce_ppv: 0.2497 - cls-c5_sigmoid_ce_sens: 0.7646 - cls-c5_sigmoid_ce_ppv: 0.3304WARNING:tensorflow:multiprocessing can interact badly with TensorFlow, causing nondeterministic deadlocks. For high performance data pipelines tf.data is recommended.\n",
      "Epoch 1/100\n",
      "500/500 [==============================] - 58s 116ms/step - loss: 1.2102e-04 - cls-c3_loss: 1.4796e-05 - cls-c4_loss: 3.7810e-05 - cls-c5_loss: 6.3400e-05 - reg-c3_loss: 1.5893e-06 - reg-c4_loss: 1.0336e-06 - reg-c5_loss: 2.3918e-06 - cls-c3_sigmoid_ce_sens: 0.0000e+00 - cls-c3_sigmoid_ce_ppv: 0.0000e+00 - cls-c4_sigmoid_ce_sens: 0.5284 - cls-c4_sigmoid_ce_ppv: 0.1758 - cls-c5_sigmoid_ce_sens: 0.6403 - cls-c5_sigmoid_ce_ppv: 0.3631\n",
      "500/500 [==============================] - 128s 256ms/step - loss: 3.4767e-05 - cls-c3_loss: 1.4273e-05 - cls-c4_loss: 1.5150e-05 - cls-c5_loss: 3.6026e-06 - reg-c3_loss: 3.3526e-07 - reg-c4_loss: 5.4561e-07 - reg-c5_loss: 8.5986e-07 - cls-c3_sigmoid_ce_sens: 0.0000e+00 - cls-c3_sigmoid_ce_ppv: 0.0000e+00 - cls-c4_sigmoid_ce_sens: 0.6150 - cls-c4_sigmoid_ce_ppv: 0.2495 - cls-c5_sigmoid_ce_sens: 0.7649 - cls-c5_sigmoid_ce_ppv: 0.3306 - val_loss: 1.2102e-04 - val_cls-c3_loss: 1.4796e-05 - val_cls-c4_loss: 3.7810e-05 - val_cls-c5_loss: 6.3400e-05 - val_reg-c3_loss: 1.5893e-06 - val_reg-c4_loss: 1.0336e-06 - val_reg-c5_loss: 2.3918e-06 - val_cls-c3_sigmoid_ce_sens: 0.0000e+00 - val_cls-c3_sigmoid_ce_ppv: 0.0000e+00 - val_cls-c4_sigmoid_ce_sens: 0.5284 - val_cls-c4_sigmoid_ce_ppv: 0.1758 - val_cls-c5_sigmoid_ce_sens: 0.6403 - val_cls-c5_sigmoid_ce_ppv: 0.3631\n",
      "Epoch 13/100\n",
      "500/500 [==============================] - 70s 140ms/step - loss: 3.0290e-05 - cls-c3_loss: 1.3391e-05 - cls-c4_loss: 1.1878e-05 - cls-c5_loss: 3.3844e-06 - reg-c3_loss: 2.9055e-07 - reg-c4_loss: 5.2309e-07 - reg-c5_loss: 8.2346e-07 - cls-c3_sigmoid_ce_sens: 0.0000e+00 - cls-c3_sigmoid_ce_ppv: 0.0000e+00 - cls-c4_sigmoid_ce_sens: 0.6586 - cls-c4_sigmoid_ce_ppv: 0.2478 - cls-c5_sigmoid_ce_sens: 0.7696 - cls-c5_sigmoid_ce_ppv: 0.3220\n",
      "Epoch 14/100\n",
      "500/500 [==============================] - 69s 139ms/step - loss: 2.2120e-05 - cls-c3_loss: 1.2333e-05 - cls-c4_loss: 6.8826e-06 - cls-c5_loss: 1.5001e-06 - reg-c3_loss: 2.3124e-07 - reg-c4_loss: 4.4494e-07 - reg-c5_loss: 7.2833e-07 - cls-c3_sigmoid_ce_sens: 0.0019 - cls-c3_sigmoid_ce_ppv: 0.0040 - cls-c4_sigmoid_ce_sens: 0.7309 - cls-c4_sigmoid_ce_ppv: 0.2500 - cls-c5_sigmoid_ce_sens: 0.7730 - cls-c5_sigmoid_ce_ppv: 0.3238\n",
      "Epoch 15/100\n",
      "500/500 [==============================] - 70s 140ms/step - loss: 1.7727e-05 - cls-c3_loss: 1.0897e-05 - cls-c4_loss: 4.5744e-06 - cls-c5_loss: 1.0554e-06 - reg-c3_loss: 1.8197e-07 - reg-c4_loss: 4.2132e-07 - reg-c5_loss: 5.9674e-07 - cls-c3_sigmoid_ce_sens: 0.0034 - cls-c3_sigmoid_ce_ppv: 0.0057 - cls-c4_sigmoid_ce_sens: 0.7724 - cls-c4_sigmoid_ce_ppv: 0.2503 - cls-c5_sigmoid_ce_sens: 0.7683 - cls-c5_sigmoid_ce_ppv: 0.3170\n",
      "Epoch 16/100\n",
      "499/500 [============================>.] - ETA: 0s - loss: 1.5829e-05 - cls-c3_loss: 1.0389e-05 - cls-c4_loss: 3.5389e-06 - cls-c5_loss: 7.9667e-07 - reg-c3_loss: 1.9030e-07 - reg-c4_loss: 3.6957e-07 - reg-c5_loss: 5.4426e-07 - cls-c3_sigmoid_ce_sens: 0.0052 - cls-c3_sigmoid_ce_ppv: 0.0090 - cls-c4_sigmoid_ce_sens: 0.7876 - cls-c4_sigmoid_ce_ppv: 0.2457 - cls-c5_sigmoid_ce_sens: 0.7696 - cls-c5_sigmoid_ce_ppv: 0.3158WARNING:tensorflow:multiprocessing can interact badly with TensorFlow, causing nondeterministic deadlocks. For high performance data pipelines tf.data is recommended.\n",
      "Epoch 1/100\n",
      "500/500 [==============================] - 59s 117ms/step - loss: 1.0897e-04 - cls-c3_loss: 1.4222e-05 - cls-c4_loss: 3.9992e-05 - cls-c5_loss: 4.9753e-05 - reg-c3_loss: 1.5511e-06 - reg-c4_loss: 1.0104e-06 - reg-c5_loss: 2.4395e-06 - cls-c3_sigmoid_ce_sens: 0.0026 - cls-c3_sigmoid_ce_ppv: 0.0040 - cls-c4_sigmoid_ce_sens: 0.5105 - cls-c4_sigmoid_ce_ppv: 0.1881 - cls-c5_sigmoid_ce_sens: 0.7046 - cls-c5_sigmoid_ce_ppv: 0.3299\n",
      "500/500 [==============================] - 128s 255ms/step - loss: 1.5834e-05 - cls-c3_loss: 1.0393e-05 - cls-c4_loss: 3.5396e-06 - cls-c5_loss: 7.9743e-07 - reg-c3_loss: 1.9025e-07 - reg-c4_loss: 3.6914e-07 - reg-c5_loss: 5.4474e-07 - cls-c3_sigmoid_ce_sens: 0.0052 - cls-c3_sigmoid_ce_ppv: 0.0090 - cls-c4_sigmoid_ce_sens: 0.7874 - cls-c4_sigmoid_ce_ppv: 0.2457 - cls-c5_sigmoid_ce_sens: 0.7697 - cls-c5_sigmoid_ce_ppv: 0.3159 - val_loss: 1.0897e-04 - val_cls-c3_loss: 1.4222e-05 - val_cls-c4_loss: 3.9992e-05 - val_cls-c5_loss: 4.9753e-05 - val_reg-c3_loss: 1.5511e-06 - val_reg-c4_loss: 1.0104e-06 - val_reg-c5_loss: 2.4395e-06 - val_cls-c3_sigmoid_ce_sens: 0.0026 - val_cls-c3_sigmoid_ce_ppv: 0.0040 - val_cls-c4_sigmoid_ce_sens: 0.5105 - val_cls-c4_sigmoid_ce_ppv: 0.1881 - val_cls-c5_sigmoid_ce_sens: 0.7046 - val_cls-c5_sigmoid_ce_ppv: 0.3299\n",
      "Epoch 17/100\n",
      "500/500 [==============================] - 70s 140ms/step - loss: 1.3705e-05 - cls-c3_loss: 9.2154e-06 - cls-c4_loss: 2.7332e-06 - cls-c5_loss: 6.4183e-07 - reg-c3_loss: 2.3161e-07 - reg-c4_loss: 3.5326e-07 - reg-c5_loss: 5.2982e-07 - cls-c3_sigmoid_ce_sens: 0.0176 - cls-c3_sigmoid_ce_ppv: 0.0309 - cls-c4_sigmoid_ce_sens: 0.7968 - cls-c4_sigmoid_ce_ppv: 0.2482 - cls-c5_sigmoid_ce_sens: 0.7739 - cls-c5_sigmoid_ce_ppv: 0.3188\n",
      "Epoch 18/100\n",
      "500/500 [==============================] - 70s 139ms/step - loss: 4.5259e-05 - cls-c3_loss: 8.8597e-06 - cls-c4_loss: 1.0554e-05 - cls-c5_loss: 2.4004e-05 - reg-c3_loss: 3.9079e-07 - reg-c4_loss: 4.9873e-07 - reg-c5_loss: 9.5169e-07 - cls-c3_sigmoid_ce_sens: 0.0151 - cls-c3_sigmoid_ce_ppv: 0.0246 - cls-c4_sigmoid_ce_sens: 0.7263 - cls-c4_sigmoid_ce_ppv: 0.2406 - cls-c5_sigmoid_ce_sens: 0.7263 - cls-c5_sigmoid_ce_ppv: 0.3112\n",
      "Epoch 19/100\n",
      "500/500 [==============================] - 70s 140ms/step - loss: 4.1597e-05 - cls-c3_loss: 9.0781e-06 - cls-c4_loss: 1.4148e-05 - cls-c5_loss: 1.6501e-05 - reg-c3_loss: 3.3495e-07 - reg-c4_loss: 5.2337e-07 - reg-c5_loss: 1.0108e-06 - cls-c3_sigmoid_ce_sens: 0.0252 - cls-c3_sigmoid_ce_ppv: 0.0381 - cls-c4_sigmoid_ce_sens: 0.6354 - cls-c4_sigmoid_ce_ppv: 0.2236 - cls-c5_sigmoid_ce_sens: 0.7119 - cls-c5_sigmoid_ce_ppv: 0.3101\n",
      "Epoch 20/100\n",
      "499/500 [============================>.] - ETA: 0s - loss: 1.9170e-05 - cls-c3_loss: 7.6427e-06 - cls-c4_loss: 5.7225e-06 - cls-c5_loss: 4.3685e-06 - reg-c3_loss: 3.1932e-07 - reg-c4_loss: 4.2043e-07 - reg-c5_loss: 6.9675e-07 - cls-c3_sigmoid_ce_sens: 0.0537 - cls-c3_sigmoid_ce_ppv: 0.0881 - cls-c4_sigmoid_ce_sens: 0.7438 - cls-c4_sigmoid_ce_ppv: 0.2339 - cls-c5_sigmoid_ce_sens: 0.7535 - cls-c5_sigmoid_ce_ppv: 0.3002WARNING:tensorflow:multiprocessing can interact badly with TensorFlow, causing nondeterministic deadlocks. For high performance data pipelines tf.data is recommended.\n",
      "Epoch 1/100\n",
      "500/500 [==============================] - 59s 118ms/step - loss: 1.0011e-04 - cls-c3_loss: 1.4648e-05 - cls-c4_loss: 4.0760e-05 - cls-c5_loss: 4.0238e-05 - reg-c3_loss: 1.6507e-06 - reg-c4_loss: 8.8747e-07 - reg-c5_loss: 1.9294e-06 - cls-c3_sigmoid_ce_sens: 0.0160 - cls-c3_sigmoid_ce_ppv: 0.0280 - cls-c4_sigmoid_ce_sens: 0.5963 - cls-c4_sigmoid_ce_ppv: 0.1530 - cls-c5_sigmoid_ce_sens: 0.7457 - cls-c5_sigmoid_ce_ppv: 0.2913\n",
      "500/500 [==============================] - 129s 257ms/step - loss: 1.9174e-05 - cls-c3_loss: 7.6564e-06 - cls-c4_loss: 5.7211e-06 - cls-c5_loss: 4.3605e-06 - reg-c3_loss: 3.1913e-07 - reg-c4_loss: 4.2136e-07 - reg-c5_loss: 6.9560e-07 - cls-c3_sigmoid_ce_sens: 0.0536 - cls-c3_sigmoid_ce_ppv: 0.0879 - cls-c4_sigmoid_ce_sens: 0.7439 - cls-c4_sigmoid_ce_ppv: 0.2339 - cls-c5_sigmoid_ce_sens: 0.7533 - cls-c5_sigmoid_ce_ppv: 0.2998 - val_loss: 1.0011e-04 - val_cls-c3_loss: 1.4648e-05 - val_cls-c4_loss: 4.0760e-05 - val_cls-c5_loss: 4.0238e-05 - val_reg-c3_loss: 1.6507e-06 - val_reg-c4_loss: 8.8747e-07 - val_reg-c5_loss: 1.9294e-06 - val_cls-c3_sigmoid_ce_sens: 0.0160 - val_cls-c3_sigmoid_ce_ppv: 0.0280 - val_cls-c4_sigmoid_ce_sens: 0.5963 - val_cls-c4_sigmoid_ce_ppv: 0.1530 - val_cls-c5_sigmoid_ce_sens: 0.7457 - val_cls-c5_sigmoid_ce_ppv: 0.2913\n",
      "Epoch 21/100\n",
      "500/500 [==============================] - 69s 138ms/step - loss: 9.2140e-06 - cls-c3_loss: 5.5876e-06 - cls-c4_loss: 1.9300e-06 - cls-c5_loss: 6.7350e-07 - reg-c3_loss: 1.4970e-07 - reg-c4_loss: 3.4200e-07 - reg-c5_loss: 5.3119e-07 - cls-c3_sigmoid_ce_sens: 0.0724 - cls-c3_sigmoid_ce_ppv: 0.1035 - cls-c4_sigmoid_ce_sens: 0.8038 - cls-c4_sigmoid_ce_ppv: 0.2308 - cls-c5_sigmoid_ce_sens: 0.7798 - cls-c5_sigmoid_ce_ppv: 0.3002\n",
      "Epoch 22/100\n",
      "500/500 [==============================] - 70s 139ms/step - loss: 6.0044e-06 - cls-c3_loss: 4.3179e-06 - cls-c4_loss: 5.7007e-07 - cls-c5_loss: 2.6576e-07 - reg-c3_loss: 1.4356e-07 - reg-c4_loss: 2.8086e-07 - reg-c5_loss: 4.2626e-07 - cls-c3_sigmoid_ce_sens: 0.1505 - cls-c3_sigmoid_ce_ppv: 0.1911 - cls-c4_sigmoid_ce_sens: 0.8236 - cls-c4_sigmoid_ce_ppv: 0.2336 - cls-c5_sigmoid_ce_sens: 0.7626 - cls-c5_sigmoid_ce_ppv: 0.2892\n",
      "Epoch 23/100\n",
      "500/500 [==============================] - 69s 138ms/step - loss: 4.6388e-06 - cls-c3_loss: 3.4433e-06 - cls-c4_loss: 2.9878e-07 - cls-c5_loss: 1.8473e-07 - reg-c3_loss: 1.1972e-07 - reg-c4_loss: 2.4464e-07 - reg-c5_loss: 3.4755e-07 - cls-c3_sigmoid_ce_sens: 0.2067 - cls-c3_sigmoid_ce_ppv: 0.2448 - cls-c4_sigmoid_ce_sens: 0.8223 - cls-c4_sigmoid_ce_ppv: 0.2307 - cls-c5_sigmoid_ce_sens: 0.7727 - cls-c5_sigmoid_ce_ppv: 0.2868\n",
      "Epoch 24/100\n",
      "499/500 [============================>.] - ETA: 0s - loss: 3.0685e-06 - cls-c3_loss: 2.0694e-06 - cls-c4_loss: 2.1898e-07 - cls-c5_loss: 1.3441e-07 - reg-c3_loss: 1.1903e-07 - reg-c4_loss: 2.1442e-07 - reg-c5_loss: 3.1219e-07 - cls-c3_sigmoid_ce_sens: 0.3284 - cls-c3_sigmoid_ce_ppv: 0.3435 - cls-c4_sigmoid_ce_sens: 0.8216 - cls-c4_sigmoid_ce_ppv: 0.2353 - cls-c5_sigmoid_ce_sens: 0.7680 - cls-c5_sigmoid_ce_ppv: 0.2929WARNING:tensorflow:multiprocessing can interact badly with TensorFlow, causing nondeterministic deadlocks. For high performance data pipelines tf.data is recommended.\n",
      "Epoch 1/100\n",
      "500/500 [==============================] - 58s 116ms/step - loss: 1.1495e-04 - cls-c3_loss: 1.8452e-05 - cls-c4_loss: 5.0486e-05 - cls-c5_loss: 4.1438e-05 - reg-c3_loss: 1.6848e-06 - reg-c4_loss: 9.6079e-07 - reg-c5_loss: 1.9311e-06 - cls-c3_sigmoid_ce_sens: 0.0146 - cls-c3_sigmoid_ce_ppv: 0.0232 - cls-c4_sigmoid_ce_sens: 0.5996 - cls-c4_sigmoid_ce_ppv: 0.1665 - cls-c5_sigmoid_ce_sens: 0.7325 - cls-c5_sigmoid_ce_ppv: 0.3064\n",
      "500/500 [==============================] - 127s 255ms/step - loss: 3.0692e-06 - cls-c3_loss: 2.0709e-06 - cls-c4_loss: 2.1878e-07 - cls-c5_loss: 1.3432e-07 - reg-c3_loss: 1.1888e-07 - reg-c4_loss: 2.1403e-07 - reg-c5_loss: 3.1220e-07 - cls-c3_sigmoid_ce_sens: 0.3283 - cls-c3_sigmoid_ce_ppv: 0.3438 - cls-c4_sigmoid_ce_sens: 0.8213 - cls-c4_sigmoid_ce_ppv: 0.2352 - cls-c5_sigmoid_ce_sens: 0.7678 - cls-c5_sigmoid_ce_ppv: 0.2928 - val_loss: 1.1495e-04 - val_cls-c3_loss: 1.8452e-05 - val_cls-c4_loss: 5.0486e-05 - val_cls-c5_loss: 4.1438e-05 - val_reg-c3_loss: 1.6848e-06 - val_reg-c4_loss: 9.6079e-07 - val_reg-c5_loss: 1.9311e-06 - val_cls-c3_sigmoid_ce_sens: 0.0146 - val_cls-c3_sigmoid_ce_ppv: 0.0232 - val_cls-c4_sigmoid_ce_sens: 0.5996 - val_cls-c4_sigmoid_ce_ppv: 0.1665 - val_cls-c5_sigmoid_ce_sens: 0.7325 - val_cls-c5_sigmoid_ce_ppv: 0.3064\n",
      "Epoch 25/100\n",
      "500/500 [==============================] - 70s 139ms/step - loss: 2.1309e-06 - cls-c3_loss: 1.3095e-06 - cls-c4_loss: 1.5887e-07 - cls-c5_loss: 9.9600e-08 - reg-c3_loss: 1.0976e-07 - reg-c4_loss: 1.8786e-07 - reg-c5_loss: 2.6532e-07 - cls-c3_sigmoid_ce_sens: 0.3958 - cls-c3_sigmoid_ce_ppv: 0.3994 - cls-c4_sigmoid_ce_sens: 0.8256 - cls-c4_sigmoid_ce_ppv: 0.2307 - cls-c5_sigmoid_ce_sens: 0.7745 - cls-c5_sigmoid_ce_ppv: 0.2887\n",
      "Epoch 26/100\n",
      "500/500 [==============================] - 69s 139ms/step - loss: 1.7824e-06 - cls-c3_loss: 1.0628e-06 - cls-c4_loss: 1.2957e-07 - cls-c5_loss: 7.5411e-08 - reg-c3_loss: 1.2258e-07 - reg-c4_loss: 1.6378e-07 - reg-c5_loss: 2.2821e-07 - cls-c3_sigmoid_ce_sens: 0.4296 - cls-c3_sigmoid_ce_ppv: 0.4095 - cls-c4_sigmoid_ce_sens: 0.8255 - cls-c4_sigmoid_ce_ppv: 0.2323 - cls-c5_sigmoid_ce_sens: 0.7719 - cls-c5_sigmoid_ce_ppv: 0.2879\n",
      "Epoch 27/100\n",
      "500/500 [==============================] - 70s 140ms/step - loss: 1.5479e-06 - cls-c3_loss: 8.7001e-07 - cls-c4_loss: 1.0332e-07 - cls-c5_loss: 6.2780e-08 - reg-c3_loss: 1.4351e-07 - reg-c4_loss: 1.5015e-07 - reg-c5_loss: 2.1809e-07 - cls-c3_sigmoid_ce_sens: 0.4659 - cls-c3_sigmoid_ce_ppv: 0.4277 - cls-c4_sigmoid_ce_sens: 0.8248 - cls-c4_sigmoid_ce_ppv: 0.2318 - cls-c5_sigmoid_ce_sens: 0.7733 - cls-c5_sigmoid_ce_ppv: 0.2912\n",
      "Epoch 28/100\n",
      "499/500 [============================>.] - ETA: 0s - loss: 3.4367e-05 - cls-c3_loss: 4.0770e-06 - cls-c4_loss: 1.0430e-05 - cls-c5_loss: 1.8661e-05 - reg-c3_loss: 2.7416e-07 - reg-c4_loss: 3.2540e-07 - reg-c5_loss: 5.9998e-07 - cls-c3_sigmoid_ce_sens: 0.2901 - cls-c3_sigmoid_ce_ppv: 0.2929 - cls-c4_sigmoid_ce_sens: 0.7326 - cls-c4_sigmoid_ce_ppv: 0.2234 - cls-c5_sigmoid_ce_sens: 0.7432 - cls-c5_sigmoid_ce_ppv: 0.2966WARNING:tensorflow:multiprocessing can interact badly with TensorFlow, causing nondeterministic deadlocks. For high performance data pipelines tf.data is recommended.\n",
      "Epoch 1/100\n",
      "500/500 [==============================] - 58s 116ms/step - loss: 1.5219e-04 - cls-c3_loss: 1.8708e-05 - cls-c4_loss: 4.8008e-05 - cls-c5_loss: 7.8934e-05 - reg-c3_loss: 1.7324e-06 - reg-c4_loss: 1.7310e-06 - reg-c5_loss: 3.0778e-06 - cls-c3_sigmoid_ce_sens: 0.0000e+00 - cls-c3_sigmoid_ce_ppv: 0.0000e+00 - cls-c4_sigmoid_ce_sens: 0.5075 - cls-c4_sigmoid_ce_ppv: 0.1853 - cls-c5_sigmoid_ce_sens: 0.7052 - cls-c5_sigmoid_ce_ppv: 0.2996\n",
      "500/500 [==============================] - 127s 254ms/step - loss: 3.4440e-05 - cls-c3_loss: 4.0978e-06 - cls-c4_loss: 1.0481e-05 - cls-c5_loss: 1.8658e-05 - reg-c3_loss: 2.7486e-07 - reg-c4_loss: 3.2573e-07 - reg-c5_loss: 6.0200e-07 - cls-c3_sigmoid_ce_sens: 0.2895 - cls-c3_sigmoid_ce_ppv: 0.2923 - cls-c4_sigmoid_ce_sens: 0.7316 - cls-c4_sigmoid_ce_ppv: 0.2232 - cls-c5_sigmoid_ce_sens: 0.7434 - cls-c5_sigmoid_ce_ppv: 0.2967 - val_loss: 1.5219e-04 - val_cls-c3_loss: 1.8708e-05 - val_cls-c4_loss: 4.8008e-05 - val_cls-c5_loss: 7.8934e-05 - val_reg-c3_loss: 1.7324e-06 - val_reg-c4_loss: 1.7310e-06 - val_reg-c5_loss: 3.0778e-06 - val_cls-c3_sigmoid_ce_sens: 0.0000e+00 - val_cls-c3_sigmoid_ce_ppv: 0.0000e+00 - val_cls-c4_sigmoid_ce_sens: 0.5075 - val_cls-c4_sigmoid_ce_ppv: 0.1853 - val_cls-c5_sigmoid_ce_sens: 0.7052 - val_cls-c5_sigmoid_ce_ppv: 0.2996\n",
      "Epoch 29/100\n",
      "500/500 [==============================] - 69s 138ms/step - loss: 2.6196e-05 - cls-c3_loss: 4.8644e-06 - cls-c4_loss: 1.2329e-05 - cls-c5_loss: 7.4510e-06 - reg-c3_loss: 3.3634e-07 - reg-c4_loss: 4.5568e-07 - reg-c5_loss: 7.5961e-07 - cls-c3_sigmoid_ce_sens: 0.1639 - cls-c3_sigmoid_ce_ppv: 0.1901 - cls-c4_sigmoid_ce_sens: 0.6671 - cls-c4_sigmoid_ce_ppv: 0.2234 - cls-c5_sigmoid_ce_sens: 0.7350 - cls-c5_sigmoid_ce_ppv: 0.2865\n",
      "Epoch 30/100\n",
      "500/500 [==============================] - 69s 138ms/step - loss: 6.4367e-06 - cls-c3_loss: 1.4966e-06 - cls-c4_loss: 3.3140e-06 - cls-c5_loss: 6.5430e-07 - reg-c3_loss: 1.9303e-07 - reg-c4_loss: 2.9416e-07 - reg-c5_loss: 4.8465e-07 - cls-c3_sigmoid_ce_sens: 0.4079 - cls-c3_sigmoid_ce_ppv: 0.4088 - cls-c4_sigmoid_ce_sens: 0.7779 - cls-c4_sigmoid_ce_ppv: 0.2227 - cls-c5_sigmoid_ce_sens: 0.7662 - cls-c5_sigmoid_ce_ppv: 0.2830\n",
      "Epoch 31/100\n",
      "500/500 [==============================] - 69s 138ms/step - loss: 1.9735e-06 - cls-c3_loss: 4.2210e-07 - cls-c4_loss: 7.1668e-07 - cls-c5_loss: 1.6918e-07 - reg-c3_loss: 7.5638e-08 - reg-c4_loss: 2.3438e-07 - reg-c5_loss: 3.5552e-07 - cls-c3_sigmoid_ce_sens: 0.4904 - cls-c3_sigmoid_ce_ppv: 0.4368 - cls-c4_sigmoid_ce_sens: 0.8212 - cls-c4_sigmoid_ce_ppv: 0.2196 - cls-c5_sigmoid_ce_sens: 0.7839 - cls-c5_sigmoid_ce_ppv: 0.2881\n",
      "Epoch 32/100\n",
      "499/500 [============================>.] - ETA: 0s - loss: 9.9900e-07 - cls-c3_loss: 1.8753e-07 - cls-c4_loss: 1.4907e-07 - cls-c5_loss: 1.0134e-07 - reg-c3_loss: 1.0804e-07 - reg-c4_loss: 1.8168e-07 - reg-c5_loss: 2.7134e-07 - cls-c3_sigmoid_ce_sens: 0.5221 - cls-c3_sigmoid_ce_ppv: 0.4503 - cls-c4_sigmoid_ce_sens: 0.8232 - cls-c4_sigmoid_ce_ppv: 0.2139 - cls-c5_sigmoid_ce_sens: 0.7665 - cls-c5_sigmoid_ce_ppv: 0.2738WARNING:tensorflow:multiprocessing can interact badly with TensorFlow, causing nondeterministic deadlocks. For high performance data pipelines tf.data is recommended.\n",
      "Epoch 1/100\n",
      "500/500 [==============================] - 58s 117ms/step - loss: 1.1314e-04 - cls-c3_loss: 2.2977e-05 - cls-c4_loss: 4.4491e-05 - cls-c5_loss: 4.1393e-05 - reg-c3_loss: 1.5448e-06 - reg-c4_loss: 9.2287e-07 - reg-c5_loss: 1.8080e-06 - cls-c3_sigmoid_ce_sens: 0.0328 - cls-c3_sigmoid_ce_ppv: 0.0493 - cls-c4_sigmoid_ce_sens: 0.6213 - cls-c4_sigmoid_ce_ppv: 0.1652 - cls-c5_sigmoid_ce_sens: 0.7274 - cls-c5_sigmoid_ce_ppv: 0.2943\n",
      "500/500 [==============================] - 127s 254ms/step - loss: 9.9945e-07 - cls-c3_loss: 1.8748e-07 - cls-c4_loss: 1.4887e-07 - cls-c5_loss: 1.0140e-07 - reg-c3_loss: 1.0870e-07 - reg-c4_loss: 1.8176e-07 - reg-c5_loss: 2.7124e-07 - cls-c3_sigmoid_ce_sens: 0.5227 - cls-c3_sigmoid_ce_ppv: 0.4510 - cls-c4_sigmoid_ce_sens: 0.8232 - cls-c4_sigmoid_ce_ppv: 0.2140 - cls-c5_sigmoid_ce_sens: 0.7665 - cls-c5_sigmoid_ce_ppv: 0.2738 - val_loss: 1.1314e-04 - val_cls-c3_loss: 2.2977e-05 - val_cls-c4_loss: 4.4491e-05 - val_cls-c5_loss: 4.1393e-05 - val_reg-c3_loss: 1.5448e-06 - val_reg-c4_loss: 9.2287e-07 - val_reg-c5_loss: 1.8080e-06 - val_cls-c3_sigmoid_ce_sens: 0.0328 - val_cls-c3_sigmoid_ce_ppv: 0.0493 - val_cls-c4_sigmoid_ce_sens: 0.6213 - val_cls-c4_sigmoid_ce_ppv: 0.1652 - val_cls-c5_sigmoid_ce_sens: 0.7274 - val_cls-c5_sigmoid_ce_ppv: 0.2943\n",
      "Epoch 33/100\n",
      "500/500 [==============================] - 69s 138ms/step - loss: 6.9245e-07 - cls-c3_loss: 9.4893e-08 - cls-c4_loss: 7.7864e-08 - cls-c5_loss: 6.7595e-08 - reg-c3_loss: 7.4166e-08 - reg-c4_loss: 1.5101e-07 - reg-c5_loss: 2.2692e-07 - cls-c3_sigmoid_ce_sens: 0.5589 - cls-c3_sigmoid_ce_ppv: 0.4816 - cls-c4_sigmoid_ce_sens: 0.8242 - cls-c4_sigmoid_ce_ppv: 0.2162 - cls-c5_sigmoid_ce_sens: 0.7724 - cls-c5_sigmoid_ce_ppv: 0.2746\n",
      "Epoch 34/100\n",
      "500/500 [==============================] - 70s 140ms/step - loss: 5.2837e-07 - cls-c3_loss: 6.3906e-08 - cls-c4_loss: 5.6070e-08 - cls-c5_loss: 4.9033e-08 - reg-c3_loss: 4.6169e-08 - reg-c4_loss: 1.2456e-07 - reg-c5_loss: 1.8863e-07 - cls-c3_sigmoid_ce_sens: 0.5368 - cls-c3_sigmoid_ce_ppv: 0.4629 - cls-c4_sigmoid_ce_sens: 0.8242 - cls-c4_sigmoid_ce_ppv: 0.2164 - cls-c5_sigmoid_ce_sens: 0.7676 - cls-c5_sigmoid_ce_ppv: 0.2721\n",
      "Epoch 35/100\n",
      "500/500 [==============================] - 69s 137ms/step - loss: 4.5519e-07 - cls-c3_loss: 4.6381e-08 - cls-c4_loss: 3.8528e-08 - cls-c5_loss: 3.6763e-08 - reg-c3_loss: 6.8798e-08 - reg-c4_loss: 1.0585e-07 - reg-c5_loss: 1.5887e-07 - cls-c3_sigmoid_ce_sens: 0.5253 - cls-c3_sigmoid_ce_ppv: 0.4422 - cls-c4_sigmoid_ce_sens: 0.8278 - cls-c4_sigmoid_ce_ppv: 0.2147 - cls-c5_sigmoid_ce_sens: 0.7741 - cls-c5_sigmoid_ce_ppv: 0.2724\n",
      "Epoch 36/100\n",
      "499/500 [============================>.] - ETA: 0s - loss: 3.8511e-07 - cls-c3_loss: 3.8033e-08 - cls-c4_loss: 3.1871e-08 - cls-c5_loss: 3.1231e-08 - reg-c3_loss: 5.0210e-08 - reg-c4_loss: 8.8956e-08 - reg-c5_loss: 1.4481e-07 - cls-c3_sigmoid_ce_sens: 0.5576 - cls-c3_sigmoid_ce_ppv: 0.4751 - cls-c4_sigmoid_ce_sens: 0.8271 - cls-c4_sigmoid_ce_ppv: 0.2182 - cls-c5_sigmoid_ce_sens: 0.7646 - cls-c5_sigmoid_ce_ppv: 0.2753WARNING:tensorflow:multiprocessing can interact badly with TensorFlow, causing nondeterministic deadlocks. For high performance data pipelines tf.data is recommended.\n",
      "Epoch 1/100\n",
      "500/500 [==============================] - 58s 115ms/step - loss: 1.2281e-04 - cls-c3_loss: 2.4946e-05 - cls-c4_loss: 4.8813e-05 - cls-c5_loss: 4.4720e-05 - reg-c3_loss: 1.5903e-06 - reg-c4_loss: 9.5096e-07 - reg-c5_loss: 1.7902e-06 - cls-c3_sigmoid_ce_sens: 0.0466 - cls-c3_sigmoid_ce_ppv: 0.0659 - cls-c4_sigmoid_ce_sens: 0.6202 - cls-c4_sigmoid_ce_ppv: 0.1675 - cls-c5_sigmoid_ce_sens: 0.7310 - cls-c5_sigmoid_ce_ppv: 0.2957\n",
      "500/500 [==============================] - 127s 254ms/step - loss: 3.8536e-07 - cls-c3_loss: 3.8054e-08 - cls-c4_loss: 3.1826e-08 - cls-c5_loss: 3.1186e-08 - reg-c3_loss: 5.0125e-08 - reg-c4_loss: 8.8907e-08 - reg-c5_loss: 1.4526e-07 - cls-c3_sigmoid_ce_sens: 0.5578 - cls-c3_sigmoid_ce_ppv: 0.4752 - cls-c4_sigmoid_ce_sens: 0.8271 - cls-c4_sigmoid_ce_ppv: 0.2181 - cls-c5_sigmoid_ce_sens: 0.7647 - cls-c5_sigmoid_ce_ppv: 0.2751 - val_loss: 1.2281e-04 - val_cls-c3_loss: 2.4946e-05 - val_cls-c4_loss: 4.8813e-05 - val_cls-c5_loss: 4.4720e-05 - val_reg-c3_loss: 1.5903e-06 - val_reg-c4_loss: 9.5096e-07 - val_reg-c5_loss: 1.7902e-06 - val_cls-c3_sigmoid_ce_sens: 0.0466 - val_cls-c3_sigmoid_ce_ppv: 0.0659 - val_cls-c4_sigmoid_ce_sens: 0.6202 - val_cls-c4_sigmoid_ce_ppv: 0.1675 - val_cls-c5_sigmoid_ce_sens: 0.7310 - val_cls-c5_sigmoid_ce_ppv: 0.2957\n",
      "Epoch 37/100\n",
      "500/500 [==============================] - 70s 140ms/step - loss: 3.1321e-07 - cls-c3_loss: 2.8480e-08 - cls-c4_loss: 2.4318e-08 - cls-c5_loss: 2.2833e-08 - reg-c3_loss: 4.1031e-08 - reg-c4_loss: 7.5799e-08 - reg-c5_loss: 1.2075e-07 - cls-c3_sigmoid_ce_sens: 0.5361 - cls-c3_sigmoid_ce_ppv: 0.4564 - cls-c4_sigmoid_ce_sens: 0.8216 - cls-c4_sigmoid_ce_ppv: 0.2111 - cls-c5_sigmoid_ce_sens: 0.7725 - cls-c5_sigmoid_ce_ppv: 0.2692\n",
      "Epoch 38/100\n",
      "500/500 [==============================] - 70s 139ms/step - loss: 2.7085e-07 - cls-c3_loss: 2.6245e-08 - cls-c4_loss: 1.9887e-08 - cls-c5_loss: 1.7851e-08 - reg-c3_loss: 4.0314e-08 - reg-c4_loss: 6.6382e-08 - reg-c5_loss: 1.0017e-07 - cls-c3_sigmoid_ce_sens: 0.5338 - cls-c3_sigmoid_ce_ppv: 0.4500 - cls-c4_sigmoid_ce_sens: 0.8280 - cls-c4_sigmoid_ce_ppv: 0.2164 - cls-c5_sigmoid_ce_sens: 0.7751 - cls-c5_sigmoid_ce_ppv: 0.2752\n",
      "Epoch 39/100\n",
      "500/500 [==============================] - 69s 139ms/step - loss: 2.5106e-07 - cls-c3_loss: 2.0073e-08 - cls-c4_loss: 1.5696e-08 - cls-c5_loss: 1.4756e-08 - reg-c3_loss: 5.7123e-08 - reg-c4_loss: 5.6471e-08 - reg-c5_loss: 8.6937e-08 - cls-c3_sigmoid_ce_sens: 0.5501 - cls-c3_sigmoid_ce_ppv: 0.4656 - cls-c4_sigmoid_ce_sens: 0.8229 - cls-c4_sigmoid_ce_ppv: 0.2117 - cls-c5_sigmoid_ce_sens: 0.7712 - cls-c5_sigmoid_ce_ppv: 0.2711\n",
      "Epoch 40/100\n",
      "499/500 [============================>.] - ETA: 0s - loss: 2.4293e-07 - cls-c3_loss: 1.7338e-08 - cls-c4_loss: 1.2655e-08 - cls-c5_loss: 1.2741e-08 - reg-c3_loss: 7.0007e-08 - reg-c4_loss: 4.8858e-08 - reg-c5_loss: 8.1332e-08 - cls-c3_sigmoid_ce_sens: 0.5344 - cls-c3_sigmoid_ce_ppv: 0.4498 - cls-c4_sigmoid_ce_sens: 0.8233 - cls-c4_sigmoid_ce_ppv: 0.2103 - cls-c5_sigmoid_ce_sens: 0.7839 - cls-c5_sigmoid_ce_ppv: 0.2791WARNING:tensorflow:multiprocessing can interact badly with TensorFlow, causing nondeterministic deadlocks. For high performance data pipelines tf.data is recommended.\n",
      "Epoch 1/100\n",
      "500/500 [==============================] - 58s 117ms/step - loss: 1.3009e-04 - cls-c3_loss: 2.6656e-05 - cls-c4_loss: 5.2392e-05 - cls-c5_loss: 4.6817e-05 - reg-c3_loss: 1.4944e-06 - reg-c4_loss: 9.6620e-07 - reg-c5_loss: 1.7694e-06 - cls-c3_sigmoid_ce_sens: 0.0403 - cls-c3_sigmoid_ce_ppv: 0.0566 - cls-c4_sigmoid_ce_sens: 0.6277 - cls-c4_sigmoid_ce_ppv: 0.1671 - cls-c5_sigmoid_ce_sens: 0.7326 - cls-c5_sigmoid_ce_ppv: 0.2911\n",
      "500/500 [==============================] - 127s 255ms/step - loss: 2.4381e-07 - cls-c3_loss: 1.7363e-08 - cls-c4_loss: 1.2637e-08 - cls-c5_loss: 1.2727e-08 - reg-c3_loss: 7.0988e-08 - reg-c4_loss: 4.8824e-08 - reg-c5_loss: 8.1275e-08 - cls-c3_sigmoid_ce_sens: 0.5348 - cls-c3_sigmoid_ce_ppv: 0.4501 - cls-c4_sigmoid_ce_sens: 0.8234 - cls-c4_sigmoid_ce_ppv: 0.2102 - cls-c5_sigmoid_ce_sens: 0.7839 - cls-c5_sigmoid_ce_ppv: 0.2791 - val_loss: 1.3009e-04 - val_cls-c3_loss: 2.6656e-05 - val_cls-c4_loss: 5.2392e-05 - val_cls-c5_loss: 4.6817e-05 - val_reg-c3_loss: 1.4944e-06 - val_reg-c4_loss: 9.6620e-07 - val_reg-c5_loss: 1.7694e-06 - val_cls-c3_sigmoid_ce_sens: 0.0403 - val_cls-c3_sigmoid_ce_ppv: 0.0566 - val_cls-c4_sigmoid_ce_sens: 0.6277 - val_cls-c4_sigmoid_ce_ppv: 0.1671 - val_cls-c5_sigmoid_ce_sens: 0.7326 - val_cls-c5_sigmoid_ce_ppv: 0.2911\n",
      "Epoch 41/100\n",
      "500/500 [==============================] - 69s 138ms/step - loss: 2.2988e-07 - cls-c3_loss: 1.4126e-08 - cls-c4_loss: 1.1262e-08 - cls-c5_loss: 9.8447e-09 - reg-c3_loss: 7.9314e-08 - reg-c4_loss: 4.4399e-08 - reg-c5_loss: 7.0940e-08 - cls-c3_sigmoid_ce_sens: 0.5526 - cls-c3_sigmoid_ce_ppv: 0.4676 - cls-c4_sigmoid_ce_sens: 0.8283 - cls-c4_sigmoid_ce_ppv: 0.2124 - cls-c5_sigmoid_ce_sens: 0.7664 - cls-c5_sigmoid_ce_ppv: 0.2673\n",
      "Epoch 42/100\n",
      "500/500 [==============================] - 68s 137ms/step - loss: 2.0127e-07 - cls-c3_loss: 1.2077e-08 - cls-c4_loss: 9.4850e-09 - cls-c5_loss: 8.6539e-09 - reg-c3_loss: 6.5728e-08 - reg-c4_loss: 3.8272e-08 - reg-c5_loss: 6.7054e-08 - cls-c3_sigmoid_ce_sens: 0.5412 - cls-c3_sigmoid_ce_ppv: 0.4506 - cls-c4_sigmoid_ce_sens: 0.8234 - cls-c4_sigmoid_ce_ppv: 0.2097 - cls-c5_sigmoid_ce_sens: 0.7737 - cls-c5_sigmoid_ce_ppv: 0.2705\n",
      "Epoch 43/100\n",
      "500/500 [==============================] - 69s 139ms/step - loss: 2.2708e-07 - cls-c3_loss: 1.1337e-08 - cls-c4_loss: 8.2453e-09 - cls-c5_loss: 7.2757e-09 - reg-c3_loss: 9.4100e-08 - reg-c4_loss: 3.9176e-08 - reg-c5_loss: 6.6949e-08 - cls-c3_sigmoid_ce_sens: 0.5383 - cls-c3_sigmoid_ce_ppv: 0.4577 - cls-c4_sigmoid_ce_sens: 0.8230 - cls-c4_sigmoid_ce_ppv: 0.2103 - cls-c5_sigmoid_ce_sens: 0.7714 - cls-c5_sigmoid_ce_ppv: 0.2714\n",
      "Epoch 44/100\n",
      "499/500 [============================>.] - ETA: 0s - loss: 1.9119e-07 - cls-c3_loss: 1.0164e-08 - cls-c4_loss: 7.2732e-09 - cls-c5_loss: 5.9834e-09 - reg-c3_loss: 6.9571e-08 - reg-c4_loss: 3.5492e-08 - reg-c5_loss: 6.2709e-08 - cls-c3_sigmoid_ce_sens: 0.5440 - cls-c3_sigmoid_ce_ppv: 0.4519 - cls-c4_sigmoid_ce_sens: 0.8270 - cls-c4_sigmoid_ce_ppv: 0.2117 - cls-c5_sigmoid_ce_sens: 0.7757 - cls-c5_sigmoid_ce_ppv: 0.2738WARNING:tensorflow:multiprocessing can interact badly with TensorFlow, causing nondeterministic deadlocks. For high performance data pipelines tf.data is recommended.\n",
      "Epoch 1/100\n",
      "500/500 [==============================] - 59s 117ms/step - loss: 1.3783e-04 - cls-c3_loss: 2.8121e-05 - cls-c4_loss: 5.6283e-05 - cls-c5_loss: 4.9267e-05 - reg-c3_loss: 1.4617e-06 - reg-c4_loss: 9.6561e-07 - reg-c5_loss: 1.7265e-06 - cls-c3_sigmoid_ce_sens: 0.0338 - cls-c3_sigmoid_ce_ppv: 0.0457 - cls-c4_sigmoid_ce_sens: 0.6301 - cls-c4_sigmoid_ce_ppv: 0.1621 - cls-c5_sigmoid_ce_sens: 0.7347 - cls-c5_sigmoid_ce_ppv: 0.2926\n",
      "500/500 [==============================] - 127s 255ms/step - loss: 1.9114e-07 - cls-c3_loss: 1.0160e-08 - cls-c4_loss: 7.2643e-09 - cls-c5_loss: 5.9755e-09 - reg-c3_loss: 6.9578e-08 - reg-c4_loss: 3.5447e-08 - reg-c5_loss: 6.2715e-08 - cls-c3_sigmoid_ce_sens: 0.5446 - cls-c3_sigmoid_ce_ppv: 0.4527 - cls-c4_sigmoid_ce_sens: 0.8268 - cls-c4_sigmoid_ce_ppv: 0.2115 - cls-c5_sigmoid_ce_sens: 0.7759 - cls-c5_sigmoid_ce_ppv: 0.2738 - val_loss: 1.3783e-04 - val_cls-c3_loss: 2.8121e-05 - val_cls-c4_loss: 5.6283e-05 - val_cls-c5_loss: 4.9267e-05 - val_reg-c3_loss: 1.4617e-06 - val_reg-c4_loss: 9.6561e-07 - val_reg-c5_loss: 1.7265e-06 - val_cls-c3_sigmoid_ce_sens: 0.0338 - val_cls-c3_sigmoid_ce_ppv: 0.0457 - val_cls-c4_sigmoid_ce_sens: 0.6301 - val_cls-c4_sigmoid_ce_ppv: 0.1621 - val_cls-c5_sigmoid_ce_sens: 0.7347 - val_cls-c5_sigmoid_ce_ppv: 0.2926\n",
      "Epoch 45/100\n",
      "500/500 [==============================] - 69s 137ms/step - loss: 1.7188e-07 - cls-c3_loss: 8.5945e-09 - cls-c4_loss: 6.2361e-09 - cls-c5_loss: 5.8814e-09 - reg-c3_loss: 5.5351e-08 - reg-c4_loss: 3.1612e-08 - reg-c5_loss: 6.4202e-08 - cls-c3_sigmoid_ce_sens: 0.5424 - cls-c3_sigmoid_ce_ppv: 0.4584 - cls-c4_sigmoid_ce_sens: 0.8251 - cls-c4_sigmoid_ce_ppv: 0.2100 - cls-c5_sigmoid_ce_sens: 0.7751 - cls-c5_sigmoid_ce_ppv: 0.2681\n",
      "Epoch 46/100\n",
      "500/500 [==============================] - 69s 138ms/step - loss: 1.6271e-07 - cls-c3_loss: 7.8434e-09 - cls-c4_loss: 5.6596e-09 - cls-c5_loss: 5.1130e-09 - reg-c3_loss: 5.4255e-08 - reg-c4_loss: 2.9961e-08 - reg-c5_loss: 5.9880e-08 - cls-c3_sigmoid_ce_sens: 0.5536 - cls-c3_sigmoid_ce_ppv: 0.4623 - cls-c4_sigmoid_ce_sens: 0.8231 - cls-c4_sigmoid_ce_ppv: 0.2124 - cls-c5_sigmoid_ce_sens: 0.7698 - cls-c5_sigmoid_ce_ppv: 0.2721\n",
      "Epoch 47/100\n",
      "500/500 [==============================] - 68s 137ms/step - loss: 1.4242e-07 - cls-c3_loss: 6.6779e-09 - cls-c4_loss: 5.2059e-09 - cls-c5_loss: 4.7113e-09 - reg-c3_loss: 4.3426e-08 - reg-c4_loss: 2.8176e-08 - reg-c5_loss: 5.4219e-08 - cls-c3_sigmoid_ce_sens: 0.5441 - cls-c3_sigmoid_ce_ppv: 0.4586 - cls-c4_sigmoid_ce_sens: 0.8228 - cls-c4_sigmoid_ce_ppv: 0.2042 - cls-c5_sigmoid_ce_sens: 0.7736 - cls-c5_sigmoid_ce_ppv: 0.2691\n",
      "Epoch 48/100\n",
      "499/500 [============================>.] - ETA: 0s - loss: 1.4322e-07 - cls-c3_loss: 5.9222e-09 - cls-c4_loss: 4.6081e-09 - cls-c5_loss: 3.7058e-09 - reg-c3_loss: 5.0352e-08 - reg-c4_loss: 2.6939e-08 - reg-c5_loss: 5.1697e-08 - cls-c3_sigmoid_ce_sens: 0.5504 - cls-c3_sigmoid_ce_ppv: 0.4646 - cls-c4_sigmoid_ce_sens: 0.8273 - cls-c4_sigmoid_ce_ppv: 0.2121 - cls-c5_sigmoid_ce_sens: 0.7799 - cls-c5_sigmoid_ce_ppv: 0.2719WARNING:tensorflow:multiprocessing can interact badly with TensorFlow, causing nondeterministic deadlocks. For high performance data pipelines tf.data is recommended.\n",
      "Epoch 1/100\n",
      "500/500 [==============================] - 57s 115ms/step - loss: 1.4422e-04 - cls-c3_loss: 2.9527e-05 - cls-c4_loss: 5.9725e-05 - cls-c5_loss: 5.0769e-05 - reg-c3_loss: 1.5294e-06 - reg-c4_loss: 9.5152e-07 - reg-c5_loss: 1.7179e-06 - cls-c3_sigmoid_ce_sens: 0.0349 - cls-c3_sigmoid_ce_ppv: 0.0494 - cls-c4_sigmoid_ce_sens: 0.6296 - cls-c4_sigmoid_ce_ppv: 0.1620 - cls-c5_sigmoid_ce_sens: 0.7329 - cls-c5_sigmoid_ce_ppv: 0.2952\n",
      "500/500 [==============================] - 127s 254ms/step - loss: 1.4340e-07 - cls-c3_loss: 5.9262e-09 - cls-c4_loss: 4.6085e-09 - cls-c5_loss: 3.7132e-09 - reg-c3_loss: 5.0396e-08 - reg-c4_loss: 2.6974e-08 - reg-c5_loss: 5.1779e-08 - cls-c3_sigmoid_ce_sens: 0.5507 - cls-c3_sigmoid_ce_ppv: 0.4650 - cls-c4_sigmoid_ce_sens: 0.8274 - cls-c4_sigmoid_ce_ppv: 0.2122 - cls-c5_sigmoid_ce_sens: 0.7798 - cls-c5_sigmoid_ce_ppv: 0.2718 - val_loss: 1.4422e-04 - val_cls-c3_loss: 2.9527e-05 - val_cls-c4_loss: 5.9725e-05 - val_cls-c5_loss: 5.0769e-05 - val_reg-c3_loss: 1.5294e-06 - val_reg-c4_loss: 9.5152e-07 - val_reg-c5_loss: 1.7179e-06 - val_cls-c3_sigmoid_ce_sens: 0.0349 - val_cls-c3_sigmoid_ce_ppv: 0.0494 - val_cls-c4_sigmoid_ce_sens: 0.6296 - val_cls-c4_sigmoid_ce_ppv: 0.1620 - val_cls-c5_sigmoid_ce_sens: 0.7329 - val_cls-c5_sigmoid_ce_ppv: 0.2952\n",
      "Epoch 49/100\n",
      "500/500 [==============================] - 69s 138ms/step - loss: 1.3641e-07 - cls-c3_loss: 6.1903e-09 - cls-c4_loss: 3.9469e-09 - cls-c5_loss: 3.4807e-09 - reg-c3_loss: 4.5243e-08 - reg-c4_loss: 2.6806e-08 - reg-c5_loss: 5.0744e-08 - cls-c3_sigmoid_ce_sens: 0.5475 - cls-c3_sigmoid_ce_ppv: 0.4607 - cls-c4_sigmoid_ce_sens: 0.8287 - cls-c4_sigmoid_ce_ppv: 0.2087 - cls-c5_sigmoid_ce_sens: 0.7659 - cls-c5_sigmoid_ce_ppv: 0.2696\n",
      "Epoch 50/100\n",
      "500/500 [==============================] - 69s 138ms/step - loss: 1.1169e-07 - cls-c3_loss: 4.7422e-09 - cls-c4_loss: 3.2529e-09 - cls-c5_loss: 2.9301e-09 - reg-c3_loss: 3.0866e-08 - reg-c4_loss: 2.3339e-08 - reg-c5_loss: 4.6559e-08 - cls-c3_sigmoid_ce_sens: 0.5310 - cls-c3_sigmoid_ce_ppv: 0.4442 - cls-c4_sigmoid_ce_sens: 0.8257 - cls-c4_sigmoid_ce_ppv: 0.2079 - cls-c5_sigmoid_ce_sens: 0.7723 - cls-c5_sigmoid_ce_ppv: 0.2684\n",
      "Epoch 51/100\n",
      "500/500 [==============================] - 70s 139ms/step - loss: 1.0901e-07 - cls-c3_loss: 4.8007e-09 - cls-c4_loss: 3.1193e-09 - cls-c5_loss: 2.6580e-09 - reg-c3_loss: 3.1261e-08 - reg-c4_loss: 2.3130e-08 - reg-c5_loss: 4.4038e-08 - cls-c3_sigmoid_ce_sens: 0.5261 - cls-c3_sigmoid_ce_ppv: 0.4459 - cls-c4_sigmoid_ce_sens: 0.8288 - cls-c4_sigmoid_ce_ppv: 0.2078 - cls-c5_sigmoid_ce_sens: 0.7710 - cls-c5_sigmoid_ce_ppv: 0.2690\n",
      "Epoch 52/100\n",
      "499/500 [============================>.] - ETA: 0s - loss: 9.9007e-08 - cls-c3_loss: 4.0118e-09 - cls-c4_loss: 3.0127e-09 - cls-c5_loss: 2.4899e-09 - reg-c3_loss: 2.6270e-08 - reg-c4_loss: 2.1735e-08 - reg-c5_loss: 4.1488e-08 - cls-c3_sigmoid_ce_sens: 0.5250 - cls-c3_sigmoid_ce_ppv: 0.4399 - cls-c4_sigmoid_ce_sens: 0.8260 - cls-c4_sigmoid_ce_ppv: 0.2076 - cls-c5_sigmoid_ce_sens: 0.7722 - cls-c5_sigmoid_ce_ppv: 0.2680WARNING:tensorflow:multiprocessing can interact badly with TensorFlow, causing nondeterministic deadlocks. For high performance data pipelines tf.data is recommended.\n",
      "Epoch 1/100\n",
      "500/500 [==============================] - 58s 116ms/step - loss: 1.4777e-04 - cls-c3_loss: 3.0069e-05 - cls-c4_loss: 6.1085e-05 - cls-c5_loss: 5.2465e-05 - reg-c3_loss: 1.5094e-06 - reg-c4_loss: 9.4507e-07 - reg-c5_loss: 1.6966e-06 - cls-c3_sigmoid_ce_sens: 0.0420 - cls-c3_sigmoid_ce_ppv: 0.0598 - cls-c4_sigmoid_ce_sens: 0.6321 - cls-c4_sigmoid_ce_ppv: 0.1609 - cls-c5_sigmoid_ce_sens: 0.7329 - cls-c5_sigmoid_ce_ppv: 0.2921\n",
      "500/500 [==============================] - 127s 255ms/step - loss: 9.8956e-08 - cls-c3_loss: 4.0104e-09 - cls-c4_loss: 3.0100e-09 - cls-c5_loss: 2.4863e-09 - reg-c3_loss: 2.6235e-08 - reg-c4_loss: 2.1717e-08 - reg-c5_loss: 4.1497e-08 - cls-c3_sigmoid_ce_sens: 0.5255 - cls-c3_sigmoid_ce_ppv: 0.4402 - cls-c4_sigmoid_ce_sens: 0.8258 - cls-c4_sigmoid_ce_ppv: 0.2076 - cls-c5_sigmoid_ce_sens: 0.7723 - cls-c5_sigmoid_ce_ppv: 0.2680 - val_loss: 1.4777e-04 - val_cls-c3_loss: 3.0069e-05 - val_cls-c4_loss: 6.1085e-05 - val_cls-c5_loss: 5.2465e-05 - val_reg-c3_loss: 1.5094e-06 - val_reg-c4_loss: 9.4507e-07 - val_reg-c5_loss: 1.6966e-06 - val_cls-c3_sigmoid_ce_sens: 0.0420 - val_cls-c3_sigmoid_ce_ppv: 0.0598 - val_cls-c4_sigmoid_ce_sens: 0.6321 - val_cls-c4_sigmoid_ce_ppv: 0.1609 - val_cls-c5_sigmoid_ce_sens: 0.7329 - val_cls-c5_sigmoid_ce_ppv: 0.2921\n",
      "Epoch 53/100\n",
      "500/500 [==============================] - 69s 139ms/step - loss: 9.9478e-08 - cls-c3_loss: 3.8445e-09 - cls-c4_loss: 2.5987e-09 - cls-c5_loss: 2.3378e-09 - reg-c3_loss: 3.0268e-08 - reg-c4_loss: 2.0165e-08 - reg-c5_loss: 4.0264e-08 - cls-c3_sigmoid_ce_sens: 0.5419 - cls-c3_sigmoid_ce_ppv: 0.4540 - cls-c4_sigmoid_ce_sens: 0.8276 - cls-c4_sigmoid_ce_ppv: 0.2090 - cls-c5_sigmoid_ce_sens: 0.7713 - cls-c5_sigmoid_ce_ppv: 0.2708\n",
      "Epoch 54/100\n",
      "500/500 [==============================] - 68s 137ms/step - loss: 9.4057e-08 - cls-c3_loss: 3.5550e-09 - cls-c4_loss: 2.5943e-09 - cls-c5_loss: 2.1998e-09 - reg-c3_loss: 2.5452e-08 - reg-c4_loss: 2.0306e-08 - reg-c5_loss: 3.9950e-08 - cls-c3_sigmoid_ce_sens: 0.5279 - cls-c3_sigmoid_ce_ppv: 0.4397 - cls-c4_sigmoid_ce_sens: 0.8252 - cls-c4_sigmoid_ce_ppv: 0.2100 - cls-c5_sigmoid_ce_sens: 0.7706 - cls-c5_sigmoid_ce_ppv: 0.2679\n",
      "Epoch 55/100\n",
      "500/500 [==============================] - 69s 137ms/step - loss: 1.1914e-07 - cls-c3_loss: 3.5371e-09 - cls-c4_loss: 2.3949e-09 - cls-c5_loss: 1.8705e-09 - reg-c3_loss: 5.1667e-08 - reg-c4_loss: 2.0500e-08 - reg-c5_loss: 3.9174e-08 - cls-c3_sigmoid_ce_sens: 0.5438 - cls-c3_sigmoid_ce_ppv: 0.4564 - cls-c4_sigmoid_ce_sens: 0.8238 - cls-c4_sigmoid_ce_ppv: 0.2066 - cls-c5_sigmoid_ce_sens: 0.7737 - cls-c5_sigmoid_ce_ppv: 0.2726\n",
      "Epoch 56/100\n",
      "499/500 [============================>.] - ETA: 0s - loss: 9.9772e-08 - cls-c3_loss: 3.4232e-09 - cls-c4_loss: 2.5176e-09 - cls-c5_loss: 1.9411e-09 - reg-c3_loss: 3.4739e-08 - reg-c4_loss: 1.9734e-08 - reg-c5_loss: 3.7417e-08 - cls-c3_sigmoid_ce_sens: 0.5420 - cls-c3_sigmoid_ce_ppv: 0.4514 - cls-c4_sigmoid_ce_sens: 0.8250 - cls-c4_sigmoid_ce_ppv: 0.2070 - cls-c5_sigmoid_ce_sens: 0.7719 - cls-c5_sigmoid_ce_ppv: 0.2675WARNING:tensorflow:multiprocessing can interact badly with TensorFlow, causing nondeterministic deadlocks. For high performance data pipelines tf.data is recommended.\n",
      "Epoch 1/100\n",
      "500/500 [==============================] - 58s 117ms/step - loss: 1.5128e-04 - cls-c3_loss: 3.0475e-05 - cls-c4_loss: 6.3047e-05 - cls-c5_loss: 5.3693e-05 - reg-c3_loss: 1.3740e-06 - reg-c4_loss: 9.3539e-07 - reg-c5_loss: 1.7586e-06 - cls-c3_sigmoid_ce_sens: 0.0367 - cls-c3_sigmoid_ce_ppv: 0.0515 - cls-c4_sigmoid_ce_sens: 0.6350 - cls-c4_sigmoid_ce_ppv: 0.1613 - cls-c5_sigmoid_ce_sens: 0.7289 - cls-c5_sigmoid_ce_ppv: 0.2932\n",
      "500/500 [==============================] - 127s 255ms/step - loss: 9.9648e-08 - cls-c3_loss: 3.4194e-09 - cls-c4_loss: 2.5165e-09 - cls-c5_loss: 1.9383e-09 - reg-c3_loss: 3.4681e-08 - reg-c4_loss: 1.9720e-08 - reg-c5_loss: 3.7372e-08 - cls-c3_sigmoid_ce_sens: 0.5423 - cls-c3_sigmoid_ce_ppv: 0.4515 - cls-c4_sigmoid_ce_sens: 0.8250 - cls-c4_sigmoid_ce_ppv: 0.2070 - cls-c5_sigmoid_ce_sens: 0.7717 - cls-c5_sigmoid_ce_ppv: 0.2673 - val_loss: 1.5128e-04 - val_cls-c3_loss: 3.0475e-05 - val_cls-c4_loss: 6.3047e-05 - val_cls-c5_loss: 5.3693e-05 - val_reg-c3_loss: 1.3740e-06 - val_reg-c4_loss: 9.3539e-07 - val_reg-c5_loss: 1.7586e-06 - val_cls-c3_sigmoid_ce_sens: 0.0367 - val_cls-c3_sigmoid_ce_ppv: 0.0515 - val_cls-c4_sigmoid_ce_sens: 0.6350 - val_cls-c4_sigmoid_ce_ppv: 0.1613 - val_cls-c5_sigmoid_ce_sens: 0.7289 - val_cls-c5_sigmoid_ce_ppv: 0.2932\n",
      "Epoch 57/100\n",
      "500/500 [==============================] - 69s 137ms/step - loss: 1.0039e-07 - cls-c3_loss: 3.2436e-09 - cls-c4_loss: 2.3869e-09 - cls-c5_loss: 1.9131e-09 - reg-c3_loss: 3.5751e-08 - reg-c4_loss: 1.9689e-08 - reg-c5_loss: 3.7402e-08 - cls-c3_sigmoid_ce_sens: 0.5496 - cls-c3_sigmoid_ce_ppv: 0.4626 - cls-c4_sigmoid_ce_sens: 0.8245 - cls-c4_sigmoid_ce_ppv: 0.2070 - cls-c5_sigmoid_ce_sens: 0.7665 - cls-c5_sigmoid_ce_ppv: 0.2694\n",
      "Epoch 58/100\n",
      "500/500 [==============================] - 69s 138ms/step - loss: 7.7737e-08 - cls-c3_loss: 2.8604e-09 - cls-c4_loss: 1.9938e-09 - cls-c5_loss: 1.6213e-09 - reg-c3_loss: 2.0398e-08 - reg-c4_loss: 1.7660e-08 - reg-c5_loss: 3.3203e-08 - cls-c3_sigmoid_ce_sens: 0.5346 - cls-c3_sigmoid_ce_ppv: 0.4419 - cls-c4_sigmoid_ce_sens: 0.8269 - cls-c4_sigmoid_ce_ppv: 0.2051 - cls-c5_sigmoid_ce_sens: 0.7742 - cls-c5_sigmoid_ce_ppv: 0.2654\n",
      "Epoch 59/100\n",
      "500/500 [==============================] - 69s 139ms/step - loss: 7.4412e-08 - cls-c3_loss: 2.7976e-09 - cls-c4_loss: 1.7831e-09 - cls-c5_loss: 1.4111e-09 - reg-c3_loss: 2.0989e-08 - reg-c4_loss: 1.5661e-08 - reg-c5_loss: 3.1771e-08 - cls-c3_sigmoid_ce_sens: 0.5573 - cls-c3_sigmoid_ce_ppv: 0.4654 - cls-c4_sigmoid_ce_sens: 0.8260 - cls-c4_sigmoid_ce_ppv: 0.2062 - cls-c5_sigmoid_ce_sens: 0.7759 - cls-c5_sigmoid_ce_ppv: 0.2696\n",
      "Epoch 60/100\n",
      "499/500 [============================>.] - ETA: 0s - loss: 6.3550e-08 - cls-c3_loss: 2.5162e-09 - cls-c4_loss: 1.8160e-09 - cls-c5_loss: 1.2780e-09 - reg-c3_loss: 1.3152e-08 - reg-c4_loss: 1.5034e-08 - reg-c5_loss: 2.9753e-08 - cls-c3_sigmoid_ce_sens: 0.5372 - cls-c3_sigmoid_ce_ppv: 0.4495 - cls-c4_sigmoid_ce_sens: 0.8243 - cls-c4_sigmoid_ce_ppv: 0.2078 - cls-c5_sigmoid_ce_sens: 0.7724 - cls-c5_sigmoid_ce_ppv: 0.2695WARNING:tensorflow:multiprocessing can interact badly with TensorFlow, causing nondeterministic deadlocks. For high performance data pipelines tf.data is recommended.\n",
      "Epoch 1/100\n",
      "500/500 [==============================] - 58s 116ms/step - loss: 1.5437e-04 - cls-c3_loss: 3.1431e-05 - cls-c4_loss: 6.4076e-05 - cls-c5_loss: 5.4832e-05 - reg-c3_loss: 1.4262e-06 - reg-c4_loss: 9.4293e-07 - reg-c5_loss: 1.6600e-06 - cls-c3_sigmoid_ce_sens: 0.0355 - cls-c3_sigmoid_ce_ppv: 0.0538 - cls-c4_sigmoid_ce_sens: 0.6307 - cls-c4_sigmoid_ce_ppv: 0.1616 - cls-c5_sigmoid_ce_sens: 0.7309 - cls-c5_sigmoid_ce_ppv: 0.2939\n",
      "500/500 [==============================] - 128s 256ms/step - loss: 6.3553e-08 - cls-c3_loss: 2.5134e-09 - cls-c4_loss: 1.8150e-09 - cls-c5_loss: 1.2767e-09 - reg-c3_loss: 1.3132e-08 - reg-c4_loss: 1.5055e-08 - reg-c5_loss: 2.9761e-08 - cls-c3_sigmoid_ce_sens: 0.5374 - cls-c3_sigmoid_ce_ppv: 0.4493 - cls-c4_sigmoid_ce_sens: 0.8244 - cls-c4_sigmoid_ce_ppv: 0.2081 - cls-c5_sigmoid_ce_sens: 0.7725 - cls-c5_sigmoid_ce_ppv: 0.2695 - val_loss: 1.5437e-04 - val_cls-c3_loss: 3.1431e-05 - val_cls-c4_loss: 6.4076e-05 - val_cls-c5_loss: 5.4832e-05 - val_reg-c3_loss: 1.4262e-06 - val_reg-c4_loss: 9.4293e-07 - val_reg-c5_loss: 1.6600e-06 - val_cls-c3_sigmoid_ce_sens: 0.0355 - val_cls-c3_sigmoid_ce_ppv: 0.0538 - val_cls-c4_sigmoid_ce_sens: 0.6307 - val_cls-c4_sigmoid_ce_ppv: 0.1616 - val_cls-c5_sigmoid_ce_sens: 0.7309 - val_cls-c5_sigmoid_ce_ppv: 0.2939\n",
      "Epoch 61/100\n",
      "500/500 [==============================] - 69s 138ms/step - loss: 6.2374e-08 - cls-c3_loss: 2.4155e-09 - cls-c4_loss: 1.5829e-09 - cls-c5_loss: 1.3228e-09 - reg-c3_loss: 1.4051e-08 - reg-c4_loss: 1.4410e-08 - reg-c5_loss: 2.8592e-08 - cls-c3_sigmoid_ce_sens: 0.5389 - cls-c3_sigmoid_ce_ppv: 0.4558 - cls-c4_sigmoid_ce_sens: 0.8279 - cls-c4_sigmoid_ce_ppv: 0.2066 - cls-c5_sigmoid_ce_sens: 0.7773 - cls-c5_sigmoid_ce_ppv: 0.2732\n",
      "Epoch 62/100\n",
      "500/500 [==============================] - 69s 139ms/step - loss: 5.9897e-08 - cls-c3_loss: 2.3502e-09 - cls-c4_loss: 1.5418e-09 - cls-c5_loss: 1.2943e-09 - reg-c3_loss: 1.2561e-08 - reg-c4_loss: 1.4448e-08 - reg-c5_loss: 2.7701e-08 - cls-c3_sigmoid_ce_sens: 0.5512 - cls-c3_sigmoid_ce_ppv: 0.4549 - cls-c4_sigmoid_ce_sens: 0.8247 - cls-c4_sigmoid_ce_ppv: 0.2065 - cls-c5_sigmoid_ce_sens: 0.7674 - cls-c5_sigmoid_ce_ppv: 0.2689\n",
      "Epoch 63/100\n",
      "500/500 [==============================] - 70s 139ms/step - loss: 6.2338e-08 - cls-c3_loss: 2.2103e-09 - cls-c4_loss: 1.4681e-09 - cls-c5_loss: 1.2568e-09 - reg-c3_loss: 1.5489e-08 - reg-c4_loss: 1.4433e-08 - reg-c5_loss: 2.7481e-08 - cls-c3_sigmoid_ce_sens: 0.5287 - cls-c3_sigmoid_ce_ppv: 0.4390 - cls-c4_sigmoid_ce_sens: 0.8236 - cls-c4_sigmoid_ce_ppv: 0.2037 - cls-c5_sigmoid_ce_sens: 0.7748 - cls-c5_sigmoid_ce_ppv: 0.2692\n",
      "Epoch 64/100\n",
      "499/500 [============================>.] - ETA: 0s - loss: 5.4779e-08 - cls-c3_loss: 2.0026e-09 - cls-c4_loss: 1.4016e-09 - cls-c5_loss: 1.1680e-09 - reg-c3_loss: 1.2604e-08 - reg-c4_loss: 1.3792e-08 - reg-c5_loss: 2.3812e-08 - cls-c3_sigmoid_ce_sens: 0.5364 - cls-c3_sigmoid_ce_ppv: 0.4479 - cls-c4_sigmoid_ce_sens: 0.8266 - cls-c4_sigmoid_ce_ppv: 0.2059 - cls-c5_sigmoid_ce_sens: 0.7740 - cls-c5_sigmoid_ce_ppv: 0.2668WARNING:tensorflow:multiprocessing can interact badly with TensorFlow, causing nondeterministic deadlocks. For high performance data pipelines tf.data is recommended.\n",
      "Epoch 1/100\n",
      "500/500 [==============================] - 58s 117ms/step - loss: 1.5448e-04 - cls-c3_loss: 3.1625e-05 - cls-c4_loss: 6.3613e-05 - cls-c5_loss: 5.5268e-05 - reg-c3_loss: 1.4032e-06 - reg-c4_loss: 9.2736e-07 - reg-c5_loss: 1.6450e-06 - cls-c3_sigmoid_ce_sens: 0.0440 - cls-c3_sigmoid_ce_ppv: 0.0641 - cls-c4_sigmoid_ce_sens: 0.6280 - cls-c4_sigmoid_ce_ppv: 0.1604 - cls-c5_sigmoid_ce_sens: 0.7264 - cls-c5_sigmoid_ce_ppv: 0.2931\n",
      "500/500 [==============================] - 128s 257ms/step - loss: 5.4749e-08 - cls-c3_loss: 2.0015e-09 - cls-c4_loss: 1.4040e-09 - cls-c5_loss: 1.1667e-09 - reg-c3_loss: 1.2581e-08 - reg-c4_loss: 1.3792e-08 - reg-c5_loss: 2.3805e-08 - cls-c3_sigmoid_ce_sens: 0.5363 - cls-c3_sigmoid_ce_ppv: 0.4474 - cls-c4_sigmoid_ce_sens: 0.8266 - cls-c4_sigmoid_ce_ppv: 0.2058 - cls-c5_sigmoid_ce_sens: 0.7740 - cls-c5_sigmoid_ce_ppv: 0.2668 - val_loss: 1.5448e-04 - val_cls-c3_loss: 3.1625e-05 - val_cls-c4_loss: 6.3613e-05 - val_cls-c5_loss: 5.5268e-05 - val_reg-c3_loss: 1.4032e-06 - val_reg-c4_loss: 9.2736e-07 - val_reg-c5_loss: 1.6450e-06 - val_cls-c3_sigmoid_ce_sens: 0.0440 - val_cls-c3_sigmoid_ce_ppv: 0.0641 - val_cls-c4_sigmoid_ce_sens: 0.6280 - val_cls-c4_sigmoid_ce_ppv: 0.1604 - val_cls-c5_sigmoid_ce_sens: 0.7264 - val_cls-c5_sigmoid_ce_ppv: 0.2931\n",
      "Epoch 65/100\n",
      "500/500 [==============================] - 70s 141ms/step - loss: 5.3016e-08 - cls-c3_loss: 1.9306e-09 - cls-c4_loss: 1.4045e-09 - cls-c5_loss: 1.0798e-09 - reg-c3_loss: 1.0391e-08 - reg-c4_loss: 1.3606e-08 - reg-c5_loss: 2.4604e-08 - cls-c3_sigmoid_ce_sens: 0.5312 - cls-c3_sigmoid_ce_ppv: 0.4446 - cls-c4_sigmoid_ce_sens: 0.8291 - cls-c4_sigmoid_ce_ppv: 0.2080 - cls-c5_sigmoid_ce_sens: 0.7743 - cls-c5_sigmoid_ce_ppv: 0.2691\n",
      "Epoch 66/100\n",
      "500/500 [==============================] - 69s 138ms/step - loss: 5.0253e-08 - cls-c3_loss: 1.9227e-09 - cls-c4_loss: 1.2349e-09 - cls-c5_loss: 9.7553e-10 - reg-c3_loss: 9.3552e-09 - reg-c4_loss: 1.2772e-08 - reg-c5_loss: 2.3992e-08 - cls-c3_sigmoid_ce_sens: 0.5410 - cls-c3_sigmoid_ce_ppv: 0.4465 - cls-c4_sigmoid_ce_sens: 0.8229 - cls-c4_sigmoid_ce_ppv: 0.2044 - cls-c5_sigmoid_ce_sens: 0.7681 - cls-c5_sigmoid_ce_ppv: 0.2671\n",
      "Epoch 67/100\n",
      "500/500 [==============================] - 71s 141ms/step - loss: 6.0138e-08 - cls-c3_loss: 1.8798e-09 - cls-c4_loss: 1.2271e-09 - cls-c5_loss: 1.0870e-09 - reg-c3_loss: 1.9502e-08 - reg-c4_loss: 1.2998e-08 - reg-c5_loss: 2.3445e-08 - cls-c3_sigmoid_ce_sens: 0.5301 - cls-c3_sigmoid_ce_ppv: 0.4425 - cls-c4_sigmoid_ce_sens: 0.8232 - cls-c4_sigmoid_ce_ppv: 0.2069 - cls-c5_sigmoid_ce_sens: 0.7804 - cls-c5_sigmoid_ce_ppv: 0.2711\n",
      "Epoch 68/100\n",
      "499/500 [============================>.] - ETA: 0s - loss: 5.9452e-08 - cls-c3_loss: 1.9541e-09 - cls-c4_loss: 1.2060e-09 - cls-c5_loss: 1.0155e-09 - reg-c3_loss: 1.8429e-08 - reg-c4_loss: 1.3366e-08 - reg-c5_loss: 2.3481e-08 - cls-c3_sigmoid_ce_sens: 0.5443 - cls-c3_sigmoid_ce_ppv: 0.4489 - cls-c4_sigmoid_ce_sens: 0.8231 - cls-c4_sigmoid_ce_ppv: 0.2041 - cls-c5_sigmoid_ce_sens: 0.7704 - cls-c5_sigmoid_ce_ppv: 0.2672WARNING:tensorflow:multiprocessing can interact badly with TensorFlow, causing nondeterministic deadlocks. For high performance data pipelines tf.data is recommended.\n",
      "Epoch 1/100\n",
      "500/500 [==============================] - 59s 118ms/step - loss: 1.5773e-04 - cls-c3_loss: 3.1648e-05 - cls-c4_loss: 6.6078e-05 - cls-c5_loss: 5.6034e-05 - reg-c3_loss: 1.4108e-06 - reg-c4_loss: 9.1752e-07 - reg-c5_loss: 1.6383e-06 - cls-c3_sigmoid_ce_sens: 0.0394 - cls-c3_sigmoid_ce_ppv: 0.0555 - cls-c4_sigmoid_ce_sens: 0.6265 - cls-c4_sigmoid_ce_ppv: 0.1591 - cls-c5_sigmoid_ce_sens: 0.7299 - cls-c5_sigmoid_ce_ppv: 0.2888\n",
      "500/500 [==============================] - 128s 256ms/step - loss: 5.9389e-08 - cls-c3_loss: 1.9524e-09 - cls-c4_loss: 1.2044e-09 - cls-c5_loss: 1.0146e-09 - reg-c3_loss: 1.8396e-08 - reg-c4_loss: 1.3345e-08 - reg-c5_loss: 2.3478e-08 - cls-c3_sigmoid_ce_sens: 0.5447 - cls-c3_sigmoid_ce_ppv: 0.4492 - cls-c4_sigmoid_ce_sens: 0.8230 - cls-c4_sigmoid_ce_ppv: 0.2041 - cls-c5_sigmoid_ce_sens: 0.7704 - cls-c5_sigmoid_ce_ppv: 0.2672 - val_loss: 1.5773e-04 - val_cls-c3_loss: 3.1648e-05 - val_cls-c4_loss: 6.6078e-05 - val_cls-c5_loss: 5.6034e-05 - val_reg-c3_loss: 1.4108e-06 - val_reg-c4_loss: 9.1752e-07 - val_reg-c5_loss: 1.6383e-06 - val_cls-c3_sigmoid_ce_sens: 0.0394 - val_cls-c3_sigmoid_ce_ppv: 0.0555 - val_cls-c4_sigmoid_ce_sens: 0.6265 - val_cls-c4_sigmoid_ce_ppv: 0.1591 - val_cls-c5_sigmoid_ce_sens: 0.7299 - val_cls-c5_sigmoid_ce_ppv: 0.2888\n",
      "Epoch 69/100\n",
      "500/500 [==============================] - 69s 138ms/step - loss: 5.7246e-08 - cls-c3_loss: 1.7974e-09 - cls-c4_loss: 1.1261e-09 - cls-c5_loss: 9.1769e-10 - reg-c3_loss: 1.7599e-08 - reg-c4_loss: 1.2716e-08 - reg-c5_loss: 2.3089e-08 - cls-c3_sigmoid_ce_sens: 0.5369 - cls-c3_sigmoid_ce_ppv: 0.4471 - cls-c4_sigmoid_ce_sens: 0.8267 - cls-c4_sigmoid_ce_ppv: 0.2063 - cls-c5_sigmoid_ce_sens: 0.7698 - cls-c5_sigmoid_ce_ppv: 0.2697\n",
      "Epoch 70/100\n",
      "500/500 [==============================] - 70s 139ms/step - loss: 5.0543e-08 - cls-c3_loss: 1.7723e-09 - cls-c4_loss: 1.0583e-09 - cls-c5_loss: 8.3740e-10 - reg-c3_loss: 1.2947e-08 - reg-c4_loss: 1.1482e-08 - reg-c5_loss: 2.2446e-08 - cls-c3_sigmoid_ce_sens: 0.5290 - cls-c3_sigmoid_ce_ppv: 0.4370 - cls-c4_sigmoid_ce_sens: 0.8267 - cls-c4_sigmoid_ce_ppv: 0.2055 - cls-c5_sigmoid_ce_sens: 0.7718 - cls-c5_sigmoid_ce_ppv: 0.2669\n",
      "Epoch 71/100\n",
      "500/500 [==============================] - 69s 138ms/step - loss: 4.6329e-08 - cls-c3_loss: 1.6412e-09 - cls-c4_loss: 1.0325e-09 - cls-c5_loss: 9.0111e-10 - reg-c3_loss: 1.0198e-08 - reg-c4_loss: 1.1168e-08 - reg-c5_loss: 2.1388e-08 - cls-c3_sigmoid_ce_sens: 0.5520 - cls-c3_sigmoid_ce_ppv: 0.4611 - cls-c4_sigmoid_ce_sens: 0.8252 - cls-c4_sigmoid_ce_ppv: 0.2082 - cls-c5_sigmoid_ce_sens: 0.7728 - cls-c5_sigmoid_ce_ppv: 0.2675\n",
      "Epoch 72/100\n",
      "499/500 [============================>.] - ETA: 0s - loss: 4.6128e-08 - cls-c3_loss: 1.4984e-09 - cls-c4_loss: 1.0211e-09 - cls-c5_loss: 8.2787e-10 - reg-c3_loss: 9.8063e-09 - reg-c4_loss: 1.1621e-08 - reg-c5_loss: 2.1353e-08 - cls-c3_sigmoid_ce_sens: 0.5300 - cls-c3_sigmoid_ce_ppv: 0.4380 - cls-c4_sigmoid_ce_sens: 0.8236 - cls-c4_sigmoid_ce_ppv: 0.2052 - cls-c5_sigmoid_ce_sens: 0.7776 - cls-c5_sigmoid_ce_ppv: 0.2701WARNING:tensorflow:multiprocessing can interact badly with TensorFlow, causing nondeterministic deadlocks. For high performance data pipelines tf.data is recommended.\n",
      "Epoch 1/100\n",
      "500/500 [==============================] - 58s 116ms/step - loss: 1.5868e-04 - cls-c3_loss: 3.2655e-05 - cls-c4_loss: 6.6395e-05 - cls-c5_loss: 5.5674e-05 - reg-c3_loss: 1.3909e-06 - reg-c4_loss: 9.0981e-07 - reg-c5_loss: 1.6572e-06 - cls-c3_sigmoid_ce_sens: 0.0281 - cls-c3_sigmoid_ce_ppv: 0.0415 - cls-c4_sigmoid_ce_sens: 0.6284 - cls-c4_sigmoid_ce_ppv: 0.1609 - cls-c5_sigmoid_ce_sens: 0.7320 - cls-c5_sigmoid_ce_ppv: 0.2906\n",
      "500/500 [==============================] - 128s 255ms/step - loss: 4.6136e-08 - cls-c3_loss: 1.5013e-09 - cls-c4_loss: 1.0219e-09 - cls-c5_loss: 8.2840e-10 - reg-c3_loss: 9.8004e-09 - reg-c4_loss: 1.1614e-08 - reg-c5_loss: 2.1370e-08 - cls-c3_sigmoid_ce_sens: 0.5304 - cls-c3_sigmoid_ce_ppv: 0.4386 - cls-c4_sigmoid_ce_sens: 0.8233 - cls-c4_sigmoid_ce_ppv: 0.2051 - cls-c5_sigmoid_ce_sens: 0.7777 - cls-c5_sigmoid_ce_ppv: 0.2701 - val_loss: 1.5868e-04 - val_cls-c3_loss: 3.2655e-05 - val_cls-c4_loss: 6.6395e-05 - val_cls-c5_loss: 5.5674e-05 - val_reg-c3_loss: 1.3909e-06 - val_reg-c4_loss: 9.0981e-07 - val_reg-c5_loss: 1.6572e-06 - val_cls-c3_sigmoid_ce_sens: 0.0281 - val_cls-c3_sigmoid_ce_ppv: 0.0415 - val_cls-c4_sigmoid_ce_sens: 0.6284 - val_cls-c4_sigmoid_ce_ppv: 0.1609 - val_cls-c5_sigmoid_ce_sens: 0.7320 - val_cls-c5_sigmoid_ce_ppv: 0.2906\n",
      "Epoch 73/100\n",
      "500/500 [==============================] - 69s 138ms/step - loss: 5.6237e-08 - cls-c3_loss: 2.5512e-09 - cls-c4_loss: 1.0589e-09 - cls-c5_loss: 8.0170e-10 - reg-c3_loss: 1.7134e-08 - reg-c4_loss: 1.2906e-08 - reg-c5_loss: 2.1785e-08 - cls-c3_sigmoid_ce_sens: 0.5424 - cls-c3_sigmoid_ce_ppv: 0.4520 - cls-c4_sigmoid_ce_sens: 0.8262 - cls-c4_sigmoid_ce_ppv: 0.2051 - cls-c5_sigmoid_ce_sens: 0.7694 - cls-c5_sigmoid_ce_ppv: 0.2695\n",
      "Epoch 74/100\n",
      "500/500 [==============================] - 69s 138ms/step - loss: 4.4214e-08 - cls-c3_loss: 1.6154e-09 - cls-c4_loss: 9.4607e-10 - cls-c5_loss: 7.6018e-10 - reg-c3_loss: 9.5283e-09 - reg-c4_loss: 1.0788e-08 - reg-c5_loss: 2.0576e-08 - cls-c3_sigmoid_ce_sens: 0.5671 - cls-c3_sigmoid_ce_ppv: 0.4687 - cls-c4_sigmoid_ce_sens: 0.8251 - cls-c4_sigmoid_ce_ppv: 0.2041 - cls-c5_sigmoid_ce_sens: 0.7779 - cls-c5_sigmoid_ce_ppv: 0.2717\n",
      "Epoch 75/100\n",
      "500/500 [==============================] - 69s 138ms/step - loss: 5.1022e-08 - cls-c3_loss: 1.6994e-09 - cls-c4_loss: 9.7064e-10 - cls-c5_loss: 7.8593e-10 - reg-c3_loss: 1.4968e-08 - reg-c4_loss: 1.1954e-08 - reg-c5_loss: 2.0643e-08 - cls-c3_sigmoid_ce_sens: 0.5413 - cls-c3_sigmoid_ce_ppv: 0.4468 - cls-c4_sigmoid_ce_sens: 0.8276 - cls-c4_sigmoid_ce_ppv: 0.2083 - cls-c5_sigmoid_ce_sens: 0.7675 - cls-c5_sigmoid_ce_ppv: 0.2642\n",
      "Epoch 76/100\n",
      "499/500 [============================>.] - ETA: 0s - loss: 4.7984e-08 - cls-c3_loss: 1.4900e-09 - cls-c4_loss: 9.1955e-10 - cls-c5_loss: 7.6858e-10 - reg-c3_loss: 1.2927e-08 - reg-c4_loss: 1.0779e-08 - reg-c5_loss: 2.1100e-08 - cls-c3_sigmoid_ce_sens: 0.5302 - cls-c3_sigmoid_ce_ppv: 0.4438 - cls-c4_sigmoid_ce_sens: 0.8220 - cls-c4_sigmoid_ce_ppv: 0.2052 - cls-c5_sigmoid_ce_sens: 0.7725 - cls-c5_sigmoid_ce_ppv: 0.2687WARNING:tensorflow:multiprocessing can interact badly with TensorFlow, causing nondeterministic deadlocks. For high performance data pipelines tf.data is recommended.\n",
      "Epoch 1/100\n",
      "500/500 [==============================] - 58s 116ms/step - loss: 1.5730e-04 - cls-c3_loss: 3.2410e-05 - cls-c4_loss: 6.5648e-05 - cls-c5_loss: 5.5317e-05 - reg-c3_loss: 1.3925e-06 - reg-c4_loss: 9.0680e-07 - reg-c5_loss: 1.6301e-06 - cls-c3_sigmoid_ce_sens: 0.0325 - cls-c3_sigmoid_ce_ppv: 0.0475 - cls-c4_sigmoid_ce_sens: 0.6281 - cls-c4_sigmoid_ce_ppv: 0.1623 - cls-c5_sigmoid_ce_sens: 0.7314 - cls-c5_sigmoid_ce_ppv: 0.2925\n",
      "500/500 [==============================] - 127s 254ms/step - loss: 4.7949e-08 - cls-c3_loss: 1.4923e-09 - cls-c4_loss: 9.1884e-10 - cls-c5_loss: 7.6815e-10 - reg-c3_loss: 1.2910e-08 - reg-c4_loss: 1.0763e-08 - reg-c5_loss: 2.1096e-08 - cls-c3_sigmoid_ce_sens: 0.5308 - cls-c3_sigmoid_ce_ppv: 0.4446 - cls-c4_sigmoid_ce_sens: 0.8217 - cls-c4_sigmoid_ce_ppv: 0.2049 - cls-c5_sigmoid_ce_sens: 0.7725 - cls-c5_sigmoid_ce_ppv: 0.2688 - val_loss: 1.5730e-04 - val_cls-c3_loss: 3.2410e-05 - val_cls-c4_loss: 6.5648e-05 - val_cls-c5_loss: 5.5317e-05 - val_reg-c3_loss: 1.3925e-06 - val_reg-c4_loss: 9.0680e-07 - val_reg-c5_loss: 1.6301e-06 - val_cls-c3_sigmoid_ce_sens: 0.0325 - val_cls-c3_sigmoid_ce_ppv: 0.0475 - val_cls-c4_sigmoid_ce_sens: 0.6281 - val_cls-c4_sigmoid_ce_ppv: 0.1623 - val_cls-c5_sigmoid_ce_sens: 0.7314 - val_cls-c5_sigmoid_ce_ppv: 0.2925\n",
      "Epoch 77/100\n",
      "500/500 [==============================] - 70s 139ms/step - loss: 4.3581e-08 - cls-c3_loss: 1.3641e-09 - cls-c4_loss: 9.2481e-10 - cls-c5_loss: 7.3566e-10 - reg-c3_loss: 1.0514e-08 - reg-c4_loss: 1.0858e-08 - reg-c5_loss: 1.9184e-08 - cls-c3_sigmoid_ce_sens: 0.5341 - cls-c3_sigmoid_ce_ppv: 0.4452 - cls-c4_sigmoid_ce_sens: 0.8250 - cls-c4_sigmoid_ce_ppv: 0.2067 - cls-c5_sigmoid_ce_sens: 0.7629 - cls-c5_sigmoid_ce_ppv: 0.2639\n",
      "Epoch 78/100\n",
      "500/500 [==============================] - 69s 138ms/step - loss: 4.1233e-08 - cls-c3_loss: 1.3189e-09 - cls-c4_loss: 8.7360e-10 - cls-c5_loss: 6.4014e-10 - reg-c3_loss: 9.3387e-09 - reg-c4_loss: 9.6658e-09 - reg-c5_loss: 1.9396e-08 - cls-c3_sigmoid_ce_sens: 0.5369 - cls-c3_sigmoid_ce_ppv: 0.4486 - cls-c4_sigmoid_ce_sens: 0.8238 - cls-c4_sigmoid_ce_ppv: 0.2032 - cls-c5_sigmoid_ce_sens: 0.7708 - cls-c5_sigmoid_ce_ppv: 0.2666\n",
      "Epoch 79/100\n",
      "500/500 [==============================] - 70s 140ms/step - loss: 4.0519e-08 - cls-c3_loss: 1.2714e-09 - cls-c4_loss: 8.5656e-10 - cls-c5_loss: 7.3964e-10 - reg-c3_loss: 9.2229e-09 - reg-c4_loss: 1.0158e-08 - reg-c5_loss: 1.8271e-08 - cls-c3_sigmoid_ce_sens: 0.5330 - cls-c3_sigmoid_ce_ppv: 0.4409 - cls-c4_sigmoid_ce_sens: 0.8238 - cls-c4_sigmoid_ce_ppv: 0.2057 - cls-c5_sigmoid_ce_sens: 0.7721 - cls-c5_sigmoid_ce_ppv: 0.2657\n",
      "Epoch 80/100\n",
      "499/500 [============================>.] - ETA: 0s - loss: 3.9276e-08 - cls-c3_loss: 1.2288e-09 - cls-c4_loss: 8.7149e-10 - cls-c5_loss: 6.5905e-10 - reg-c3_loss: 9.0573e-09 - reg-c4_loss: 9.7723e-09 - reg-c5_loss: 1.7687e-08 - cls-c3_sigmoid_ce_sens: 0.5383 - cls-c3_sigmoid_ce_ppv: 0.4506 - cls-c4_sigmoid_ce_sens: 0.8221 - cls-c4_sigmoid_ce_ppv: 0.2046 - cls-c5_sigmoid_ce_sens: 0.7713 - cls-c5_sigmoid_ce_ppv: 0.2688WARNING:tensorflow:multiprocessing can interact badly with TensorFlow, causing nondeterministic deadlocks. For high performance data pipelines tf.data is recommended.\n",
      "Epoch 1/100\n",
      "500/500 [==============================] - 59s 118ms/step - loss: 1.6346e-04 - cls-c3_loss: 3.3053e-05 - cls-c4_loss: 6.9023e-05 - cls-c5_loss: 5.7469e-05 - reg-c3_loss: 1.4110e-06 - reg-c4_loss: 8.9721e-07 - reg-c5_loss: 1.6112e-06 - cls-c3_sigmoid_ce_sens: 0.0326 - cls-c3_sigmoid_ce_ppv: 0.0500 - cls-c4_sigmoid_ce_sens: 0.6390 - cls-c4_sigmoid_ce_ppv: 0.1615 - cls-c5_sigmoid_ce_sens: 0.7314 - cls-c5_sigmoid_ce_ppv: 0.2901\n",
      "500/500 [==============================] - 128s 256ms/step - loss: 3.9257e-08 - cls-c3_loss: 1.2281e-09 - cls-c4_loss: 8.7045e-10 - cls-c5_loss: 6.5829e-10 - reg-c3_loss: 9.0392e-09 - reg-c4_loss: 9.7581e-09 - reg-c5_loss: 1.7703e-08 - cls-c3_sigmoid_ce_sens: 0.5372 - cls-c3_sigmoid_ce_ppv: 0.4497 - cls-c4_sigmoid_ce_sens: 0.8218 - cls-c4_sigmoid_ce_ppv: 0.2044 - cls-c5_sigmoid_ce_sens: 0.7715 - cls-c5_sigmoid_ce_ppv: 0.2689 - val_loss: 1.6346e-04 - val_cls-c3_loss: 3.3053e-05 - val_cls-c4_loss: 6.9023e-05 - val_cls-c5_loss: 5.7469e-05 - val_reg-c3_loss: 1.4110e-06 - val_reg-c4_loss: 8.9721e-07 - val_reg-c5_loss: 1.6112e-06 - val_cls-c3_sigmoid_ce_sens: 0.0326 - val_cls-c3_sigmoid_ce_ppv: 0.0500 - val_cls-c4_sigmoid_ce_sens: 0.6390 - val_cls-c4_sigmoid_ce_ppv: 0.1615 - val_cls-c5_sigmoid_ce_sens: 0.7314 - val_cls-c5_sigmoid_ce_ppv: 0.2901\n",
      "Epoch 81/100\n",
      "500/500 [==============================] - 69s 138ms/step - loss: 3.8194e-08 - cls-c3_loss: 1.1793e-09 - cls-c4_loss: 8.1232e-10 - cls-c5_loss: 6.4214e-10 - reg-c3_loss: 8.3488e-09 - reg-c4_loss: 9.8535e-09 - reg-c5_loss: 1.7358e-08 - cls-c3_sigmoid_ce_sens: 0.5421 - cls-c3_sigmoid_ce_ppv: 0.4475 - cls-c4_sigmoid_ce_sens: 0.8291 - cls-c4_sigmoid_ce_ppv: 0.2065 - cls-c5_sigmoid_ce_sens: 0.7768 - cls-c5_sigmoid_ce_ppv: 0.2724\n",
      "Epoch 82/100\n",
      "500/500 [==============================] - 70s 140ms/step - loss: 3.7518e-08 - cls-c3_loss: 1.1878e-09 - cls-c4_loss: 7.6333e-10 - cls-c5_loss: 6.2363e-10 - reg-c3_loss: 7.0042e-09 - reg-c4_loss: 9.6771e-09 - reg-c5_loss: 1.8261e-08 - cls-c3_sigmoid_ce_sens: 0.5362 - cls-c3_sigmoid_ce_ppv: 0.4464 - cls-c4_sigmoid_ce_sens: 0.8255 - cls-c4_sigmoid_ce_ppv: 0.2060 - cls-c5_sigmoid_ce_sens: 0.7669 - cls-c5_sigmoid_ce_ppv: 0.2644\n",
      "Epoch 83/100\n",
      "500/500 [==============================] - 69s 139ms/step - loss: 3.6192e-08 - cls-c3_loss: 1.1006e-09 - cls-c4_loss: 7.4728e-10 - cls-c5_loss: 6.0888e-10 - reg-c3_loss: 7.8763e-09 - reg-c4_loss: 9.5466e-09 - reg-c5_loss: 1.6312e-08 - cls-c3_sigmoid_ce_sens: 0.5372 - cls-c3_sigmoid_ce_ppv: 0.4423 - cls-c4_sigmoid_ce_sens: 0.8244 - cls-c4_sigmoid_ce_ppv: 0.2085 - cls-c5_sigmoid_ce_sens: 0.7706 - cls-c5_sigmoid_ce_ppv: 0.2670\n",
      "Epoch 84/100\n",
      "499/500 [============================>.] - ETA: 0s - loss: 3.5539e-08 - cls-c3_loss: 1.1392e-09 - cls-c4_loss: 7.7178e-10 - cls-c5_loss: 6.1371e-10 - reg-c3_loss: 5.3826e-09 - reg-c4_loss: 9.5346e-09 - reg-c5_loss: 1.8097e-08 - cls-c3_sigmoid_ce_sens: 0.5472 - cls-c3_sigmoid_ce_ppv: 0.4499 - cls-c4_sigmoid_ce_sens: 0.8278 - cls-c4_sigmoid_ce_ppv: 0.2085 - cls-c5_sigmoid_ce_sens: 0.7691 - cls-c5_sigmoid_ce_ppv: 0.2701WARNING:tensorflow:multiprocessing can interact badly with TensorFlow, causing nondeterministic deadlocks. For high performance data pipelines tf.data is recommended.\n",
      "Epoch 1/100\n",
      "500/500 [==============================] - 59s 117ms/step - loss: 1.6255e-04 - cls-c3_loss: 3.3124e-05 - cls-c4_loss: 6.7550e-05 - cls-c5_loss: 5.7964e-05 - reg-c3_loss: 1.4011e-06 - reg-c4_loss: 8.9088e-07 - reg-c5_loss: 1.6182e-06 - cls-c3_sigmoid_ce_sens: 0.0326 - cls-c3_sigmoid_ce_ppv: 0.0500 - cls-c4_sigmoid_ce_sens: 0.6284 - cls-c4_sigmoid_ce_ppv: 0.1616 - cls-c5_sigmoid_ce_sens: 0.7289 - cls-c5_sigmoid_ce_ppv: 0.2933\n",
      "500/500 [==============================] - 128s 257ms/step - loss: 3.5520e-08 - cls-c3_loss: 1.1384e-09 - cls-c4_loss: 7.7137e-10 - cls-c5_loss: 6.1401e-10 - reg-c3_loss: 5.3743e-09 - reg-c4_loss: 9.5354e-09 - reg-c5_loss: 1.8087e-08 - cls-c3_sigmoid_ce_sens: 0.5471 - cls-c3_sigmoid_ce_ppv: 0.4497 - cls-c4_sigmoid_ce_sens: 0.8280 - cls-c4_sigmoid_ce_ppv: 0.2088 - cls-c5_sigmoid_ce_sens: 0.7691 - cls-c5_sigmoid_ce_ppv: 0.2700 - val_loss: 1.6255e-04 - val_cls-c3_loss: 3.3124e-05 - val_cls-c4_loss: 6.7550e-05 - val_cls-c5_loss: 5.7964e-05 - val_reg-c3_loss: 1.4011e-06 - val_reg-c4_loss: 8.9088e-07 - val_reg-c5_loss: 1.6182e-06 - val_cls-c3_sigmoid_ce_sens: 0.0326 - val_cls-c3_sigmoid_ce_ppv: 0.0500 - val_cls-c4_sigmoid_ce_sens: 0.6284 - val_cls-c4_sigmoid_ce_ppv: 0.1616 - val_cls-c5_sigmoid_ce_sens: 0.7289 - val_cls-c5_sigmoid_ce_ppv: 0.2933\n",
      "Epoch 85/100\n",
      "500/500 [==============================] - 70s 139ms/step - loss: 4.1150e-08 - cls-c3_loss: 1.2216e-09 - cls-c4_loss: 8.4791e-10 - cls-c5_loss: 1.8253e-09 - reg-c3_loss: 6.1900e-09 - reg-c4_loss: 1.1265e-08 - reg-c5_loss: 1.9799e-08 - cls-c3_sigmoid_ce_sens: 0.5428 - cls-c3_sigmoid_ce_ppv: 0.4559 - cls-c4_sigmoid_ce_sens: 0.8244 - cls-c4_sigmoid_ce_ppv: 0.2030 - cls-c5_sigmoid_ce_sens: 0.7718 - cls-c5_sigmoid_ce_ppv: 0.2657\n",
      "Epoch 86/100\n",
      "500/500 [==============================] - 70s 140ms/step - loss: 3.5606e-08 - cls-c3_loss: 1.0825e-09 - cls-c4_loss: 7.4716e-10 - cls-c5_loss: 6.1243e-10 - reg-c3_loss: 6.8193e-09 - reg-c4_loss: 9.5903e-09 - reg-c5_loss: 1.6755e-08 - cls-c3_sigmoid_ce_sens: 0.5330 - cls-c3_sigmoid_ce_ppv: 0.4430 - cls-c4_sigmoid_ce_sens: 0.8266 - cls-c4_sigmoid_ce_ppv: 0.2058 - cls-c5_sigmoid_ce_sens: 0.7676 - cls-c5_sigmoid_ce_ppv: 0.2638\n",
      "Epoch 87/100\n",
      "500/500 [==============================] - 69s 138ms/step - loss: 3.4532e-08 - cls-c3_loss: 1.1179e-09 - cls-c4_loss: 7.0173e-10 - cls-c5_loss: 5.4395e-10 - reg-c3_loss: 7.8502e-09 - reg-c4_loss: 8.9456e-09 - reg-c5_loss: 1.5373e-08 - cls-c3_sigmoid_ce_sens: 0.5333 - cls-c3_sigmoid_ce_ppv: 0.4449 - cls-c4_sigmoid_ce_sens: 0.8254 - cls-c4_sigmoid_ce_ppv: 0.2056 - cls-c5_sigmoid_ce_sens: 0.7731 - cls-c5_sigmoid_ce_ppv: 0.2654\n",
      "Epoch 88/100\n",
      "499/500 [============================>.] - ETA: 0s - loss: 3.2801e-08 - cls-c3_loss: 1.0651e-09 - cls-c4_loss: 7.8020e-10 - cls-c5_loss: 5.3422e-10 - reg-c3_loss: 6.7177e-09 - reg-c4_loss: 8.7613e-09 - reg-c5_loss: 1.4943e-08 - cls-c3_sigmoid_ce_sens: 0.5391 - cls-c3_sigmoid_ce_ppv: 0.4454 - cls-c4_sigmoid_ce_sens: 0.8240 - cls-c4_sigmoid_ce_ppv: 0.2055 - cls-c5_sigmoid_ce_sens: 0.7757 - cls-c5_sigmoid_ce_ppv: 0.2703WARNING:tensorflow:multiprocessing can interact badly with TensorFlow, causing nondeterministic deadlocks. For high performance data pipelines tf.data is recommended.\n",
      "Epoch 1/100\n",
      "500/500 [==============================] - 58s 116ms/step - loss: 1.6186e-04 - cls-c3_loss: 3.3515e-05 - cls-c4_loss: 6.6507e-05 - cls-c5_loss: 5.7940e-05 - reg-c3_loss: 1.3928e-06 - reg-c4_loss: 8.9168e-07 - reg-c5_loss: 1.6177e-06 - cls-c3_sigmoid_ce_sens: 0.0354 - cls-c3_sigmoid_ce_ppv: 0.0520 - cls-c4_sigmoid_ce_sens: 0.6364 - cls-c4_sigmoid_ce_ppv: 0.1624 - cls-c5_sigmoid_ce_sens: 0.7288 - cls-c5_sigmoid_ce_ppv: 0.2890\n",
      "500/500 [==============================] - 128s 255ms/step - loss: 3.2891e-08 - cls-c3_loss: 1.0653e-09 - cls-c4_loss: 7.7941e-10 - cls-c5_loss: 5.3384e-10 - reg-c3_loss: 6.7244e-09 - reg-c4_loss: 8.7589e-09 - reg-c5_loss: 1.5029e-08 - cls-c3_sigmoid_ce_sens: 0.5397 - cls-c3_sigmoid_ce_ppv: 0.4456 - cls-c4_sigmoid_ce_sens: 0.8240 - cls-c4_sigmoid_ce_ppv: 0.2054 - cls-c5_sigmoid_ce_sens: 0.7759 - cls-c5_sigmoid_ce_ppv: 0.2703 - val_loss: 1.6186e-04 - val_cls-c3_loss: 3.3515e-05 - val_cls-c4_loss: 6.6507e-05 - val_cls-c5_loss: 5.7940e-05 - val_reg-c3_loss: 1.3928e-06 - val_reg-c4_loss: 8.9168e-07 - val_reg-c5_loss: 1.6177e-06 - val_cls-c3_sigmoid_ce_sens: 0.0354 - val_cls-c3_sigmoid_ce_ppv: 0.0520 - val_cls-c4_sigmoid_ce_sens: 0.6364 - val_cls-c4_sigmoid_ce_ppv: 0.1624 - val_cls-c5_sigmoid_ce_sens: 0.7288 - val_cls-c5_sigmoid_ce_ppv: 0.2890\n",
      "Epoch 89/100\n",
      "500/500 [==============================] - 70s 139ms/step - loss: 3.2281e-08 - cls-c3_loss: 1.0169e-09 - cls-c4_loss: 6.7776e-10 - cls-c5_loss: 5.5821e-10 - reg-c3_loss: 5.4982e-09 - reg-c4_loss: 8.8022e-09 - reg-c5_loss: 1.5728e-08 - cls-c3_sigmoid_ce_sens: 0.5356 - cls-c3_sigmoid_ce_ppv: 0.4395 - cls-c4_sigmoid_ce_sens: 0.8243 - cls-c4_sigmoid_ce_ppv: 0.2044 - cls-c5_sigmoid_ce_sens: 0.7749 - cls-c5_sigmoid_ce_ppv: 0.2706\n",
      "Epoch 90/100\n",
      "500/500 [==============================] - 69s 137ms/step - loss: 3.1828e-08 - cls-c3_loss: 9.7667e-10 - cls-c4_loss: 6.7256e-10 - cls-c5_loss: 5.1859e-10 - reg-c3_loss: 5.7749e-09 - reg-c4_loss: 8.7681e-09 - reg-c5_loss: 1.5117e-08 - cls-c3_sigmoid_ce_sens: 0.5347 - cls-c3_sigmoid_ce_ppv: 0.4422 - cls-c4_sigmoid_ce_sens: 0.8280 - cls-c4_sigmoid_ce_ppv: 0.2063 - cls-c5_sigmoid_ce_sens: 0.7692 - cls-c5_sigmoid_ce_ppv: 0.2641\n",
      "Epoch 91/100\n",
      "500/500 [==============================] - 69s 138ms/step - loss: 3.4387e-08 - cls-c3_loss: 9.5060e-10 - cls-c4_loss: 6.5628e-10 - cls-c5_loss: 4.7531e-10 - reg-c3_loss: 7.9220e-09 - reg-c4_loss: 8.8621e-09 - reg-c5_loss: 1.5521e-08 - cls-c3_sigmoid_ce_sens: 0.5554 - cls-c3_sigmoid_ce_ppv: 0.4618 - cls-c4_sigmoid_ce_sens: 0.8234 - cls-c4_sigmoid_ce_ppv: 0.2059 - cls-c5_sigmoid_ce_sens: 0.7696 - cls-c5_sigmoid_ce_ppv: 0.2667\n",
      "Epoch 92/100\n",
      "499/500 [============================>.] - ETA: 0s - loss: 3.4201e-08 - cls-c3_loss: 9.6705e-10 - cls-c4_loss: 6.3201e-10 - cls-c5_loss: 4.8599e-10 - reg-c3_loss: 8.4560e-09 - reg-c4_loss: 8.8546e-09 - reg-c5_loss: 1.4805e-08 - cls-c3_sigmoid_ce_sens: 0.5345 - cls-c3_sigmoid_ce_ppv: 0.4390 - cls-c4_sigmoid_ce_sens: 0.8276 - cls-c4_sigmoid_ce_ppv: 0.2043 - cls-c5_sigmoid_ce_sens: 0.7762 - cls-c5_sigmoid_ce_ppv: 0.2705WARNING:tensorflow:multiprocessing can interact badly with TensorFlow, causing nondeterministic deadlocks. For high performance data pipelines tf.data is recommended.\n",
      "Epoch 1/100\n",
      "500/500 [==============================] - 58s 117ms/step - loss: 1.6355e-04 - cls-c3_loss: 3.3623e-05 - cls-c4_loss: 6.7429e-05 - cls-c5_loss: 5.8605e-05 - reg-c3_loss: 1.3980e-06 - reg-c4_loss: 8.8371e-07 - reg-c5_loss: 1.6073e-06 - cls-c3_sigmoid_ce_sens: 0.0341 - cls-c3_sigmoid_ce_ppv: 0.0495 - cls-c4_sigmoid_ce_sens: 0.6301 - cls-c4_sigmoid_ce_ppv: 0.1628 - cls-c5_sigmoid_ce_sens: 0.7279 - cls-c5_sigmoid_ce_ppv: 0.2916\n",
      "500/500 [==============================] - 127s 254ms/step - loss: 3.4269e-08 - cls-c3_loss: 9.6866e-10 - cls-c4_loss: 6.3148e-10 - cls-c5_loss: 4.8858e-10 - reg-c3_loss: 8.5044e-09 - reg-c4_loss: 8.8507e-09 - reg-c5_loss: 1.4826e-08 - cls-c3_sigmoid_ce_sens: 0.5351 - cls-c3_sigmoid_ce_ppv: 0.4397 - cls-c4_sigmoid_ce_sens: 0.8276 - cls-c4_sigmoid_ce_ppv: 0.2044 - cls-c5_sigmoid_ce_sens: 0.7763 - cls-c5_sigmoid_ce_ppv: 0.2705 - val_loss: 1.6355e-04 - val_cls-c3_loss: 3.3623e-05 - val_cls-c4_loss: 6.7429e-05 - val_cls-c5_loss: 5.8605e-05 - val_reg-c3_loss: 1.3980e-06 - val_reg-c4_loss: 8.8371e-07 - val_reg-c5_loss: 1.6073e-06 - val_cls-c3_sigmoid_ce_sens: 0.0341 - val_cls-c3_sigmoid_ce_ppv: 0.0495 - val_cls-c4_sigmoid_ce_sens: 0.6301 - val_cls-c4_sigmoid_ce_ppv: 0.1628 - val_cls-c5_sigmoid_ce_sens: 0.7279 - val_cls-c5_sigmoid_ce_ppv: 0.2916\n",
      "Epoch 93/100\n",
      "500/500 [==============================] - 68s 137ms/step - loss: 3.1125e-08 - cls-c3_loss: 8.9887e-10 - cls-c4_loss: 5.9375e-10 - cls-c5_loss: 4.6527e-10 - reg-c3_loss: 7.4651e-09 - reg-c4_loss: 7.9091e-09 - reg-c5_loss: 1.3793e-08 - cls-c3_sigmoid_ce_sens: 0.5510 - cls-c3_sigmoid_ce_ppv: 0.4593 - cls-c4_sigmoid_ce_sens: 0.8193 - cls-c4_sigmoid_ce_ppv: 0.2029 - cls-c5_sigmoid_ce_sens: 0.7736 - cls-c5_sigmoid_ce_ppv: 0.2667\n",
      "Epoch 94/100\n",
      "500/500 [==============================] - 69s 138ms/step - loss: 3.5507e-08 - cls-c3_loss: 9.3591e-10 - cls-c4_loss: 6.0217e-10 - cls-c5_loss: 5.2599e-10 - reg-c3_loss: 1.0671e-08 - reg-c4_loss: 8.7214e-09 - reg-c5_loss: 1.4051e-08 - cls-c3_sigmoid_ce_sens: 0.5379 - cls-c3_sigmoid_ce_ppv: 0.4477 - cls-c4_sigmoid_ce_sens: 0.8263 - cls-c4_sigmoid_ce_ppv: 0.2077 - cls-c5_sigmoid_ce_sens: 0.7674 - cls-c5_sigmoid_ce_ppv: 0.2627\n",
      "Epoch 95/100\n",
      "500/500 [==============================] - 69s 137ms/step - loss: 3.2398e-08 - cls-c3_loss: 9.0933e-10 - cls-c4_loss: 5.9194e-10 - cls-c5_loss: 4.7571e-10 - reg-c3_loss: 7.9933e-09 - reg-c4_loss: 8.5114e-09 - reg-c5_loss: 1.3916e-08 - cls-c3_sigmoid_ce_sens: 0.5303 - cls-c3_sigmoid_ce_ppv: 0.4356 - cls-c4_sigmoid_ce_sens: 0.8245 - cls-c4_sigmoid_ce_ppv: 0.2063 - cls-c5_sigmoid_ce_sens: 0.7753 - cls-c5_sigmoid_ce_ppv: 0.2694\n",
      "Epoch 96/100\n",
      "499/500 [============================>.] - ETA: 0s - loss: 3.1834e-08 - cls-c3_loss: 8.8915e-10 - cls-c4_loss: 5.9973e-10 - cls-c5_loss: 4.4264e-10 - reg-c3_loss: 7.8871e-09 - reg-c4_loss: 8.2361e-09 - reg-c5_loss: 1.3780e-08 - cls-c3_sigmoid_ce_sens: 0.5316 - cls-c3_sigmoid_ce_ppv: 0.4369 - cls-c4_sigmoid_ce_sens: 0.8245 - cls-c4_sigmoid_ce_ppv: 0.2052 - cls-c5_sigmoid_ce_sens: 0.7679 - cls-c5_sigmoid_ce_ppv: 0.2637WARNING:tensorflow:multiprocessing can interact badly with TensorFlow, causing nondeterministic deadlocks. For high performance data pipelines tf.data is recommended.\n",
      "Epoch 1/100\n",
      "500/500 [==============================] - 57s 114ms/step - loss: 1.6638e-04 - cls-c3_loss: 3.3698e-05 - cls-c4_loss: 6.8715e-05 - cls-c5_loss: 6.0038e-05 - reg-c3_loss: 1.3853e-06 - reg-c4_loss: 8.8540e-07 - reg-c5_loss: 1.6578e-06 - cls-c3_sigmoid_ce_sens: 0.0327 - cls-c3_sigmoid_ce_ppv: 0.0492 - cls-c4_sigmoid_ce_sens: 0.6322 - cls-c4_sigmoid_ce_ppv: 0.1610 - cls-c5_sigmoid_ce_sens: 0.7314 - cls-c5_sigmoid_ce_ppv: 0.2904\n",
      "500/500 [==============================] - 126s 252ms/step - loss: 3.1828e-08 - cls-c3_loss: 8.8925e-10 - cls-c4_loss: 5.9943e-10 - cls-c5_loss: 4.4601e-10 - reg-c3_loss: 7.8731e-09 - reg-c4_loss: 8.2305e-09 - reg-c5_loss: 1.3790e-08 - cls-c3_sigmoid_ce_sens: 0.5321 - cls-c3_sigmoid_ce_ppv: 0.4372 - cls-c4_sigmoid_ce_sens: 0.8244 - cls-c4_sigmoid_ce_ppv: 0.2050 - cls-c5_sigmoid_ce_sens: 0.7680 - cls-c5_sigmoid_ce_ppv: 0.2638 - val_loss: 1.6638e-04 - val_cls-c3_loss: 3.3698e-05 - val_cls-c4_loss: 6.8715e-05 - val_cls-c5_loss: 6.0038e-05 - val_reg-c3_loss: 1.3853e-06 - val_reg-c4_loss: 8.8540e-07 - val_reg-c5_loss: 1.6578e-06 - val_cls-c3_sigmoid_ce_sens: 0.0327 - val_cls-c3_sigmoid_ce_ppv: 0.0492 - val_cls-c4_sigmoid_ce_sens: 0.6322 - val_cls-c4_sigmoid_ce_ppv: 0.1610 - val_cls-c5_sigmoid_ce_sens: 0.7314 - val_cls-c5_sigmoid_ce_ppv: 0.2904\n",
      "Epoch 97/100\n",
      "500/500 [==============================] - 69s 137ms/step - loss: 3.0309e-08 - cls-c3_loss: 8.9287e-10 - cls-c4_loss: 5.5352e-10 - cls-c5_loss: 4.2094e-10 - reg-c3_loss: 6.6554e-09 - reg-c4_loss: 8.1108e-09 - reg-c5_loss: 1.3675e-08 - cls-c3_sigmoid_ce_sens: 0.5423 - cls-c3_sigmoid_ce_ppv: 0.4501 - cls-c4_sigmoid_ce_sens: 0.8244 - cls-c4_sigmoid_ce_ppv: 0.2019 - cls-c5_sigmoid_ce_sens: 0.7719 - cls-c5_sigmoid_ce_ppv: 0.2675\n",
      "Epoch 98/100\n",
      "500/500 [==============================] - 69s 138ms/step - loss: 3.0959e-08 - cls-c3_loss: 8.5081e-10 - cls-c4_loss: 5.8680e-10 - cls-c5_loss: 4.6865e-10 - reg-c3_loss: 6.5573e-09 - reg-c4_loss: 8.1953e-09 - reg-c5_loss: 1.4300e-08 - cls-c3_sigmoid_ce_sens: 0.5572 - cls-c3_sigmoid_ce_ppv: 0.4622 - cls-c4_sigmoid_ce_sens: 0.8250 - cls-c4_sigmoid_ce_ppv: 0.2046 - cls-c5_sigmoid_ce_sens: 0.7716 - cls-c5_sigmoid_ce_ppv: 0.2670\n",
      "Epoch 99/100\n",
      "500/500 [==============================] - 69s 138ms/step - loss: 3.6748e-08 - cls-c3_loss: 8.2306e-10 - cls-c4_loss: 5.8759e-10 - cls-c5_loss: 4.8476e-10 - reg-c3_loss: 1.2011e-08 - reg-c4_loss: 8.3413e-09 - reg-c5_loss: 1.4500e-08 - cls-c3_sigmoid_ce_sens: 0.5479 - cls-c3_sigmoid_ce_ppv: 0.4519 - cls-c4_sigmoid_ce_sens: 0.8243 - cls-c4_sigmoid_ce_ppv: 0.2041 - cls-c5_sigmoid_ce_sens: 0.7722 - cls-c5_sigmoid_ce_ppv: 0.2672\n",
      "Epoch 100/100\n",
      "499/500 [============================>.] - ETA: 0s - loss: 3.4275e-08 - cls-c3_loss: 8.3908e-10 - cls-c4_loss: 5.5639e-10 - cls-c5_loss: 4.2473e-10 - reg-c3_loss: 1.1493e-08 - reg-c4_loss: 8.0361e-09 - reg-c5_loss: 1.2926e-08 - cls-c3_sigmoid_ce_sens: 0.5193 - cls-c3_sigmoid_ce_ppv: 0.4266 - cls-c4_sigmoid_ce_sens: 0.8200 - cls-c4_sigmoid_ce_ppv: 0.2040 - cls-c5_sigmoid_ce_sens: 0.7687 - cls-c5_sigmoid_ce_ppv: 0.2659WARNING:tensorflow:multiprocessing can interact badly with TensorFlow, causing nondeterministic deadlocks. For high performance data pipelines tf.data is recommended.\n",
      "Epoch 1/100\n",
      "500/500 [==============================] - 58s 115ms/step - loss: 1.6617e-04 - cls-c3_loss: 3.4018e-05 - cls-c4_loss: 6.8236e-05 - cls-c5_loss: 6.0066e-05 - reg-c3_loss: 1.3714e-06 - reg-c4_loss: 8.8033e-07 - reg-c5_loss: 1.5961e-06 - cls-c3_sigmoid_ce_sens: 0.0370 - cls-c3_sigmoid_ce_ppv: 0.0535 - cls-c4_sigmoid_ce_sens: 0.6328 - cls-c4_sigmoid_ce_ppv: 0.1621 - cls-c5_sigmoid_ce_sens: 0.7273 - cls-c5_sigmoid_ce_ppv: 0.2930\n",
      "500/500 [==============================] - 127s 253ms/step - loss: 3.4245e-08 - cls-c3_loss: 8.3928e-10 - cls-c4_loss: 5.5591e-10 - cls-c5_loss: 4.2638e-10 - reg-c3_loss: 1.1472e-08 - reg-c4_loss: 8.0250e-09 - reg-c5_loss: 1.2927e-08 - cls-c3_sigmoid_ce_sens: 0.5196 - cls-c3_sigmoid_ce_ppv: 0.4271 - cls-c4_sigmoid_ce_sens: 0.8199 - cls-c4_sigmoid_ce_ppv: 0.2039 - cls-c5_sigmoid_ce_sens: 0.7688 - cls-c5_sigmoid_ce_ppv: 0.2658 - val_loss: 1.6617e-04 - val_cls-c3_loss: 3.4018e-05 - val_cls-c4_loss: 6.8236e-05 - val_cls-c5_loss: 6.0066e-05 - val_reg-c3_loss: 1.3714e-06 - val_reg-c4_loss: 8.8033e-07 - val_reg-c5_loss: 1.5961e-06 - val_cls-c3_sigmoid_ce_sens: 0.0370 - val_cls-c3_sigmoid_ce_ppv: 0.0535 - val_cls-c4_sigmoid_ce_sens: 0.6328 - val_cls-c4_sigmoid_ce_ppv: 0.1621 - val_cls-c5_sigmoid_ce_sens: 0.7273 - val_cls-c5_sigmoid_ce_ppv: 0.2930\n"
     ]
    },
    {
     "data": {
      "text/plain": [
       "<tensorflow.python.keras.callbacks.History at 0x7f89c800f048>"
      ]
     },
     "execution_count": 18,
     "metadata": {
      "tags": []
     },
     "output_type": "execute_result"
    }
   ],
   "source": [
    "# --- Train model\n",
    "model.fit(\n",
    "    x=gen_train, \n",
    "    steps_per_epoch=500, \n",
    "    epochs=100,\n",
    "    validation_data=gen_valid,\n",
    "    validation_steps=500,\n",
    "    validation_freq=4,\n",
    "    use_multiprocessing=True)"
   ]
  },
  {
   "cell_type": "markdown",
   "metadata": {
    "colab_type": "text",
    "id": "RxKj8RBt2RYq"
   },
   "source": [
    "# Evaluation\n",
    "\n",
    "Based on the tutorial discussion, use the following cells to calculate model performance. The following metrics should be calculated:\n",
    "\n",
    "* median IoU\n",
    "* 25th percentile IoU\n",
    "* 75th percentile IoU\n",
    "\n",
    "As in prior assignments, accuracy is determined on a patient by patient (volume by volume) basis, so please calculate the IoU prediction values for each 3D volume (not slice-by-slice).\n",
    "\n",
    "### Performance\n",
    "\n",
    "The following minimum performance metrics must be met for full credit:\n",
    "\n",
    "* median IoU: >0.50\n",
    "* 25th percentile IoU: >0.40\n",
    "* 75th percentile IoU: >0.60"
   ]
  },
  {
   "cell_type": "code",
   "execution_count": 0,
   "metadata": {
    "colab": {},
    "colab_type": "code",
    "id": "u1KKzoq-2RYq"
   },
   "outputs": [],
   "source": []
  },
  {
   "cell_type": "code",
   "execution_count": 19,
   "metadata": {
    "colab": {
     "base_uri": "https://localhost:8080/",
     "height": 35
    },
    "colab_type": "code",
    "executionInfo": {
     "elapsed": 8589438,
     "status": "ok",
     "timestamp": 1589515241780,
     "user": {
      "displayName": "June Chen",
      "photoUrl": "",
      "userId": "14724189092965811373"
     },
     "user_tz": 420
    },
    "id": "8_RlVocW2RYu",
    "outputId": "0d861a07-1a40-494f-f22d-1e33cff25ee0"
   },
   "outputs": [
    {
     "name": "stdout",
     "output_type": "stream",
     "text": [
      "[ 2020-05-15 04:00:40 ] [====================] 100.000% : Iterating | 000273    "
     ]
    }
   ],
   "source": [
    "# --- Create validation generator\n",
    "test_train, test_valid = client.create_generators(test=True, expand=True)\n",
    "test_train, test_valid = bb.create_generators(test_train, test_valid, msk='prostate')\n",
    "\n",
    "ious = {\n",
    "    'med': [],\n",
    "    'p25': [],\n",
    "    'p75': []}\n",
    "\n",
    "for x, y in test_train:\n",
    "    \n",
    "    # --- Predict\n",
    "    box = model.predict(x)\n",
    "    if type(box) is list:\n",
    "        box = {k: l for k, l in zip(model.output_names, box)}\n",
    "        \n",
    "    # --- Convert predictions to anchors\n",
    "    anchors_pred, _ = bb.convert_box_to_anc(box)\n",
    "    \n",
    "    # --- Convert ground-truth to anchors\n",
    "    anchors_true, _ = bb.convert_box_to_anc(y)\n",
    "    \n",
    "    # --- Calculate IoUs\n",
    "    curr = []\n",
    "    for pred, true in zip(anchors_pred, anchors_true):\n",
    "        for p in pred:\n",
    "            iou = bb.calculate_ious(box=p, anchors=true)\n",
    "            if iou.size > 0:\n",
    "                curr.append(np.max(iou))\n",
    "            else: \n",
    "                curr.append(0)\n",
    "    \n",
    "    if len(curr) == 0:\n",
    "        curr = [0]\n",
    "        \n",
    "    ious['med'].append(np.median(curr))\n",
    "    ious['p25'].append(np.percentile(curr, 25))\n",
    "    ious['p75'].append(np.percentile(curr, 75))\n",
    "    \n",
    "ious = {k: np.array(v) for k, v in ious.items()}"
   ]
  },
  {
   "cell_type": "markdown",
   "metadata": {
    "colab_type": "text",
    "id": "XMadftxv2RYx"
   },
   "source": [
    "### Results\n",
    "\n",
    "When ready, create a `*.csv` file with your compiled **validation** cohort Dice score statistics. There is no need to submit training performance accuracy."
   ]
  },
  {
   "cell_type": "code",
   "execution_count": 20,
   "metadata": {
    "colab": {
     "base_uri": "https://localhost:8080/",
     "height": 72
    },
    "colab_type": "code",
    "executionInfo": {
     "elapsed": 8589437,
     "status": "ok",
     "timestamp": 1589515241783,
     "user": {
      "displayName": "June Chen",
      "photoUrl": "",
      "userId": "14724189092965811373"
     },
     "user_tz": 420
    },
    "id": "T7zhgaBZ2RYx",
    "outputId": "56b16e19-4abb-47c2-d90d-fa0d9c0c966a"
   },
   "outputs": [
    {
     "name": "stdout",
     "output_type": "stream",
     "text": [
      "0.7227999567985535\n",
      "0.6382439583539963\n",
      "0.9741638600826263\n"
     ]
    }
   ],
   "source": [
    "df = pd.DataFrame(index=np.arange(ious['med'].size))\n",
    "df['iou_median'] = ious['med']\n",
    "df['iou_p-25th'] = ious['p25']\n",
    "df['iou_p-75th'] = ious['p75']\n",
    "\n",
    "# --- Print accuracy\n",
    "print(df['iou_median'].median())\n",
    "print(df['iou_p-25th'].median())\n",
    "print(df['iou_p-75th'].median())"
   ]
  },
  {
   "cell_type": "code",
   "execution_count": 0,
   "metadata": {
    "colab": {},
    "colab_type": "code",
    "id": "et2-w2skhSqY"
   },
   "outputs": [],
   "source": [
    "from google.colab import drive\n",
    "drive.mount('/content/drive')"
   ]
  }
 ],
 "metadata": {
  "accelerator": "GPU",
  "colab": {
   "name": "Assignment 6.ipynb",
   "provenance": [
    {
     "file_id": "https://github.com/peterchang77/dl_tutor/blob/master/cs190/notebooks/box_localization/assignment.ipynb",
     "timestamp": 1589403792909
    }
   ]
  },
  "kernelspec": {
   "display_name": "Python 3 (ipykernel)",
   "language": "python",
   "name": "python3"
  },
  "language_info": {
   "codemirror_mode": {
    "name": "ipython",
    "version": 3
   },
   "file_extension": ".py",
   "mimetype": "text/x-python",
   "name": "python",
   "nbconvert_exporter": "python",
   "pygments_lexer": "ipython3",
   "version": "3.9.13"
  }
 },
 "nbformat": 4,
 "nbformat_minor": 1
}
