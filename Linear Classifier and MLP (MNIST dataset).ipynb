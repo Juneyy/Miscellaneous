{
 "cells": [
  {
   "cell_type": "markdown",
   "metadata": {
    "colab_type": "text",
    "id": "56d3oMiMw8Wm"
   },
   "source": [
    "# Google Colab\n",
    "\n",
    "The following lines of code will configure your Google Colab environment for this assignment. For those interested in running a local Jupyter server, please consider using one of the following options to ensure dependency compatibility:\n",
    "\n",
    "1. Precompiled Docker images: see https://github.com/peterchang77/install (**recommended**)\n",
    "2. Conda environment files: see https://github.com/peterchang77/dl_utils/tree/master/envs"
   ]
  },
  {
   "cell_type": "markdown",
   "metadata": {
    "colab_type": "text",
    "id": "n5z8Qm4v7x34"
   },
   "source": [
    "### Enable GPU runtime\n",
    "\n",
    "Use the following instructions to switch the default Colab instance into a GPU-enabled runtime:\n",
    "\n",
    "```\n",
    "Runtime > Change runtime type > Hardware accelerator > GPU\n",
    "```"
   ]
  },
  {
   "cell_type": "markdown",
   "metadata": {
    "colab_type": "text",
    "id": "6BLXczvM7x35"
   },
   "source": [
    "### Mount Google Drive\n",
    "\n",
    "The Google Colab environment is transient and will reset after any prolonged break in activity. To retain important and/or large files between sessions, use the following lines of code to mount your personal Google drive to this Colab instance:"
   ]
  },
  {
   "cell_type": "code",
   "execution_count": 1,
   "metadata": {
    "colab": {
     "base_uri": "https://localhost:8080/",
     "height": 122
    },
    "colab_type": "code",
    "executionInfo": {
     "elapsed": 2804747,
     "status": "ok",
     "timestamp": 1586497852804,
     "user": {
      "displayName": "June Chen",
      "photoUrl": "",
      "userId": "14724189092965811373"
     },
     "user_tz": 420
    },
    "id": "je7eVxqM7x35",
    "outputId": "f0f51de4-ee51-4f0e-99a0-9b1a75286eb5"
   },
   "outputs": [
    {
     "name": "stdout",
     "output_type": "stream",
     "text": [
      "Go to this URL in a browser: https://accounts.google.com/o/oauth2/auth?client_id=947318989803-6bn6qk8qdgf4n4g3pfee6491hc0brc4i.apps.googleusercontent.com&redirect_uri=urn%3aietf%3awg%3aoauth%3a2.0%3aoob&response_type=code&scope=email%20https%3a%2f%2fwww.googleapis.com%2fauth%2fdocs.test%20https%3a%2f%2fwww.googleapis.com%2fauth%2fdrive%20https%3a%2f%2fwww.googleapis.com%2fauth%2fdrive.photos.readonly%20https%3a%2f%2fwww.googleapis.com%2fauth%2fpeopleapi.readonly\n",
      "\n",
      "Enter your authorization code:\n",
      "··········\n",
      "Mounted at /content/drive\n"
     ]
    }
   ],
   "source": [
    "try:\n",
    "    # --- Mount gdrive to /content/drive/My Drive/\n",
    "    from google.colab import drive\n",
    "    drive.mount('/content/drive')\n",
    "    \n",
    "except: pass"
   ]
  },
  {
   "cell_type": "markdown",
   "metadata": {
    "colab_type": "text",
    "id": "b-HUu7jZ7x38"
   },
   "source": [
    "Throughout this assignment we will use the following global `MOUNT_ROOT` variable to reference a location to store long-term data. If you are using a local Jupyter server and/or wish to store your data elsewhere, please update this variable now."
   ]
  },
  {
   "cell_type": "code",
   "execution_count": 0,
   "metadata": {
    "colab": {},
    "colab_type": "code",
    "id": "EMop3Xxh7x39"
   },
   "outputs": [],
   "source": [
    "# --- Set data directory\n",
    "MOUNT_ROOT = '/content/drive/My Drive'"
   ]
  },
  {
   "cell_type": "markdown",
   "metadata": {
    "colab_type": "text",
    "id": "I10ccDvY7x4C"
   },
   "source": [
    "### Select Tensorflow library version\n",
    "\n",
    "This assignment will use the (new) Tensorflow 2.0 library. Use the following line of code to select this updated version:"
   ]
  },
  {
   "cell_type": "code",
   "execution_count": null,
   "metadata": {
    "colab": {},
    "colab_type": "code",
    "id": "E0esnkeN7x4D"
   },
   "outputs": [],
   "source": [
    "# --- Select Tensorflow 2.0 (only in Google Colab)\n",
    "%tensorflow_version 2.x\n",
    "\n",
    "\n",
    "\n"
   ]
  },
  {
   "cell_type": "markdown",
   "metadata": {
    "colab_type": "text",
    "id": "KJZPecrO7x4F"
   },
   "source": [
    "# Environment"
   ]
  },
  {
   "cell_type": "markdown",
   "metadata": {
    "colab_type": "text",
    "id": "T3P8t3VK7x4G"
   },
   "source": [
    "### Jarvis library\n",
    "\n",
    "In this notebook we will Jarvis, a custom Python package to facilitate data science and deep learning for healthcare. Among other things, this library will be used for low-level data management, stratification and visualization of high-dimensional medical data."
   ]
  },
  {
   "cell_type": "code",
   "execution_count": 4,
   "metadata": {
    "colab": {
     "base_uri": "https://localhost:8080/",
     "height": 306
    },
    "colab_type": "code",
    "executionInfo": {
     "elapsed": 2806779,
     "status": "ok",
     "timestamp": 1586497854860,
     "user": {
      "displayName": "June Chen",
      "photoUrl": "",
      "userId": "14724189092965811373"
     },
     "user_tz": 420
    },
    "id": "zVM9F1OK7x4G",
    "outputId": "e787d165-25b0-4b98-a0c6-c04bb951346b"
   },
   "outputs": [
    {
     "name": "stdout",
     "output_type": "stream",
     "text": [
      "Requirement already satisfied: jarvis-md in /usr/local/lib/python3.6/dist-packages (0.0.1a2)\n",
      "Requirement already satisfied: pyyaml>=5.2 in /usr/local/lib/python3.6/dist-packages (from jarvis-md) (5.3.1)\n",
      "Requirement already satisfied: pandas in /usr/local/lib/python3.6/dist-packages (from jarvis-md) (1.0.3)\n",
      "Requirement already satisfied: matplotlib in /usr/local/lib/python3.6/dist-packages (from jarvis-md) (3.2.1)\n",
      "Requirement already satisfied: requests in /usr/local/lib/python3.6/dist-packages (from jarvis-md) (2.21.0)\n",
      "Requirement already satisfied: numpy in /usr/local/lib/python3.6/dist-packages (from jarvis-md) (1.18.2)\n",
      "Requirement already satisfied: scipy in /usr/local/lib/python3.6/dist-packages (from jarvis-md) (1.4.1)\n",
      "Requirement already satisfied: python-dateutil>=2.6.1 in /usr/local/lib/python3.6/dist-packages (from pandas->jarvis-md) (2.8.1)\n",
      "Requirement already satisfied: pytz>=2017.2 in /usr/local/lib/python3.6/dist-packages (from pandas->jarvis-md) (2018.9)\n",
      "Requirement already satisfied: kiwisolver>=1.0.1 in /usr/local/lib/python3.6/dist-packages (from matplotlib->jarvis-md) (1.2.0)\n",
      "Requirement already satisfied: pyparsing!=2.0.4,!=2.1.2,!=2.1.6,>=2.0.1 in /usr/local/lib/python3.6/dist-packages (from matplotlib->jarvis-md) (2.4.6)\n",
      "Requirement already satisfied: cycler>=0.10 in /usr/local/lib/python3.6/dist-packages (from matplotlib->jarvis-md) (0.10.0)\n",
      "Requirement already satisfied: certifi>=2017.4.17 in /usr/local/lib/python3.6/dist-packages (from requests->jarvis-md) (2019.11.28)\n",
      "Requirement already satisfied: urllib3<1.25,>=1.21.1 in /usr/local/lib/python3.6/dist-packages (from requests->jarvis-md) (1.24.3)\n",
      "Requirement already satisfied: idna<2.9,>=2.5 in /usr/local/lib/python3.6/dist-packages (from requests->jarvis-md) (2.8)\n",
      "Requirement already satisfied: chardet<3.1.0,>=3.0.2 in /usr/local/lib/python3.6/dist-packages (from requests->jarvis-md) (3.0.4)\n",
      "Requirement already satisfied: six>=1.5 in /usr/local/lib/python3.6/dist-packages (from python-dateutil>=2.6.1->pandas->jarvis-md) (1.12.0)\n"
     ]
    }
   ],
   "source": [
    "# --- Install jarvis (only in Google Colab or local runtime)\n",
    "% pip install jarvis-md"
   ]
  },
  {
   "cell_type": "markdown",
   "metadata": {
    "colab_type": "text",
    "id": "pL5ZvHOI7x4J"
   },
   "source": [
    "### Imports\n",
    "\n",
    "Use the following lines to import any additional needed libraries:"
   ]
  },
  {
   "cell_type": "code",
   "execution_count": 0,
   "metadata": {
    "colab": {},
    "colab_type": "code",
    "id": "RK7byOoZ7x4J"
   },
   "outputs": [],
   "source": [
    "import numpy as np, pandas as pd\n",
    "from tensorflow import losses, optimizers\n",
    "from tensorflow.keras import Input, Model, models, layers\n",
    "from jarvis.train import datasets\n"
   ]
  },
  {
   "cell_type": "markdown",
   "metadata": {
    "colab_type": "text",
    "id": "bFfunwAM7x4M"
   },
   "source": [
    "# Data\n",
    "\n",
    "As in the tutorial, data for this assignment will consist of the MNIST handwritten digit dataset. The following lines of code will:\n",
    "\n",
    "1. Download the dataset (if not already present) \n",
    "2. Prepare the necessary Python generators to iterate through dataset\n",
    "3. Prepare the corresponding Tensorflow Input(...) objects for model definition"
   ]
  },
  {
   "cell_type": "code",
   "execution_count": 6,
   "metadata": {
    "colab": {
     "base_uri": "https://localhost:8080/",
     "height": 34
    },
    "colab_type": "code",
    "executionInfo": {
     "elapsed": 2810126,
     "status": "ok",
     "timestamp": 1586497858228,
     "user": {
      "displayName": "June Chen",
      "photoUrl": "",
      "userId": "14724189092965811373"
     },
     "user_tz": 420
    },
    "id": "8cfzftMZ7x4M",
    "outputId": "daca57fc-b6e9-40e8-d329-29b61a3fdbf3"
   },
   "outputs": [
    {
     "name": "stdout",
     "output_type": "stream",
     "text": [
      "[ 2020-04-10 05:50:57 ] [====================] 100.000% : Iterating | 000001    "
     ]
    }
   ],
   "source": [
    "# --- Download dataset\n",
    "datasets.download(name='mnist')\n",
    "\n",
    "# --- Prepare generators and model inputs\n",
    "\n",
    "gen_train, _, client = datasets.prepare(name='mnist')\n",
    "inputs = client.get_inputs(Input)\n"
   ]
  },
  {
   "cell_type": "markdown",
   "metadata": {
    "colab_type": "text",
    "id": "CWX18aX-7x4P"
   },
   "source": [
    "**Note**: There is no need to change the above code for this assignment."
   ]
  },
  {
   "cell_type": "markdown",
   "metadata": {
    "colab_type": "text",
    "id": "Mjj18lwU7x4P"
   },
   "source": [
    "# Training\n",
    "\n",
    "In this assignment we will train a multilayer perceptron, e.g. a simple neural network with at least one hidden layer. Be creative; feel free to try various permutations of: \n",
    "\n",
    "* number(s) of hidden layer(s)\n",
    "* size of hidden layer(s)\n",
    "* learning rate\n",
    "* training iterations "
   ]
  },
  {
   "cell_type": "markdown",
   "metadata": {
    "colab_type": "text",
    "id": "1mpzzBDh7x4P"
   },
   "source": [
    "### Define the model"
   ]
  },
  {
   "cell_type": "code",
   "execution_count": 0,
   "metadata": {
    "colab": {},
    "colab_type": "code",
    "id": "wpzaj5LC7x4Q"
   },
   "outputs": [],
   "source": [
    "# --- Define model\n",
    "h1 = layers.Dense(60, \"relu\")(inputs['dat'])\n",
    "h2 = layers.Dense(50, \"relu\")(h1)\n",
    "h3 = layers.Dense(40, \"relu\")(h2)\n",
    "h4 = layers.Dense(30, \"relu\")(h3)\n",
    "h5 = layers.Dense(20, \"relu\")(h4)\n",
    "# 94%: 25,20,15\n",
    "logits = {}\n",
    "logits['digit'] = layers.Dense(10 , name='digit')(h5)\n",
    "model = Model(inputs=inputs, outputs=logits)\n",
    "\n",
    "\n"
   ]
  },
  {
   "cell_type": "markdown",
   "metadata": {
    "colab_type": "text",
    "id": "wn-OqxvI7x4S"
   },
   "source": [
    "### Compile the model"
   ]
  },
  {
   "cell_type": "code",
   "execution_count": 0,
   "metadata": {
    "colab": {},
    "colab_type": "code",
    "id": "fUf2VHEV7x4T"
   },
   "outputs": [],
   "source": [
    "# --- Define loss and optimizer\n",
    "loss = losses.SparseCategoricalCrossentropy(from_logits=True)\n",
    "optimizer = optimizers.Adam(learning_rate=2e-4)\n",
    "\n",
    "# --- Compile model\n",
    "model.compile(\n",
    "    optimizer=optimizer,\n",
    "    loss={'digit': loss},\n",
    "    metrics={'digit': 'sparse_categorical_accuracy'})"
   ]
  },
  {
   "cell_type": "markdown",
   "metadata": {
    "colab_type": "text",
    "id": "7loMblz97x4V"
   },
   "source": [
    "### Train the model"
   ]
  },
  {
   "cell_type": "code",
   "execution_count": 9,
   "metadata": {
    "colab": {
     "base_uri": "https://localhost:8080/",
     "height": 1000
    },
    "colab_type": "code",
    "executionInfo": {
     "elapsed": 138064,
     "status": "ok",
     "timestamp": 1586499815034,
     "user": {
      "displayName": "June Chen",
      "photoUrl": "",
      "userId": "14724189092965811373"
     },
     "user_tz": 420
    },
    "id": "Wt6gYad77x4W",
    "outputId": "c7708429-bce0-4050-8627-f80fd40f9464"
   },
   "outputs": [
    {
     "name": "stdout",
     "output_type": "stream",
     "text": [
      "WARNING:tensorflow:From <ipython-input-9-02a1d5fabc7a>:4: Model.fit_generator (from tensorflow.python.keras.engine.training) is deprecated and will be removed in a future version.\n",
      "Instructions for updating:\n",
      "Please use Model.fit, which supports generators.\n",
      "Epoch 1/50\n",
      "500/500 [==============================] - 38s 77ms/step - loss: 0.8950 - sparse_categorical_accuracy: 0.7160\n",
      "Epoch 2/50\n",
      "500/500 [==============================] - 39s 77ms/step - loss: 0.3413 - sparse_categorical_accuracy: 0.9024\n",
      "Epoch 3/50\n",
      "500/500 [==============================] - 39s 77ms/step - loss: 0.2598 - sparse_categorical_accuracy: 0.9247\n",
      "Epoch 4/50\n",
      "500/500 [==============================] - 39s 77ms/step - loss: 0.2156 - sparse_categorical_accuracy: 0.9377\n",
      "Epoch 5/50\n",
      "500/500 [==============================] - 39s 77ms/step - loss: 0.1882 - sparse_categorical_accuracy: 0.9450\n",
      "Epoch 6/50\n",
      "500/500 [==============================] - 39s 77ms/step - loss: 0.1676 - sparse_categorical_accuracy: 0.9511\n",
      "Epoch 7/50\n",
      "500/500 [==============================] - 39s 77ms/step - loss: 0.1559 - sparse_categorical_accuracy: 0.9549\n",
      "Epoch 8/50\n",
      "500/500 [==============================] - 39s 78ms/step - loss: 0.1404 - sparse_categorical_accuracy: 0.9592\n",
      "Epoch 9/50\n",
      "500/500 [==============================] - 39s 78ms/step - loss: 0.1328 - sparse_categorical_accuracy: 0.9614\n",
      "Epoch 10/50\n",
      "500/500 [==============================] - 39s 78ms/step - loss: 0.1241 - sparse_categorical_accuracy: 0.9632\n",
      "Epoch 11/50\n",
      "500/500 [==============================] - 39s 78ms/step - loss: 0.1134 - sparse_categorical_accuracy: 0.9664\n",
      "Epoch 12/50\n",
      "500/500 [==============================] - 39s 77ms/step - loss: 0.1109 - sparse_categorical_accuracy: 0.9671\n",
      "Epoch 13/50\n",
      "500/500 [==============================] - 39s 78ms/step - loss: 0.1031 - sparse_categorical_accuracy: 0.9698\n",
      "Epoch 14/50\n",
      "500/500 [==============================] - 39s 78ms/step - loss: 0.0972 - sparse_categorical_accuracy: 0.9713\n",
      "Epoch 15/50\n",
      "500/500 [==============================] - 39s 77ms/step - loss: 0.0907 - sparse_categorical_accuracy: 0.9730\n",
      "Epoch 16/50\n",
      "500/500 [==============================] - 39s 77ms/step - loss: 0.0858 - sparse_categorical_accuracy: 0.9742\n",
      "Epoch 17/50\n",
      "500/500 [==============================] - 39s 77ms/step - loss: 0.0849 - sparse_categorical_accuracy: 0.9748\n",
      "Epoch 18/50\n",
      "500/500 [==============================] - 39s 77ms/step - loss: 0.0780 - sparse_categorical_accuracy: 0.9762\n",
      "Epoch 19/50\n",
      "500/500 [==============================] - 39s 78ms/step - loss: 0.0768 - sparse_categorical_accuracy: 0.9773\n",
      "Epoch 20/50\n",
      "500/500 [==============================] - 39s 77ms/step - loss: 0.0724 - sparse_categorical_accuracy: 0.9783\n",
      "Epoch 21/50\n",
      "500/500 [==============================] - 38s 77ms/step - loss: 0.0678 - sparse_categorical_accuracy: 0.9799\n",
      "Epoch 22/50\n",
      "500/500 [==============================] - 39s 77ms/step - loss: 0.0662 - sparse_categorical_accuracy: 0.9797\n",
      "Epoch 23/50\n",
      "500/500 [==============================] - 39s 77ms/step - loss: 0.0636 - sparse_categorical_accuracy: 0.9816\n",
      "Epoch 24/50\n",
      "500/500 [==============================] - 39s 77ms/step - loss: 0.0578 - sparse_categorical_accuracy: 0.9830\n",
      "Epoch 25/50\n",
      "500/500 [==============================] - 38s 77ms/step - loss: 0.0592 - sparse_categorical_accuracy: 0.9819\n",
      "Epoch 26/50\n",
      "500/500 [==============================] - 39s 77ms/step - loss: 0.0556 - sparse_categorical_accuracy: 0.9834\n",
      "Epoch 27/50\n",
      "500/500 [==============================] - 39s 77ms/step - loss: 0.0531 - sparse_categorical_accuracy: 0.9842\n",
      "Epoch 28/50\n",
      "500/500 [==============================] - 39s 77ms/step - loss: 0.0505 - sparse_categorical_accuracy: 0.9848\n",
      "Epoch 29/50\n",
      "500/500 [==============================] - 39s 77ms/step - loss: 0.0488 - sparse_categorical_accuracy: 0.9855\n",
      "Epoch 30/50\n",
      "500/500 [==============================] - 39s 77ms/step - loss: 0.0472 - sparse_categorical_accuracy: 0.9855\n",
      "Epoch 31/50\n",
      "500/500 [==============================] - 38s 77ms/step - loss: 0.0457 - sparse_categorical_accuracy: 0.9863\n",
      "Epoch 32/50\n",
      "500/500 [==============================] - 39s 77ms/step - loss: 0.0437 - sparse_categorical_accuracy: 0.9868\n",
      "Epoch 33/50\n",
      "500/500 [==============================] - 39s 78ms/step - loss: 0.0396 - sparse_categorical_accuracy: 0.9881\n",
      "Epoch 34/50\n",
      "500/500 [==============================] - 39s 77ms/step - loss: 0.0391 - sparse_categorical_accuracy: 0.9880\n",
      "Epoch 35/50\n",
      "500/500 [==============================] - 39s 77ms/step - loss: 0.0386 - sparse_categorical_accuracy: 0.9880\n",
      "Epoch 36/50\n",
      "500/500 [==============================] - 39s 77ms/step - loss: 0.0368 - sparse_categorical_accuracy: 0.9887\n",
      "Epoch 37/50\n",
      "500/500 [==============================] - 39s 77ms/step - loss: 0.0347 - sparse_categorical_accuracy: 0.9897\n",
      "Epoch 38/50\n",
      "500/500 [==============================] - 39s 77ms/step - loss: 0.0329 - sparse_categorical_accuracy: 0.9899\n",
      "Epoch 39/50\n",
      "500/500 [==============================] - 39s 78ms/step - loss: 0.0343 - sparse_categorical_accuracy: 0.9895\n",
      "Epoch 40/50\n",
      "500/500 [==============================] - 39s 78ms/step - loss: 0.0328 - sparse_categorical_accuracy: 0.9896\n",
      "Epoch 41/50\n",
      "500/500 [==============================] - 39s 78ms/step - loss: 0.0278 - sparse_categorical_accuracy: 0.9914\n",
      "Epoch 42/50\n",
      "500/500 [==============================] - 39s 78ms/step - loss: 0.0319 - sparse_categorical_accuracy: 0.9905\n",
      "Epoch 43/50\n",
      "500/500 [==============================] - 39s 78ms/step - loss: 0.0260 - sparse_categorical_accuracy: 0.9919\n",
      "Epoch 44/50\n",
      "500/500 [==============================] - 39s 79ms/step - loss: 0.0286 - sparse_categorical_accuracy: 0.9913\n",
      "Epoch 45/50\n",
      "500/500 [==============================] - 39s 78ms/step - loss: 0.0260 - sparse_categorical_accuracy: 0.9922\n",
      "Epoch 46/50\n",
      "500/500 [==============================] - 39s 79ms/step - loss: 0.0232 - sparse_categorical_accuracy: 0.9931\n",
      "Epoch 47/50\n",
      "500/500 [==============================] - 42s 83ms/step - loss: 0.0247 - sparse_categorical_accuracy: 0.9927\n",
      "Epoch 48/50\n",
      "500/500 [==============================] - 40s 80ms/step - loss: 0.0226 - sparse_categorical_accuracy: 0.9930\n",
      "Epoch 49/50\n",
      "500/500 [==============================] - 40s 79ms/step - loss: 0.0219 - sparse_categorical_accuracy: 0.9933\n",
      "Epoch 50/50\n",
      "500/500 [==============================] - 41s 81ms/step - loss: 0.0239 - sparse_categorical_accuracy: 0.9922\n"
     ]
    },
    {
     "data": {
      "text/plain": [
       "<tensorflow.python.keras.callbacks.History at 0x7f19acc07da0>"
      ]
     },
     "execution_count": 9,
     "metadata": {
      "tags": []
     },
     "output_type": "execute_result"
    }
   ],
   "source": [
    "model.fit_generator(\n",
    "    generator=gen_train, \n",
    "    steps_per_epoch=500, \n",
    "    epochs = 50)"
   ]
  },
  {
   "cell_type": "markdown",
   "metadata": {
    "colab_type": "text",
    "id": "czIBNUGM7x4Y"
   },
   "source": [
    "# Evaluation\n",
    "\n",
    "Based on the tutorial discussion, use the following cells to check your algorithm performance. Consider loading a saved model and running prediction using `model.predict(...)` on the training data. "
   ]
  },
  {
   "cell_type": "code",
   "execution_count": 12,
   "metadata": {
    "colab": {
     "base_uri": "https://localhost:8080/",
     "height": 51
    },
    "colab_type": "code",
    "executionInfo": {
     "elapsed": 4168,
     "status": "ok",
     "timestamp": 1586499819188,
     "user": {
      "displayName": "June Chen",
      "photoUrl": "",
      "userId": "14724189092965811373"
     },
     "user_tz": 420
    },
    "id": "FWam9neA7x4Z",
    "outputId": "c7cbc098-2119-427f-b796-3047e243f4ba"
   },
   "outputs": [
    {
     "name": "stdout",
     "output_type": "stream",
     "text": [
      "0.9946166666666667\n",
      "0.9946166666666667\n"
     ]
    }
   ],
   "source": [
    "arrs = client.get(row=np.arange(60000))\n",
    "# --- Predict\n",
    "scores = model.predict(arrs['xs']['dat'])\n",
    "\n",
    "# --- Argmax\n",
    "pred = np.argmax(scores['digit'], axis=1)\n",
    "\n",
    "\n",
    "# --- Serialize as *.csv file\n",
    "df = pd.DataFrame(index=client.db.fnames.index)\n",
    "df['true'] =  arrs['ys']['digit'][:, 0]\n",
    "df['pred'] = pred\n",
    "df['corr'] = df['true'] == df['pred']\n",
    "\n",
    "weights = model.layers[4].get_weights()[0]\n",
    "\n",
    "# --- Print cumulative model perforance\n",
    "print(df['corr'].mean())\n"
   ]
  },
  {
   "cell_type": "markdown",
   "metadata": {
    "colab_type": "text",
    "id": "fmSG8COv7x4b"
   },
   "source": [
    "**Note**: this cell is used only to check for model performance. It will not be graded. Once you are satisfied with your model, proceed to submission of your assignment below."
   ]
  },
  {
   "cell_type": "code",
   "execution_count": 0,
   "metadata": {
    "colab": {},
    "colab_type": "code",
    "id": "x-H5FMsC7x4c"
   },
   "outputs": [],
   "source": [
    "# --- Serialize a model\n",
    "import os\n",
    "fname = '{}/models/linear/final2.hdf5'.format(MOUNT_ROOT)\n",
    "os.makedirs(os.path.dirname(fname), exist_ok=True)\n",
    "model.save(fname)"
   ]
  }
 ],
 "metadata": {
  "accelerator": "GPU",
  "colab": {
   "collapsed_sections": [],
   "name": "assignment2.ipynb",
   "provenance": [
    {
     "file_id": "https://github.com/peterchang77/dl_tutor/blob/master/cs190/notebooks/mlp/assignment.ipynb",
     "timestamp": 1586385347615
    }
   ],
   "toc_visible": true
  },
  "kernelspec": {
   "display_name": "Python 3 (ipykernel)",
   "language": "python",
   "name": "python3"
  },
  "language_info": {
   "codemirror_mode": {
    "name": "ipython",
    "version": 3
   },
   "file_extension": ".py",
   "mimetype": "text/x-python",
   "name": "python",
   "nbconvert_exporter": "python",
   "pygments_lexer": "ipython3",
   "version": "3.9.13"
  }
 },
 "nbformat": 4,
 "nbformat_minor": 1
}
