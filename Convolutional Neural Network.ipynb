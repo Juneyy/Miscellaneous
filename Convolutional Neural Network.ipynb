{
 "cells": [
  {
   "cell_type": "markdown",
   "metadata": {
    "colab_type": "text",
    "id": "56d3oMiMw8Wm"
   },
   "source": [
    "# Google Colab\n",
    "\n",
    "The following lines of code will configure your Google Colab environment for this assignment."
   ]
  },
  {
   "cell_type": "markdown",
   "metadata": {
    "colab_type": "text",
    "id": "HU1Q_2Pf10CD"
   },
   "source": [
    "### Enable GPU runtime\n",
    "\n",
    "Use the following instructions to switch the default Colab instance into a GPU-enabled runtime:\n",
    "\n",
    "```\n",
    "Runtime > Change runtime type > Hardware accelerator > GPU\n",
    "```"
   ]
  },
  {
   "cell_type": "markdown",
   "metadata": {
    "colab_type": "text",
    "id": "WWIR4qLp10CE"
   },
   "source": [
    "### Mount Google Drive\n",
    "\n",
    "The Google Colab environment is transient and will reset after any prolonged break in activity. To retain important and/or large files between sessions, use the following lines of code to mount your personal Google drive to this Colab instance:"
   ]
  },
  {
   "cell_type": "code",
   "execution_count": 45,
   "metadata": {
    "colab": {
     "base_uri": "https://localhost:8080/",
     "height": 35
    },
    "colab_type": "code",
    "executionInfo": {
     "elapsed": 1568,
     "status": "ok",
     "timestamp": 1587185969641,
     "user": {
      "displayName": "June Chen",
      "photoUrl": "",
      "userId": "14724189092965811373"
     },
     "user_tz": 420
    },
    "id": "hZNojPs910CF",
    "outputId": "e77285f2-e95e-4c64-a833-c5a48e4f8108"
   },
   "outputs": [
    {
     "name": "stdout",
     "output_type": "stream",
     "text": [
      "Drive already mounted at /content/drive; to attempt to forcibly remount, call drive.mount(\"/content/drive\", force_remount=True).\n"
     ]
    }
   ],
   "source": [
    "try:\n",
    "    #--- Mount gdrive to /content/drive/My Drive/\n",
    "    from google.colab import drive\n",
    "    drive.mount('/content/drive')\n",
    "    \n",
    "except: pass"
   ]
  },
  {
   "cell_type": "markdown",
   "metadata": {
    "colab_type": "text",
    "id": "T6FykcY610CJ"
   },
   "source": [
    "Throughout this assignment we will use the following global `MOUNT_ROOT` variable to reference a location to store long-term data. If you are using a local Jupyter server and/or wish to store your data elsewhere, please update this variable now."
   ]
  },
  {
   "cell_type": "code",
   "execution_count": 0,
   "metadata": {
    "colab": {},
    "colab_type": "code",
    "id": "bO_1dhiD10CK"
   },
   "outputs": [],
   "source": [
    "# --- Set data directory\n",
    "MOUNT_ROOT = '/content/drive/My Drive'"
   ]
  },
  {
   "cell_type": "markdown",
   "metadata": {
    "colab_type": "text",
    "id": "6-oBQG5w10CO"
   },
   "source": [
    "### Select Tensorflow library version\n",
    "\n",
    "This assignment will use the (new) Tensorflow 2.0 library. Use the following line of code to select this updated version:"
   ]
  },
  {
   "cell_type": "code",
   "execution_count": 0,
   "metadata": {
    "colab": {},
    "colab_type": "code",
    "id": "CPmwy9Zm10CP"
   },
   "outputs": [],
   "source": [
    "# --- Select Tensorflow 2.0 (only in Google Colab)\n",
    "% tensorflow_version 2.x"
   ]
  },
  {
   "cell_type": "markdown",
   "metadata": {
    "colab_type": "text",
    "id": "KegwbKh710CR"
   },
   "source": [
    "# Environment"
   ]
  },
  {
   "cell_type": "markdown",
   "metadata": {
    "colab_type": "text",
    "id": "KRvNtpux10CS"
   },
   "source": [
    "### Jarvis library\n",
    "\n",
    "In this notebook we will Jarvis, a custom Python package to facilitate data science and deep learning for healthcare. Among other things, this library will be used for low-level data management, stratification and visualization of high-dimensional medical data."
   ]
  },
  {
   "cell_type": "code",
   "execution_count": 48,
   "metadata": {
    "colab": {
     "base_uri": "https://localhost:8080/",
     "height": 348
    },
    "colab_type": "code",
    "executionInfo": {
     "elapsed": 6325,
     "status": "ok",
     "timestamp": 1587185974424,
     "user": {
      "displayName": "June Chen",
      "photoUrl": "",
      "userId": "14724189092965811373"
     },
     "user_tz": 420
    },
    "id": "m3EkVpmn10CS",
    "outputId": "7932f355-fbf5-4590-f147-c7c60b100f4b"
   },
   "outputs": [
    {
     "name": "stdout",
     "output_type": "stream",
     "text": [
      "Requirement already satisfied: jarvis-md in /usr/local/lib/python3.6/dist-packages (0.0.1a3)\n",
      "Requirement already satisfied: numpy in /usr/local/lib/python3.6/dist-packages (from jarvis-md) (1.18.2)\n",
      "Requirement already satisfied: pandas in /usr/local/lib/python3.6/dist-packages (from jarvis-md) (1.0.3)\n",
      "Requirement already satisfied: scipy in /usr/local/lib/python3.6/dist-packages (from jarvis-md) (1.4.1)\n",
      "Requirement already satisfied: pyyaml>=5.2 in /usr/local/lib/python3.6/dist-packages (from jarvis-md) (5.3.1)\n",
      "Requirement already satisfied: requests in /usr/local/lib/python3.6/dist-packages (from jarvis-md) (2.21.0)\n",
      "Requirement already satisfied: matplotlib in /usr/local/lib/python3.6/dist-packages (from jarvis-md) (3.2.1)\n",
      "Requirement already satisfied: h5py in /usr/local/lib/python3.6/dist-packages (from jarvis-md) (2.10.0)\n",
      "Requirement already satisfied: pytz>=2017.2 in /usr/local/lib/python3.6/dist-packages (from pandas->jarvis-md) (2018.9)\n",
      "Requirement already satisfied: python-dateutil>=2.6.1 in /usr/local/lib/python3.6/dist-packages (from pandas->jarvis-md) (2.8.1)\n",
      "Requirement already satisfied: urllib3<1.25,>=1.21.1 in /usr/local/lib/python3.6/dist-packages (from requests->jarvis-md) (1.24.3)\n",
      "Requirement already satisfied: certifi>=2017.4.17 in /usr/local/lib/python3.6/dist-packages (from requests->jarvis-md) (2020.4.5.1)\n",
      "Requirement already satisfied: chardet<3.1.0,>=3.0.2 in /usr/local/lib/python3.6/dist-packages (from requests->jarvis-md) (3.0.4)\n",
      "Requirement already satisfied: idna<2.9,>=2.5 in /usr/local/lib/python3.6/dist-packages (from requests->jarvis-md) (2.8)\n",
      "Requirement already satisfied: pyparsing!=2.0.4,!=2.1.2,!=2.1.6,>=2.0.1 in /usr/local/lib/python3.6/dist-packages (from matplotlib->jarvis-md) (2.4.7)\n",
      "Requirement already satisfied: kiwisolver>=1.0.1 in /usr/local/lib/python3.6/dist-packages (from matplotlib->jarvis-md) (1.2.0)\n",
      "Requirement already satisfied: cycler>=0.10 in /usr/local/lib/python3.6/dist-packages (from matplotlib->jarvis-md) (0.10.0)\n",
      "Requirement already satisfied: six in /usr/local/lib/python3.6/dist-packages (from h5py->jarvis-md) (1.12.0)\n"
     ]
    }
   ],
   "source": [
    "# --- Install jarvis (only in Google Colab or local runtime)\n",
    "% pip install jarvis-md"
   ]
  },
  {
   "cell_type": "markdown",
   "metadata": {
    "colab_type": "text",
    "id": "15dNiWu210CU"
   },
   "source": [
    "### Imports\n",
    "\n",
    "Use the following lines to import any additional needed libraries:"
   ]
  },
  {
   "cell_type": "code",
   "execution_count": 49,
   "metadata": {
    "colab": {
     "base_uri": "https://localhost:8080/",
     "height": 54
    },
    "colab_type": "code",
    "executionInfo": {
     "elapsed": 9247,
     "status": "ok",
     "timestamp": 1587185977354,
     "user": {
      "displayName": "June Chen",
      "photoUrl": "",
      "userId": "14724189092965811373"
     },
     "user_tz": 420
    },
    "id": "7jFYf0Ghm9Ga",
    "outputId": "6a9c4201-08b0-4bb5-a89a-a7820db6ca15"
   },
   "outputs": [
    {
     "name": "stdout",
     "output_type": "stream",
     "text": [
      "Requirement already satisfied: keract in /usr/local/lib/python3.6/dist-packages (3.1.0)\n",
      "Requirement already satisfied: numpy>=1.16.2 in /usr/local/lib/python3.6/dist-packages (from keract) (1.18.2)\n"
     ]
    }
   ],
   "source": [
    "pip install keract\n"
   ]
  },
  {
   "cell_type": "code",
   "execution_count": 0,
   "metadata": {
    "colab": {},
    "colab_type": "code",
    "id": "3t-D1HzJ10CV"
   },
   "outputs": [],
   "source": [
    "import os, numpy as np, pandas as pd\n",
    "from tensorflow import losses, optimizers\n",
    "from tensorflow.keras import Input, Model, models, layers\n",
    "from tensorflow.keras import backend as K\n",
    "from tensorflow.keras import activations\n",
    "from jarvis.train import datasets"
   ]
  },
  {
   "cell_type": "markdown",
   "metadata": {
    "colab_type": "text",
    "id": "zXa4fEqY10Ca"
   },
   "source": [
    "# Data\n",
    "\n",
    "As in the tutorial, data for this assignment will consist of the CIFAR-10 dataset comprising 10 different everyday objects (airplane, automobile, bird, cat, deer, dog, frog, horse, ship, truck). The following lines of code will:\n",
    "\n",
    "1. Download the dataset (if not already present) \n",
    "2. Prepare the necessary Python generators to iterate through dataset\n",
    "3. Prepare the corresponding Tensorflow Input(...) objects for model definition"
   ]
  },
  {
   "cell_type": "code",
   "execution_count": 51,
   "metadata": {
    "colab": {
     "base_uri": "https://localhost:8080/",
     "height": 35
    },
    "colab_type": "code",
    "executionInfo": {
     "elapsed": 11726,
     "status": "ok",
     "timestamp": 1587185979848,
     "user": {
      "displayName": "June Chen",
      "photoUrl": "",
      "userId": "14724189092965811373"
     },
     "user_tz": 420
    },
    "id": "PaWxYg7Y10Cc",
    "outputId": "8866b2d7-968c-4a37-fa6a-069ed09378be"
   },
   "outputs": [
    {
     "name": "stdout",
     "output_type": "stream",
     "text": [
      "\r",
      "[ 2020-04-18 04:59:37 ] [====================] 100.000% : Iterating | 000001    "
     ]
    }
   ],
   "source": [
    "# --- Download dataset\n",
    "datasets.download(name='cifar')\n",
    "\n",
    "# --- Prepare generators and model inputs\n",
    "configs = {'batch': {'size': 256}}\n",
    "gen_train, gen_valid, client = datasets.prepare(name='cifar', configs=configs)\n",
    "inputs = client.get_inputs(Input)"
   ]
  },
  {
   "cell_type": "markdown",
   "metadata": {
    "colab_type": "text",
    "id": "xR7xlUyM10Cg"
   },
   "source": [
    "# Training\n",
    "\n",
    "In this assignment we will train a basic convolutional neural network on the CIFAR-10 dataset. At minumum you must include the following baseline techniques covered in the tutorial:\n",
    "\n",
    "* convolutional operations\n",
    "* batch normalization\n",
    "* activation function\n",
    "* subsampling\n",
    "\n",
    "You are also **encouraged** to try different permuations and customizations to achieve optimal validation accuracy."
   ]
  },
  {
   "cell_type": "markdown",
   "metadata": {
    "colab_type": "text",
    "id": "ocFQBgWi10Cg"
   },
   "source": [
    "### Define the model"
   ]
  },
  {
   "cell_type": "code",
   "execution_count": 0,
   "metadata": {
    "colab": {},
    "colab_type": "code",
    "id": "CtiFQom0GtOa"
   },
   "outputs": [],
   "source": [
    "kwargs = {\n",
    "    'kernel_size': (3, 3)\n",
    "    }\n",
    "\n",
    "conv = lambda x, filters, padding, kernel_size, strides: layers.Conv2D(filters = filters, padding = padding, kernel_size = kernel_size, strides = strides)(x)\n",
    "norm = lambda x: layers.BatchNormalization()(x)\n",
    "relu = lambda x: layers.LeakyReLU()(x)\n",
    "maxpool = lambda x, pool_size : layers.MaxPooling2D(pool_size = pool_size, padding = 'same')(x)"
   ]
  },
  {
   "cell_type": "code",
   "execution_count": 0,
   "metadata": {
    "colab": {},
    "colab_type": "code",
    "id": "tWnab4k7HF4l"
   },
   "outputs": [],
   "source": [
    "conv1pool = lambda filters, x, padding, kernel_size : maxpool(relu(norm(conv(x,filters, padding, kernel_size,strides = 1))), pool_size = (2,2))\n",
    "conv2pool = lambda filters, x, padding, kernel_size : maxpool(relu(norm(conv(x,filters, padding, kernel_size, strides = (2,2)))), pool_size = (2,2))\n",
    "\n",
    "conv1 = lambda filters, x, padding, kernel_size : relu(norm(conv(x, filters, padding, kernel_size, strides=1)))\n",
    "conv2 = lambda filters, x, padding, kernel_size : relu(norm(conv(x, filters, padding, kernel_size, strides=(2, 2))))"
   ]
  },
  {
   "cell_type": "code",
   "execution_count": 54,
   "metadata": {
    "colab": {
     "base_uri": "https://localhost:8080/",
     "height": 1000
    },
    "colab_type": "code",
    "executionInfo": {
     "elapsed": 12617,
     "status": "ok",
     "timestamp": 1587185980753,
     "user": {
      "displayName": "June Chen",
      "photoUrl": "",
      "userId": "14724189092965811373"
     },
     "user_tz": 420
    },
    "id": "FPSIjhWP10Cg",
    "outputId": "873629f2-9bfb-47d9-db69-3f2a0504dd4c"
   },
   "outputs": [
    {
     "name": "stdout",
     "output_type": "stream",
     "text": [
      "Model: \"model_10\"\n",
      "_________________________________________________________________\n",
      "Layer (type)                 Output Shape              Param #   \n",
      "=================================================================\n",
      "dat (InputLayer)             [(None, 32, 32, 3)]       0         \n",
      "_________________________________________________________________\n",
      "conv2d_56 (Conv2D)           (None, 32, 32, 96)        7296      \n",
      "_________________________________________________________________\n",
      "batch_normalization_56 (Batc (None, 32, 32, 96)        384       \n",
      "_________________________________________________________________\n",
      "leaky_re_lu_56 (LeakyReLU)   (None, 32, 32, 96)        0         \n",
      "_________________________________________________________________\n",
      "conv2d_57 (Conv2D)           (None, 32, 32, 96)        230496    \n",
      "_________________________________________________________________\n",
      "batch_normalization_57 (Batc (None, 32, 32, 96)        384       \n",
      "_________________________________________________________________\n",
      "leaky_re_lu_57 (LeakyReLU)   (None, 32, 32, 96)        0         \n",
      "_________________________________________________________________\n",
      "max_pooling2d_26 (MaxPooling (None, 16, 16, 96)        0         \n",
      "_________________________________________________________________\n",
      "conv2d_58 (Conv2D)           (None, 16, 16, 72)        62280     \n",
      "_________________________________________________________________\n",
      "batch_normalization_58 (Batc (None, 16, 16, 72)        288       \n",
      "_________________________________________________________________\n",
      "leaky_re_lu_58 (LeakyReLU)   (None, 16, 16, 72)        0         \n",
      "_________________________________________________________________\n",
      "dropout_26 (Dropout)         (None, 16, 16, 72)        0         \n",
      "_________________________________________________________________\n",
      "conv2d_59 (Conv2D)           (None, 16, 16, 48)        31152     \n",
      "_________________________________________________________________\n",
      "batch_normalization_59 (Batc (None, 16, 16, 48)        192       \n",
      "_________________________________________________________________\n",
      "leaky_re_lu_59 (LeakyReLU)   (None, 16, 16, 48)        0         \n",
      "_________________________________________________________________\n",
      "max_pooling2d_27 (MaxPooling (None, 8, 8, 48)          0         \n",
      "_________________________________________________________________\n",
      "dropout_27 (Dropout)         (None, 8, 8, 48)          0         \n",
      "_________________________________________________________________\n",
      "conv2d_60 (Conv2D)           (None, 6, 6, 36)          15588     \n",
      "_________________________________________________________________\n",
      "batch_normalization_60 (Batc (None, 6, 6, 36)          144       \n",
      "_________________________________________________________________\n",
      "leaky_re_lu_60 (LeakyReLU)   (None, 6, 6, 36)          0         \n",
      "_________________________________________________________________\n",
      "dropout_28 (Dropout)         (None, 6, 6, 36)          0         \n",
      "_________________________________________________________________\n",
      "conv2d_61 (Conv2D)           (None, 4, 4, 36)          11700     \n",
      "_________________________________________________________________\n",
      "batch_normalization_61 (Batc (None, 4, 4, 36)          144       \n",
      "_________________________________________________________________\n",
      "leaky_re_lu_61 (LeakyReLU)   (None, 4, 4, 36)          0         \n",
      "_________________________________________________________________\n",
      "max_pooling2d_28 (MaxPooling (None, 2, 2, 36)          0         \n",
      "_________________________________________________________________\n",
      "global_max_pooling2d_9 (Glob (None, 36)                0         \n",
      "_________________________________________________________________\n",
      "class (Dense)                (None, 10)                370       \n",
      "=================================================================\n",
      "Total params: 360,418\n",
      "Trainable params: 359,650\n",
      "Non-trainable params: 768\n",
      "_________________________________________________________________\n"
     ]
    }
   ],
   "source": [
    "#--- Define model\n",
    "l1 = conv1(96,inputs['dat'], 'same', (5,5))\n",
    "l2 = conv1pool(96,l1, 'same', (5,5))\n",
    "l3 = conv1(72,l2, 'same', (3,3))\n",
    "l3_d3 = layers.Dropout(rate = 0.2)(l3)\n",
    "l4 = conv1pool(48,l3_d3, 'same', (3,3))\n",
    "l4_d4 = layers.Dropout(rate = 0.2)(l4)\n",
    "l5 = conv1(36,l4_d4, 'valid', (3,3))\n",
    "l5_d5 = layers.Dropout(rate = 0.2)(l5)\n",
    "l6 = conv1pool(36,l5_d5, 'valid', (3,3))\n",
    "f0 = layers.GlobalMaxPooling2D()(l6)\n",
    "\n",
    "\n",
    "logits = {}\n",
    "logits['class'] = layers.Dense(10, name='class')(f0)\n",
    "# --- Create model\n",
    "model = Model(inputs=inputs, outputs=logits)\n",
    "\n",
    "optimizers.Adadelta(learning_rate = 5e-1, rho=0.99)\n",
    "model.summary()"
   ]
  },
  {
   "cell_type": "markdown",
   "metadata": {
    "colab_type": "text",
    "id": "C5pe5akO10Cj"
   },
   "source": [
    "### Compile the model"
   ]
  },
  {
   "cell_type": "code",
   "execution_count": 0,
   "metadata": {
    "colab": {},
    "colab_type": "code",
    "id": "sX3jyX3WFnrc"
   },
   "outputs": [],
   "source": [
    "\n",
    "# # --- Define model\n",
    "# l1 = conv1pool(24,inputs['dat'])\n",
    "# l2 = conv1(36,l1)\n",
    "# l3 = conv1pool(48,l2)\n",
    "# l4 = conv1(24,l3)\n",
    "\n",
    "# f0 = layers.Flatten()(l4)\n",
    "\n",
    "# d1 = layers.Dense(256, activation = 'relu')(f0)\n",
    "# d1_0 = layers.Dropout(rate = 0.15)(d1)\n",
    "# d2 = layers.Dense(64, activation = 'relu')(d1_0)\n",
    "# d2_0 = layers.Dropout(rate = 0.15)(d2)\n",
    "\n",
    "# logits = {}\n",
    "# logits['class'] = layers.Dense(10, name='class')(d2_0)\n",
    "# # --- Create model\n",
    "# model = Model(inputs=inputs, outputs=logits)\n",
    "\n",
    "# adam optimizer\n",
    "# model.summary()\n",
    "\n",
    "# 75%\n",
    "\n",
    "#---------------------------------------------------------------------------\n",
    "\n",
    "# # --- Define model\n",
    "# l1 = conv1pool(32,inputs['dat'])\n",
    "# l2 = conv1(40,l1)\n",
    "# l3 = conv1pool(54,l2)\n",
    "# l3_d3 = layers.Dropout(rate = 0.15)(l3)\n",
    "# l4 = conv1pool(81,l3_d3)\n",
    "# l4_d4 = layers.Dropout(rate = 0.15)(l4)\n",
    "# l5 = conv1pool(122,l4_d4)\n",
    "# f0 = layers.Flatten()(l5)\n",
    "\n",
    "# d2 = layers.Dense(122)(f0)\n",
    "# d2_relu = layers.LeakyReLU()(d2)\n",
    "# d2_0 = layers.Dropout(rate = 0.15)(d2_relu)\n",
    "\n",
    "# logits = {}\n",
    "# logits['class'] = layers.Dense(10, name='class')(d2_0)\n",
    "# # --- Create model\n",
    "# model = Model(inputs=inputs, outputs=logits)\n",
    "\n",
    "# model.summary()\n",
    "\n",
    "# # --- Compile model\n",
    "# model.compile(\n",
    "#     optimizer=optimizers.Adadelta(learning_rate = 2e-1, rho=0.99),\n",
    "#     loss={'class': losses.SparseCategoricalCrossentropy(from_logits=True)}, \n",
    "#     metrics={'class': 'sparse_categorical_accuracy'})\n",
    "\n",
    "# 79% test accuracy, 90% training accuracy. Overfit\n",
    "\n",
    "#---------------------------------------------------------------------------\n",
    "\n",
    "# --- Define model\n",
    "# l1 = conv1pool(32,inputs['dat'])\n",
    "# l2 = conv1(42,l1)\n",
    "# l3 = conv1pool(60,l2)\n",
    "# l3_d3 = layers.Dropout(rate = 0.2)(l3)\n",
    "# l4 = conv1pool(85,l3_d3)\n",
    "# l4_d4 = layers.Dropout(rate = 0.2)(l4)\n",
    "# l5 = conv1pool(110,l4_d4)\n",
    "# f0 = layers.Flatten()(l5)\n",
    "\n",
    "# d2 = layers.Dense(72, activation = 'relu')(f0)\n",
    "# d2_0 = layers.Dropout(rate = 0.2)(d2)\n",
    "\n",
    "# logits = {}\n",
    "# logits['class'] = layers.Dense(10, name='class')(d2_0)\n",
    "# # --- Create model\n",
    "# model = Model(inputs=inputs, outputs=logits)\n",
    "\n",
    "#optimizers.Adadelta(learning_rate = 5e-1, rho=0.99)\n",
    "# model.summary()\n",
    "\n",
    "# 80% test accuracy, 90% training accuracy. Overfit\n",
    "\n",
    "#--------------------------------------------------\n",
    "\n",
    "# # --- Define model\n",
    "\n",
    "# #All Convolutional Net with dropout”\n",
    "# l0 = layers.Dropout(rate = 0.2)(inputs['dat'])\n",
    "# l1 = conv1(96,l0, 'same')\n",
    "# l2 = conv1(96,l1, 'same')\n",
    "# l3 = conv2(96,l2, 'same')\n",
    "# l4 = conv1(192,l3, 'same')\n",
    "# l4_d = layers.Dropout(rate = 0.15)(l4)\n",
    "# l5 = conv1(192,l4_d, 'same')\n",
    "# l5_d = layers.Dropout(rate = 0.15)(l5)\n",
    "# l6 = conv2(192,l5_d, 'same')\n",
    "# l6_d = layers.Dropout(rate = 0.15)(l6)\n",
    "# l7 = conv1(192,l6_d, 'valid')\n",
    "# l7_d = layers.Dropout(rate = 0.15)(l7)\n",
    "# l8 = conv1(192,l7_d, 'valid')\n",
    "# #l8_d = layers.Dropout(rate = 0.15)(l8)\n",
    "# l9 = conv1pool(192,l8, 'valid')\n",
    "\n",
    "\n",
    "\n",
    "# f0 = layers.Flatten()(l9)\n",
    "\n",
    "\n",
    "# logits = {}\n",
    "# logits['class'] = layers.Dense(10, name='class')(f0)\n",
    "# # --- Create model\n",
    "# model = Model(inputs=inputs, outputs=logits)\n",
    "\n",
    "#optimizers.Adadelta(learning_rate = 5e-1, rho=0.99)\n",
    "#model.summary()\n",
    "\n",
    "# 80% test accuracy, 95% training accuracy. Overfit"
   ]
  },
  {
   "cell_type": "code",
   "execution_count": 0,
   "metadata": {
    "colab": {},
    "colab_type": "code",
    "id": "1vtZlHup10Ck"
   },
   "outputs": [],
   "source": [
    "# --- Compile model\n",
    "model.compile(\n",
    "    optimizer=optimizers.Adadelta(learning_rate = 1, rho=0.9999),\n",
    "    loss={'class': losses.SparseCategoricalCrossentropy(from_logits=True)}, \n",
    "    metrics={'class': 'sparse_categorical_accuracy'})"
   ]
  },
  {
   "cell_type": "markdown",
   "metadata": {
    "colab_type": "text",
    "id": "dQxMC5Fn10Co"
   },
   "source": [
    "### Train the model"
   ]
  },
  {
   "cell_type": "code",
   "execution_count": 57,
   "metadata": {
    "colab": {
     "base_uri": "https://localhost:8080/",
     "height": 1000
    },
    "colab_type": "code",
    "executionInfo": {
     "elapsed": 4127243,
     "status": "ok",
     "timestamp": 1587192187401,
     "user": {
      "displayName": "June Chen",
      "photoUrl": "",
      "userId": "14724189092965811373"
     },
     "user_tz": 420
    },
    "id": "X7ES3JW410Cq",
    "outputId": "adaa6162-2fe3-425e-a621-d3b892f1e2a9"
   },
   "outputs": [
    {
     "name": "stdout",
     "output_type": "stream",
     "text": [
      "Epoch 1/100\n",
      "250/250 [==============================] - 52s 209ms/step - loss: 1.5950 - sparse_categorical_accuracy: 0.4206\n",
      "Epoch 2/100\n",
      "250/250 [==============================] - 52s 206ms/step - loss: 1.1720 - sparse_categorical_accuracy: 0.5803\n",
      "Epoch 3/100\n",
      "250/250 [==============================] - 51s 202ms/step - loss: 0.9819 - sparse_categorical_accuracy: 0.6534\n",
      "Epoch 4/100\n",
      "250/250 [==============================] - 96s 385ms/step - loss: 0.8747 - sparse_categorical_accuracy: 0.6941 - val_loss: 1.0479 - val_sparse_categorical_accuracy: 0.6431\n",
      "Epoch 5/100\n",
      "250/250 [==============================] - 50s 202ms/step - loss: 0.8123 - sparse_categorical_accuracy: 0.7167\n",
      "Epoch 6/100\n",
      "250/250 [==============================] - 50s 200ms/step - loss: 0.7630 - sparse_categorical_accuracy: 0.7334\n",
      "Epoch 7/100\n",
      "250/250 [==============================] - 52s 207ms/step - loss: 0.7322 - sparse_categorical_accuracy: 0.7426\n",
      "Epoch 8/100\n",
      "250/250 [==============================] - 99s 394ms/step - loss: 0.6982 - sparse_categorical_accuracy: 0.7555 - val_loss: 0.8039 - val_sparse_categorical_accuracy: 0.7256\n",
      "Epoch 9/100\n",
      "250/250 [==============================] - 51s 206ms/step - loss: 0.6805 - sparse_categorical_accuracy: 0.7638\n",
      "Epoch 10/100\n",
      "250/250 [==============================] - 51s 204ms/step - loss: 0.6500 - sparse_categorical_accuracy: 0.7726\n",
      "Epoch 11/100\n",
      "250/250 [==============================] - 51s 202ms/step - loss: 0.6421 - sparse_categorical_accuracy: 0.7749\n",
      "Epoch 12/100\n",
      "250/250 [==============================] - 97s 388ms/step - loss: 0.6219 - sparse_categorical_accuracy: 0.7825 - val_loss: 0.7597 - val_sparse_categorical_accuracy: 0.7363\n",
      "Epoch 13/100\n",
      "250/250 [==============================] - 53s 210ms/step - loss: 0.6075 - sparse_categorical_accuracy: 0.7862\n",
      "Epoch 14/100\n",
      "250/250 [==============================] - 51s 205ms/step - loss: 0.5924 - sparse_categorical_accuracy: 0.7930\n",
      "Epoch 15/100\n",
      "250/250 [==============================] - 51s 205ms/step - loss: 0.5813 - sparse_categorical_accuracy: 0.7979\n",
      "Epoch 16/100\n",
      "250/250 [==============================] - 100s 399ms/step - loss: 0.5620 - sparse_categorical_accuracy: 0.8046 - val_loss: 0.7670 - val_sparse_categorical_accuracy: 0.7408\n",
      "Epoch 17/100\n",
      "250/250 [==============================] - 52s 207ms/step - loss: 0.5578 - sparse_categorical_accuracy: 0.8055\n",
      "Epoch 18/100\n",
      "250/250 [==============================] - 52s 207ms/step - loss: 0.5455 - sparse_categorical_accuracy: 0.8095\n",
      "Epoch 19/100\n",
      "250/250 [==============================] - 52s 209ms/step - loss: 0.5364 - sparse_categorical_accuracy: 0.8122\n",
      "Epoch 20/100\n",
      "250/250 [==============================] - 98s 393ms/step - loss: 0.5287 - sparse_categorical_accuracy: 0.8142 - val_loss: 0.7471 - val_sparse_categorical_accuracy: 0.7570\n",
      "Epoch 21/100\n",
      "250/250 [==============================] - 52s 207ms/step - loss: 0.5203 - sparse_categorical_accuracy: 0.8182\n",
      "Epoch 22/100\n",
      "250/250 [==============================] - 51s 205ms/step - loss: 0.5106 - sparse_categorical_accuracy: 0.8213\n",
      "Epoch 23/100\n",
      "250/250 [==============================] - 51s 204ms/step - loss: 0.5033 - sparse_categorical_accuracy: 0.8230\n",
      "Epoch 24/100\n",
      "250/250 [==============================] - 97s 390ms/step - loss: 0.4968 - sparse_categorical_accuracy: 0.8256 - val_loss: 0.7060 - val_sparse_categorical_accuracy: 0.7624\n",
      "Epoch 25/100\n",
      "250/250 [==============================] - 51s 204ms/step - loss: 0.4813 - sparse_categorical_accuracy: 0.8322\n",
      "Epoch 26/100\n",
      "250/250 [==============================] - 51s 204ms/step - loss: 0.4854 - sparse_categorical_accuracy: 0.8295\n",
      "Epoch 27/100\n",
      "250/250 [==============================] - 51s 205ms/step - loss: 0.4758 - sparse_categorical_accuracy: 0.8334\n",
      "Epoch 28/100\n",
      "250/250 [==============================] - 98s 390ms/step - loss: 0.4668 - sparse_categorical_accuracy: 0.8359 - val_loss: 0.6354 - val_sparse_categorical_accuracy: 0.7824\n",
      "Epoch 29/100\n",
      "250/250 [==============================] - 51s 205ms/step - loss: 0.4633 - sparse_categorical_accuracy: 0.8364\n",
      "Epoch 30/100\n",
      "250/250 [==============================] - 51s 204ms/step - loss: 0.4592 - sparse_categorical_accuracy: 0.8375\n",
      "Epoch 31/100\n",
      "250/250 [==============================] - 51s 204ms/step - loss: 0.4445 - sparse_categorical_accuracy: 0.8440\n",
      "Epoch 32/100\n",
      "250/250 [==============================] - 96s 382ms/step - loss: 0.4476 - sparse_categorical_accuracy: 0.8420 - val_loss: 0.7788 - val_sparse_categorical_accuracy: 0.7437\n",
      "Epoch 33/100\n",
      "250/250 [==============================] - 50s 202ms/step - loss: 0.4442 - sparse_categorical_accuracy: 0.8429\n",
      "Epoch 34/100\n",
      "250/250 [==============================] - 52s 207ms/step - loss: 0.4340 - sparse_categorical_accuracy: 0.8467\n",
      "Epoch 35/100\n",
      "250/250 [==============================] - 50s 200ms/step - loss: 0.4319 - sparse_categorical_accuracy: 0.8476\n",
      "Epoch 36/100\n",
      "250/250 [==============================] - 94s 377ms/step - loss: 0.4253 - sparse_categorical_accuracy: 0.8493 - val_loss: 0.6708 - val_sparse_categorical_accuracy: 0.7812\n",
      "Epoch 37/100\n",
      "250/250 [==============================] - 50s 200ms/step - loss: 0.4158 - sparse_categorical_accuracy: 0.8538\n",
      "Epoch 38/100\n",
      "250/250 [==============================] - 50s 200ms/step - loss: 0.4167 - sparse_categorical_accuracy: 0.8537\n",
      "Epoch 39/100\n",
      "250/250 [==============================] - 49s 198ms/step - loss: 0.4138 - sparse_categorical_accuracy: 0.8533\n",
      "Epoch 40/100\n",
      "250/250 [==============================] - 94s 376ms/step - loss: 0.4050 - sparse_categorical_accuracy: 0.8570 - val_loss: 0.6799 - val_sparse_categorical_accuracy: 0.7833\n",
      "Epoch 41/100\n",
      "250/250 [==============================] - 50s 200ms/step - loss: 0.4050 - sparse_categorical_accuracy: 0.8570\n",
      "Epoch 42/100\n",
      "250/250 [==============================] - 50s 200ms/step - loss: 0.4036 - sparse_categorical_accuracy: 0.8566\n",
      "Epoch 43/100\n",
      "250/250 [==============================] - 50s 199ms/step - loss: 0.3934 - sparse_categorical_accuracy: 0.8604\n",
      "Epoch 44/100\n",
      "250/250 [==============================] - 94s 377ms/step - loss: 0.3911 - sparse_categorical_accuracy: 0.8609 - val_loss: 0.7775 - val_sparse_categorical_accuracy: 0.7559\n",
      "Epoch 45/100\n",
      "250/250 [==============================] - 50s 199ms/step - loss: 0.3879 - sparse_categorical_accuracy: 0.8624\n",
      "Epoch 46/100\n",
      "250/250 [==============================] - 50s 201ms/step - loss: 0.3855 - sparse_categorical_accuracy: 0.8634\n",
      "Epoch 47/100\n",
      "250/250 [==============================] - 50s 201ms/step - loss: 0.3798 - sparse_categorical_accuracy: 0.8648\n",
      "Epoch 48/100\n",
      "250/250 [==============================] - 96s 383ms/step - loss: 0.3757 - sparse_categorical_accuracy: 0.8676 - val_loss: 0.8105 - val_sparse_categorical_accuracy: 0.7507\n",
      "Epoch 49/100\n",
      "250/250 [==============================] - 50s 201ms/step - loss: 0.3656 - sparse_categorical_accuracy: 0.8704\n",
      "Epoch 50/100\n",
      "250/250 [==============================] - 50s 201ms/step - loss: 0.3668 - sparse_categorical_accuracy: 0.8691\n",
      "Epoch 51/100\n",
      "250/250 [==============================] - 50s 201ms/step - loss: 0.3698 - sparse_categorical_accuracy: 0.8687\n",
      "Epoch 52/100\n",
      "250/250 [==============================] - 95s 381ms/step - loss: 0.3594 - sparse_categorical_accuracy: 0.8714 - val_loss: 0.6493 - val_sparse_categorical_accuracy: 0.7958\n",
      "Epoch 53/100\n",
      "250/250 [==============================] - 49s 198ms/step - loss: 0.3598 - sparse_categorical_accuracy: 0.8705\n",
      "Epoch 54/100\n",
      "250/250 [==============================] - 50s 199ms/step - loss: 0.3582 - sparse_categorical_accuracy: 0.8730\n",
      "Epoch 55/100\n",
      "250/250 [==============================] - 49s 198ms/step - loss: 0.3488 - sparse_categorical_accuracy: 0.8756\n",
      "Epoch 56/100\n",
      "250/250 [==============================] - 95s 379ms/step - loss: 0.3453 - sparse_categorical_accuracy: 0.8775 - val_loss: 0.7416 - val_sparse_categorical_accuracy: 0.7724\n",
      "Epoch 57/100\n",
      "250/250 [==============================] - 50s 201ms/step - loss: 0.3512 - sparse_categorical_accuracy: 0.8747\n",
      "Epoch 58/100\n",
      "250/250 [==============================] - 50s 200ms/step - loss: 0.3418 - sparse_categorical_accuracy: 0.8779\n",
      "Epoch 59/100\n",
      "250/250 [==============================] - 49s 198ms/step - loss: 0.3434 - sparse_categorical_accuracy: 0.8771\n",
      "Epoch 60/100\n",
      "250/250 [==============================] - 95s 379ms/step - loss: 0.3397 - sparse_categorical_accuracy: 0.8788 - val_loss: 0.7330 - val_sparse_categorical_accuracy: 0.7774\n",
      "Epoch 61/100\n",
      "250/250 [==============================] - 51s 203ms/step - loss: 0.3310 - sparse_categorical_accuracy: 0.8832\n",
      "Epoch 62/100\n",
      "250/250 [==============================] - 52s 207ms/step - loss: 0.3317 - sparse_categorical_accuracy: 0.8813\n",
      "Epoch 63/100\n",
      "250/250 [==============================] - 50s 200ms/step - loss: 0.3309 - sparse_categorical_accuracy: 0.8825\n",
      "Epoch 64/100\n",
      "250/250 [==============================] - 94s 378ms/step - loss: 0.3276 - sparse_categorical_accuracy: 0.8829 - val_loss: 0.6958 - val_sparse_categorical_accuracy: 0.7868\n",
      "Epoch 65/100\n",
      "250/250 [==============================] - 50s 199ms/step - loss: 0.3236 - sparse_categorical_accuracy: 0.8862\n",
      "Epoch 66/100\n",
      "250/250 [==============================] - 50s 200ms/step - loss: 0.3174 - sparse_categorical_accuracy: 0.8850\n",
      "Epoch 67/100\n",
      "250/250 [==============================] - 49s 197ms/step - loss: 0.3186 - sparse_categorical_accuracy: 0.8857\n",
      "Epoch 68/100\n",
      "250/250 [==============================] - 94s 374ms/step - loss: 0.3176 - sparse_categorical_accuracy: 0.8874 - val_loss: 0.6853 - val_sparse_categorical_accuracy: 0.7909\n",
      "Epoch 69/100\n",
      "250/250 [==============================] - 49s 196ms/step - loss: 0.3119 - sparse_categorical_accuracy: 0.8894\n",
      "Epoch 70/100\n",
      "250/250 [==============================] - 49s 197ms/step - loss: 0.3054 - sparse_categorical_accuracy: 0.8900\n",
      "Epoch 71/100\n",
      "250/250 [==============================] - 49s 196ms/step - loss: 0.3095 - sparse_categorical_accuracy: 0.8885\n",
      "Epoch 72/100\n",
      "250/250 [==============================] - 93s 370ms/step - loss: 0.3083 - sparse_categorical_accuracy: 0.8900 - val_loss: 0.6790 - val_sparse_categorical_accuracy: 0.7970\n",
      "Epoch 73/100\n",
      "250/250 [==============================] - 49s 196ms/step - loss: 0.2970 - sparse_categorical_accuracy: 0.8931\n",
      "Epoch 74/100\n",
      "250/250 [==============================] - 49s 198ms/step - loss: 0.3059 - sparse_categorical_accuracy: 0.8903\n",
      "Epoch 75/100\n",
      "250/250 [==============================] - 49s 197ms/step - loss: 0.3002 - sparse_categorical_accuracy: 0.8926\n",
      "Epoch 76/100\n",
      "250/250 [==============================] - 96s 383ms/step - loss: 0.2957 - sparse_categorical_accuracy: 0.8943 - val_loss: 0.7335 - val_sparse_categorical_accuracy: 0.7836\n",
      "Epoch 77/100\n",
      "250/250 [==============================] - 52s 209ms/step - loss: 0.2918 - sparse_categorical_accuracy: 0.8953\n",
      "Epoch 78/100\n",
      "250/250 [==============================] - 52s 210ms/step - loss: 0.2926 - sparse_categorical_accuracy: 0.8948\n",
      "Epoch 79/100\n",
      "250/250 [==============================] - 52s 208ms/step - loss: 0.2862 - sparse_categorical_accuracy: 0.8982\n",
      "Epoch 80/100\n",
      "250/250 [==============================] - 96s 385ms/step - loss: 0.2910 - sparse_categorical_accuracy: 0.8950 - val_loss: 0.7637 - val_sparse_categorical_accuracy: 0.7823\n",
      "Epoch 81/100\n",
      "250/250 [==============================] - 51s 203ms/step - loss: 0.2890 - sparse_categorical_accuracy: 0.8966\n",
      "Epoch 82/100\n",
      "250/250 [==============================] - 53s 210ms/step - loss: 0.2808 - sparse_categorical_accuracy: 0.8987\n",
      "Epoch 83/100\n",
      "250/250 [==============================] - 51s 204ms/step - loss: 0.2852 - sparse_categorical_accuracy: 0.8979\n",
      "Epoch 84/100\n",
      "250/250 [==============================] - 96s 383ms/step - loss: 0.2808 - sparse_categorical_accuracy: 0.8999 - val_loss: 0.7427 - val_sparse_categorical_accuracy: 0.7863\n",
      "Epoch 85/100\n",
      "250/250 [==============================] - 51s 202ms/step - loss: 0.2782 - sparse_categorical_accuracy: 0.8989\n",
      "Epoch 86/100\n",
      "250/250 [==============================] - 50s 202ms/step - loss: 0.2740 - sparse_categorical_accuracy: 0.9015\n",
      "Epoch 87/100\n",
      "250/250 [==============================] - 51s 204ms/step - loss: 0.2752 - sparse_categorical_accuracy: 0.9012\n",
      "Epoch 88/100\n",
      "250/250 [==============================] - 96s 384ms/step - loss: 0.2714 - sparse_categorical_accuracy: 0.9021 - val_loss: 0.8580 - val_sparse_categorical_accuracy: 0.7721\n",
      "Epoch 89/100\n",
      "250/250 [==============================] - 50s 202ms/step - loss: 0.2674 - sparse_categorical_accuracy: 0.9037\n",
      "Epoch 90/100\n",
      "250/250 [==============================] - 50s 201ms/step - loss: 0.2712 - sparse_categorical_accuracy: 0.9025\n",
      "Epoch 91/100\n",
      "250/250 [==============================] - 50s 201ms/step - loss: 0.2694 - sparse_categorical_accuracy: 0.9029\n",
      "Epoch 92/100\n",
      "250/250 [==============================] - 96s 385ms/step - loss: 0.2635 - sparse_categorical_accuracy: 0.9052 - val_loss: 0.7157 - val_sparse_categorical_accuracy: 0.7967\n",
      "Epoch 93/100\n",
      "250/250 [==============================] - 51s 202ms/step - loss: 0.2629 - sparse_categorical_accuracy: 0.9050\n",
      "Epoch 94/100\n",
      "250/250 [==============================] - 51s 202ms/step - loss: 0.2634 - sparse_categorical_accuracy: 0.9061\n",
      "Epoch 95/100\n",
      "250/250 [==============================] - 51s 203ms/step - loss: 0.2627 - sparse_categorical_accuracy: 0.9056\n",
      "Epoch 96/100\n",
      "250/250 [==============================] - 96s 384ms/step - loss: 0.2559 - sparse_categorical_accuracy: 0.9083 - val_loss: 0.7943 - val_sparse_categorical_accuracy: 0.7749\n",
      "Epoch 97/100\n",
      "250/250 [==============================] - 51s 204ms/step - loss: 0.2536 - sparse_categorical_accuracy: 0.9096\n",
      "Epoch 98/100\n",
      "250/250 [==============================] - 50s 201ms/step - loss: 0.2572 - sparse_categorical_accuracy: 0.9076\n",
      "Epoch 99/100\n",
      "250/250 [==============================] - 49s 198ms/step - loss: 0.2500 - sparse_categorical_accuracy: 0.9097\n",
      "Epoch 100/100\n",
      "250/250 [==============================] - 93s 373ms/step - loss: 0.2486 - sparse_categorical_accuracy: 0.9107 - val_loss: 0.6852 - val_sparse_categorical_accuracy: 0.7990\n"
     ]
    },
    {
     "data": {
      "text/plain": [
       "<tensorflow.python.keras.callbacks.History at 0x7fc16e11c2e8>"
      ]
     },
     "execution_count": 57,
     "metadata": {
      "tags": []
     },
     "output_type": "execute_result"
    }
   ],
   "source": [
    "model.fit(x = gen_train,\n",
    "          steps_per_epoch = 250,\n",
    "          epochs = 100,\n",
    "          validation_data = gen_valid,\n",
    "          validation_steps = 250,\n",
    "          validation_freq = 4)"
   ]
  },
  {
   "cell_type": "code",
   "execution_count": 62,
   "metadata": {
    "colab": {
     "base_uri": "https://localhost:8080/",
     "height": 35
    },
    "colab_type": "code",
    "executionInfo": {
     "elapsed": 14988,
     "status": "ok",
     "timestamp": 1587193670244,
     "user": {
      "displayName": "June Chen",
      "photoUrl": "",
      "userId": "14724189092965811373"
     },
     "user_tz": 420
    },
    "id": "dSVlAoM2TMHC",
    "outputId": "5569a588-2359-404b-850e-5509de615f81"
   },
   "outputs": [
    {
     "name": "stdout",
     "output_type": "stream",
     "text": [
      "[ 2020-04-18 07:07:49 ] [====================] 100.000% : Iterating | 012000    "
     ]
    }
   ],
   "source": [
    " test_train, test_valid = client.create_generators(test=True)\n",
    "# --- Aggregate all example\n",
    "xs = []\n",
    "ys = []\n",
    "\n",
    "\n",
    "for x,y in test_valid:\n",
    "    xs.append(x['dat'])\n",
    "    ys.append(y['class'])\n",
    "    \n",
    "xs = np.concatenate(xs)\n",
    "ys = np.concatenate(ys)"
   ]
  },
  {
   "cell_type": "code",
   "execution_count": 63,
   "metadata": {
    "colab": {
     "base_uri": "https://localhost:8080/",
     "height": 35
    },
    "colab_type": "code",
    "executionInfo": {
     "elapsed": 2993,
     "status": "ok",
     "timestamp": 1587193675509,
     "user": {
      "displayName": "June Chen",
      "photoUrl": "",
      "userId": "14724189092965811373"
     },
     "user_tz": 420
    },
    "id": "y1_vtxN010Cv",
    "outputId": "275e96f4-1349-4a78-9d7f-dc542a3576bf"
   },
   "outputs": [
    {
     "name": "stdout",
     "output_type": "stream",
     "text": [
      "0.7989166666666667\n"
     ]
    }
   ],
   "source": [
    "# --- Predict\n",
    "logits = model.predict(xs)\n",
    "if type(logits) is dict:\n",
    "    logits = logits['class'] # take out class\n",
    "pred = np.argmax(logits, axis = 1)\n",
    "\n",
    "df = pd.DataFrame(index=np.arange(pred.size))\n",
    "\n",
    "# --- Define columns\n",
    "df['true'] = ys[:, 0]\n",
    "df['pred'] = pred\n",
    "df['corr'] = df['true'] == df['pred']\n",
    "\n",
    "# --- Print accuracy\n",
    "print(df['corr'].mean())\n",
    "\n",
    "\n",
    "# --- Argmax"
   ]
  },
  {
   "cell_type": "markdown",
   "metadata": {
    "colab_type": "text",
    "id": "W9kkW2yIEQMn"
   },
   "source": [
    "# --- Predict\n",
    "logits = model.predict(xs)\n",
    "if type(logits) is dict:\n",
    "    logits = logits['class'] # take out class\n",
    "pred = np.argmax(logits, axis = 1)\n",
    "\n",
    "df = pd.DataFrame(index=np.arange(pred.size))\n",
    "\n",
    "# --- Define columns\n",
    "df['true'] = ys[:, 0]\n",
    "df['pred'] = pred\n",
    "df['corr'] = df['true'] == df['pred']\n",
    "\n",
    "# --- Print accuracy\n",
    "print(df['corr'].mean())\n",
    "\n",
    "75%\n",
    "\n",
    "# --- Argmax"
   ]
  },
  {
   "cell_type": "markdown",
   "metadata": {
    "colab_type": "text",
    "id": "pRKx7rXM10Cz"
   },
   "source": [
    "**Note**: this cell is used only to check for model performance. It will not be graded. Once you are satisfied with your model, proceed to submission of your assignment below."
   ]
  },
  {
   "cell_type": "markdown",
   "metadata": {
    "colab_type": "text",
    "id": "GUW7ZtMo10Cz"
   },
   "source": [
    "### Results\n",
    "\n",
    "When ready, create a `*.csv` file with your compiled **validation** cohort statistics. There is no need to submit training performance accuracy. As in the tutorial, ensure that there are at least three columns in the `*.csv` file:\n",
    "\n",
    "* true (ground-truth)\n",
    "* pred (prediction)\n",
    "* corr (correction prediction, True or False)"
   ]
  },
  {
   "cell_type": "code",
   "execution_count": 0,
   "metadata": {
    "colab": {},
    "colab_type": "code",
    "id": "bdLsgz_710C0"
   },
   "outputs": [],
   "source": [
    "# --- Create *.csv\n",
    "\n",
    "\n",
    "                              \n",
    "# --- Serialize *.csv\n",
    "fname = '{}/models/cnn/results.csv'.format(MOUNT_ROOT)\n",
    "os.makedirs(os.path.dirname(fname), exist_ok=True)\n",
    "df.to_csv('resultsAssignment3.csv')"
   ]
  }
 ],
 "metadata": {
  "accelerator": "GPU",
  "colab": {
   "collapsed_sections": [],
   "name": "assignment3.ipynb",
   "provenance": [
    {
     "file_id": "https://github.com/peterchang77/dl_tutor/blob/master/cs190/notebooks/cnn/assignment.ipynb",
     "timestamp": 1586987763166
    }
   ],
   "toc_visible": true
  },
  "kernelspec": {
   "display_name": "Python 3 (ipykernel)",
   "language": "python",
   "name": "python3"
  },
  "language_info": {
   "codemirror_mode": {
    "name": "ipython",
    "version": 3
   },
   "file_extension": ".py",
   "mimetype": "text/x-python",
   "name": "python",
   "nbconvert_exporter": "python",
   "pygments_lexer": "ipython3",
   "version": "3.9.13"
  }
 },
 "nbformat": 4,
 "nbformat_minor": 1
}
