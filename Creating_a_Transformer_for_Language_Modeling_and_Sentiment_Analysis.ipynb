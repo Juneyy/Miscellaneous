{
  "cells": [
    {
      "cell_type": "markdown",
      "metadata": {
        "id": "view-in-github",
        "colab_type": "text"
      },
      "source": [
        "<a href=\"https://colab.research.google.com/github/Juneyy/Miscellaneous/blob/main/Creating_a_Transformer_for_Language_Modeling_and_Sentiment_Analysis.ipynb\" target=\"_parent\"><img src=\"https://colab.research.google.com/assets/colab-badge.svg\" alt=\"Open In Colab\"/></a>"
      ]
    },
    {
      "cell_type": "markdown",
      "metadata": {
        "id": "whiS8A4lblMy"
      },
      "source": [
        "#Transformers for Language Modeling and Sentiment Analysis\n",
        "\n",
        "[![Open In Colab](https://colab.research.google.com/assets/colab-badge.svg)](https://colab.research.google.com/drive/1op0-7s7Ida9J-yehpEr-xzzpbNYOxwfB#scrollTo=whiS8A4lblMy)\n",
        "\n",
        "In this problem we will learn how to implement the building blocks for \"Transformer\" models, and then implement a pre-training procedure for such models via [BERT](https://arxiv.org/abs/1810.04805)-style language modeling and then fine-tune a pre-trained model on sentiment analysis tasks on the IMDB movie review dataset.\n",
        "Typically, transformer models are very large and are pre-trained on language modeling tasks with massive datasets with huge computational resources.\n",
        "As such, we will only implement the pre-training *procedure*, without expecting you to pre-train a model to completion.\n",
        "We will then load in a pre-trained model for you to perform fine-tuning on a sentiment analysis task.\n",
        "\n",
        "We will complete the following steps in this problem:\n",
        "1. Implement a multi-head-attention (MHA) layer.\n",
        "1. Implement \"Transformer block\" layers which use MHA layers, linear layers, and residual connections.\n",
        "1. Implement a full Transformer model comprised of Transformer blocks.\n",
        "1. Implement [BERT](https://arxiv.org/abs/1810.04805)-style language model pre-training for the Transformer model.\n",
        "1. Fine-tune our trained language model on a sentiment analysis task.\n",
        "\n",
        "In order to run on GPU in Colab go to `Runtime -> Change runtime type` and select `GPU` under the `Hardware accelerator` drop-down box."
      ]
    },
    {
      "cell_type": "markdown",
      "source": [
        "Go to Runtime and click on disconnect and delete runtime till a GPU with 15 GB ram"
      ],
      "metadata": {
        "id": "JTenoR1jHuIy"
      }
    },
    {
      "cell_type": "code",
      "source": [
        "!nvidia-smi --query-gpu=gpu_name,driver_version,memory.total --format=csv"
      ],
      "metadata": {
        "id": "wD5MKwcT7Nhb",
        "outputId": "139b3790-5d12-42d5-db37-5439b452dea2",
        "colab": {
          "base_uri": "https://localhost:8080/"
        }
      },
      "execution_count": null,
      "outputs": [
        {
          "output_type": "stream",
          "name": "stdout",
          "text": [
            "name, driver_version, memory.total [MiB]\n",
            "Tesla T4, 460.32.03, 15109 MiB\n"
          ]
        }
      ]
    },
    {
      "cell_type": "code",
      "execution_count": null,
      "metadata": {
        "id": "a2rOZ3dEblM0"
      },
      "outputs": [],
      "source": [
        "import torch\n",
        "import torch.nn as nn\n",
        "import torch.nn.functional as F\n",
        "\n",
        "import math\n",
        "import random\n",
        "import numpy as np\n",
        "\n",
        "SEED = 1234\n",
        "\n",
        "random.seed(SEED)\n",
        "np.random.seed(SEED)\n",
        "torch.manual_seed(SEED)\n",
        "torch.backends.cudnn.deterministic = True"
      ]
    },
    {
      "cell_type": "markdown",
      "metadata": {
        "id": "DeYN4z2V-_F2"
      },
      "source": [
        "# 1 - Scaled Dot Product Attention \n",
        "The attention mechanism describes a recent new group of layers in neural networks that has attracted a lot of interest in the past few years, especially in sequence tasks. Here we use the following definition: *the attention mechanism describes a weighted average of (sequence) elements with the weights dynamically computed based on an input query and elements’ keys.* In other words, we want to dynamically decide on which inputs we want to “attend” more than others based on their values. In particular, an attention mechanism has usually **4 parts** we need to specify:\n",
        "\n",
        "\n",
        "*   **Query**: The query is a feature vector that describes what we are looking for in the sequence, i.e. what would we maybe want to pay attention to.\n",
        "*   **Keys**: For each input element, we have a key which is again a feature vector. This feature vector roughly describes what the element is “offering”, or when it might be important. The keys should be designed such that we can identify the elements we want to pay attention to based on the query.\n",
        "*   **Values**: For each input element, we also have a value vector. This feature vector is the one we want to average over.\n",
        "*   **Score function**: To rate which elements we want to pay attention to, we need to specify a score function $f_{attn}$. The score function takes the query and a key as input, and output the score/attention weight of the query-key pair. It is usually implemented by simple similarity metrics like a dot product, or a small MLP.\n",
        "\n",
        "The weights of the average are calculated by a softmax over all score function outputs. Hence, we assign those value vectors a higher weight whose corresponding key is most similar to the query.\n",
        "\n",
        "The attention applied inside the [Transformer](https://arxiv.org/abs/1706.03762) architecture is called self-attention. In self-attention, each sequence element provides a key, value, and query. For each element, we perform an attention layer where based on its query, we check the similarity of the all sequence elements’ keys, and returned a different, averaged value vector for each element.\n",
        "\n",
        "The core concept behind self-attention is the scaled dot product attention. The dot product attention takes as input a set of queries $Q \\in \\mathbb{R}^{T \\times d_k}$, keys $K \\in \\mathbb{R}^{T \\times d_k}$ and values $V \\in \\mathbb{R}^{T \\times d_v}$ where $T$ is the sequence length, and $d_k$ and $d_v$ are the hidden dimensionality for queries/keys and values respectively.\n",
        "The attention value from element $i$ to $j$ is based on its similarity of the query $Q_i$ and key $K_j$, using the dot product as the similarity metric. Mathmatically:\n",
        "\n",
        "$$Attention(Q,K,V)=\\text{softmax}\\left(\\frac{Q K^T}{\\sqrt{d_k}}\\right) V $$\n",
        "\n",
        "The matrix multiplication $Q K^T$ performs the dot product for every possible pair of queries and keys, resulting in a matrix of the shape $T \\times T$. \n",
        "Each row represents the attention logits for a specific element $i$ to all other elements in the sequence. \n",
        "We apply a softmax and multiply with the value vector to obtain a weighted mean (the weights being determined by the attention). \n",
        "The computation graph is visualized below.\n",
        "\n",
        "<p align=\"center\">\n",
        "<img src=\"https://production-media.paperswithcode.com/methods/SCALDE.png\" alt=\"drawing\" width=\"300\"/>\n",
        "</p>"
      ]
    },
    {
      "cell_type": "code",
      "execution_count": null,
      "metadata": {
        "id": "Uy-k61ik_Dg5"
      },
      "outputs": [],
      "source": [
        "################################### TODO ###################################\n",
        "# Implement the scaled dot product attention described above.\n",
        "############################################################################\n",
        "def scaled_dot_product(q, k, v, attn_drop_rate=0.1, mask=None):\n",
        "    \"\"\"\n",
        "    Parameters:\n",
        "      q: query, shape: (batch, # heads, seq len, head dimension)\n",
        "      k: keys, shape: (batch, # heads, seq len, head dimension)\n",
        "      v: value, shape: (batch, # heads, seq len, head dimension)\n",
        "      attn_drop_rate: probability of an element to be zeroed,\n",
        "      mask: the optional masking of specific entries in the attention matrix.\n",
        "              shape: (batch, seq len)\n",
        "    \"\"\"\n",
        "    # TODO: get hidden dimensionality d_k for query/keys.\n",
        "    d_k = q.size()[-1]\n",
        "\n",
        "    # TODO: compute (QK^T)/d_k, use https://pytorch.org/docs/stable/generated/torch.matmul.html.\n",
        "    attn_logits = torch.matmul(q, k.transpose(-2, -1))/math.sqrt(d_k)\n",
        "\n",
        "    # TODO: if mask is not None, apply mask. use https://pytorch.org/docs/stable/generated/torch.Tensor.masked_fill_.html#torch.Tensor.masked_fill_.\n",
        "    # Make sure that padding tokens cannot be attended to by subtracting a\n",
        "    # large negative value from the columns of attention weights\n",
        "    # corresponding to the tokens that have mask = 1. These will become 0\n",
        "    # after the softmax.\n",
        "    if mask is not None:\n",
        "        attn_logits = attn_logits.masked_fill(mask == 0, -1e16)\n",
        "\n",
        "    # TODO: compute softmax((QK^T)/d_k). Normalize attention weights to sum to 1 with a softmax over the key dimension.\n",
        "    attention = F.softmax(attn_logits, dim=-1)\n",
        "\n",
        "    # TODO: Add dropout to attention weights w/ attn_drop_rate.\n",
        "    dropout = torch.distributions.binomial.Binomial(probs=1-attn_drop_rate)\n",
        "    if attention.is_cuda:\n",
        "      attention = attention*dropout.sample(attention.shape).to('cuda')\n",
        "    else:  \n",
        "      attention = attention*dropout.sample(attention.shape)\n",
        "\n",
        "    # TODO: compute softmax((QK^T)/d_k)V.\n",
        "    values = torch.matmul(attention, v)\n",
        "\n",
        "    return values, attention"
      ]
    },
    {
      "cell_type": "markdown",
      "metadata": {
        "id": "yTQd7kt6DA48"
      },
      "source": [
        "Before you continue, run the test code listed below. It will generate random queries, keys, and value vectors, and calculate the attention outputs. Make sure you can follow the calculation of the specific values here, and also check it by hand. "
      ]
    },
    {
      "cell_type": "code",
      "execution_count": null,
      "metadata": {
        "id": "78hBTlzRDJeL",
        "colab": {
          "base_uri": "https://localhost:8080/"
        },
        "outputId": "64cb2384-0c14-45c7-be3f-245657e89d70"
      },
      "outputs": [
        {
          "output_type": "stream",
          "name": "stdout",
          "text": [
            "Q\n",
            " tensor([[[[ 0.0461,  0.4024],\n",
            "          [-1.0115,  0.2167],\n",
            "          [-0.6123,  0.5036]]]])\n",
            "K\n",
            " tensor([[[[ 0.2310,  0.6931],\n",
            "          [-0.2669,  2.1785],\n",
            "          [ 0.1021, -0.2590]]]])\n",
            "V\n",
            " tensor([[[[-0.1549, -1.3706],\n",
            "          [-0.1319,  0.8848],\n",
            "          [-0.2611,  0.6104]]]])\n",
            "Mask\n",
            " tensor([[0., 1., 0.]])\n",
            "Values\n",
            " tensor([[[[-0.1319,  0.8848],\n",
            "          [-0.1319,  0.8848],\n",
            "          [-0.1319,  0.8848]]]])\n",
            "Attention\n",
            " tensor([[[[0., 1., 0.],\n",
            "          [0., 1., 0.],\n",
            "          [0., 1., 0.]]]])\n"
          ]
        }
      ],
      "source": [
        "bs = 1\n",
        "num_heads = 1\n",
        "seq_len, d_k = 3, 2\n",
        "q = torch.randn(bs, num_heads, seq_len, d_k)\n",
        "k = torch.randn(bs, num_heads, seq_len, d_k)\n",
        "v = torch.randn(bs, num_heads, seq_len, d_k)\n",
        "mask = torch.bernoulli(0.5 * torch.ones(bs, seq_len))\n",
        "values, attention = scaled_dot_product(q, k, v, 0.0, mask)\n",
        "print(\"Q\\n\", q)\n",
        "print(\"K\\n\", k)\n",
        "print(\"V\\n\", v)\n",
        "print(\"Mask\\n\", mask)\n",
        "print(\"Values\\n\", values)\n",
        "print(\"Attention\\n\", attention)"
      ]
    },
    {
      "cell_type": "markdown",
      "metadata": {
        "id": "LrdVJlTd64Uw"
      },
      "source": [
        "# 2 - Build Multi-Head-Attention Layer\n",
        "\n",
        "Now we will implement multi-head-attention, first introduced by [Attention is All you Need (Vaswani et al. 2017)](https://arxiv.org/abs/1706.03762).\n",
        "The scaled dot product attention allows a network to attend over a sequence. However, often there are multiple different aspects a sequence element wants to attend to, and a single weighted average is not a good option for it. This is why we extend the attention mechanisms to multiple heads, i.e. multiple different query-key-value triplets on the same features.\n",
        "<!-- \"Attention\" is a computational mechanism which allows models to selectively weight different tokens in other parts of the input. -->\n",
        "<!-- For example, given the sentence, \"John went to the dentist to get his teeth cleaned.\" the model might learn to use the \"his\" token to attend to the \"John\" token, as the word \"his\" is referring to \"John\" in this context. -->\n",
        "\n",
        "A multi-head-attention layer works by employing several self-attention layers in parallel.\n",
        "Given a query, key, and value matrix, we transform those into $h$ sub-queries, sub-keys, and sub-values, which we pass through the scaled dot product attention independently where $h$ is the number of heads.\n",
        "Afterward, we concatenate the heads and combine them with a final weight matrix.\n",
        "Mathmatically,\n",
        "\n",
        "$$Multihead(Q,K,V)=Concat(head_1, ..., head_h)W^O,$$\n",
        "\n",
        "where\n",
        "\n",
        "$$head_i=Attention(QW^Q_i, KW^K_i, VW^V_i).$$\n",
        "\n",
        "We refer to this as Multi-Head Attention layer with the learnable parameters $W^Q_{1...h}\\in \\mathbb{R}^{d_{in}\\times d_k}$, $W^K_{1...h}\\in \\mathbb{R}^{d_{in}\\times d_k}$, $W^V_{1...h}\\in \\mathbb{R}^{d_{in}\\times d_v}$, and $W^O\\in \\mathbb{R}^{h\\cdot d_k \\times d_{out}}$ where $d_{in}$ is the input dimensionality, and $d_{out}$ is the output dimensionality. \n",
        "The visualized computational graph is shown below.\n",
        "\n",
        "<p align=\"center\">\n",
        "<img src=\"https://production-media.paperswithcode.com/methods/multi-head-attention_l1A3G7a.png\" alt=\"drawing\" width=\"300\"/>\n",
        "</p>\n",
        "\n",
        "Looking at the computation graph above, a simple but effective implementation is to set the current feature map $X$ in a NN, $X\\in \\mathbb{R}^{B\\times T\\times d_{model}}$, where $B$ is the batch size, $T$ is the sequence length, and $d_{model}$ is the hidden dimentionality of $X$.\n",
        "<!-- Attention works by computing three vectors for each input vector (e.g. embedded token): Query, Key, and Value.\n",
        "They can be computed via a fully connected layer.\n",
        "Below is a diagram of the multi-head attention layer.\n",
        "\n",
        "![](https://miro.medium.com/max/1270/1*LpDpZojgoKTPBBt8wdC4nQ.png)\n",
        "\n",
        "We can represent scaled Dot-Product Attention with the following equation (assuming $Q, K, V \\in \\mathbb{R}^{t \\times h}$ where $t$ is the length of the sequence and $h$ is the dimensionality of the attention head): -->\n",
        "<!-- \n",
        "The result of the left-hand side of this equation ($\\text{softmax}\\left(\\frac{Q K^\\top}{\\sqrt{h}}\\right)$) is a matrix of size $t \\times t$ where every row sums to one.\n",
        "The element in row $i$ and column $j$ represents how much the token at position $i$ in the sequence is attending to the token at position $j$.\n",
        "Multi-Head Attention computes several Dot-Product Attentions in parallel and concatenates the outputs.\n",
        "Typically we specify the dimensionality of the full layer $d$ as well as the number of heads $n$ and then set the dimensionality of each head to be $h = \\frac{d}{n}$. -->"
      ]
    },
    {
      "cell_type": "code",
      "execution_count": null,
      "metadata": {
        "id": "Zvj40hQ-DcC1"
      },
      "outputs": [],
      "source": [
        "################################### TODO ###################################\n",
        "# Implement Multi-head attention described above.\n",
        "############################################################################\n",
        "class MultiHeadAttention(nn.Module):\n",
        "  def __init__(self, embed_dim, n_heads, attn_drop_rate):\n",
        "    \"\"\"\n",
        "    Parameters:\n",
        "      input_dim: The input dimension.\n",
        "      embed_dim: The embedding dimension of the model\n",
        "      n_heads: Number of attention heads\n",
        "      attn_drop_rate: Dropout rate for attention weights (Q K^T)\n",
        "    \"\"\"\n",
        "    super().__init__()\n",
        "    self.embed_dim = embed_dim\n",
        "    self.n_heads = n_heads\n",
        "    self.head_dim = embed_dim // n_heads\n",
        "    self.attn_drop_rate = attn_drop_rate\n",
        "\n",
        "    # TODO: Add learnable parameters for computing query, key, and value using nn.Linear. \n",
        "    # Store all weight matrices W^Q, W^K, W^V 1...h together for efficiency.\n",
        "    self.qkv_proj = nn.Linear(embed_dim, 3*embed_dim)\n",
        "\n",
        "    # TODO: Add learnable parameters W^O using nn.Linear.\n",
        "    self.o_proj = nn.Linear(embed_dim, embed_dim)\n",
        "\n",
        "    self._reset_parameters()\n",
        "\n",
        "  def _reset_parameters(self):\n",
        "      # Original Transformer initialization, see PyTorch documentation\n",
        "      nn.init.xavier_uniform_(self.qkv_proj.weight)\n",
        "      self.qkv_proj.bias.data.fill_(0)\n",
        "      nn.init.xavier_uniform_(self.o_proj.weight)\n",
        "      self.o_proj.bias.data.fill_(0)\n",
        "  \n",
        "  def forward(self, embedding, mask):\n",
        "    \"\"\"\n",
        "    Inputs:\n",
        "      embedding: Input embedding with shape (batch size, sequence length, embedding dimension)\n",
        "      mask: Mask specifying padding tokens with shape (batch_size, sequence length)\n",
        "        Value for tokens that should be masked out is 1 and 0 otherwise.\n",
        "    Outputs:\n",
        "      Attended values\n",
        "    \"\"\"\n",
        "    \n",
        "    # TODO: get batch_size, seq_length, embed_dim.\n",
        "    batch_size, seq_length, embed_dim = embedding.size()\n",
        "\n",
        "    # TODO: Compute queries, keys, and values (keep continguous for now).\n",
        "    qkv = self.qkv_proj(embedding)\n",
        "    # TODO: Separate Q, K, V from linear output, give each shape [batch, num_head, seq_len, head_dim] (may require transposing/permuting dimensions)\n",
        "    qkv = qkv.reshape(batch_size, seq_length, self.n_heads, 3*self.head_dim)\n",
        "    qkv = qkv.permute(0, 2, 1, 3) \n",
        "    q, k, v = qkv.chunk(3, dim=-1)\n",
        "\n",
        "    # TODO: Determine value outputs, with shape [batch, seq_len, num_head, head_dim]. (hint: use scaled_dot_product())\n",
        "    values, attention = scaled_dot_product(q, k, v, self.attn_drop_rate, mask=None)\n",
        "    values = values.permute(0, 2, 1, 3) \n",
        "    values = values.reshape(batch_size, seq_length, embed_dim)\n",
        "    # TODO: Linearly project attention outputs w/ W^O.\n",
        "    # The final dimensionality should match that of the inputs.\n",
        "    attended_embeds = self.o_proj(values)\n",
        "    \n",
        "    return attended_embeds"
      ]
    },
    {
      "cell_type": "markdown",
      "metadata": {
        "id": "XMiKHd8Leo8r"
      },
      "source": [
        "Let's check that your MHA layer works and returns a tensor of the correct shape"
      ]
    },
    {
      "cell_type": "code",
      "execution_count": null,
      "metadata": {
        "id": "NHxBmCwnEqrj",
        "colab": {
          "base_uri": "https://localhost:8080/"
        },
        "outputId": "ba3db778-d9c7-47e8-dd48-8776df76b25d"
      },
      "outputs": [
        {
          "output_type": "stream",
          "name": "stdout",
          "text": [
            "Output shape:  (3, 2, 16)\n"
          ]
        }
      ],
      "source": [
        "embed_dim = 16\n",
        "n_heads = 4\n",
        "attn_drop_rate = 0.1\n",
        "layer = MultiHeadAttention(embed_dim, n_heads, attn_drop_rate)\n",
        "\n",
        "bs = 3\n",
        "seq_len = 2\n",
        "inputs = torch.randn(bs, seq_len, embed_dim)\n",
        "mask = torch.zeros(bs, seq_len)\n",
        "outputs = layer(inputs, mask)\n",
        "out_bs, out_seq_len, out_hidden = outputs.shape\n",
        "print(\"Output shape: \", (out_bs, out_seq_len, out_hidden))\n",
        "assert out_bs == bs and out_seq_len == seq_len and out_hidden == embed_dim, \"Unexpected output shape\""
      ]
    },
    {
      "cell_type": "markdown",
      "metadata": {
        "id": "UsZmxmA8760j"
      },
      "source": [
        "# 3 - Build Transformer Blocks \n",
        "\n",
        "Now we construct the blocks from which transformer models are comprised of.\n",
        "\n",
        "Originally, the Transformer model was designed for machine translation. Hence, it got an encoder-decoder structure where the encoder takes as input the sentence in the original language and generates an attention-based representation, the decoder attends over the encoded information and generates the translated sentence in an autoregressive manner, as in a standard RNN. \n",
        "The visualized computational graph is shown below.\n",
        "Here we will mainly focus on the encoder part and implement the encoder block.\n",
        "\n",
        "<p align=\"center\">\n",
        "<img src=\"https://machinelearningmastery.com/wp-content/uploads/2021/08/attention_research_1.png\" alt=\"drawing\" width=\"300\"/>\n",
        "</p>\n",
        "\n",
        "A Transformer encoder block consists of the following modules in this order:\n",
        "1.   Multi-Head Attention (we implemented above)\n",
        "1.   Dropout\n",
        "1.   Residual connection to the input (simply add the input of the block to the output of the previous dropout layer).\n",
        "1.   Layer Norm - https://arxiv.org/abs/1607.06450\n",
        "1.   Linear layer\n",
        "1.   Activation function (typically gelu - https://arxiv.org/abs/1606.08415)\n",
        "1.   Linear layer\n",
        "1.   Dropout\n",
        "1.   Residual connection to 4  (add the output of 4 to 8)\n",
        "1.   Layer Norm\n",
        "\n",
        "According to the listed modules, please implement:\n",
        "\n",
        "```\n",
        "class TransformerBlock(nn.Module)\n",
        "```\n",
        "\n",
        "\n",
        "\n"
      ]
    },
    {
      "cell_type": "code",
      "execution_count": null,
      "metadata": {
        "id": "PnGkMpbCFTXC"
      },
      "outputs": [],
      "source": [
        "################################### TODO ###################################\n",
        "# Implement transformer encoder block\n",
        "############################################################################\n",
        "class TransformerBlock(nn.Module):\n",
        "  def __init__(self, embed_dim, n_heads, attn_drop_rate, layer_drop_rate):\n",
        "    \"\"\"\n",
        "    Parameters:\n",
        "      input_dim: Dimensionality of the input\n",
        "      embed_dim: The embedding dimension of the model\n",
        "      n_heads: Number of attention heads\n",
        "      attn_drop_rate: Dropout rate for attention weights (Q K^T)\n",
        "      layer_drop_rate: Dropout rate for activations\n",
        "    \"\"\"\n",
        "    super().__init__()\n",
        "    self.embed_dim = embed_dim\n",
        "    self.n_heads = n_heads\n",
        "    self.layer_dropout = nn.Dropout(layer_drop_rate)\n",
        "\n",
        "    # TODO: define attention layer\n",
        "    self.self_attn = MultiHeadAttention(embed_dim, num_heads, attn_drop_rate)\n",
        "\n",
        "\n",
        "    # TODO: define a network (using nn.Sequential) with: \n",
        "    # 1) a linear layer, 2) an activation layer, 3) another linear layer, 4) a dropout layer.\n",
        "    self.linear_net = nn.Sequential(nn.Linear(embed_dim, embed_dim), nn.ReLU(), nn.Linear(embed_dim, embed_dim), self.layer_dropout)\n",
        "    \n",
        "    # TODO: define 2 norm layers, 1 dropout layer.\n",
        "    self.norm1 = nn.LayerNorm(embed_dim)\n",
        "    self.norm2 = nn.LayerNorm(embed_dim)\n",
        "    self.dropout = self.layer_dropout\n",
        "\n",
        "  def forward(self, inputs):\n",
        "    embedding, mask = inputs\n",
        "\n",
        "    # TODO: 1. compute multi-head attention\n",
        "    attn_out = self.self_attn(embedding, mask=mask)\n",
        "\n",
        "    # TODO: 2. add dropout\n",
        "    dropout_out = self.dropout\n",
        "\n",
        "    # TODO: 3. add residual connection to the input\n",
        "    embedding = embedding + attn_out\n",
        "\n",
        "    # TODO: 4. apply layernorm\n",
        "    embedding = self.norm1(embedding)\n",
        "\n",
        "    # TODO: 5-8. compute 1) a linear layer, 2) an activation layer, 3) another linear layer, 4) a dropout layer.\n",
        "    linear_out = self.linear_net(embedding)\n",
        "\n",
        "    # TODO: 9. add residual connection \n",
        "    embedding = embedding + linear_out\n",
        "\n",
        "    # TODO: 10. apply layer norm\n",
        "    embedding = self.norm2(embedding)\n",
        "\n",
        "    return embedding, mask"
      ]
    },
    {
      "cell_type": "markdown",
      "metadata": {
        "id": "mUeAV4qSUnJu"
      },
      "source": [
        "Let's once again check that the code runs without error and outputs the correct shape (note, this is not a guarantee that you have implemented it correctly)."
      ]
    },
    {
      "cell_type": "code",
      "execution_count": null,
      "metadata": {
        "id": "6wvM7EPGSq8e",
        "colab": {
          "base_uri": "https://localhost:8080/"
        },
        "outputId": "e7233d69-3110-475a-f396-49e4393be42e"
      },
      "outputs": [
        {
          "output_type": "stream",
          "name": "stdout",
          "text": [
            "Output shape:  (3, 2, 16)\n"
          ]
        }
      ],
      "source": [
        "embed_dim = 16\n",
        "n_heads = 4\n",
        "attn_drop_rate = 0.1\n",
        "layer_drop_rate = 0.1\n",
        "block = TransformerBlock(embed_dim, n_heads, attn_drop_rate, layer_drop_rate)\n",
        "\n",
        "bs = 3\n",
        "seq_len = 2\n",
        "embeds = torch.randn(bs, seq_len, embed_dim)\n",
        "mask = torch.zeros(bs, seq_len)\n",
        "outputs, _ = block((embeds, mask))\n",
        "out_bs, out_seq_len, out_hidden = outputs.shape\n",
        "print(\"Output shape: \", (out_bs, out_seq_len, out_hidden))\n",
        "assert out_bs == bs and out_seq_len == seq_len and out_hidden == embed_dim, \"Unexpected output shape\""
      ]
    },
    {
      "cell_type": "markdown",
      "metadata": {
        "id": "BHBvnmRL76qa"
      },
      "source": [
        "# 4 - Position Encoding \n",
        "\n",
        "In tasks like language understanding, the position is important for interpreting the input words. The position information can therefore be added via the input features. We could learn a embedding for every possible position, but this would not generalize to a dynamical input sequence length. Hence, the better option is to use feature patterns that the network can identify from the features and potentially generalize to larger sequences.\n",
        "Mathmatically:\n",
        "\n",
        "$$PE(pos, i) = \\left\\{\\begin{matrix}\n",
        "\\sin (\\frac{pos}{10000^{i/d_{model}}}) & \\text{if } i\\mod 2=0\\\\ \n",
        "\\cos (\\frac{pos}{10000^{(i-1)/d_{model}}}) & \\text{otherwise} \n",
        "\\end{matrix}\\right.$$\n",
        "\n",
        "$PE(pos,i)$ represents the position encoding at position $pos$ in the sequence, and hidden dimensionality $i$.\n",
        "These values, concatenated for all hidden dimensions, are added to the original input features, and constitute the position information.\n",
        "The intuition behind this encoding is that you can represent $PE(pos+k,:)$ as a linear function of $PE(pos,:)$, which might allow the model to easily attend to relative positions."
      ]
    },
    {
      "cell_type": "code",
      "execution_count": null,
      "metadata": {
        "id": "qf-vzofmF6yy"
      },
      "outputs": [],
      "source": [
        "class PositionalEncoding(nn.Module):\n",
        "\n",
        "    def __init__(self, embed_dim: int, drop_rate=0.1, max_len=5000):\n",
        "        super().__init__()\n",
        "        self.dropout = nn.Dropout(p=drop_rate)\n",
        "\n",
        "        position = torch.arange(max_len).unsqueeze(1)\n",
        "        div_term = torch.exp(torch.arange(0, embed_dim, 2) * (-math.log(10000.0) / embed_dim))\n",
        "        pe = torch.zeros(1, max_len, embed_dim)\n",
        "        pe[0, :, 0::2] = torch.sin(position * div_term)\n",
        "        pe[0, :, 1::2] = torch.cos(position * div_term)\n",
        "        self.register_buffer('pe', pe)\n",
        "\n",
        "    def forward(self, x):\n",
        "        \"\"\"\n",
        "        Args:\n",
        "            x: Tensor, shape [batch_size, seq_len, embedding_dim]\n",
        "        \"\"\"\n",
        "        x = x + self.pe[:, :x.size(1)]\n",
        "        return self.dropout(x)"
      ]
    },
    {
      "cell_type": "markdown",
      "metadata": {
        "id": "g9HAPz85gEGc"
      },
      "source": [
        "# 5 - Build a BERT model\n",
        " A BERT model consists of:\n",
        "\n",
        "1.   **An input embedding layer.** This converts a token index into a vector embedding. Make sure to include an extra embedding for the masked tokens! In other words, learn vocab_size + 1 embeddings.\n",
        "2.   **Positional encodings.** This layer (implemented for you already) encodes the position of each token since multi-head-attention layers have no notion of positional locality or order. It takes as input the the token embeddings from (1) and returns them with positional embeddings added.\n",
        "3.   Several stacked **Transformer blocks** (the number specified by n_layers)\n",
        "4.   **Output linear layer** that predicts masked words for pre-training. Takes final embedding of last block and outputs probability distribution over the vocabulary."
      ]
    },
    {
      "cell_type": "code",
      "execution_count": null,
      "metadata": {
        "id": "-cTFKj5GgKFf"
      },
      "outputs": [],
      "source": [
        "################################### TODO ###################################\n",
        "# Add the requisite modules for a BERT model\n",
        "############################################################################\n",
        "class BertModel(nn.Module):\n",
        "  def __init__(self, n_layers, vocab_size, embed_dim, n_heads, attn_drop_rate, layer_drop_rate):\n",
        "    super().__init__()\n",
        "\n",
        "    # TODO: 1. add input embedding layer (hint: use nn.Embedding) - don't forget about the mask token\n",
        "    self.embed = nn.Embedding(vocab_size + 1, embed_dim)\n",
        "    \n",
        "    # TODO: 2. add positional encoding\n",
        "    self.pos_embed = PositionalEncoding(embed_dim)\n",
        "\n",
        "    # TODO: 3. add stacked transformer blocks (use nn.Sequential)\n",
        "    self.net = nn.Sequential(*[TransformerBlock(embed_dim, n_heads, attn_drop_rate, layer_drop_rate) for i in range(n_layers)])\n",
        "    \n",
        "    # TODO: 4. add output linear layer that predicts masked words for pre-training\n",
        "    self.mask_pred = nn.Linear(embed_dim, vocab_size)\n",
        "\n",
        "  def forward(self, batch_text, mask=None):\n",
        "    # TODO: implement forward pass (embedding -> stacked blocks -> output masked word predictions)\n",
        "    mask_preds = self.embed(batch_text) \n",
        "    mask_preds = mask_preds + self.pos_embed(mask_preds)\n",
        "    mask_preds, _ = self.net((mask_preds, mask))\n",
        "    mask_preds = self.mask_pred(mask_preds)\n",
        "    return mask_preds"
      ]
    },
    {
      "cell_type": "markdown",
      "metadata": {
        "id": "Je1o9NpamV8d"
      },
      "source": [
        "Let's once again check that the code runs without error and outputs the correct shape (note, this is not a guarantee that you have implemented it correctly)."
      ]
    },
    {
      "cell_type": "code",
      "execution_count": null,
      "metadata": {
        "id": "BnLLpy33mV8n",
        "colab": {
          "base_uri": "https://localhost:8080/"
        },
        "outputId": "3558b1a3-4add-4a49-c3c5-01a7f6eb79a8"
      },
      "outputs": [
        {
          "output_type": "stream",
          "name": "stdout",
          "text": [
            "Mask predictions shape:  (3, 2, 10)\n"
          ]
        }
      ],
      "source": [
        "embed_dim = 16\n",
        "n_heads = 4\n",
        "n_layers = 2\n",
        "vocab_size = 10\n",
        "attn_drop_rate = 0.1\n",
        "layer_drop_rate = 0.1\n",
        "model = BertModel(n_layers, vocab_size, embed_dim, n_heads, attn_drop_rate, layer_drop_rate)\n",
        "\n",
        "bs = 3\n",
        "seq_len = 2\n",
        "inputs = torch.randint(0, vocab_size, (bs, seq_len))\n",
        "mask_preds = model(inputs)\n",
        "out_bs, out_seq_len, out_vocab = mask_preds.shape\n",
        "print(\"Mask predictions shape: \", (out_bs, out_seq_len, out_vocab))\n",
        "assert out_bs == bs and out_seq_len == seq_len and out_vocab == vocab_size, \"Unexpected mask prediction output shape\""
      ]
    },
    {
      "cell_type": "markdown",
      "metadata": {
        "id": "HUCtAVSa76hQ"
      },
      "source": [
        "\n",
        "# 6 - Implement BERT Pre-Training \n",
        "\n",
        "In order to pre-train our language model, we randomly permute `mask_rate`% of the tokens and attempt to predict the original tokens.\n",
        "The permutation is as follows:\n",
        "* In 80% of these cases we replace the token with a `<mask>` token. Use `MASK_TOKEN_IND` as the index of this token.\n",
        "* In 10% of these cases we replace the token with a random token.\n",
        "* In the final 10% we do not permute the token.\n",
        "\n",
        "The prediction task is then to predict the original token for *only* the permuted tokens.\n",
        "You should use `nn.CrossEntropyLoss`.\n",
        "Note that this module has a keyword argument `ignore_index` which specifies a label index for which we do not compute the loss.\n",
        "It is `-100` by default.\n",
        "This can be used to **only** do prediction for the permuted tokens.\n",
        "\n",
        "For more details, please look at Task 1 in Section 3.1 of the [BERT paper](https://arxiv.org/abs/1810.04805).\n",
        "We do not consider the second pre-training task (Next Sentence Prediction) for this assignment.\n",
        "\n",
        "**We do not expect you to complete the pre-training procedure, which is not feasible given your computational resources. We are simply asking you to implement one step of training with synthetic data.**"
      ]
    },
    {
      "cell_type": "code",
      "execution_count": null,
      "metadata": {
        "id": "g59srQmteZvJ",
        "colab": {
          "base_uri": "https://localhost:8080/"
        },
        "outputId": "1f738c3f-7b9a-41ea-f73e-affb7d2f1864"
      },
      "outputs": [
        {
          "output_type": "stream",
          "name": "stdout",
          "text": [
            "Proportion of text changed (should be around 0.135):  0.13134765625\n",
            "Proportion of text masked (should be around 0.12):  0.11669921875\n",
            "Proportion of data labeled for pre-training (should be around 0.15) 0.14617919921875\n",
            "Training step successfully completed! Loss value (should be around 4.6):  4.7928032875061035\n"
          ]
        }
      ],
      "source": [
        "batch_size = 128\n",
        "learning_rate = 1e-4\n",
        "n_layers = 2  # number of transformer blocks in model\n",
        "embed_dim = 64\n",
        "n_heads = 4\n",
        "attn_drop_rate = 0.1  # dropout rate on attention weights\n",
        "layer_drop_rate = 0.1  # dropout rate on activations\n",
        "\n",
        "mask_rate = 0.15  # rate at which we permute words in order to predict them\n",
        "vocab_size = 100\n",
        "MASK_TOKEN_IND = vocab_size\n",
        "PAD_IND = 0\n",
        "model = BertModel(n_layers, vocab_size, embed_dim, n_heads, attn_drop_rate, layer_drop_rate)\n",
        "opt = torch.optim.AdamW(model.parameters(), lr=learning_rate, weight_decay=0.01)\n",
        "\n",
        "device = torch.device('cuda' if torch.cuda.is_available() else 'cpu')\n",
        "\n",
        "model.to(device)\n",
        "model.train()\n",
        "\n",
        "def mask_inputs(text, only_mask=False):\n",
        "  \"\"\"\n",
        "  Inputs:\n",
        "    text: Batch of sequences of shape (batch_size, seq_len) and type torch.Long\n",
        "          Each token is represented by its index in the vocabulary.\n",
        "    only_mask: If this is true, only replace tokens with <mask> tokens, no\n",
        "               random tokens, or keeping tokens the same. This is used for\n",
        "               evaluation only.\n",
        "  Outputs:\n",
        "    masked_text: Permuted inputs based on rules defined in description above.\n",
        "    mask_labels: Labels for prediction. Use label -100 for tokens that we do not\n",
        "                 want to predict. Should have the same shape as input text.\n",
        "\n",
        "  \"\"\"\n",
        "  masked_text = text.clone()\n",
        "  mask_labels = text.clone()\n",
        "  ################################### TODO ###################################\n",
        "  # Implement random permutation of tokens based on mask_rate, store the masked\n",
        "  # sequences in masked_text. Note, you have access to mask_rate,\n",
        "  # MASK_TOKEN_IND, etc. inside this function. Also store the prediction labels\n",
        "  # for the pre-training task in mask_labels. Make sure to set the labels for\n",
        "  # non-permuted tokens as well as padding tokens to -100\n",
        "  ############################################################################\n",
        "\n",
        "  mask = torch.rand(masked_text.size()).to(device)\n",
        "  masked_text = masked_text*(mask > mask_rate*0.9) #set everything below 0.135 to be false\n",
        "  masked_text[masked_text == 0] = MASK_TOKEN_IND\n",
        "  masked_text = masked_text*(mask > mask_rate*0.1) #set everything below 0.015 to be false\n",
        "  masked_text[masked_text == 0] = torch.randint(0, vocab_size, masked_text[masked_text == 0].size()).to(device)\n",
        "\n",
        "\n",
        "  mask_labels = mask_labels*(mask_rate > mask) #set everything above 0.15 to be false \n",
        "  mask_labels[mask_labels == 0] = -100.0\n",
        "  \n",
        "\n",
        "\n",
        "  ################################ END TODO ##################################\n",
        "  return masked_text, mask_labels\n",
        "\n",
        "text = torch.randint(1, vocab_size, (batch_size, 128)).to(device)\n",
        "pad_mask = (text == PAD_IND).to(torch.uint8).to(device)  # this is a different type of mask (used to prevent attending to padding tokens)\n",
        "masked_text, mask_labels = mask_inputs(text)\n",
        "\n",
        "changed = (text != masked_text)\n",
        "masked = (masked_text == MASK_TOKEN_IND)\n",
        "print(\"Proportion of text changed (should be around 0.135): \", changed.float().mean().cpu().item())\n",
        "print(\"Proportion of text masked (should be around 0.12): \", masked.float().mean().cpu().item())\n",
        "\n",
        "labeled = (mask_labels != -100)\n",
        "print(\"Proportion of data labeled for pre-training (should be around 0.15)\", labeled.float().mean().cpu().item())\n",
        "\n",
        "mask_preds = model(masked_text, pad_mask)\n",
        "loss_fn = nn.CrossEntropyLoss()\n",
        "loss = loss_fn(mask_preds.reshape((-1, vocab_size)), mask_labels.flatten())\n",
        "opt.zero_grad()\n",
        "loss.backward()\n",
        "opt.step()\n",
        "print(\"Training step successfully completed! Loss value (should be around 4.6): \", loss.cpu().item())"
      ]
    },
    {
      "cell_type": "markdown",
      "metadata": {
        "id": "Ke6au928duGd"
      },
      "source": [
        "# 7 - Fine-Tune Pre-Trained Model on Sentiment Analysis \n",
        "\n",
        "In the previous section we implemented the pre-training procedure specified in the [BERT paper](https://arxiv.org/abs/1810.04805).\n",
        "Now, we will take a fully-trained BERT model and use its learned representations for performing a sentiment analysis task.\n",
        "\n",
        "We will use the [transformers library](https://github.com/huggingface/transformers) to get pre-trained transformers and use them as our embedding layers.\n",
        "We will freeze (not train) the transformer and only train the remainder of the model which learns from the representations produced by the transformer.\n",
        "In this case we will be using a multi-layer bi-directional GRU, however any model can learn from these representations.\n",
        "\n",
        "The goal of this sentiment analysis task is to predict the \"sentiment\" of a particular sequence.\n",
        "In this case the sequences are movie reviews are we're predicting whether they are positive or negative. Our model outputs a probability of positive sentiment for each input sequence. Use `nn.BCEWithLogitsLoss` to fine-tune the model on this task.\n",
        "\n",
        "## Preparing Data\n",
        "\n",
        "The transformer has already been trained with a specific vocabulary, which means we need to train with the exact same vocabulary and also tokenize our data in the same way that the transformer did when it was initially trained.\n",
        "\n",
        "Luckily, the transformers library has tokenizers for each of the transformer models provided. In this case we are using the BERT model which ignores casing (i.e. will lower case every word). We get this by loading the pre-trained `bert-base-uncased` tokenizer.\n"
      ]
    },
    {
      "cell_type": "code",
      "execution_count": null,
      "metadata": {
        "id": "wvKvIOD7eyG4",
        "colab": {
          "base_uri": "https://localhost:8080/",
          "height": 811,
          "referenced_widgets": [
            "fdbc3ecf77144bd186e230612eaca29c",
            "4a7d9e9ac965461d825b569ae0012999",
            "98060aa488b747b39b1a71d6ecba82f1",
            "f81075e3eef44b43a90224dbc7dc8de7",
            "c4c3f0b3b6d344c59e13fd3535dcca03",
            "68e81553b03c48928c97e77358708a53",
            "bac081419fd64a038836c42bc743d925",
            "b55b79ceb9084fd5883d4891d5f13556",
            "232474276ec7447b8b3270a2342154c8",
            "3550414c65b64cf7ad53cf18dec22fce",
            "d2d95ccec5ad4ba2942f1b6df4cbe2d7",
            "14f8d541f6204737bdef0cc66a57add0",
            "8e5c0bab6b404a5f8179f92b3ac03de2",
            "56f1da1f01c84650a13869e2a34f04c4",
            "3b38922ef2484e809ac78ff3c49b8201",
            "11feb4d5639e4954b1863ac472037c2c",
            "c51a99308fa4494a9ae50f645f8e736f",
            "d37d78795c3f421495a3a1a76df84c07",
            "0a7bf09403644438809cec9ee1f64e23",
            "f7dfc866e2e146028f9f04419100ee0e",
            "960aeb6b51ab49b1bf6e92016b49818c",
            "3bb9e1110b034a11b04addc98e9a733b",
            "b84a3cdf0285487eab675153004553e8",
            "4326d7e56b1f4da5b5987f4fe29790b2",
            "83e53454112f4429ad04474184f0f04b",
            "460d0e19f19f4147a45b19553c880984",
            "90e420a947954b10aa011f4e04fbce49",
            "4b3af99a129146378f41eb5bb34cdadf",
            "c256820411d04a529c8b5f2c78cc50e7",
            "e745c6dd8d434748a71ad1640ab90ae4",
            "10d32fcc892543c7b6035e001e16d22e",
            "8ba0c5de8c7a462eba475118987f13e7",
            "6a4a62af090c483d9b22c07de0962489"
          ]
        },
        "outputId": "28db5923-7c7e-426f-eef8-f0113f805565"
      },
      "outputs": [
        {
          "output_type": "stream",
          "name": "stdout",
          "text": [
            "Collecting transformers\n",
            "  Downloading transformers-4.17.0-py3-none-any.whl (3.8 MB)\n",
            "\u001b[K     |████████████████████████████████| 3.8 MB 31.2 MB/s \n",
            "\u001b[?25hRequirement already satisfied: tqdm>=4.27 in /usr/local/lib/python3.7/dist-packages (from transformers) (4.63.0)\n",
            "Requirement already satisfied: regex!=2019.12.17 in /usr/local/lib/python3.7/dist-packages (from transformers) (2019.12.20)\n",
            "Requirement already satisfied: importlib-metadata in /usr/local/lib/python3.7/dist-packages (from transformers) (4.11.2)\n",
            "Requirement already satisfied: packaging>=20.0 in /usr/local/lib/python3.7/dist-packages (from transformers) (21.3)\n",
            "Requirement already satisfied: filelock in /usr/local/lib/python3.7/dist-packages (from transformers) (3.6.0)\n",
            "Collecting tokenizers!=0.11.3,>=0.11.1\n",
            "  Downloading tokenizers-0.11.6-cp37-cp37m-manylinux_2_12_x86_64.manylinux2010_x86_64.whl (6.5 MB)\n",
            "\u001b[K     |████████████████████████████████| 6.5 MB 55.9 MB/s \n",
            "\u001b[?25hRequirement already satisfied: requests in /usr/local/lib/python3.7/dist-packages (from transformers) (2.23.0)\n",
            "Collecting pyyaml>=5.1\n",
            "  Downloading PyYAML-6.0-cp37-cp37m-manylinux_2_5_x86_64.manylinux1_x86_64.manylinux_2_12_x86_64.manylinux2010_x86_64.whl (596 kB)\n",
            "\u001b[K     |████████████████████████████████| 596 kB 72.3 MB/s \n",
            "\u001b[?25hCollecting huggingface-hub<1.0,>=0.1.0\n",
            "  Downloading huggingface_hub-0.4.0-py3-none-any.whl (67 kB)\n",
            "\u001b[K     |████████████████████████████████| 67 kB 6.8 MB/s \n",
            "\u001b[?25hRequirement already satisfied: numpy>=1.17 in /usr/local/lib/python3.7/dist-packages (from transformers) (1.21.5)\n",
            "Collecting sacremoses\n",
            "  Downloading sacremoses-0.0.49-py3-none-any.whl (895 kB)\n",
            "\u001b[K     |████████████████████████████████| 895 kB 70.7 MB/s \n",
            "\u001b[?25hRequirement already satisfied: typing-extensions>=3.7.4.3 in /usr/local/lib/python3.7/dist-packages (from huggingface-hub<1.0,>=0.1.0->transformers) (3.10.0.2)\n",
            "Requirement already satisfied: pyparsing!=3.0.5,>=2.0.2 in /usr/local/lib/python3.7/dist-packages (from packaging>=20.0->transformers) (3.0.7)\n",
            "Requirement already satisfied: zipp>=0.5 in /usr/local/lib/python3.7/dist-packages (from importlib-metadata->transformers) (3.7.0)\n",
            "Requirement already satisfied: urllib3!=1.25.0,!=1.25.1,<1.26,>=1.21.1 in /usr/local/lib/python3.7/dist-packages (from requests->transformers) (1.24.3)\n",
            "Requirement already satisfied: certifi>=2017.4.17 in /usr/local/lib/python3.7/dist-packages (from requests->transformers) (2021.10.8)\n",
            "Requirement already satisfied: idna<3,>=2.5 in /usr/local/lib/python3.7/dist-packages (from requests->transformers) (2.10)\n",
            "Requirement already satisfied: chardet<4,>=3.0.2 in /usr/local/lib/python3.7/dist-packages (from requests->transformers) (3.0.4)\n",
            "Requirement already satisfied: click in /usr/local/lib/python3.7/dist-packages (from sacremoses->transformers) (7.1.2)\n",
            "Requirement already satisfied: joblib in /usr/local/lib/python3.7/dist-packages (from sacremoses->transformers) (1.1.0)\n",
            "Requirement already satisfied: six in /usr/local/lib/python3.7/dist-packages (from sacremoses->transformers) (1.15.0)\n",
            "Installing collected packages: pyyaml, tokenizers, sacremoses, huggingface-hub, transformers\n",
            "  Attempting uninstall: pyyaml\n",
            "    Found existing installation: PyYAML 3.13\n",
            "    Uninstalling PyYAML-3.13:\n",
            "      Successfully uninstalled PyYAML-3.13\n",
            "Successfully installed huggingface-hub-0.4.0 pyyaml-6.0 sacremoses-0.0.49 tokenizers-0.11.6 transformers-4.17.0\n"
          ]
        },
        {
          "output_type": "display_data",
          "data": {
            "text/plain": [
              "Downloading:   0%|          | 0.00/226k [00:00<?, ?B/s]"
            ],
            "application/vnd.jupyter.widget-view+json": {
              "version_major": 2,
              "version_minor": 0,
              "model_id": "fdbc3ecf77144bd186e230612eaca29c"
            }
          },
          "metadata": {}
        },
        {
          "output_type": "display_data",
          "data": {
            "text/plain": [
              "Downloading:   0%|          | 0.00/28.0 [00:00<?, ?B/s]"
            ],
            "application/vnd.jupyter.widget-view+json": {
              "version_major": 2,
              "version_minor": 0,
              "model_id": "14f8d541f6204737bdef0cc66a57add0"
            }
          },
          "metadata": {}
        },
        {
          "output_type": "display_data",
          "data": {
            "text/plain": [
              "Downloading:   0%|          | 0.00/570 [00:00<?, ?B/s]"
            ],
            "application/vnd.jupyter.widget-view+json": {
              "version_major": 2,
              "version_minor": 0,
              "model_id": "b84a3cdf0285487eab675153004553e8"
            }
          },
          "metadata": {}
        }
      ],
      "source": [
        "!pip install transformers\n",
        "\n",
        "from transformers import BertTokenizer\n",
        "\n",
        "tokenizer = BertTokenizer.from_pretrained('bert-base-uncased')"
      ]
    },
    {
      "cell_type": "markdown",
      "metadata": {
        "id": "t5REQmPW92eE"
      },
      "source": [
        "Set constants regarding text tokenization and processing such that we are consistent with how the model was trained."
      ]
    },
    {
      "cell_type": "code",
      "execution_count": null,
      "metadata": {
        "id": "TTISytZIfq5v"
      },
      "outputs": [],
      "source": [
        "init_token_idx = tokenizer.cls_token_id\n",
        "eos_token_idx = tokenizer.sep_token_id\n",
        "pad_token_idx = tokenizer.pad_token_id\n",
        "unk_token_idx = tokenizer.unk_token_id\n",
        "max_input_length = tokenizer.max_model_input_sizes['bert-base-uncased']"
      ]
    },
    {
      "cell_type": "markdown",
      "metadata": {
        "id": "DwD9DCJJgCxS"
      },
      "source": [
        "Define tokenization functions and set up IMDB dataset"
      ]
    },
    {
      "cell_type": "code",
      "execution_count": null,
      "metadata": {
        "id": "Yf1bw8XshS4n",
        "colab": {
          "base_uri": "https://localhost:8080/"
        },
        "outputId": "4b947fc1-dde1-49a5-99cb-ebe7109e3ac7"
      },
      "outputs": [
        {
          "output_type": "stream",
          "name": "stdout",
          "text": [
            "downloading aclImdb_v1.tar.gz\n"
          ]
        },
        {
          "output_type": "stream",
          "name": "stderr",
          "text": [
            "100%|██████████| 84.1M/84.1M [00:03<00:00, 23.7MB/s]\n"
          ]
        },
        {
          "output_type": "stream",
          "name": "stdout",
          "text": [
            "Number of training examples: 17500\n",
            "Number of validation examples: 7500\n",
            "Number of testing examples: 25000\n"
          ]
        }
      ],
      "source": [
        "def tokenize_and_cut(sentence):\n",
        "    tokens = tokenizer.tokenize(sentence) \n",
        "    tokens = tokens[:max_input_length-2]\n",
        "    return tokens\n",
        "\n",
        "from torchtext.legacy import data\n",
        "\n",
        "TEXT = data.Field(batch_first = True,\n",
        "                  use_vocab = False,\n",
        "                  tokenize = tokenize_and_cut,\n",
        "                  preprocessing = tokenizer.convert_tokens_to_ids,\n",
        "                  init_token = init_token_idx,\n",
        "                  eos_token = eos_token_idx,\n",
        "                  pad_token = pad_token_idx,\n",
        "                  unk_token = unk_token_idx)\n",
        "\n",
        "LABEL = data.LabelField(dtype = torch.float)\n",
        "\n",
        "from torchtext.legacy import datasets\n",
        "\n",
        "train_data, test_data = datasets.IMDB.splits(TEXT, LABEL)\n",
        "\n",
        "train_data, valid_data = train_data.split(random_state = random.seed(SEED))\n",
        "\n",
        "LABEL.build_vocab(train_data)\n",
        "\n",
        "print(f\"Number of training examples: {len(train_data)}\")\n",
        "print(f\"Number of validation examples: {len(valid_data)}\")\n",
        "print(f\"Number of testing examples: {len(test_data)}\")"
      ]
    },
    {
      "cell_type": "markdown",
      "metadata": {
        "id": "7plvAExl-Xb6"
      },
      "source": [
        "Create iterator to sample batches from the dataset."
      ]
    },
    {
      "cell_type": "code",
      "execution_count": null,
      "metadata": {
        "id": "NGJEvfD36dxS"
      },
      "outputs": [],
      "source": [
        "BATCH_SIZE = 32\n",
        "\n",
        "device = torch.device('cuda' if torch.cuda.is_available() else 'cpu')\n",
        "\n",
        "train_iterator, valid_iterator, test_iterator = data.BucketIterator.splits(\n",
        "    (train_data, valid_data, test_data), \n",
        "    batch_size = BATCH_SIZE, \n",
        "    device = device)"
      ]
    },
    {
      "cell_type": "markdown",
      "metadata": {
        "id": "pnbV4_sbiMpH"
      },
      "source": [
        "## Build the Model\n",
        "\n",
        "Next, we'll load the pre-trained model, making sure to load the same model as we did for the tokenizer."
      ]
    },
    {
      "cell_type": "code",
      "execution_count": null,
      "metadata": {
        "id": "vzgwu-L_iR-R",
        "colab": {
          "base_uri": "https://localhost:8080/",
          "height": 124,
          "referenced_widgets": [
            "b9184b7df32b4f40820c3e030fdb7639",
            "8d1e1014211048c3932880468e03f7f8",
            "d77002d13fd74fc485ef0414d969bd4e",
            "02e87e9fd7a648678a92f11ef25508a3",
            "00a8b684fd4b469188ee53381daa8a01",
            "09d49ad1602f46e4a73aefe31740d9b2",
            "ed3683e5b71146d5a0f60c5e15dc0b0e",
            "d8f8295b6efd49f8bca60412339ba8f2",
            "c56e668b71ef46d48bbfa86d3c5c04c5",
            "887d85c0c7bf48c7a1bece6bead9b3ac",
            "453dde3005ce4c78883aa5677200a53e"
          ]
        },
        "outputId": "5091a63f-c78c-4685-8ba6-55110e6fccd3"
      },
      "outputs": [
        {
          "output_type": "display_data",
          "data": {
            "text/plain": [
              "Downloading:   0%|          | 0.00/420M [00:00<?, ?B/s]"
            ],
            "application/vnd.jupyter.widget-view+json": {
              "version_major": 2,
              "version_minor": 0,
              "model_id": "b9184b7df32b4f40820c3e030fdb7639"
            }
          },
          "metadata": {}
        },
        {
          "output_type": "stream",
          "name": "stderr",
          "text": [
            "Some weights of the model checkpoint at bert-base-uncased were not used when initializing BertModel: ['cls.seq_relationship.bias', 'cls.seq_relationship.weight', 'cls.predictions.transform.dense.bias', 'cls.predictions.bias', 'cls.predictions.transform.dense.weight', 'cls.predictions.decoder.weight', 'cls.predictions.transform.LayerNorm.weight', 'cls.predictions.transform.LayerNorm.bias']\n",
            "- This IS expected if you are initializing BertModel from the checkpoint of a model trained on another task or with another architecture (e.g. initializing a BertForSequenceClassification model from a BertForPreTraining model).\n",
            "- This IS NOT expected if you are initializing BertModel from the checkpoint of a model that you expect to be exactly identical (initializing a BertForSequenceClassification model from a BertForSequenceClassification model).\n"
          ]
        }
      ],
      "source": [
        "from transformers import BertTokenizer, BertModel\n",
        "\n",
        "bert = BertModel.from_pretrained('bert-base-uncased')"
      ]
    },
    {
      "cell_type": "markdown",
      "metadata": {
        "id": "WqvwnS-PiZr3"
      },
      "source": [
        "Next, we'll define our actual model. \n",
        "\n",
        "Instead of using an embedding layer to get embeddings for our text, we'll be using the pre-trained transformer model. These embeddings will then be fed into a GRU to produce a prediction for the sentiment of the input sentence. We get the embedding dimension size (called the `hidden_size`) from the transformer via its config attribute. The rest of the initialization is standard.\n",
        "\n",
        "Within the forward pass, we wrap the transformer in a `no_grad` to ensure no gradients are calculated over this part of the model. The transformer actually returns the embeddings for the whole sequence as well as a *pooled* output. The [documentation](https://huggingface.co/transformers/model_doc/bert.html#transformers.BertModel) states that the pooled output is \"usually not a good summary of the semantic content of the input, you’re often better with averaging or pooling the sequence of hidden-states for the whole input sequence\", hence we will not be using it.\n",
        "The rest of the forward pass is the standard implementation of a recurrent model, where we take the hidden state over the final time-step, and pass it through a linear layer to get our predictions.\n",
        "**When using a bidrectional GRU, we concatenate the final step of the forward and backward direction**"
      ]
    },
    {
      "cell_type": "code",
      "execution_count": null,
      "metadata": {
        "id": "BJJZCqi9ifsi"
      },
      "outputs": [],
      "source": [
        "from inspect import Parameter\n",
        "import torch.nn as nn\n",
        "\n",
        "class BERTGRUSentiment(nn.Module):\n",
        "    def __init__(self,\n",
        "                 bert,\n",
        "                 hidden_dim,\n",
        "                 output_dim,\n",
        "                 n_layers,\n",
        "                 bidirectional,\n",
        "                 dropout):\n",
        "        \"\"\"\n",
        "        Parameters: \n",
        "          bert: pre-trained BERT model\n",
        "          hidden_dim: hidden dimensionality of GRU\n",
        "          output_dim: output dimensionality of output linear layer (when non-bidirectional)\n",
        "          n_layers: number of GRU layers\n",
        "          bidirectional: True if GRU is bi-directional, False if otherwise.\n",
        "          dropout: dropout rate for the dropout layer\n",
        "        \"\"\"\n",
        "        super().__init__()\n",
        "        self.bidirectional = bidirectional \n",
        "\n",
        "        self.bert = bert\n",
        "        \n",
        "        # TODO: get the embedding dimension size 'hidden_size' from the transformer via its config attribute\n",
        "        self.embedding_dim = bert.config.hidden_size\n",
        "        \n",
        "        # TODO: add an n_layers GRU (you may use nn.GRU) - make sure to include kwargs 'bidirectional', 'batch_first=True', and 'dropout'\n",
        "        self.rnn = nn.GRU(self.embedding_dim, hidden_dim, batch_first=True, num_layers = n_layers, bidirectional = bidirectional, dropout = dropout)\n",
        "        \n",
        "        # TODO: add output linear layer (recall that we concatenate two hidden vectors when using bidirectional GRU)\n",
        "        if(self.bidirectional == True):\n",
        "          self.out = nn.Linear(2*hidden_dim, output_dim)\n",
        "        else:\n",
        "          self.out = nn.Linear(hidden_dim, output_dim)  \n",
        "        \n",
        "        # TODO: add dropout layer\n",
        "        self.dropout = nn.Dropout(dropout)\n",
        "        \n",
        "    def forward(self, text):\n",
        "        # TODO: Compute the forward pass of the transformer inside a `torch.no_grad()` context.\n",
        "        with torch.no_grad(): # means no train\n",
        "          output = self.bert(text)      \n",
        "        \n",
        "        # TODO: pass embeddings through recurrent network\n",
        "        enc_hiddens, last_hidden = self.rnn(output[0])  \n",
        "\n",
        "        # TODO: Select the hidden state to use - last step for unidirectional -\n",
        "        # last step of forward and backward iteration concatenated for bidirectional\n",
        "        # (hint: look at the docs for nn.GRU - https://pytorch.org/docs/stable/generated/torch.nn.GRU.html)\\\n",
        "        if self.bidirectional:\n",
        "          output = torch.cat((last_hidden[0], last_hidden[1]), dim = 1)\n",
        "        else:\n",
        "          output = last_hidden[0]\n",
        "\n",
        "        output = output.to(device)    \n",
        "        # TODO: pass through dropout layer\n",
        "        output = self.dropout(output)\n",
        "        # TODO: pass through output linear layer\n",
        "        output = self.out(output)\n",
        "        return output"
      ]
    },
    {
      "cell_type": "markdown",
      "metadata": {
        "id": "9QIcv7DtkzC7"
      },
      "source": [
        "Next, we create an instance of our model. You need to select hyperparameters.\n",
        "\n",
        "In order to freeze BERT paramers (not train them) we need to set their `requires_grad` attribute to `False`. To do this, we simply loop through all of the `named_parameters` in our model and if they're a part of the `bert` transformer model, we set `requires_grad = False`. "
      ]
    },
    {
      "cell_type": "code",
      "execution_count": null,
      "metadata": {
        "id": "0sMepDxQeikM"
      },
      "outputs": [],
      "source": [
        "  ################################### TODO ###################################\n",
        "# Adjust these hyperparameters as you see fit\n",
        "############################################################################\n",
        "HIDDEN_DIM = 256\n",
        "N_LAYERS = 2\n",
        "BIDIRECTIONAL = True\n",
        "DROPOUT = 0.2\n",
        "LEARNING_RATE = 1e-4\n",
        "N_EPOCHS = 15\n",
        "################################ END TODO ##################################\n",
        "\n",
        "model = BERTGRUSentiment(bert,\n",
        "                         HIDDEN_DIM,\n",
        "                         1,\n",
        "                         N_LAYERS,\n",
        "                         BIDIRECTIONAL,\n",
        "                         DROPOUT)\n",
        "\n",
        "for name, param in model.named_parameters():                \n",
        "    if name.startswith('bert'):\n",
        "        param.requires_grad = False"
      ]
    },
    {
      "cell_type": "markdown",
      "metadata": {
        "id": "FuZfESKVleH_"
      },
      "source": [
        "## Train the Model\n",
        "\n",
        "As is standard, we define our optimizer and criterion (loss function)."
      ]
    },
    {
      "cell_type": "code",
      "execution_count": null,
      "metadata": {
        "id": "0TylRmoglj6s"
      },
      "outputs": [],
      "source": [
        "import torch.optim as optim\n",
        "\n",
        "optimizer = optim.Adam(model.parameters(), lr=LEARNING_RATE)\n",
        "criterion = nn.BCEWithLogitsLoss()\n",
        "\n",
        "# Place the model and criterion onto the GPU (if available)\n",
        "model = model.to(device)\n",
        "criterion = criterion.to(device)"
      ]
    },
    {
      "cell_type": "markdown",
      "metadata": {
        "id": "p1f_kIrgltC3"
      },
      "source": [
        "Next, we'll define functions for: calculating accuracy, performing a training epoch, performing an evaluation epoch and calculating how long a training/evaluation epoch takes."
      ]
    },
    {
      "cell_type": "code",
      "execution_count": null,
      "metadata": {
        "id": "VdAWegEVlvxh"
      },
      "outputs": [],
      "source": [
        "def binary_accuracy(preds, y):\n",
        "    \"\"\"\n",
        "    Returns accuracy per batch, i.e. if you get 8/10 right, this returns 0.8, NOT 8\n",
        "    \"\"\"\n",
        "    # TODO: compute the binary_accuracy\n",
        "\n",
        "    temp = torch.sigmoid(preds.detach().clone())\n",
        "    acc = torch.eq(temp.round(), y)\n",
        "    acc[acc == True] = 1\n",
        "    acc[acc == False] = 0\n",
        "    acc = acc.sum()/acc.numel()\n",
        "    return acc\n",
        "\n",
        "def train(model, iterator, optimizer, criterion):\n",
        "    \n",
        "    epoch_loss = 0\n",
        "    epoch_acc = 0\n",
        "    \n",
        "    model.train()\n",
        "    \n",
        "    for batch in iterator:\n",
        "        \n",
        "        optimizer.zero_grad()\n",
        "        \n",
        "        predictions = model(batch.text).squeeze(1)\n",
        "\n",
        "        loss = criterion(predictions, batch.label)\n",
        "        \n",
        "        acc = binary_accuracy(predictions, batch.label)\n",
        "        \n",
        "        loss.backward()\n",
        "        \n",
        "        optimizer.step()\n",
        "        \n",
        "        epoch_loss += loss.item()\n",
        "        epoch_acc += acc.item()\n",
        "        \n",
        "    return epoch_loss / len(iterator), epoch_acc / len(iterator)\n",
        "\n",
        "def evaluate(model, iterator, criterion):\n",
        "    \n",
        "    epoch_loss = 0\n",
        "    epoch_acc = 0\n",
        "    \n",
        "    model.eval()\n",
        "    \n",
        "    with torch.no_grad():\n",
        "    \n",
        "        for batch in iterator:\n",
        "\n",
        "            predictions = model(batch.text).squeeze(1)\n",
        "            \n",
        "            loss = criterion(predictions, batch.label)\n",
        "            \n",
        "            acc = binary_accuracy(predictions, batch.label)\n",
        "\n",
        "            epoch_loss += loss.item()\n",
        "            epoch_acc += acc.item()\n",
        "        \n",
        "    return epoch_loss / len(iterator), epoch_acc / len(iterator)\n",
        "\n",
        "import time\n",
        "\n",
        "def epoch_time(start_time, end_time):\n",
        "    elapsed_time = end_time - start_time\n",
        "    elapsed_mins = int(elapsed_time / 60)\n",
        "    elapsed_secs = int(elapsed_time - (elapsed_mins * 60))\n",
        "    return elapsed_mins, elapsed_secs"
      ]
    },
    {
      "cell_type": "markdown",
      "metadata": {
        "id": "JMZ-1iKRmRtN"
      },
      "source": [
        "Finally, we'll train our model.\n",
        "\n",
        "**Please train your model such that it reaches 90% validation accuracy.** This is possible to accomplish within 15 minutes of training on GPU with the correct implementation and hyperparameters. Feel free to adjust the hyperparameters defined above in order to get the desired performance. Your points received will scale linearly from 0 for 50% accuracy to 8 for at least 90% accuracy."
      ]
    },
    {
      "cell_type": "code",
      "execution_count": null,
      "metadata": {
        "id": "pUE1k-BZmVj1",
        "colab": {
          "base_uri": "https://localhost:8080/"
        },
        "outputId": "0333ed53-ab19-454a-d438-eb93435adf68"
      },
      "outputs": [
        {
          "output_type": "stream",
          "name": "stdout",
          "text": [
            "Epoch: 01 | Epoch Time: 14m 23s\n",
            "\tTrain Loss: 0.533 | Train Acc: 72.32%\n",
            "\t Val. Loss: 0.350 |  Val. Acc: 86.13%\n",
            "Epoch: 02 | Epoch Time: 14m 36s\n",
            "\tTrain Loss: 0.344 | Train Acc: 86.04%\n",
            "\t Val. Loss: 0.290 |  Val. Acc: 88.63%\n",
            "Epoch: 03 | Epoch Time: 14m 37s\n",
            "\tTrain Loss: 0.294 | Train Acc: 88.17%\n",
            "\t Val. Loss: 0.269 |  Val. Acc: 88.96%\n",
            "Epoch: 04 | Epoch Time: 14m 37s\n",
            "\tTrain Loss: 0.264 | Train Acc: 89.48%\n",
            "\t Val. Loss: 0.262 |  Val. Acc: 89.17%\n",
            "Epoch: 05 | Epoch Time: 14m 38s\n",
            "\tTrain Loss: 0.241 | Train Acc: 90.53%\n",
            "\t Val. Loss: 0.241 |  Val. Acc: 90.39%\n",
            "Epoch: 06 | Epoch Time: 14m 38s\n",
            "\tTrain Loss: 0.228 | Train Acc: 91.00%\n",
            "\t Val. Loss: 0.236 |  Val. Acc: 90.42%\n",
            "Epoch: 07 | Epoch Time: 14m 38s\n",
            "\tTrain Loss: 0.220 | Train Acc: 91.37%\n",
            "\t Val. Loss: 0.241 |  Val. Acc: 90.31%\n",
            "Epoch: 08 | Epoch Time: 14m 37s\n",
            "\tTrain Loss: 0.203 | Train Acc: 91.87%\n",
            "\t Val. Loss: 0.238 |  Val. Acc: 90.37%\n",
            "Epoch: 09 | Epoch Time: 14m 37s\n",
            "\tTrain Loss: 0.195 | Train Acc: 92.38%\n",
            "\t Val. Loss: 0.233 |  Val. Acc: 90.58%\n",
            "Epoch: 10 | Epoch Time: 14m 38s\n",
            "\tTrain Loss: 0.177 | Train Acc: 93.14%\n",
            "\t Val. Loss: 0.242 |  Val. Acc: 90.51%\n",
            "Epoch: 11 | Epoch Time: 14m 38s\n",
            "\tTrain Loss: 0.169 | Train Acc: 93.64%\n",
            "\t Val. Loss: 0.244 |  Val. Acc: 90.43%\n",
            "Epoch: 12 | Epoch Time: 14m 39s\n",
            "\tTrain Loss: 0.160 | Train Acc: 93.93%\n",
            "\t Val. Loss: 0.254 |  Val. Acc: 90.47%\n",
            "Epoch: 13 | Epoch Time: 14m 37s\n",
            "\tTrain Loss: 0.143 | Train Acc: 94.52%\n",
            "\t Val. Loss: 0.258 |  Val. Acc: 90.23%\n",
            "Epoch: 14 | Epoch Time: 14m 38s\n",
            "\tTrain Loss: 0.134 | Train Acc: 95.09%\n",
            "\t Val. Loss: 0.266 |  Val. Acc: 90.50%\n",
            "Epoch: 15 | Epoch Time: 14m 37s\n",
            "\tTrain Loss: 0.123 | Train Acc: 95.45%\n",
            "\t Val. Loss: 0.282 |  Val. Acc: 90.38%\n"
          ]
        }
      ],
      "source": [
        "best_valid_loss = float('inf')\n",
        "\n",
        "for epoch in range(N_EPOCHS):\n",
        "    \n",
        "    start_time = time.time()\n",
        "    \n",
        "    train_loss, train_acc = train(model, train_iterator, optimizer, criterion)\n",
        "    valid_loss, valid_acc = evaluate(model, valid_iterator, criterion)\n",
        "        \n",
        "    end_time = time.time()\n",
        "        \n",
        "    epoch_mins, epoch_secs = epoch_time(start_time, end_time)\n",
        "        \n",
        "    if valid_loss < best_valid_loss:\n",
        "        best_valid_loss = valid_loss\n",
        "        torch.save(model.state_dict(), 'best-model.pt')\n",
        "    \n",
        "    print(f'Epoch: {epoch+1:02} | Epoch Time: {epoch_mins}m {epoch_secs}s')\n",
        "    print(f'\\tTrain Loss: {train_loss:.3f} | Train Acc: {train_acc*100:.2f}%')\n",
        "    print(f'\\t Val. Loss: {valid_loss:.3f} |  Val. Acc: {valid_acc*100:.2f}%')"
      ]
    },
    {
      "cell_type": "markdown",
      "metadata": {
        "id": "YL4wDB-inioi"
      },
      "source": [
        "Load up the parameters that gave us the best validation loss and try these on the test set"
      ]
    },
    {
      "cell_type": "code",
      "execution_count": null,
      "metadata": {
        "id": "ogcFgM0gnjse",
        "colab": {
          "base_uri": "https://localhost:8080/"
        },
        "outputId": "f4975dd1-336f-4b89-d891-2adff21190a9"
      },
      "outputs": [
        {
          "output_type": "stream",
          "name": "stdout",
          "text": [
            "Test Loss: 0.213 | Test Acc: 91.53%\n"
          ]
        }
      ],
      "source": [
        "model.load_state_dict(torch.load('best-model.pt'))\n",
        "\n",
        "test_loss, test_acc = evaluate(model, test_iterator, criterion)\n",
        "\n",
        "print(f'Test Loss: {test_loss:.3f} | Test Acc: {test_acc*100:.2f}%')\n"
      ]
    },
    {
      "cell_type": "markdown",
      "metadata": {
        "id": "fbIMuBOBnpci"
      },
      "source": [
        "## Inference\n",
        "\n",
        "We'll then use the model to test the sentiment of some sequences. We tokenize the input sequence, trim it down to the maximum length, add the special tokens to either side, convert it to a tensor, add a fake batch dimension and then pass it through our model. Feel free to add more test cases!"
      ]
    },
    {
      "cell_type": "code",
      "execution_count": null,
      "metadata": {
        "id": "nAqpshDunvrB",
        "colab": {
          "base_uri": "https://localhost:8080/"
        },
        "outputId": "b51991a1-9c6d-4df6-cb9b-71f2da6f8125"
      },
      "outputs": [
        {
          "output_type": "stream",
          "name": "stdout",
          "text": [
            "0.0652523934841156\n",
            "0.8600755333900452\n",
            "0.2424100637435913\n",
            "0.789646327495575\n"
          ]
        }
      ],
      "source": [
        "def predict_sentiment(model, tokenizer, sentence):\n",
        "    model.eval()\n",
        "    tokens = tokenizer.tokenize(sentence)\n",
        "    tokens = tokens[:max_input_length-2]\n",
        "    indexed = [init_token_idx] + tokenizer.convert_tokens_to_ids(tokens) + [eos_token_idx]\n",
        "    tensor = torch.LongTensor(indexed).to(device)\n",
        "    tensor = tensor.unsqueeze(0)\n",
        "    prediction = torch.sigmoid(model(tensor))\n",
        "    return prediction.item()\n",
        "\n",
        "print(predict_sentiment(model, tokenizer, \"This film is terrible\"))\n",
        "\n",
        "print(predict_sentiment(model, tokenizer, \"This film is great\"))\n",
        "\n",
        "print(predict_sentiment(model, tokenizer, \"I did not like the film\"))\n",
        "print(predict_sentiment(model, tokenizer, \"I enjoyed the movie\"))"
      ]
    },
    {
      "cell_type": "markdown",
      "metadata": {
        "id": "qDDjSY4hI4Pf"
      },
      "source": [
        "## Conceptual Questions\n",
        "\n",
        ">Questions: \n",
        "1.   Why is the residual connection is crucial in the Transformer architecture?\n",
        "2.   Why is Layer Normalization important in the Transformer architecture?\n",
        "3.  Why do we use the scaling factor of $1/\\sqrt{d_k}$ in Scaled Dot Product Attention? If we remove it, what is going to happen? \n",
        "\n",
        ">**Answer**:\n",
        "1. The residual connection helps the Transformer architecture train better by allowing gradient\n",
        "flow directly to the network.\n",
        "2. Layer Normalization is used to smooth gradients, makes training faster, and help better\n",
        "generalization accuracy.\n",
        "3. The scaling factor is to prevent the extreme on the softmax function. If the values are in the\n",
        "extreme end, then the gradient will be slow. In addition, the scaling makes the model\n",
        "independent of the input size."
      ]
    },
    {
      "cell_type": "markdown",
      "source": [
        "This was a class assignment"
      ],
      "metadata": {
        "id": "XRn0XbhHGAXq"
      }
    }
  ],
  "metadata": {
    "colab": {
      "collapsed_sections": [],
      "name": "Creating a Transformer for Language Modeling and Sentiment Analysis",
      "provenance": [],
      "include_colab_link": true
    },
    "kernelspec": {
      "display_name": "Python 3",
      "language": "python",
      "name": "python3"
    },
    "language_info": {
      "codemirror_mode": {
        "name": "ipython",
        "version": 3
      },
      "file_extension": ".py",
      "mimetype": "text/x-python",
      "name": "python",
      "nbconvert_exporter": "python",
      "pygments_lexer": "ipython3",
      "version": "3.8.5"
    },
    "accelerator": "GPU",
    "widgets": {
      "application/vnd.jupyter.widget-state+json": {
        "fdbc3ecf77144bd186e230612eaca29c": {
          "model_module": "@jupyter-widgets/controls",
          "model_name": "HBoxModel",
          "model_module_version": "1.5.0",
          "state": {
            "_dom_classes": [],
            "_model_module": "@jupyter-widgets/controls",
            "_model_module_version": "1.5.0",
            "_model_name": "HBoxModel",
            "_view_count": null,
            "_view_module": "@jupyter-widgets/controls",
            "_view_module_version": "1.5.0",
            "_view_name": "HBoxView",
            "box_style": "",
            "children": [
              "IPY_MODEL_4a7d9e9ac965461d825b569ae0012999",
              "IPY_MODEL_98060aa488b747b39b1a71d6ecba82f1",
              "IPY_MODEL_f81075e3eef44b43a90224dbc7dc8de7"
            ],
            "layout": "IPY_MODEL_c4c3f0b3b6d344c59e13fd3535dcca03"
          }
        },
        "4a7d9e9ac965461d825b569ae0012999": {
          "model_module": "@jupyter-widgets/controls",
          "model_name": "HTMLModel",
          "model_module_version": "1.5.0",
          "state": {
            "_dom_classes": [],
            "_model_module": "@jupyter-widgets/controls",
            "_model_module_version": "1.5.0",
            "_model_name": "HTMLModel",
            "_view_count": null,
            "_view_module": "@jupyter-widgets/controls",
            "_view_module_version": "1.5.0",
            "_view_name": "HTMLView",
            "description": "",
            "description_tooltip": null,
            "layout": "IPY_MODEL_68e81553b03c48928c97e77358708a53",
            "placeholder": "​",
            "style": "IPY_MODEL_bac081419fd64a038836c42bc743d925",
            "value": "Downloading: 100%"
          }
        },
        "98060aa488b747b39b1a71d6ecba82f1": {
          "model_module": "@jupyter-widgets/controls",
          "model_name": "FloatProgressModel",
          "model_module_version": "1.5.0",
          "state": {
            "_dom_classes": [],
            "_model_module": "@jupyter-widgets/controls",
            "_model_module_version": "1.5.0",
            "_model_name": "FloatProgressModel",
            "_view_count": null,
            "_view_module": "@jupyter-widgets/controls",
            "_view_module_version": "1.5.0",
            "_view_name": "ProgressView",
            "bar_style": "success",
            "description": "",
            "description_tooltip": null,
            "layout": "IPY_MODEL_b55b79ceb9084fd5883d4891d5f13556",
            "max": 231508,
            "min": 0,
            "orientation": "horizontal",
            "style": "IPY_MODEL_232474276ec7447b8b3270a2342154c8",
            "value": 231508
          }
        },
        "f81075e3eef44b43a90224dbc7dc8de7": {
          "model_module": "@jupyter-widgets/controls",
          "model_name": "HTMLModel",
          "model_module_version": "1.5.0",
          "state": {
            "_dom_classes": [],
            "_model_module": "@jupyter-widgets/controls",
            "_model_module_version": "1.5.0",
            "_model_name": "HTMLModel",
            "_view_count": null,
            "_view_module": "@jupyter-widgets/controls",
            "_view_module_version": "1.5.0",
            "_view_name": "HTMLView",
            "description": "",
            "description_tooltip": null,
            "layout": "IPY_MODEL_3550414c65b64cf7ad53cf18dec22fce",
            "placeholder": "​",
            "style": "IPY_MODEL_d2d95ccec5ad4ba2942f1b6df4cbe2d7",
            "value": " 226k/226k [00:00&lt;00:00, 4.68MB/s]"
          }
        },
        "c4c3f0b3b6d344c59e13fd3535dcca03": {
          "model_module": "@jupyter-widgets/base",
          "model_name": "LayoutModel",
          "model_module_version": "1.2.0",
          "state": {
            "_model_module": "@jupyter-widgets/base",
            "_model_module_version": "1.2.0",
            "_model_name": "LayoutModel",
            "_view_count": null,
            "_view_module": "@jupyter-widgets/base",
            "_view_module_version": "1.2.0",
            "_view_name": "LayoutView",
            "align_content": null,
            "align_items": null,
            "align_self": null,
            "border": null,
            "bottom": null,
            "display": null,
            "flex": null,
            "flex_flow": null,
            "grid_area": null,
            "grid_auto_columns": null,
            "grid_auto_flow": null,
            "grid_auto_rows": null,
            "grid_column": null,
            "grid_gap": null,
            "grid_row": null,
            "grid_template_areas": null,
            "grid_template_columns": null,
            "grid_template_rows": null,
            "height": null,
            "justify_content": null,
            "justify_items": null,
            "left": null,
            "margin": null,
            "max_height": null,
            "max_width": null,
            "min_height": null,
            "min_width": null,
            "object_fit": null,
            "object_position": null,
            "order": null,
            "overflow": null,
            "overflow_x": null,
            "overflow_y": null,
            "padding": null,
            "right": null,
            "top": null,
            "visibility": null,
            "width": null
          }
        },
        "68e81553b03c48928c97e77358708a53": {
          "model_module": "@jupyter-widgets/base",
          "model_name": "LayoutModel",
          "model_module_version": "1.2.0",
          "state": {
            "_model_module": "@jupyter-widgets/base",
            "_model_module_version": "1.2.0",
            "_model_name": "LayoutModel",
            "_view_count": null,
            "_view_module": "@jupyter-widgets/base",
            "_view_module_version": "1.2.0",
            "_view_name": "LayoutView",
            "align_content": null,
            "align_items": null,
            "align_self": null,
            "border": null,
            "bottom": null,
            "display": null,
            "flex": null,
            "flex_flow": null,
            "grid_area": null,
            "grid_auto_columns": null,
            "grid_auto_flow": null,
            "grid_auto_rows": null,
            "grid_column": null,
            "grid_gap": null,
            "grid_row": null,
            "grid_template_areas": null,
            "grid_template_columns": null,
            "grid_template_rows": null,
            "height": null,
            "justify_content": null,
            "justify_items": null,
            "left": null,
            "margin": null,
            "max_height": null,
            "max_width": null,
            "min_height": null,
            "min_width": null,
            "object_fit": null,
            "object_position": null,
            "order": null,
            "overflow": null,
            "overflow_x": null,
            "overflow_y": null,
            "padding": null,
            "right": null,
            "top": null,
            "visibility": null,
            "width": null
          }
        },
        "bac081419fd64a038836c42bc743d925": {
          "model_module": "@jupyter-widgets/controls",
          "model_name": "DescriptionStyleModel",
          "model_module_version": "1.5.0",
          "state": {
            "_model_module": "@jupyter-widgets/controls",
            "_model_module_version": "1.5.0",
            "_model_name": "DescriptionStyleModel",
            "_view_count": null,
            "_view_module": "@jupyter-widgets/base",
            "_view_module_version": "1.2.0",
            "_view_name": "StyleView",
            "description_width": ""
          }
        },
        "b55b79ceb9084fd5883d4891d5f13556": {
          "model_module": "@jupyter-widgets/base",
          "model_name": "LayoutModel",
          "model_module_version": "1.2.0",
          "state": {
            "_model_module": "@jupyter-widgets/base",
            "_model_module_version": "1.2.0",
            "_model_name": "LayoutModel",
            "_view_count": null,
            "_view_module": "@jupyter-widgets/base",
            "_view_module_version": "1.2.0",
            "_view_name": "LayoutView",
            "align_content": null,
            "align_items": null,
            "align_self": null,
            "border": null,
            "bottom": null,
            "display": null,
            "flex": null,
            "flex_flow": null,
            "grid_area": null,
            "grid_auto_columns": null,
            "grid_auto_flow": null,
            "grid_auto_rows": null,
            "grid_column": null,
            "grid_gap": null,
            "grid_row": null,
            "grid_template_areas": null,
            "grid_template_columns": null,
            "grid_template_rows": null,
            "height": null,
            "justify_content": null,
            "justify_items": null,
            "left": null,
            "margin": null,
            "max_height": null,
            "max_width": null,
            "min_height": null,
            "min_width": null,
            "object_fit": null,
            "object_position": null,
            "order": null,
            "overflow": null,
            "overflow_x": null,
            "overflow_y": null,
            "padding": null,
            "right": null,
            "top": null,
            "visibility": null,
            "width": null
          }
        },
        "232474276ec7447b8b3270a2342154c8": {
          "model_module": "@jupyter-widgets/controls",
          "model_name": "ProgressStyleModel",
          "model_module_version": "1.5.0",
          "state": {
            "_model_module": "@jupyter-widgets/controls",
            "_model_module_version": "1.5.0",
            "_model_name": "ProgressStyleModel",
            "_view_count": null,
            "_view_module": "@jupyter-widgets/base",
            "_view_module_version": "1.2.0",
            "_view_name": "StyleView",
            "bar_color": null,
            "description_width": ""
          }
        },
        "3550414c65b64cf7ad53cf18dec22fce": {
          "model_module": "@jupyter-widgets/base",
          "model_name": "LayoutModel",
          "model_module_version": "1.2.0",
          "state": {
            "_model_module": "@jupyter-widgets/base",
            "_model_module_version": "1.2.0",
            "_model_name": "LayoutModel",
            "_view_count": null,
            "_view_module": "@jupyter-widgets/base",
            "_view_module_version": "1.2.0",
            "_view_name": "LayoutView",
            "align_content": null,
            "align_items": null,
            "align_self": null,
            "border": null,
            "bottom": null,
            "display": null,
            "flex": null,
            "flex_flow": null,
            "grid_area": null,
            "grid_auto_columns": null,
            "grid_auto_flow": null,
            "grid_auto_rows": null,
            "grid_column": null,
            "grid_gap": null,
            "grid_row": null,
            "grid_template_areas": null,
            "grid_template_columns": null,
            "grid_template_rows": null,
            "height": null,
            "justify_content": null,
            "justify_items": null,
            "left": null,
            "margin": null,
            "max_height": null,
            "max_width": null,
            "min_height": null,
            "min_width": null,
            "object_fit": null,
            "object_position": null,
            "order": null,
            "overflow": null,
            "overflow_x": null,
            "overflow_y": null,
            "padding": null,
            "right": null,
            "top": null,
            "visibility": null,
            "width": null
          }
        },
        "d2d95ccec5ad4ba2942f1b6df4cbe2d7": {
          "model_module": "@jupyter-widgets/controls",
          "model_name": "DescriptionStyleModel",
          "model_module_version": "1.5.0",
          "state": {
            "_model_module": "@jupyter-widgets/controls",
            "_model_module_version": "1.5.0",
            "_model_name": "DescriptionStyleModel",
            "_view_count": null,
            "_view_module": "@jupyter-widgets/base",
            "_view_module_version": "1.2.0",
            "_view_name": "StyleView",
            "description_width": ""
          }
        },
        "14f8d541f6204737bdef0cc66a57add0": {
          "model_module": "@jupyter-widgets/controls",
          "model_name": "HBoxModel",
          "model_module_version": "1.5.0",
          "state": {
            "_dom_classes": [],
            "_model_module": "@jupyter-widgets/controls",
            "_model_module_version": "1.5.0",
            "_model_name": "HBoxModel",
            "_view_count": null,
            "_view_module": "@jupyter-widgets/controls",
            "_view_module_version": "1.5.0",
            "_view_name": "HBoxView",
            "box_style": "",
            "children": [
              "IPY_MODEL_8e5c0bab6b404a5f8179f92b3ac03de2",
              "IPY_MODEL_56f1da1f01c84650a13869e2a34f04c4",
              "IPY_MODEL_3b38922ef2484e809ac78ff3c49b8201"
            ],
            "layout": "IPY_MODEL_11feb4d5639e4954b1863ac472037c2c"
          }
        },
        "8e5c0bab6b404a5f8179f92b3ac03de2": {
          "model_module": "@jupyter-widgets/controls",
          "model_name": "HTMLModel",
          "model_module_version": "1.5.0",
          "state": {
            "_dom_classes": [],
            "_model_module": "@jupyter-widgets/controls",
            "_model_module_version": "1.5.0",
            "_model_name": "HTMLModel",
            "_view_count": null,
            "_view_module": "@jupyter-widgets/controls",
            "_view_module_version": "1.5.0",
            "_view_name": "HTMLView",
            "description": "",
            "description_tooltip": null,
            "layout": "IPY_MODEL_c51a99308fa4494a9ae50f645f8e736f",
            "placeholder": "​",
            "style": "IPY_MODEL_d37d78795c3f421495a3a1a76df84c07",
            "value": "Downloading: 100%"
          }
        },
        "56f1da1f01c84650a13869e2a34f04c4": {
          "model_module": "@jupyter-widgets/controls",
          "model_name": "FloatProgressModel",
          "model_module_version": "1.5.0",
          "state": {
            "_dom_classes": [],
            "_model_module": "@jupyter-widgets/controls",
            "_model_module_version": "1.5.0",
            "_model_name": "FloatProgressModel",
            "_view_count": null,
            "_view_module": "@jupyter-widgets/controls",
            "_view_module_version": "1.5.0",
            "_view_name": "ProgressView",
            "bar_style": "success",
            "description": "",
            "description_tooltip": null,
            "layout": "IPY_MODEL_0a7bf09403644438809cec9ee1f64e23",
            "max": 28,
            "min": 0,
            "orientation": "horizontal",
            "style": "IPY_MODEL_f7dfc866e2e146028f9f04419100ee0e",
            "value": 28
          }
        },
        "3b38922ef2484e809ac78ff3c49b8201": {
          "model_module": "@jupyter-widgets/controls",
          "model_name": "HTMLModel",
          "model_module_version": "1.5.0",
          "state": {
            "_dom_classes": [],
            "_model_module": "@jupyter-widgets/controls",
            "_model_module_version": "1.5.0",
            "_model_name": "HTMLModel",
            "_view_count": null,
            "_view_module": "@jupyter-widgets/controls",
            "_view_module_version": "1.5.0",
            "_view_name": "HTMLView",
            "description": "",
            "description_tooltip": null,
            "layout": "IPY_MODEL_960aeb6b51ab49b1bf6e92016b49818c",
            "placeholder": "​",
            "style": "IPY_MODEL_3bb9e1110b034a11b04addc98e9a733b",
            "value": " 28.0/28.0 [00:00&lt;00:00, 805B/s]"
          }
        },
        "11feb4d5639e4954b1863ac472037c2c": {
          "model_module": "@jupyter-widgets/base",
          "model_name": "LayoutModel",
          "model_module_version": "1.2.0",
          "state": {
            "_model_module": "@jupyter-widgets/base",
            "_model_module_version": "1.2.0",
            "_model_name": "LayoutModel",
            "_view_count": null,
            "_view_module": "@jupyter-widgets/base",
            "_view_module_version": "1.2.0",
            "_view_name": "LayoutView",
            "align_content": null,
            "align_items": null,
            "align_self": null,
            "border": null,
            "bottom": null,
            "display": null,
            "flex": null,
            "flex_flow": null,
            "grid_area": null,
            "grid_auto_columns": null,
            "grid_auto_flow": null,
            "grid_auto_rows": null,
            "grid_column": null,
            "grid_gap": null,
            "grid_row": null,
            "grid_template_areas": null,
            "grid_template_columns": null,
            "grid_template_rows": null,
            "height": null,
            "justify_content": null,
            "justify_items": null,
            "left": null,
            "margin": null,
            "max_height": null,
            "max_width": null,
            "min_height": null,
            "min_width": null,
            "object_fit": null,
            "object_position": null,
            "order": null,
            "overflow": null,
            "overflow_x": null,
            "overflow_y": null,
            "padding": null,
            "right": null,
            "top": null,
            "visibility": null,
            "width": null
          }
        },
        "c51a99308fa4494a9ae50f645f8e736f": {
          "model_module": "@jupyter-widgets/base",
          "model_name": "LayoutModel",
          "model_module_version": "1.2.0",
          "state": {
            "_model_module": "@jupyter-widgets/base",
            "_model_module_version": "1.2.0",
            "_model_name": "LayoutModel",
            "_view_count": null,
            "_view_module": "@jupyter-widgets/base",
            "_view_module_version": "1.2.0",
            "_view_name": "LayoutView",
            "align_content": null,
            "align_items": null,
            "align_self": null,
            "border": null,
            "bottom": null,
            "display": null,
            "flex": null,
            "flex_flow": null,
            "grid_area": null,
            "grid_auto_columns": null,
            "grid_auto_flow": null,
            "grid_auto_rows": null,
            "grid_column": null,
            "grid_gap": null,
            "grid_row": null,
            "grid_template_areas": null,
            "grid_template_columns": null,
            "grid_template_rows": null,
            "height": null,
            "justify_content": null,
            "justify_items": null,
            "left": null,
            "margin": null,
            "max_height": null,
            "max_width": null,
            "min_height": null,
            "min_width": null,
            "object_fit": null,
            "object_position": null,
            "order": null,
            "overflow": null,
            "overflow_x": null,
            "overflow_y": null,
            "padding": null,
            "right": null,
            "top": null,
            "visibility": null,
            "width": null
          }
        },
        "d37d78795c3f421495a3a1a76df84c07": {
          "model_module": "@jupyter-widgets/controls",
          "model_name": "DescriptionStyleModel",
          "model_module_version": "1.5.0",
          "state": {
            "_model_module": "@jupyter-widgets/controls",
            "_model_module_version": "1.5.0",
            "_model_name": "DescriptionStyleModel",
            "_view_count": null,
            "_view_module": "@jupyter-widgets/base",
            "_view_module_version": "1.2.0",
            "_view_name": "StyleView",
            "description_width": ""
          }
        },
        "0a7bf09403644438809cec9ee1f64e23": {
          "model_module": "@jupyter-widgets/base",
          "model_name": "LayoutModel",
          "model_module_version": "1.2.0",
          "state": {
            "_model_module": "@jupyter-widgets/base",
            "_model_module_version": "1.2.0",
            "_model_name": "LayoutModel",
            "_view_count": null,
            "_view_module": "@jupyter-widgets/base",
            "_view_module_version": "1.2.0",
            "_view_name": "LayoutView",
            "align_content": null,
            "align_items": null,
            "align_self": null,
            "border": null,
            "bottom": null,
            "display": null,
            "flex": null,
            "flex_flow": null,
            "grid_area": null,
            "grid_auto_columns": null,
            "grid_auto_flow": null,
            "grid_auto_rows": null,
            "grid_column": null,
            "grid_gap": null,
            "grid_row": null,
            "grid_template_areas": null,
            "grid_template_columns": null,
            "grid_template_rows": null,
            "height": null,
            "justify_content": null,
            "justify_items": null,
            "left": null,
            "margin": null,
            "max_height": null,
            "max_width": null,
            "min_height": null,
            "min_width": null,
            "object_fit": null,
            "object_position": null,
            "order": null,
            "overflow": null,
            "overflow_x": null,
            "overflow_y": null,
            "padding": null,
            "right": null,
            "top": null,
            "visibility": null,
            "width": null
          }
        },
        "f7dfc866e2e146028f9f04419100ee0e": {
          "model_module": "@jupyter-widgets/controls",
          "model_name": "ProgressStyleModel",
          "model_module_version": "1.5.0",
          "state": {
            "_model_module": "@jupyter-widgets/controls",
            "_model_module_version": "1.5.0",
            "_model_name": "ProgressStyleModel",
            "_view_count": null,
            "_view_module": "@jupyter-widgets/base",
            "_view_module_version": "1.2.0",
            "_view_name": "StyleView",
            "bar_color": null,
            "description_width": ""
          }
        },
        "960aeb6b51ab49b1bf6e92016b49818c": {
          "model_module": "@jupyter-widgets/base",
          "model_name": "LayoutModel",
          "model_module_version": "1.2.0",
          "state": {
            "_model_module": "@jupyter-widgets/base",
            "_model_module_version": "1.2.0",
            "_model_name": "LayoutModel",
            "_view_count": null,
            "_view_module": "@jupyter-widgets/base",
            "_view_module_version": "1.2.0",
            "_view_name": "LayoutView",
            "align_content": null,
            "align_items": null,
            "align_self": null,
            "border": null,
            "bottom": null,
            "display": null,
            "flex": null,
            "flex_flow": null,
            "grid_area": null,
            "grid_auto_columns": null,
            "grid_auto_flow": null,
            "grid_auto_rows": null,
            "grid_column": null,
            "grid_gap": null,
            "grid_row": null,
            "grid_template_areas": null,
            "grid_template_columns": null,
            "grid_template_rows": null,
            "height": null,
            "justify_content": null,
            "justify_items": null,
            "left": null,
            "margin": null,
            "max_height": null,
            "max_width": null,
            "min_height": null,
            "min_width": null,
            "object_fit": null,
            "object_position": null,
            "order": null,
            "overflow": null,
            "overflow_x": null,
            "overflow_y": null,
            "padding": null,
            "right": null,
            "top": null,
            "visibility": null,
            "width": null
          }
        },
        "3bb9e1110b034a11b04addc98e9a733b": {
          "model_module": "@jupyter-widgets/controls",
          "model_name": "DescriptionStyleModel",
          "model_module_version": "1.5.0",
          "state": {
            "_model_module": "@jupyter-widgets/controls",
            "_model_module_version": "1.5.0",
            "_model_name": "DescriptionStyleModel",
            "_view_count": null,
            "_view_module": "@jupyter-widgets/base",
            "_view_module_version": "1.2.0",
            "_view_name": "StyleView",
            "description_width": ""
          }
        },
        "b84a3cdf0285487eab675153004553e8": {
          "model_module": "@jupyter-widgets/controls",
          "model_name": "HBoxModel",
          "model_module_version": "1.5.0",
          "state": {
            "_dom_classes": [],
            "_model_module": "@jupyter-widgets/controls",
            "_model_module_version": "1.5.0",
            "_model_name": "HBoxModel",
            "_view_count": null,
            "_view_module": "@jupyter-widgets/controls",
            "_view_module_version": "1.5.0",
            "_view_name": "HBoxView",
            "box_style": "",
            "children": [
              "IPY_MODEL_4326d7e56b1f4da5b5987f4fe29790b2",
              "IPY_MODEL_83e53454112f4429ad04474184f0f04b",
              "IPY_MODEL_460d0e19f19f4147a45b19553c880984"
            ],
            "layout": "IPY_MODEL_90e420a947954b10aa011f4e04fbce49"
          }
        },
        "4326d7e56b1f4da5b5987f4fe29790b2": {
          "model_module": "@jupyter-widgets/controls",
          "model_name": "HTMLModel",
          "model_module_version": "1.5.0",
          "state": {
            "_dom_classes": [],
            "_model_module": "@jupyter-widgets/controls",
            "_model_module_version": "1.5.0",
            "_model_name": "HTMLModel",
            "_view_count": null,
            "_view_module": "@jupyter-widgets/controls",
            "_view_module_version": "1.5.0",
            "_view_name": "HTMLView",
            "description": "",
            "description_tooltip": null,
            "layout": "IPY_MODEL_4b3af99a129146378f41eb5bb34cdadf",
            "placeholder": "​",
            "style": "IPY_MODEL_c256820411d04a529c8b5f2c78cc50e7",
            "value": "Downloading: 100%"
          }
        },
        "83e53454112f4429ad04474184f0f04b": {
          "model_module": "@jupyter-widgets/controls",
          "model_name": "FloatProgressModel",
          "model_module_version": "1.5.0",
          "state": {
            "_dom_classes": [],
            "_model_module": "@jupyter-widgets/controls",
            "_model_module_version": "1.5.0",
            "_model_name": "FloatProgressModel",
            "_view_count": null,
            "_view_module": "@jupyter-widgets/controls",
            "_view_module_version": "1.5.0",
            "_view_name": "ProgressView",
            "bar_style": "success",
            "description": "",
            "description_tooltip": null,
            "layout": "IPY_MODEL_e745c6dd8d434748a71ad1640ab90ae4",
            "max": 570,
            "min": 0,
            "orientation": "horizontal",
            "style": "IPY_MODEL_10d32fcc892543c7b6035e001e16d22e",
            "value": 570
          }
        },
        "460d0e19f19f4147a45b19553c880984": {
          "model_module": "@jupyter-widgets/controls",
          "model_name": "HTMLModel",
          "model_module_version": "1.5.0",
          "state": {
            "_dom_classes": [],
            "_model_module": "@jupyter-widgets/controls",
            "_model_module_version": "1.5.0",
            "_model_name": "HTMLModel",
            "_view_count": null,
            "_view_module": "@jupyter-widgets/controls",
            "_view_module_version": "1.5.0",
            "_view_name": "HTMLView",
            "description": "",
            "description_tooltip": null,
            "layout": "IPY_MODEL_8ba0c5de8c7a462eba475118987f13e7",
            "placeholder": "​",
            "style": "IPY_MODEL_6a4a62af090c483d9b22c07de0962489",
            "value": " 570/570 [00:00&lt;00:00, 18.5kB/s]"
          }
        },
        "90e420a947954b10aa011f4e04fbce49": {
          "model_module": "@jupyter-widgets/base",
          "model_name": "LayoutModel",
          "model_module_version": "1.2.0",
          "state": {
            "_model_module": "@jupyter-widgets/base",
            "_model_module_version": "1.2.0",
            "_model_name": "LayoutModel",
            "_view_count": null,
            "_view_module": "@jupyter-widgets/base",
            "_view_module_version": "1.2.0",
            "_view_name": "LayoutView",
            "align_content": null,
            "align_items": null,
            "align_self": null,
            "border": null,
            "bottom": null,
            "display": null,
            "flex": null,
            "flex_flow": null,
            "grid_area": null,
            "grid_auto_columns": null,
            "grid_auto_flow": null,
            "grid_auto_rows": null,
            "grid_column": null,
            "grid_gap": null,
            "grid_row": null,
            "grid_template_areas": null,
            "grid_template_columns": null,
            "grid_template_rows": null,
            "height": null,
            "justify_content": null,
            "justify_items": null,
            "left": null,
            "margin": null,
            "max_height": null,
            "max_width": null,
            "min_height": null,
            "min_width": null,
            "object_fit": null,
            "object_position": null,
            "order": null,
            "overflow": null,
            "overflow_x": null,
            "overflow_y": null,
            "padding": null,
            "right": null,
            "top": null,
            "visibility": null,
            "width": null
          }
        },
        "4b3af99a129146378f41eb5bb34cdadf": {
          "model_module": "@jupyter-widgets/base",
          "model_name": "LayoutModel",
          "model_module_version": "1.2.0",
          "state": {
            "_model_module": "@jupyter-widgets/base",
            "_model_module_version": "1.2.0",
            "_model_name": "LayoutModel",
            "_view_count": null,
            "_view_module": "@jupyter-widgets/base",
            "_view_module_version": "1.2.0",
            "_view_name": "LayoutView",
            "align_content": null,
            "align_items": null,
            "align_self": null,
            "border": null,
            "bottom": null,
            "display": null,
            "flex": null,
            "flex_flow": null,
            "grid_area": null,
            "grid_auto_columns": null,
            "grid_auto_flow": null,
            "grid_auto_rows": null,
            "grid_column": null,
            "grid_gap": null,
            "grid_row": null,
            "grid_template_areas": null,
            "grid_template_columns": null,
            "grid_template_rows": null,
            "height": null,
            "justify_content": null,
            "justify_items": null,
            "left": null,
            "margin": null,
            "max_height": null,
            "max_width": null,
            "min_height": null,
            "min_width": null,
            "object_fit": null,
            "object_position": null,
            "order": null,
            "overflow": null,
            "overflow_x": null,
            "overflow_y": null,
            "padding": null,
            "right": null,
            "top": null,
            "visibility": null,
            "width": null
          }
        },
        "c256820411d04a529c8b5f2c78cc50e7": {
          "model_module": "@jupyter-widgets/controls",
          "model_name": "DescriptionStyleModel",
          "model_module_version": "1.5.0",
          "state": {
            "_model_module": "@jupyter-widgets/controls",
            "_model_module_version": "1.5.0",
            "_model_name": "DescriptionStyleModel",
            "_view_count": null,
            "_view_module": "@jupyter-widgets/base",
            "_view_module_version": "1.2.0",
            "_view_name": "StyleView",
            "description_width": ""
          }
        },
        "e745c6dd8d434748a71ad1640ab90ae4": {
          "model_module": "@jupyter-widgets/base",
          "model_name": "LayoutModel",
          "model_module_version": "1.2.0",
          "state": {
            "_model_module": "@jupyter-widgets/base",
            "_model_module_version": "1.2.0",
            "_model_name": "LayoutModel",
            "_view_count": null,
            "_view_module": "@jupyter-widgets/base",
            "_view_module_version": "1.2.0",
            "_view_name": "LayoutView",
            "align_content": null,
            "align_items": null,
            "align_self": null,
            "border": null,
            "bottom": null,
            "display": null,
            "flex": null,
            "flex_flow": null,
            "grid_area": null,
            "grid_auto_columns": null,
            "grid_auto_flow": null,
            "grid_auto_rows": null,
            "grid_column": null,
            "grid_gap": null,
            "grid_row": null,
            "grid_template_areas": null,
            "grid_template_columns": null,
            "grid_template_rows": null,
            "height": null,
            "justify_content": null,
            "justify_items": null,
            "left": null,
            "margin": null,
            "max_height": null,
            "max_width": null,
            "min_height": null,
            "min_width": null,
            "object_fit": null,
            "object_position": null,
            "order": null,
            "overflow": null,
            "overflow_x": null,
            "overflow_y": null,
            "padding": null,
            "right": null,
            "top": null,
            "visibility": null,
            "width": null
          }
        },
        "10d32fcc892543c7b6035e001e16d22e": {
          "model_module": "@jupyter-widgets/controls",
          "model_name": "ProgressStyleModel",
          "model_module_version": "1.5.0",
          "state": {
            "_model_module": "@jupyter-widgets/controls",
            "_model_module_version": "1.5.0",
            "_model_name": "ProgressStyleModel",
            "_view_count": null,
            "_view_module": "@jupyter-widgets/base",
            "_view_module_version": "1.2.0",
            "_view_name": "StyleView",
            "bar_color": null,
            "description_width": ""
          }
        },
        "8ba0c5de8c7a462eba475118987f13e7": {
          "model_module": "@jupyter-widgets/base",
          "model_name": "LayoutModel",
          "model_module_version": "1.2.0",
          "state": {
            "_model_module": "@jupyter-widgets/base",
            "_model_module_version": "1.2.0",
            "_model_name": "LayoutModel",
            "_view_count": null,
            "_view_module": "@jupyter-widgets/base",
            "_view_module_version": "1.2.0",
            "_view_name": "LayoutView",
            "align_content": null,
            "align_items": null,
            "align_self": null,
            "border": null,
            "bottom": null,
            "display": null,
            "flex": null,
            "flex_flow": null,
            "grid_area": null,
            "grid_auto_columns": null,
            "grid_auto_flow": null,
            "grid_auto_rows": null,
            "grid_column": null,
            "grid_gap": null,
            "grid_row": null,
            "grid_template_areas": null,
            "grid_template_columns": null,
            "grid_template_rows": null,
            "height": null,
            "justify_content": null,
            "justify_items": null,
            "left": null,
            "margin": null,
            "max_height": null,
            "max_width": null,
            "min_height": null,
            "min_width": null,
            "object_fit": null,
            "object_position": null,
            "order": null,
            "overflow": null,
            "overflow_x": null,
            "overflow_y": null,
            "padding": null,
            "right": null,
            "top": null,
            "visibility": null,
            "width": null
          }
        },
        "6a4a62af090c483d9b22c07de0962489": {
          "model_module": "@jupyter-widgets/controls",
          "model_name": "DescriptionStyleModel",
          "model_module_version": "1.5.0",
          "state": {
            "_model_module": "@jupyter-widgets/controls",
            "_model_module_version": "1.5.0",
            "_model_name": "DescriptionStyleModel",
            "_view_count": null,
            "_view_module": "@jupyter-widgets/base",
            "_view_module_version": "1.2.0",
            "_view_name": "StyleView",
            "description_width": ""
          }
        },
        "b9184b7df32b4f40820c3e030fdb7639": {
          "model_module": "@jupyter-widgets/controls",
          "model_name": "HBoxModel",
          "model_module_version": "1.5.0",
          "state": {
            "_dom_classes": [],
            "_model_module": "@jupyter-widgets/controls",
            "_model_module_version": "1.5.0",
            "_model_name": "HBoxModel",
            "_view_count": null,
            "_view_module": "@jupyter-widgets/controls",
            "_view_module_version": "1.5.0",
            "_view_name": "HBoxView",
            "box_style": "",
            "children": [
              "IPY_MODEL_8d1e1014211048c3932880468e03f7f8",
              "IPY_MODEL_d77002d13fd74fc485ef0414d969bd4e",
              "IPY_MODEL_02e87e9fd7a648678a92f11ef25508a3"
            ],
            "layout": "IPY_MODEL_00a8b684fd4b469188ee53381daa8a01"
          }
        },
        "8d1e1014211048c3932880468e03f7f8": {
          "model_module": "@jupyter-widgets/controls",
          "model_name": "HTMLModel",
          "model_module_version": "1.5.0",
          "state": {
            "_dom_classes": [],
            "_model_module": "@jupyter-widgets/controls",
            "_model_module_version": "1.5.0",
            "_model_name": "HTMLModel",
            "_view_count": null,
            "_view_module": "@jupyter-widgets/controls",
            "_view_module_version": "1.5.0",
            "_view_name": "HTMLView",
            "description": "",
            "description_tooltip": null,
            "layout": "IPY_MODEL_09d49ad1602f46e4a73aefe31740d9b2",
            "placeholder": "​",
            "style": "IPY_MODEL_ed3683e5b71146d5a0f60c5e15dc0b0e",
            "value": "Downloading: 100%"
          }
        },
        "d77002d13fd74fc485ef0414d969bd4e": {
          "model_module": "@jupyter-widgets/controls",
          "model_name": "FloatProgressModel",
          "model_module_version": "1.5.0",
          "state": {
            "_dom_classes": [],
            "_model_module": "@jupyter-widgets/controls",
            "_model_module_version": "1.5.0",
            "_model_name": "FloatProgressModel",
            "_view_count": null,
            "_view_module": "@jupyter-widgets/controls",
            "_view_module_version": "1.5.0",
            "_view_name": "ProgressView",
            "bar_style": "success",
            "description": "",
            "description_tooltip": null,
            "layout": "IPY_MODEL_d8f8295b6efd49f8bca60412339ba8f2",
            "max": 440473133,
            "min": 0,
            "orientation": "horizontal",
            "style": "IPY_MODEL_c56e668b71ef46d48bbfa86d3c5c04c5",
            "value": 440473133
          }
        },
        "02e87e9fd7a648678a92f11ef25508a3": {
          "model_module": "@jupyter-widgets/controls",
          "model_name": "HTMLModel",
          "model_module_version": "1.5.0",
          "state": {
            "_dom_classes": [],
            "_model_module": "@jupyter-widgets/controls",
            "_model_module_version": "1.5.0",
            "_model_name": "HTMLModel",
            "_view_count": null,
            "_view_module": "@jupyter-widgets/controls",
            "_view_module_version": "1.5.0",
            "_view_name": "HTMLView",
            "description": "",
            "description_tooltip": null,
            "layout": "IPY_MODEL_887d85c0c7bf48c7a1bece6bead9b3ac",
            "placeholder": "​",
            "style": "IPY_MODEL_453dde3005ce4c78883aa5677200a53e",
            "value": " 420M/420M [00:13&lt;00:00, 57.0MB/s]"
          }
        },
        "00a8b684fd4b469188ee53381daa8a01": {
          "model_module": "@jupyter-widgets/base",
          "model_name": "LayoutModel",
          "model_module_version": "1.2.0",
          "state": {
            "_model_module": "@jupyter-widgets/base",
            "_model_module_version": "1.2.0",
            "_model_name": "LayoutModel",
            "_view_count": null,
            "_view_module": "@jupyter-widgets/base",
            "_view_module_version": "1.2.0",
            "_view_name": "LayoutView",
            "align_content": null,
            "align_items": null,
            "align_self": null,
            "border": null,
            "bottom": null,
            "display": null,
            "flex": null,
            "flex_flow": null,
            "grid_area": null,
            "grid_auto_columns": null,
            "grid_auto_flow": null,
            "grid_auto_rows": null,
            "grid_column": null,
            "grid_gap": null,
            "grid_row": null,
            "grid_template_areas": null,
            "grid_template_columns": null,
            "grid_template_rows": null,
            "height": null,
            "justify_content": null,
            "justify_items": null,
            "left": null,
            "margin": null,
            "max_height": null,
            "max_width": null,
            "min_height": null,
            "min_width": null,
            "object_fit": null,
            "object_position": null,
            "order": null,
            "overflow": null,
            "overflow_x": null,
            "overflow_y": null,
            "padding": null,
            "right": null,
            "top": null,
            "visibility": null,
            "width": null
          }
        },
        "09d49ad1602f46e4a73aefe31740d9b2": {
          "model_module": "@jupyter-widgets/base",
          "model_name": "LayoutModel",
          "model_module_version": "1.2.0",
          "state": {
            "_model_module": "@jupyter-widgets/base",
            "_model_module_version": "1.2.0",
            "_model_name": "LayoutModel",
            "_view_count": null,
            "_view_module": "@jupyter-widgets/base",
            "_view_module_version": "1.2.0",
            "_view_name": "LayoutView",
            "align_content": null,
            "align_items": null,
            "align_self": null,
            "border": null,
            "bottom": null,
            "display": null,
            "flex": null,
            "flex_flow": null,
            "grid_area": null,
            "grid_auto_columns": null,
            "grid_auto_flow": null,
            "grid_auto_rows": null,
            "grid_column": null,
            "grid_gap": null,
            "grid_row": null,
            "grid_template_areas": null,
            "grid_template_columns": null,
            "grid_template_rows": null,
            "height": null,
            "justify_content": null,
            "justify_items": null,
            "left": null,
            "margin": null,
            "max_height": null,
            "max_width": null,
            "min_height": null,
            "min_width": null,
            "object_fit": null,
            "object_position": null,
            "order": null,
            "overflow": null,
            "overflow_x": null,
            "overflow_y": null,
            "padding": null,
            "right": null,
            "top": null,
            "visibility": null,
            "width": null
          }
        },
        "ed3683e5b71146d5a0f60c5e15dc0b0e": {
          "model_module": "@jupyter-widgets/controls",
          "model_name": "DescriptionStyleModel",
          "model_module_version": "1.5.0",
          "state": {
            "_model_module": "@jupyter-widgets/controls",
            "_model_module_version": "1.5.0",
            "_model_name": "DescriptionStyleModel",
            "_view_count": null,
            "_view_module": "@jupyter-widgets/base",
            "_view_module_version": "1.2.0",
            "_view_name": "StyleView",
            "description_width": ""
          }
        },
        "d8f8295b6efd49f8bca60412339ba8f2": {
          "model_module": "@jupyter-widgets/base",
          "model_name": "LayoutModel",
          "model_module_version": "1.2.0",
          "state": {
            "_model_module": "@jupyter-widgets/base",
            "_model_module_version": "1.2.0",
            "_model_name": "LayoutModel",
            "_view_count": null,
            "_view_module": "@jupyter-widgets/base",
            "_view_module_version": "1.2.0",
            "_view_name": "LayoutView",
            "align_content": null,
            "align_items": null,
            "align_self": null,
            "border": null,
            "bottom": null,
            "display": null,
            "flex": null,
            "flex_flow": null,
            "grid_area": null,
            "grid_auto_columns": null,
            "grid_auto_flow": null,
            "grid_auto_rows": null,
            "grid_column": null,
            "grid_gap": null,
            "grid_row": null,
            "grid_template_areas": null,
            "grid_template_columns": null,
            "grid_template_rows": null,
            "height": null,
            "justify_content": null,
            "justify_items": null,
            "left": null,
            "margin": null,
            "max_height": null,
            "max_width": null,
            "min_height": null,
            "min_width": null,
            "object_fit": null,
            "object_position": null,
            "order": null,
            "overflow": null,
            "overflow_x": null,
            "overflow_y": null,
            "padding": null,
            "right": null,
            "top": null,
            "visibility": null,
            "width": null
          }
        },
        "c56e668b71ef46d48bbfa86d3c5c04c5": {
          "model_module": "@jupyter-widgets/controls",
          "model_name": "ProgressStyleModel",
          "model_module_version": "1.5.0",
          "state": {
            "_model_module": "@jupyter-widgets/controls",
            "_model_module_version": "1.5.0",
            "_model_name": "ProgressStyleModel",
            "_view_count": null,
            "_view_module": "@jupyter-widgets/base",
            "_view_module_version": "1.2.0",
            "_view_name": "StyleView",
            "bar_color": null,
            "description_width": ""
          }
        },
        "887d85c0c7bf48c7a1bece6bead9b3ac": {
          "model_module": "@jupyter-widgets/base",
          "model_name": "LayoutModel",
          "model_module_version": "1.2.0",
          "state": {
            "_model_module": "@jupyter-widgets/base",
            "_model_module_version": "1.2.0",
            "_model_name": "LayoutModel",
            "_view_count": null,
            "_view_module": "@jupyter-widgets/base",
            "_view_module_version": "1.2.0",
            "_view_name": "LayoutView",
            "align_content": null,
            "align_items": null,
            "align_self": null,
            "border": null,
            "bottom": null,
            "display": null,
            "flex": null,
            "flex_flow": null,
            "grid_area": null,
            "grid_auto_columns": null,
            "grid_auto_flow": null,
            "grid_auto_rows": null,
            "grid_column": null,
            "grid_gap": null,
            "grid_row": null,
            "grid_template_areas": null,
            "grid_template_columns": null,
            "grid_template_rows": null,
            "height": null,
            "justify_content": null,
            "justify_items": null,
            "left": null,
            "margin": null,
            "max_height": null,
            "max_width": null,
            "min_height": null,
            "min_width": null,
            "object_fit": null,
            "object_position": null,
            "order": null,
            "overflow": null,
            "overflow_x": null,
            "overflow_y": null,
            "padding": null,
            "right": null,
            "top": null,
            "visibility": null,
            "width": null
          }
        },
        "453dde3005ce4c78883aa5677200a53e": {
          "model_module": "@jupyter-widgets/controls",
          "model_name": "DescriptionStyleModel",
          "model_module_version": "1.5.0",
          "state": {
            "_model_module": "@jupyter-widgets/controls",
            "_model_module_version": "1.5.0",
            "_model_name": "DescriptionStyleModel",
            "_view_count": null,
            "_view_module": "@jupyter-widgets/base",
            "_view_module_version": "1.2.0",
            "_view_name": "StyleView",
            "description_width": ""
          }
        }
      }
    }
  },
  "nbformat": 4,
  "nbformat_minor": 0
}