{
  "cells": [
    {
      "cell_type": "markdown",
      "metadata": {
        "id": "view-in-github",
        "colab_type": "text"
      },
      "source": [
        "<a href=\"https://colab.research.google.com/github/Juneyy/Miscellaneous/blob/main/Creating_a_Convolution_Neural_Network.ipynb\" target=\"_parent\"><img src=\"https://colab.research.google.com/assets/colab-badge.svg\" alt=\"Open In Colab\"/></a>"
      ]
    },
    {
      "cell_type": "markdown",
      "metadata": {
        "id": "GmkMEBBEDv6W"
      },
      "source": [
        "# Incorporating CNNs\n",
        "\n",
        "[![Open In Colab](https://colab.research.google.com/assets/colab-badge.svg)](https://colab.research.google.com/drive/1xNtG-96vgIQN46MWfBf5vCqgXpDds7-7#scrollTo=GmkMEBBEDv6W)\n",
        "\n",
        "* Learning Objective: In this problem, you will learn how to deeply understand how Convolutional Neural Networks work by implementing one.\n",
        "* Provided Code: We provide the skeletons of classes you need to complete. Forward checking and gradient checkings are provided for verifying your implementation as well.\n",
        "* TODOs: you will implement a Convolutional Layer and a MaxPooling Layer to improve on your classification results in part 1."
      ]
    },
    {
      "cell_type": "code",
      "execution_count": null,
      "metadata": {
        "id": "ANi0F6doDv6c"
      },
      "outputs": [],
      "source": [
        "from lib.mlp.fully_conn import *\n",
        "from lib.mlp.layer_utils import *\n",
        "from lib.mlp.datasets import *\n",
        "from lib.mlp.train import *\n",
        "from lib.cnn.layer_utils import *\n",
        "from lib.cnn.cnn_models import *\n",
        "from lib.grad_check import *\n",
        "from lib.optim import *\n",
        "import numpy as np\n",
        "import matplotlib.pyplot as plt\n",
        "\n",
        "%matplotlib inline\n",
        "plt.rcParams['figure.figsize'] = (10.0, 8.0) # set default size of plots\n",
        "plt.rcParams['image.interpolation'] = 'nearest'\n",
        "plt.rcParams['image.cmap'] = 'gray'\n",
        "\n",
        "# for auto-reloading external modules\n",
        "# see http://stackoverflow.com/questions/1907993/autoreload-of-modules-in-ipython\n",
        "%load_ext autoreload\n",
        "%autoreload 2"
      ]
    },
    {
      "cell_type": "markdown",
      "metadata": {
        "id": "zECYqXVKDv6f"
      },
      "source": [
        "## Loading the data (SVHN)\n",
        "Run the following code block to download SVHN dataset and load in the properly splitted SVHN data. The script `get_datasets.sh` use `wget` to download the SVHN dataset. If you have a trouble with executing `get_datasets.sh`, you can manually download the dataset and extract files."
      ]
    },
    {
      "cell_type": "code",
      "execution_count": null,
      "metadata": {
        "id": "6Gh5gyIcDv6g"
      },
      "outputs": [],
      "source": [
        "#!get_datasets.sh\n",
        "# !get_datasets.sh for windows users"
      ]
    },
    {
      "cell_type": "code",
      "execution_count": null,
      "metadata": {
        "id": "g0lxi3QsDv6h",
        "outputId": "d909a4aa-5983-41c3-f6c3-d41bcfaec939"
      },
      "outputs": [
        {
          "name": "stdout",
          "output_type": "stream",
          "text": [
            "Name: data_train Shape: (70000, 32, 32, 3)\n",
            "Name: labels_train Shape: (70000,)\n",
            "Name: data_val Shape: (3257, 32, 32, 3)\n",
            "Name: labels_val Shape: (3257,)\n",
            "Name: data_test Shape: (26032, 32, 32, 3)\n",
            "Name: labels_test Shape: (26032,)\n"
          ]
        }
      ],
      "source": [
        "data = SVHN_data()\n",
        "for k, v in data.items():\n",
        "    print (\"Name: {} Shape: {}\".format(k, v.shape))"
      ]
    },
    {
      "cell_type": "markdown",
      "metadata": {
        "id": "8MBPspa_Dv6j"
      },
      "source": [
        "## Convolutional Neural Networks\n",
        "\n",
        "We will use convolutional neural networks to try to improve on the results from Problem 1. Convolutional layers make the assumption that local pixels are more important for prediction than far-away pixels. This allows us to form networks that are robust to small changes in positioning in images.\n",
        "\n",
        "### Convolutional Layer Output size calculation \n",
        "\n",
        "As you have learned, two important parameters of a convolutional layer are its stride and padding. To warm up, we will need to calculate the output size of a convolutional layer given its stride and padding. To do this, open the `lib/cnn/layer_utils.py` file and fill out the TODO section in the `get_output_size` function in the ConvLayer2D class. \n",
        "\n",
        "Implement your function so that it returns the correct size as indicated by the block below."
      ]
    },
    {
      "cell_type": "code",
      "execution_count": null,
      "metadata": {
        "id": "ar89nfhODv6k",
        "outputId": "614975cd-dff4-409f-98dd-60f30c836de1"
      },
      "outputs": [
        {
          "name": "stdout",
          "output_type": "stream",
          "text": [
            "Received [32, 16, 16, 16] and expected [32, 16, 16, 16]\n"
          ]
        }
      ],
      "source": [
        "%reload_ext autoreload\n",
        "\n",
        "input_image = np.zeros([32, 28, 28, 3]) # a stack of 32 28 by 28 rgb images\n",
        "\n",
        "in_channels = input_image.shape[-1] #must agree with the last dimension of the input image\n",
        "k_size = 4 \n",
        "n_filt = 16\n",
        "\n",
        "conv_layer = ConvLayer2D(in_channels, k_size, n_filt, stride=2, padding=3)\n",
        "output_size = conv_layer.get_output_size(input_image.shape) \n",
        "\n",
        "print(\"Received {} and expected [32, 16, 16, 16]\".format(output_size))"
      ]
    },
    {
      "cell_type": "markdown",
      "metadata": {
        "id": "HIiAweX0Dv6m"
      },
      "source": [
        "### Convolutional Layer Forward Pass \n",
        "\n",
        "Now, we will implement the forward pass of a convolutional layer. Fill in the TODO block in the `forward` function of the ConvLayer2D class."
      ]
    },
    {
      "cell_type": "code",
      "execution_count": null,
      "metadata": {
        "scrolled": true,
        "id": "ULDMuGxFDv6n",
        "outputId": "0a84fc2d-d83e-412c-a33f-68bb0e9cd520"
      },
      "outputs": [
        {
          "name": "stdout",
          "output_type": "stream",
          "text": [
            "Received output shape: (1, 4, 4, 2), Expected output shape: (1, 4, 4, 2)\n",
            "Difference:  5.110565335399418e-08\n"
          ]
        }
      ],
      "source": [
        "%reload_ext autoreload\n",
        "\n",
        "# Test the convolutional forward function\n",
        "input_image = np.linspace(-0.1, 0.4, num=1*8*8*1).reshape([1, 8, 8, 1]) # a single 8 by 8 grayscale image\n",
        "in_channels, k_size, n_filt = 1, 5, 2\n",
        "\n",
        "weight_size = k_size*k_size*in_channels*n_filt\n",
        "bias_size = n_filt\n",
        "\n",
        "\n",
        "\n",
        "single_conv = ConvLayer2D(in_channels, k_size, n_filt, stride=1, padding=0, name=\"conv_test\")\n",
        "\n",
        "w = np.linspace(-0.2, 0.2, num=weight_size).reshape(k_size, k_size, in_channels, n_filt)\n",
        "b = np.linspace(-0.3, 0.3, num=bias_size)\n",
        "\n",
        "single_conv.params[single_conv.w_name] = w\n",
        "single_conv.params[single_conv.b_name] = b\n",
        "\n",
        "out = single_conv.forward(input_image)\n",
        "\n",
        "print(\"Received output shape: {}, Expected output shape: (1, 4, 4, 2)\".format(out.shape))\n",
        "\n",
        "correct_out = np.array([[\n",
        "   [[-0.03874312, 0.57000324],\n",
        "   [-0.03955296, 0.57081309],\n",
        "   [-0.04036281, 0.57162293],\n",
        "   [-0.04117266, 0.57243278]],\n",
        "\n",
        "  [[-0.0452219, 0.57648202],\n",
        "   [-0.04603175, 0.57729187],\n",
        "   [-0.04684159, 0.57810172],\n",
        "   [-0.04765144, 0.57891156]],\n",
        "\n",
        "  [[-0.05170068, 0.5829608 ],\n",
        "   [-0.05251053, 0.58377065],\n",
        "   [-0.05332038, 0.5845805 ],\n",
        "   [-0.05413022, 0.58539035]],\n",
        "\n",
        "  [[-0.05817946, 0.58943959],\n",
        "   [-0.05898931, 0.59024943],\n",
        "   [-0.05979916, 0.59105928],\n",
        "   [-0.06060901, 0.59186913]]]])\n",
        "\n",
        "\n",
        "# Compare your output with the above pre-computed ones. \n",
        "# The difference should not be larger than 1e-8\n",
        "print (\"Difference: \", rel_error(out, correct_out))"
      ]
    },
    {
      "cell_type": "markdown",
      "metadata": {
        "id": "otsPnz6WDv6o"
      },
      "source": [
        "### Conv Layer Backward \n",
        "\n",
        "Now complete the backward pass of a convolutional layer. Fill in the TODO block in the `backward` function of the ConvLayer2D class. Check you results with this code and expect differences of less than 1e-6."
      ]
    },
    {
      "cell_type": "code",
      "execution_count": null,
      "metadata": {
        "id": "s164Co7LDv6p",
        "outputId": "01f66e3c-aecf-4d87-c080-decabb608ef7"
      },
      "outputs": [
        {
          "name": "stdout",
          "output_type": "stream",
          "text": [
            "dimg Error:  1.8383996368550037e-08\n",
            "dw Error:  5.605896783444544e-09\n",
            "db Error:  2.043491966574664e-10\n",
            "dimg Shape:  (15, 8, 8, 3) (15, 8, 8, 3)\n"
          ]
        }
      ],
      "source": [
        "%reload_ext autoreload\n",
        "\n",
        "# Test the conv backward function\n",
        "img = np.random.randn(15, 8, 8, 3)\n",
        "w = np.random.randn(4, 4, 3, 12)\n",
        "b = np.random.randn(12)\n",
        "dout = np.random.randn(15, 4, 4, 12)\n",
        "\n",
        "single_conv = ConvLayer2D(input_channels=3, kernel_size=4, number_filters=12, stride=2, padding=1, name=\"conv_test\")\n",
        "single_conv.params[single_conv.w_name] = w\n",
        "single_conv.params[single_conv.b_name] = b\n",
        "\n",
        "dimg_num = eval_numerical_gradient_array(lambda x: single_conv.forward(img), img, dout)\n",
        "dw_num = eval_numerical_gradient_array(lambda w: single_conv.forward(img), w, dout)\n",
        "db_num = eval_numerical_gradient_array(lambda b: single_conv.forward(img), b, dout)\n",
        "\n",
        "\n",
        "out = single_conv.forward(img)\n",
        "\n",
        "dimg = single_conv.backward(dout)\n",
        "dw = single_conv.grads[single_conv.w_name]\n",
        "db = single_conv.grads[single_conv.b_name]\n",
        "\n",
        "\n",
        "# The error should be around 1e-8\n",
        "print(\"dimg Error: \", rel_error(dimg_num, dimg))\n",
        "# The errors should be around 1e-8\n",
        "print(\"dw Error: \", rel_error(dw_num, dw))\n",
        "print(\"db Error: \", rel_error(db_num, db))\n",
        "# The shapes should be same\n",
        "print(\"dimg Shape: \", dimg.shape, img.shape)"
      ]
    },
    {
      "cell_type": "markdown",
      "metadata": {
        "id": "H6-do4gdDv6q"
      },
      "source": [
        "## Max pooling Layer\n",
        "Now we will implement maxpooling layers, which can help to reduce the image size while preserving the overall structure of the image.\n",
        "\n",
        "### Forward Pass max pooling \n",
        "Fill out the TODO block in the `forward` function of the MaxPoolingLayer class."
      ]
    },
    {
      "cell_type": "code",
      "execution_count": null,
      "metadata": {
        "id": "468yygVoDv6q",
        "outputId": "d82c7cf1-2bfd-409a-cca8-b43ea606dbac"
      },
      "outputs": [
        {
          "name": "stdout",
          "output_type": "stream",
          "text": [
            "Received output shape: (1, 3, 3, 1), Expected output shape: (1, 3, 3, 1)\n",
            "Difference:  1.8750000280978013e-08\n"
          ]
        }
      ],
      "source": [
        "# Test the convolutional forward function\n",
        "input_image = np.linspace(-0.1, 0.4, num=64).reshape([1, 8, 8, 1]) # a single 8 by 8 grayscale image\n",
        "\n",
        "\n",
        "maxpool= MaxPoolingLayer(pool_size=4, stride=2, name=\"maxpool_test\")\n",
        "out = maxpool.forward(input_image)\n",
        "\n",
        "print(\"Received output shape: {}, Expected output shape: (1, 3, 3, 1)\".format(out.shape))\n",
        "\n",
        "correct_out = np.array([[\n",
        "   [[0.11428571],\n",
        "   [0.13015873],\n",
        "   [0.14603175]],\n",
        "\n",
        "  [[0.24126984],\n",
        "   [0.25714286],\n",
        "   [0.27301587]],\n",
        "\n",
        "  [[0.36825397],\n",
        "   [0.38412698],\n",
        "   [0.4       ]]]])\n",
        "\n",
        "\n",
        "\n",
        "# Compare your output with the above pre-computed ones. \n",
        "# The difference should not be larger than 1e-8\n",
        "print (\"Difference: \", rel_error(out, correct_out))"
      ]
    },
    {
      "cell_type": "markdown",
      "metadata": {
        "id": "PnCQhk__Dv6r"
      },
      "source": [
        "### Backward Pass Max pooling \n",
        "Fill out the `backward` function in the MaxPoolingLayer class."
      ]
    },
    {
      "cell_type": "code",
      "execution_count": null,
      "metadata": {
        "id": "V88YGu1TDv6r",
        "outputId": "0b647147-4a68-4097-a56e-7fa84b049b19"
      },
      "outputs": [
        {
          "name": "stdout",
          "output_type": "stream",
          "text": [
            "dimg Error:  3.2783458420793253e-12\n",
            "dimg Shape:  (15, 8, 8, 3) (15, 8, 8, 3)\n"
          ]
        }
      ],
      "source": [
        "img = np.random.randn(15, 8, 8, 3)\n",
        "\n",
        "dout = np.random.randn(15, 3, 3, 3)\n",
        "\n",
        "maxpool= MaxPoolingLayer(pool_size=4, stride=2, name=\"maxpool_test\")\n",
        "\n",
        "dimg_num = eval_numerical_gradient_array(lambda x: maxpool.forward(img), img, dout)\n",
        "\n",
        "out = maxpool.forward(img)\n",
        "dimg = maxpool.backward(dout)\n",
        "\n",
        "# The error should be around 1e-8\n",
        "print(\"dimg Error: \", rel_error(dimg_num, dimg))\n",
        "# The shapes should be same\n",
        "print(\"dimg Shape: \", dimg.shape, img.shape)"
      ]
    },
    {
      "cell_type": "markdown",
      "metadata": {
        "id": "IDw9mZnODv6s"
      },
      "source": [
        "### Test a Small Fully Connected Network \n",
        "Please find the `TestCNN` class in `lib/cnn/cnn_models.py`.\n",
        "Again you only need to complete few lines of code in the TODO block.\n",
        "Please design a Convolutional --> Maxpool --> flatten --> fc network where the shapes of parameters match the given shapes.\n",
        "Please insert the corresponding names you defined for each layer to param_name_w, and param_name_b respectively.\n",
        "Here you only modify the param_name part, the _w, and _b are automatically assigned during network setup."
      ]
    },
    {
      "cell_type": "code",
      "execution_count": null,
      "metadata": {
        "id": "S_YqMF-cDv6s",
        "outputId": "69475b77-a0ac-48c9-b288-1d87d840a913"
      },
      "outputs": [
        {
          "name": "stdout",
          "output_type": "stream",
          "text": [
            "Testing initialization ... \n",
            "Passed!\n",
            "Testing test-time forward pass ... \n",
            "Passed!\n",
            "Testing the loss ...\n",
            "Passed!\n",
            "Testing the gradients (error should be no larger than 1e-6) ...\n",
            "conv2D_b relative error: 3.95e-09\n",
            "conv2D_w relative error: 9.10e-10\n",
            "fc_b relative error: 1.33e-10\n",
            "fc_w relative error: 3.89e-07\n"
          ]
        }
      ],
      "source": [
        "%reload_ext autoreload\n",
        "\n",
        "seed = 1234\n",
        "np.random.seed(seed=seed)\n",
        "\n",
        "model = TestCNN()\n",
        "loss_func = cross_entropy()\n",
        "\n",
        "B, H, W, iC = 4, 8, 8, 3 #batch, height, width, in_channels\n",
        "k = 3 #kernel size\n",
        "oC, Hi, O = 3, 27, 5 # out channels, Hidden Layer input, Output size\n",
        "std = 0.02\n",
        "x = np.random.randn(B,H,W,iC)\n",
        "y = np.random.randint(O, size=B)\n",
        "\n",
        "print (\"Testing initialization ... \")\n",
        "\n",
        "###################################################\n",
        "# TODO: param_name should be replaced accordingly  #\n",
        "###################################################\n",
        "w1_std = abs(model.net.get_params(\"conv2D_w\").std() - std)\n",
        "b1 = model.net.get_params(\"conv2D_b\").std()\n",
        "w2_std = abs(model.net.get_params(\"fc_w\").std() - std)\n",
        "b2 = model.net.get_params(\"fc_b\").std()\n",
        "###################################################\n",
        "#                END OF YOUR CODE                 #\n",
        "###################################################\n",
        "\n",
        "assert w1_std < std / 10, \"First layer weights do not seem right\"\n",
        "assert np.all(b1 == 0), \"First layer biases do not seem right\"\n",
        "assert w2_std < std / 10, \"Second layer weights do not seem right\"\n",
        "assert np.all(b2 == 0), \"Second layer biases do not seem right\"\n",
        "print (\"Passed!\")\n",
        "\n",
        "print (\"Testing test-time forward pass ... \")\n",
        "w1 = np.linspace(-0.7, 0.3, num=k*k*iC*oC).reshape(k,k,iC,oC)\n",
        "w2 = np.linspace(-0.2, 0.2, num=Hi*O).reshape(Hi, O)\n",
        "b1 = np.linspace(-0.6, 0.2, num=oC)\n",
        "b2 = np.linspace(-0.9, 0.1, num=O)\n",
        "\n",
        "###################################################\n",
        "# TODO: param_name should be replaced accordingly  #\n",
        "###################################################\n",
        "model.net.assign(\"conv2D_w\", w1)\n",
        "model.net.assign(\"conv2D_b\", b1)\n",
        "model.net.assign(\"fc_w\", w2)\n",
        "model.net.assign(\"fc_b\", b2)\n",
        "###################################################\n",
        "#                END OF YOUR CODE                 #\n",
        "###################################################\n",
        "\n",
        "feats = np.linspace(-5.5, 4.5, num=B*H*W*iC).reshape(B,H,W,iC)\n",
        "scores = model.forward(feats)\n",
        "correct_scores = np.asarray([[-13.85107294, -11.52845818,  -9.20584342,  -6.88322866,  -4.5606139 ],\n",
        " [-11.44514171, -10.21200524 , -8.97886878 , -7.74573231 , -6.51259584],\n",
        " [ -9.03921048,  -8.89555231 , -8.75189413 , -8.60823596,  -8.46457778],\n",
        " [ -6.63327925 , -7.57909937 , -8.52491949 , -9.4707396 , -10.41655972]])\n",
        "scores_diff = np.sum(np.abs(scores - correct_scores))\n",
        "assert scores_diff < 1e-6, \"Your implementation might be wrong!\"\n",
        "print (\"Passed!\")\n",
        "\n",
        "print (\"Testing the loss ...\",)\n",
        "y = np.asarray([0, 2, 1, 4])\n",
        "loss = loss_func.forward(scores, y)\n",
        "dLoss = loss_func.backward()\n",
        "correct_loss = 4.56046848799693\n",
        "assert abs(loss - correct_loss) < 1e-10, \"Your implementation might be wrong!\"\n",
        "print (\"Passed!\")\n",
        "\n",
        "print (\"Testing the gradients (error should be no larger than 1e-6) ...\")\n",
        "din = model.backward(dLoss)\n",
        "for layer in model.net.layers:\n",
        "    if not layer.params:\n",
        "        continue\n",
        "    for name in sorted(layer.grads):\n",
        "        f = lambda _: loss_func.forward(model.forward(feats), y)\n",
        "        grad_num = eval_numerical_gradient(f, layer.params[name], verbose=False)\n",
        "        print ('%s relative error: %.2e' % (name, rel_error(grad_num, layer.grads[name])))"
      ]
    },
    {
      "cell_type": "markdown",
      "metadata": {
        "id": "kf_xuFclDv6s"
      },
      "source": [
        "### Training the Network \n",
        "In this section, we defined a `SmallConvolutionalNetwork` class for you to fill in the TODO block in `lib/cnn/cnn_models.py`.\n",
        "\n",
        "Here please design a network with at most two convolutions and two maxpooling layers (you may use less).\n",
        "You can adjust the parameters for any layer, and include layers other than those listed above that you have implemented.\n",
        "You are also free to select any optimizer you have implemented (with any learning rate).\n",
        "\n",
        "Try to find a combination that is able to achieve 88% validation accuracy."
      ]
    },
    {
      "cell_type": "code",
      "execution_count": null,
      "metadata": {
        "id": "TRoBKogYDv6t"
      },
      "outputs": [],
      "source": [
        "# Arrange the data\n",
        "data_dict = {\n",
        "    \"data_train\": (data[\"data_train\"], data[\"labels_train\"]),\n",
        "    \"data_val\": (data[\"data_val\"], data[\"labels_val\"]),\n",
        "    \"data_test\": (data[\"data_test\"], data[\"labels_test\"])\n",
        "}"
      ]
    },
    {
      "cell_type": "code",
      "execution_count": null,
      "metadata": {
        "id": "yOUY32hEDv6t",
        "outputId": "a7ce54aa-792a-4ede-e125-231f7bdb21a3"
      },
      "outputs": [
        {
          "name": "stdout",
          "output_type": "stream",
          "text": [
            "Data shape: (70000, 32, 32, 3)\n",
            "Flattened data input size: 3072\n",
            "Number of data classes: 10\n"
          ]
        }
      ],
      "source": [
        "print(\"Data shape:\", data_dict[\"data_train\"][0].shape)\n",
        "print(\"Flattened data input size:\", np.prod(data[\"data_train\"].shape[1:]))\n",
        "print(\"Number of data classes:\", max(data['labels_train']) + 1)"
      ]
    },
    {
      "cell_type": "code",
      "execution_count": null,
      "metadata": {
        "id": "NxdMBmbkDv6t",
        "outputId": "8cbfcfe1-fa6a-4c5e-e79f-e88ffbb76a50"
      },
      "outputs": [
        {
          "name": "stdout",
          "output_type": "stream",
          "text": [
            "(Iteration 1 / 32790) loss: 2.3915955027454494\n",
            "(Iteration 101 / 32790) loss: 1.9661925011584787\n",
            "(Iteration 201 / 32790) loss: 1.5472588541276173\n",
            "(Iteration 301 / 32790) loss: 1.0082994379561208\n",
            "(Iteration 401 / 32790) loss: 0.9805877385833919\n",
            "(Iteration 501 / 32790) loss: 0.9139792168506509\n",
            "(Iteration 601 / 32790) loss: 0.7654948854557967\n",
            "(Iteration 701 / 32790) loss: 1.0096636736889795\n",
            "(Iteration 801 / 32790) loss: 0.7087837089930763\n",
            "(Iteration 901 / 32790) loss: 0.8337060713108244\n",
            "(Iteration 1001 / 32790) loss: 0.8654492984663165\n",
            "(Epoch 1 / 30) Training Accuracy: 0.7847712618974516, Validation Accuracy: 0.7847712618974516\n",
            "(Iteration 1101 / 32790) loss: 0.5861770980679195\n",
            "(Iteration 1201 / 32790) loss: 0.6173442688418262\n",
            "(Iteration 1301 / 32790) loss: 0.7621249396784121\n",
            "(Iteration 1401 / 32790) loss: 0.7945190994702034\n",
            "(Iteration 1501 / 32790) loss: 0.8110148507089854\n",
            "(Iteration 1601 / 32790) loss: 0.5304370704780086\n",
            "(Iteration 1701 / 32790) loss: 0.9224352366674955\n",
            "(Iteration 1801 / 32790) loss: 1.069481857811665\n",
            "(Iteration 1901 / 32790) loss: 0.5188334758690135\n",
            "(Iteration 2001 / 32790) loss: 0.4673536519159812\n",
            "(Iteration 2101 / 32790) loss: 0.7132788047612189\n",
            "(Epoch 2 / 30) Training Accuracy: 0.8096407737181456, Validation Accuracy: 0.8096407737181456\n",
            "(Iteration 2201 / 32790) loss: 0.5584716519664848\n",
            "(Iteration 2301 / 32790) loss: 0.7009069366496536\n",
            "(Iteration 2401 / 32790) loss: 0.7604178354080205\n",
            "(Iteration 2501 / 32790) loss: 0.6603847683390465\n",
            "(Iteration 2601 / 32790) loss: 0.44581357214750006\n",
            "(Iteration 2701 / 32790) loss: 0.5334515025605002\n",
            "(Iteration 2801 / 32790) loss: 0.5517465335675047\n",
            "(Iteration 2901 / 32790) loss: 0.6593163643640706\n",
            "(Iteration 3001 / 32790) loss: 0.6091054418402484\n",
            "(Iteration 3101 / 32790) loss: 0.6776927655102473\n",
            "(Iteration 3201 / 32790) loss: 1.2207427653528442\n",
            "(Epoch 3 / 30) Training Accuracy: 0.8182376420018422, Validation Accuracy: 0.8182376420018422\n",
            "(Iteration 3301 / 32790) loss: 0.6152510300250925\n",
            "(Iteration 3401 / 32790) loss: 0.5540345683517469\n",
            "(Iteration 3501 / 32790) loss: 0.5295202984230141\n",
            "(Iteration 3601 / 32790) loss: 0.6943575776278117\n",
            "(Iteration 3701 / 32790) loss: 0.5651471006428677\n",
            "(Iteration 3801 / 32790) loss: 0.6121284710056696\n",
            "(Iteration 3901 / 32790) loss: 0.5537240758577546\n",
            "(Iteration 4001 / 32790) loss: 0.879843004913648\n",
            "(Iteration 4101 / 32790) loss: 0.7005841944403461\n",
            "(Iteration 4201 / 32790) loss: 0.4278316750555429\n",
            "(Iteration 4301 / 32790) loss: 0.5630936889232296\n",
            "(Epoch 4 / 30) Training Accuracy: 0.8206938900828984, Validation Accuracy: 0.8206938900828984\n",
            "(Iteration 4401 / 32790) loss: 0.48940034231022544\n",
            "(Iteration 4501 / 32790) loss: 0.5958184140143781\n",
            "(Iteration 4601 / 32790) loss: 0.4351973362302796\n",
            "(Iteration 4701 / 32790) loss: 0.4994803045861618\n",
            "(Iteration 4801 / 32790) loss: 0.4560271337131273\n",
            "(Iteration 4901 / 32790) loss: 0.7834109897571584\n",
            "(Iteration 5001 / 32790) loss: 0.29290666518313296\n",
            "(Iteration 5101 / 32790) loss: 0.6220496918628307\n",
            "(Iteration 5201 / 32790) loss: 0.5529721268797158\n",
            "(Iteration 5301 / 32790) loss: 0.5255825563333686\n",
            "(Iteration 5401 / 32790) loss: 0.5610268364713042\n",
            "(Epoch 5 / 30) Training Accuracy: 0.8338962235185754, Validation Accuracy: 0.8338962235185754\n",
            "(Iteration 5501 / 32790) loss: 0.6567401974920322\n",
            "(Iteration 5601 / 32790) loss: 0.3601961875031572\n",
            "(Iteration 5701 / 32790) loss: 0.5444350458996324\n",
            "(Iteration 5801 / 32790) loss: 0.8039698156782915\n",
            "(Iteration 5901 / 32790) loss: 0.6850487489531811\n",
            "(Iteration 6001 / 32790) loss: 0.47458665278061596\n",
            "(Iteration 6101 / 32790) loss: 0.7551303683056143\n",
            "(Iteration 6201 / 32790) loss: 0.9928757617356144\n",
            "(Iteration 6301 / 32790) loss: 0.4011561635924\n",
            "(Iteration 6401 / 32790) loss: 0.897510621364793\n",
            "(Iteration 6501 / 32790) loss: 0.44804286955439687\n",
            "(Epoch 6 / 30) Training Accuracy: 0.8375805956401596, Validation Accuracy: 0.8375805956401596\n",
            "(Iteration 6601 / 32790) loss: 0.614095545980205\n",
            "(Iteration 6701 / 32790) loss: 0.39533747692619153\n",
            "(Iteration 6801 / 32790) loss: 0.5938910729886211\n",
            "(Iteration 6901 / 32790) loss: 0.4245335953732971\n",
            "(Iteration 7001 / 32790) loss: 0.4378786152438241\n",
            "(Iteration 7101 / 32790) loss: 0.498126756601407\n",
            "(Iteration 7201 / 32790) loss: 0.34771777389404807\n",
            "(Iteration 7301 / 32790) loss: 0.5646742993684769\n",
            "(Iteration 7401 / 32790) loss: 0.46072758464246616\n",
            "(Iteration 7501 / 32790) loss: 0.5177586324632135\n",
            "(Iteration 7601 / 32790) loss: 0.601701262876013\n",
            "(Epoch 7 / 30) Training Accuracy: 0.8360454405894996, Validation Accuracy: 0.8360454405894996\n",
            "(Iteration 7701 / 32790) loss: 0.5719591285529206\n",
            "(Iteration 7801 / 32790) loss: 0.609342038371224\n",
            "(Iteration 7901 / 32790) loss: 0.6384260317678518\n",
            "(Iteration 8001 / 32790) loss: 0.8507369524912468\n",
            "(Iteration 8101 / 32790) loss: 0.6290567203725962\n",
            "(Iteration 8201 / 32790) loss: 0.6866574269306736\n",
            "(Iteration 8301 / 32790) loss: 0.41988722336752715\n",
            "(Iteration 8401 / 32790) loss: 0.6831444627331476\n",
            "(Iteration 8501 / 32790) loss: 0.5135009395888899\n",
            "(Iteration 8601 / 32790) loss: 0.6780116900263787\n",
            "(Iteration 8701 / 32790) loss: 0.5717677320206953\n",
            "(Epoch 8 / 30) Training Accuracy: 0.8431071538225361, Validation Accuracy: 0.8431071538225361\n",
            "(Iteration 8801 / 32790) loss: 0.7619788712808813\n",
            "(Iteration 8901 / 32790) loss: 0.4047153497532904\n",
            "(Iteration 9001 / 32790) loss: 0.4172097594446322\n",
            "(Iteration 9101 / 32790) loss: 0.4989506775450026\n",
            "(Iteration 9201 / 32790) loss: 0.5772658502543587\n",
            "(Iteration 9301 / 32790) loss: 0.4410713812639289\n",
            "(Iteration 9401 / 32790) loss: 0.38120357596348453\n",
            "(Iteration 9501 / 32790) loss: 0.5584016084844378\n",
            "(Iteration 9601 / 32790) loss: 0.4065369558906825\n",
            "(Iteration 9701 / 32790) loss: 0.616479885154974\n",
            "(Iteration 9801 / 32790) loss: 0.5536126990829074\n",
            "(Epoch 9 / 30) Training Accuracy: 0.84218606079214, Validation Accuracy: 0.84218606079214\n",
            "(Iteration 9901 / 32790) loss: 0.844391431830378\n",
            "(Iteration 10001 / 32790) loss: 0.6103350407304242\n",
            "(Iteration 10101 / 32790) loss: 0.5387802127886752\n",
            "(Iteration 10201 / 32790) loss: 0.41519588636943316\n",
            "(Iteration 10301 / 32790) loss: 0.4172105017924425\n",
            "(Iteration 10401 / 32790) loss: 0.2983105691683532\n",
            "(Iteration 10501 / 32790) loss: 0.5488230622725527\n",
            "(Iteration 10601 / 32790) loss: 0.6056242011797219\n",
            "(Iteration 10701 / 32790) loss: 0.4725359781881444\n",
            "(Iteration 10801 / 32790) loss: 0.7612280450246576\n",
            "(Iteration 10901 / 32790) loss: 0.3572148969381992\n",
            "(Epoch 10 / 30) Training Accuracy: 0.842493091802272, Validation Accuracy: 0.842493091802272\n",
            "(Iteration 11001 / 32790) loss: 0.5572618441746583\n",
            "(Iteration 11101 / 32790) loss: 0.5320514407120345\n",
            "(Iteration 11201 / 32790) loss: 0.39199826408815897\n",
            "(Iteration 11301 / 32790) loss: 0.3084036833865713\n",
            "(Iteration 11401 / 32790) loss: 0.43545188383649513\n",
            "(Iteration 11501 / 32790) loss: 0.38231159757172667\n",
            "(Iteration 11601 / 32790) loss: 0.6844744570243254\n",
            "(Iteration 11701 / 32790) loss: 0.5147188820233544\n",
            "(Iteration 11801 / 32790) loss: 0.9128197669731661\n",
            "(Iteration 11901 / 32790) loss: 0.5571871515432992\n",
            "(Iteration 12001 / 32790) loss: 0.5543201985385644\n",
            "(Epoch 11 / 30) Training Accuracy: 0.8474055879643844, Validation Accuracy: 0.8474055879643844\n",
            "(Iteration 12101 / 32790) loss: 0.6965226688551767\n",
            "(Iteration 12201 / 32790) loss: 0.5483016319683414\n",
            "(Iteration 12301 / 32790) loss: 0.557607197256399\n",
            "(Iteration 12401 / 32790) loss: 0.9678231077226654\n",
            "(Iteration 12501 / 32790) loss: 0.5966233974669422\n",
            "(Iteration 12601 / 32790) loss: 0.4426424151698929\n",
            "(Iteration 12701 / 32790) loss: 0.6032391564067865\n",
            "(Iteration 12801 / 32790) loss: 0.5762835130456032\n",
            "(Iteration 12901 / 32790) loss: 0.23797759338643087\n",
            "(Iteration 13001 / 32790) loss: 0.619673980049935\n",
            "(Iteration 13101 / 32790) loss: 0.5717050871402225\n",
            "(Epoch 12 / 30) Training Accuracy: 0.8394227817009517, Validation Accuracy: 0.8394227817009517\n",
            "(Iteration 13201 / 32790) loss: 0.3957860790058666\n",
            "(Iteration 13301 / 32790) loss: 0.45597132522382283\n",
            "(Iteration 13401 / 32790) loss: 0.47572248088938396\n",
            "(Iteration 13501 / 32790) loss: 0.4326812874598465\n",
            "(Iteration 13601 / 32790) loss: 0.9355114290307733\n",
            "(Iteration 13701 / 32790) loss: 0.5525074000827013\n",
            "(Iteration 13801 / 32790) loss: 0.39705559811309943\n",
            "(Iteration 13901 / 32790) loss: 0.715862205637526\n",
            "(Iteration 14001 / 32790) loss: 0.3855591955948047\n"
          ]
        },
        {
          "name": "stdout",
          "output_type": "stream",
          "text": [
            "(Iteration 14101 / 32790) loss: 0.291652819984702\n",
            "(Iteration 14201 / 32790) loss: 0.9199445002877085\n",
            "(Epoch 13 / 30) Training Accuracy: 0.8458704329137243, Validation Accuracy: 0.8458704329137243\n",
            "(Iteration 14301 / 32790) loss: 1.0178549711883396\n",
            "(Iteration 14401 / 32790) loss: 0.6545445261484051\n",
            "(Iteration 14501 / 32790) loss: 0.5552113477865116\n",
            "(Iteration 14601 / 32790) loss: 0.3990052986111623\n",
            "(Iteration 14701 / 32790) loss: 0.7311005102605154\n",
            "(Iteration 14801 / 32790) loss: 0.5189519770493842\n",
            "(Iteration 14901 / 32790) loss: 0.57600661613825\n",
            "(Iteration 15001 / 32790) loss: 0.49946437581188285\n",
            "(Iteration 15101 / 32790) loss: 0.5457413122679307\n",
            "(Iteration 15201 / 32790) loss: 0.42257549932061067\n",
            "(Iteration 15301 / 32790) loss: 0.5107425336865126\n",
            "(Epoch 14 / 30) Training Accuracy: 0.8477126189745164, Validation Accuracy: 0.8477126189745164\n",
            "(Iteration 15401 / 32790) loss: 0.43092378034641476\n",
            "(Iteration 15501 / 32790) loss: 0.552418293629047\n",
            "(Iteration 15601 / 32790) loss: 0.5325622082716689\n",
            "(Iteration 15701 / 32790) loss: 0.7042901649080913\n",
            "(Iteration 15801 / 32790) loss: 0.9752266663106068\n",
            "(Iteration 15901 / 32790) loss: 0.3618639935632887\n",
            "(Iteration 16001 / 32790) loss: 0.4894900447188806\n",
            "(Iteration 16101 / 32790) loss: 0.6146632306210984\n",
            "(Iteration 16201 / 32790) loss: 0.35732383278730234\n",
            "(Iteration 16301 / 32790) loss: 0.4122431727439486\n",
            "(Epoch 15 / 30) Training Accuracy: 0.8501688670555726, Validation Accuracy: 0.8501688670555726\n",
            "(Iteration 16401 / 32790) loss: 0.41768332374411815\n",
            "(Iteration 16501 / 32790) loss: 0.6455439795573348\n",
            "(Iteration 16601 / 32790) loss: 0.4241553651828466\n",
            "(Iteration 16701 / 32790) loss: 0.34067296605676367\n",
            "(Iteration 16801 / 32790) loss: 0.49591823153926395\n",
            "(Iteration 16901 / 32790) loss: 0.7594219051178637\n",
            "(Iteration 17001 / 32790) loss: 0.7338994218179284\n",
            "(Iteration 17101 / 32790) loss: 0.2586263290390004\n",
            "(Iteration 17201 / 32790) loss: 0.5394067289431063\n",
            "(Iteration 17301 / 32790) loss: 0.6089695371458719\n",
            "(Iteration 17401 / 32790) loss: 0.7244656187632814\n",
            "(Epoch 16 / 30) Training Accuracy: 0.8461774639238563, Validation Accuracy: 0.8461774639238563\n",
            "(Iteration 17501 / 32790) loss: 0.2621612371923472\n",
            "(Iteration 17601 / 32790) loss: 0.4458663734507854\n",
            "(Iteration 17701 / 32790) loss: 0.5328301407630753\n",
            "(Iteration 17801 / 32790) loss: 0.7093361463514497\n",
            "(Iteration 17901 / 32790) loss: 0.7381321490745951\n",
            "(Iteration 18001 / 32790) loss: 0.5891432993750694\n",
            "(Iteration 18101 / 32790) loss: 0.3292388637218206\n",
            "(Iteration 18201 / 32790) loss: 0.4555378329704544\n",
            "(Iteration 18301 / 32790) loss: 0.39403941696095535\n",
            "(Iteration 18401 / 32790) loss: 0.6561567066499232\n",
            "(Iteration 18501 / 32790) loss: 0.4638055414725983\n",
            "(Epoch 17 / 30) Training Accuracy: 0.8480196499846484, Validation Accuracy: 0.8480196499846484\n",
            "(Iteration 18601 / 32790) loss: 0.36205810222531426\n",
            "(Iteration 18701 / 32790) loss: 0.5799358158481082\n",
            "(Iteration 18801 / 32790) loss: 0.5306156580011032\n",
            "(Iteration 18901 / 32790) loss: 0.45179451645779134\n",
            "(Iteration 19001 / 32790) loss: 0.3255168366541828\n",
            "(Iteration 19101 / 32790) loss: 0.32236518752352256\n",
            "(Iteration 19201 / 32790) loss: 0.5312840988375894\n",
            "(Iteration 19301 / 32790) loss: 0.4303934642618337\n",
            "(Iteration 19401 / 32790) loss: 0.5028305576090182\n",
            "(Iteration 19501 / 32790) loss: 0.4788464146682324\n",
            "(Iteration 19601 / 32790) loss: 0.37670767188980797\n",
            "(Epoch 18 / 30) Training Accuracy: 0.8467915259441203, Validation Accuracy: 0.8467915259441203\n",
            "(Iteration 19701 / 32790) loss: 0.5859040962478504\n",
            "(Iteration 19801 / 32790) loss: 0.5249888298891221\n",
            "(Iteration 19901 / 32790) loss: 0.535769254693816\n",
            "(Iteration 20001 / 32790) loss: 0.5714909483213974\n",
            "(Iteration 20101 / 32790) loss: 0.3751970873694892\n",
            "(Iteration 20201 / 32790) loss: 0.23878733583778772\n",
            "(Iteration 20301 / 32790) loss: 0.5593438209703893\n",
            "(Iteration 20401 / 32790) loss: 0.6556960962778968\n",
            "(Iteration 20501 / 32790) loss: 0.4233450763855758\n",
            "(Iteration 20601 / 32790) loss: 0.5320316000952889\n",
            "(Iteration 20701 / 32790) loss: 0.6367569975295437\n",
            "(Epoch 19 / 30) Training Accuracy: 0.8513969910961007, Validation Accuracy: 0.8513969910961007\n",
            "(Iteration 20801 / 32790) loss: 0.3696770735554472\n",
            "(Iteration 20901 / 32790) loss: 0.40450704111429536\n",
            "(Iteration 21001 / 32790) loss: 0.2826301379681826\n",
            "(Iteration 21101 / 32790) loss: 0.5414549080953177\n",
            "(Iteration 21201 / 32790) loss: 0.5856577718133873\n",
            "(Iteration 21301 / 32790) loss: 0.34498926800706997\n",
            "(Iteration 21401 / 32790) loss: 0.4476170149713456\n",
            "(Iteration 21501 / 32790) loss: 0.5348406185209547\n",
            "(Iteration 21601 / 32790) loss: 0.8052670854745405\n",
            "(Iteration 21701 / 32790) loss: 0.6093624197600429\n",
            "(Iteration 21801 / 32790) loss: 0.2880126602102994\n",
            "(Epoch 20 / 30) Training Accuracy: 0.8461774639238563, Validation Accuracy: 0.8461774639238563\n",
            "(Iteration 21901 / 32790) loss: 0.538334000100431\n",
            "(Iteration 22001 / 32790) loss: 0.44448690936125757\n",
            "(Iteration 22101 / 32790) loss: 0.5227280136103655\n",
            "(Iteration 22201 / 32790) loss: 0.25246183770916236\n",
            "(Iteration 22301 / 32790) loss: 0.21034725142126898\n",
            "(Iteration 22401 / 32790) loss: 0.2492293318039813\n",
            "(Iteration 22501 / 32790) loss: 0.5177665401088689\n",
            "(Iteration 22601 / 32790) loss: 0.20870284626042265\n",
            "(Iteration 22701 / 32790) loss: 0.3135078757742051\n",
            "(Iteration 22801 / 32790) loss: 0.4241270001440228\n",
            "(Iteration 22901 / 32790) loss: 0.41525762027345825\n",
            "(Epoch 21 / 30) Training Accuracy: 0.8483266809947805, Validation Accuracy: 0.8483266809947805\n",
            "(Iteration 23001 / 32790) loss: 0.6448130403694287\n",
            "(Iteration 23101 / 32790) loss: 0.43564026216585056\n",
            "(Iteration 23201 / 32790) loss: 0.4876286915494837\n",
            "(Iteration 23301 / 32790) loss: 0.3616634592961966\n",
            "(Iteration 23401 / 32790) loss: 0.45466134607946285\n",
            "(Iteration 23501 / 32790) loss: 0.5017688011282291\n",
            "(Iteration 23601 / 32790) loss: 0.441276335242699\n",
            "(Iteration 23701 / 32790) loss: 0.36651720110149144\n",
            "(Iteration 23801 / 32790) loss: 0.8429378269461747\n",
            "(Iteration 23901 / 32790) loss: 0.5875286237641065\n",
            "(Iteration 24001 / 32790) loss: 0.6600239207554388\n",
            "(Epoch 22 / 30) Training Accuracy: 0.8461774639238563, Validation Accuracy: 0.8461774639238563\n",
            "(Iteration 24101 / 32790) loss: 0.47081283510280786\n",
            "(Iteration 24201 / 32790) loss: 0.32407578904194617\n",
            "(Iteration 24301 / 32790) loss: 0.6472447649953725\n",
            "(Iteration 24401 / 32790) loss: 0.43761625451401953\n",
            "(Iteration 24501 / 32790) loss: 0.4988911739826466\n",
            "(Iteration 24601 / 32790) loss: 0.48811106240591595\n",
            "(Iteration 24701 / 32790) loss: 0.5275879955014077\n",
            "(Iteration 24801 / 32790) loss: 0.5417228905599103\n",
            "(Iteration 24901 / 32790) loss: 0.3780155422881037\n",
            "(Iteration 25001 / 32790) loss: 0.5843554084555174\n",
            "(Iteration 25101 / 32790) loss: 0.49397604467553013\n",
            "(Epoch 23 / 30) Training Accuracy: 0.8495548050353086, Validation Accuracy: 0.8495548050353086\n",
            "(Iteration 25201 / 32790) loss: 0.8379848423220819\n",
            "(Iteration 25301 / 32790) loss: 0.7917749040011253\n",
            "(Iteration 25401 / 32790) loss: 0.4094408862911896\n",
            "(Iteration 25501 / 32790) loss: 0.3649508875363538\n",
            "(Iteration 25601 / 32790) loss: 0.41872132893751224\n",
            "(Iteration 25701 / 32790) loss: 0.4894952425973557\n",
            "(Iteration 25801 / 32790) loss: 0.5806216387251707\n",
            "(Iteration 25901 / 32790) loss: 0.5156552533831609\n",
            "(Iteration 26001 / 32790) loss: 0.2686543888711924\n",
            "(Iteration 26101 / 32790) loss: 0.39857804541128183\n",
            "(Iteration 26201 / 32790) loss: 0.5202604476941423\n",
            "(Epoch 24 / 30) Training Accuracy: 0.8492477740251766, Validation Accuracy: 0.8492477740251766\n",
            "(Iteration 26301 / 32790) loss: 0.5590877674273268\n",
            "(Iteration 26401 / 32790) loss: 0.5027147879098036\n",
            "(Iteration 26501 / 32790) loss: 0.39767838592410076\n",
            "(Iteration 26601 / 32790) loss: 0.5295771705361694\n",
            "(Iteration 26701 / 32790) loss: 0.32586787920908933\n",
            "(Iteration 26801 / 32790) loss: 0.32835035385771966\n",
            "(Iteration 26901 / 32790) loss: 0.24921890093323154\n",
            "(Iteration 27001 / 32790) loss: 0.3981687973839662\n",
            "(Iteration 27101 / 32790) loss: 0.42372399345758116\n",
            "(Iteration 27201 / 32790) loss: 0.2738248521205441\n",
            "(Iteration 27301 / 32790) loss: 0.4161001633543897\n",
            "(Epoch 25 / 30) Training Accuracy: 0.8526251151366288, Validation Accuracy: 0.8526251151366288\n",
            "(Iteration 27401 / 32790) loss: 0.40805756356796546\n",
            "(Iteration 27501 / 32790) loss: 0.4876217361211712\n",
            "(Iteration 27601 / 32790) loss: 0.7772914590065944\n"
          ]
        },
        {
          "name": "stdout",
          "output_type": "stream",
          "text": [
            "(Iteration 27701 / 32790) loss: 0.3648675847729193\n",
            "(Iteration 27801 / 32790) loss: 0.6450150647975149\n",
            "(Iteration 27901 / 32790) loss: 0.309974391650557\n",
            "(Iteration 28001 / 32790) loss: 0.46004085996475896\n",
            "(Iteration 28101 / 32790) loss: 0.4118920826501961\n",
            "(Iteration 28201 / 32790) loss: 0.3048765054408141\n",
            "(Iteration 28301 / 32790) loss: 0.4794593241097952\n",
            "(Iteration 28401 / 32790) loss: 0.3029555816971934\n",
            "(Epoch 26 / 30) Training Accuracy: 0.8477126189745164, Validation Accuracy: 0.8477126189745164\n",
            "(Iteration 28501 / 32790) loss: 0.52275513626093\n",
            "(Iteration 28601 / 32790) loss: 0.2990836839917971\n",
            "(Iteration 28701 / 32790) loss: 0.3712957353769521\n",
            "(Iteration 28801 / 32790) loss: 0.5068222443642054\n",
            "(Iteration 28901 / 32790) loss: 0.4912292616314555\n",
            "(Iteration 29001 / 32790) loss: 0.5592316246287051\n",
            "(Iteration 29101 / 32790) loss: 0.30903458803076256\n",
            "(Iteration 29201 / 32790) loss: 0.3555704720039362\n",
            "(Iteration 29301 / 32790) loss: 0.3128504934262014\n",
            "(Iteration 29401 / 32790) loss: 0.27995062137469334\n",
            "(Iteration 29501 / 32790) loss: 0.3928284082482327\n",
            "(Epoch 27 / 30) Training Accuracy: 0.8510899600859687, Validation Accuracy: 0.8510899600859687\n",
            "(Iteration 29601 / 32790) loss: 0.3307666747983906\n",
            "(Iteration 29701 / 32790) loss: 0.34136155969969356\n",
            "(Iteration 29801 / 32790) loss: 0.6141103732139805\n",
            "(Iteration 29901 / 32790) loss: 0.5992197476236265\n",
            "(Iteration 30001 / 32790) loss: 0.46604630263995467\n",
            "(Iteration 30101 / 32790) loss: 0.5051304797087036\n",
            "(Iteration 30201 / 32790) loss: 0.3979979085935246\n",
            "(Iteration 30301 / 32790) loss: 0.45689204077511614\n",
            "(Iteration 30401 / 32790) loss: 0.4165213167397712\n",
            "(Iteration 30501 / 32790) loss: 0.38935615204478846\n",
            "(Iteration 30601 / 32790) loss: 0.3805495919089527\n",
            "(Epoch 28 / 30) Training Accuracy: 0.8535462081670249, Validation Accuracy: 0.8535462081670249\n",
            "(Iteration 30701 / 32790) loss: 0.44433151917544317\n",
            "(Iteration 30801 / 32790) loss: 0.38419686276674136\n",
            "(Iteration 30901 / 32790) loss: 0.4397739677890872\n",
            "(Iteration 31001 / 32790) loss: 0.6787426337328779\n",
            "(Iteration 31101 / 32790) loss: 0.2144943577832309\n",
            "(Iteration 31201 / 32790) loss: 0.5063726263732495\n",
            "(Iteration 31301 / 32790) loss: 0.46487141477467325\n",
            "(Iteration 31401 / 32790) loss: 0.37309962235235616\n",
            "(Iteration 31501 / 32790) loss: 0.37155796532447644\n",
            "(Iteration 31601 / 32790) loss: 0.48716881155322006\n",
            "(Epoch 29 / 30) Training Accuracy: 0.8566165182683451, Validation Accuracy: 0.8566165182683451\n",
            "(Iteration 31701 / 32790) loss: 0.574970957240442\n",
            "(Iteration 31801 / 32790) loss: 0.19248378186866194\n",
            "(Iteration 31901 / 32790) loss: 0.3362218174485105\n",
            "(Iteration 32001 / 32790) loss: 0.3257394176181624\n",
            "(Iteration 32101 / 32790) loss: 0.5830050184778519\n",
            "(Iteration 32201 / 32790) loss: 0.5030054130308692\n",
            "(Iteration 32301 / 32790) loss: 0.38137465742545423\n",
            "(Iteration 32401 / 32790) loss: 0.27073530231447307\n",
            "(Iteration 32501 / 32790) loss: 0.14622737129034247\n",
            "(Iteration 32601 / 32790) loss: 0.3353448107555894\n",
            "(Iteration 32701 / 32790) loss: 0.5059201542483237\n",
            "(Epoch 30 / 30) Training Accuracy: 0.8520110531163647, Validation Accuracy: 0.8520110531163647\n"
          ]
        }
      ],
      "source": [
        "%reload_ext autoreload\n",
        "\n",
        "seed = 123\n",
        "np.random.seed(seed=seed)\n",
        "\n",
        "model = SmallConvolutionalNetwork()\n",
        "loss_f = cross_entropy()\n",
        "\n",
        "\n",
        "results = None\n",
        "#############################################################################\n",
        "# TODO: Use the train_net function you completed to train a network         #\n",
        "#############################################################################\n",
        "#optimizer = SGDM(model.net, 1.75e-2, momentum=0.9)\n",
        "optimizer = Adam(model.net)\n",
        "\n",
        "batch_size = 64\n",
        "epochs = 30\n",
        "lr_decay = 0.5\n",
        "lr_decay_every = 100\n",
        "\n",
        "#############################################################################\n",
        "#                             END OF YOUR CODE                              #\n",
        "#############################################################################\n",
        "results = train_net(data_dict, model, loss_f, optimizer, batch_size, epochs, \n",
        "                    lr_decay, lr_decay_every, show_every=100, verbose=True)\n",
        "opt_params, loss_hist, train_acc_hist, val_acc_hist = results"
      ]
    },
    {
      "cell_type": "markdown",
      "metadata": {
        "id": "caugskImDv6t"
      },
      "source": [
        "Run the code below to generate the training plots."
      ]
    },
    {
      "cell_type": "code",
      "execution_count": null,
      "metadata": {
        "id": "toASDJfJDv6u",
        "outputId": "f0a376c1-e1b8-48c6-d49b-0d7b3a7809b4"
      },
      "outputs": [
        {
          "data": {
            "image/png": "[encoded data removed]",
            "text/plain": [
              "<Figure size 1080x864 with 2 Axes>"
            ]
          },
          "metadata": {
            "needs_background": "light"
          },
          "output_type": "display_data"
        }
      ],
      "source": [
        "%reload_ext autoreload\n",
        "\n",
        "opt_params, loss_hist, train_acc_hist, val_acc_hist = results\n",
        "\n",
        "# Plot the learning curves\n",
        "plt.subplot(2, 1, 1)\n",
        "plt.title('Training loss')\n",
        "loss_hist_ = loss_hist[1::100]  # sparse the curve a bit\n",
        "plt.plot(loss_hist_, '-o')\n",
        "plt.xlabel('Iteration')\n",
        "\n",
        "plt.subplot(2, 1, 2)\n",
        "plt.title('Accuracy')\n",
        "plt.plot(train_acc_hist, '-o', label='Training')\n",
        "plt.plot(val_acc_hist, '-o', label='Validation')\n",
        "plt.xlabel('Epoch')\n",
        "plt.legend(loc='lower right')\n",
        "plt.gcf().set_size_inches(15, 12)\n",
        "\n",
        "plt.show()"
      ]
    },
    {
      "cell_type": "markdown",
      "metadata": {
        "id": "tE-JmemSDv6u"
      },
      "source": [
        "### Visualizing Layers \n",
        "\n",
        "An interesting finding from early research in convolutional networks was that the learned convolutions resembled filters used for things like edge detection. Complete the code below to visualize the filters in the first convolutional layer of your best model."
      ]
    },
    {
      "cell_type": "code",
      "execution_count": null,
      "metadata": {
        "id": "PYV08uDIDv6u",
        "outputId": "5cb2e7de-fd54-4360-a6ac-40cbf75e5fc8"
      },
      "outputs": [
        {
          "data": {
            "image/png": "[encoded data removed]",
            "text/plain": [
              "<Figure size 576x432 with 48 Axes>"
            ]
          },
          "metadata": {},
          "output_type": "display_data"
        }
      ],
      "source": [
        "im_array = None\n",
        "nrows, ncols = None, None\n",
        "\n",
        "###################################################\n",
        "# TODO: read the weights in the convolutional     #\n",
        "# layer and reshape them to a grid of images to   #\n",
        "# view with matplotlib.                           #\n",
        "###################################################\n",
        "filters = model.net.get_params(\"conv2D_1_w\")\n",
        "\n",
        "im_array = filters\n",
        "min_ = np.min(im_array)\n",
        "im_array -= min_\n",
        "max_ = np.max(im_array)\n",
        "im_array = im_array*255/max_\n",
        "\n",
        "\n",
        "counter = 1\n",
        "\n",
        "\n",
        "plt.figure(figsize=(8,6))\n",
        "for i in range(im_array.shape[-1]):\n",
        "    f = filters[:, :, :, i]\n",
        "    for j in range(3):\n",
        "        ax = plt.subplot(im_array.shape[-1], 3, counter)\n",
        "        ax.set_xticks([])\n",
        "        ax.set_yticks([])\n",
        "\n",
        "        plt.imshow(f[:, :, j], cmap='gray')\n",
        "        counter += 1\n",
        "###################################################\n",
        "#                END OF YOUR CODE                 #\n",
        "###################################################\n",
        "\n",
        "#plt.imshow()"
      ]
    },
    {
      "cell_type": "markdown",
      "metadata": {
        "id": "moo4avtHDv6v"
      },
      "source": [
        "#### Inline Question: Comment below on what kinds of filters you see. \n",
        "\n",
        ">Answer:\n",
        "Actually I see all type of different filters. Most of them seem to be edge detection filters where the center is dark and the outside is bright. Rarely, I see some low-pass (evening) filters where all of the filters in the 3x3 square look similar."
      ]
    },
    {
      "cell_type": "markdown",
      "metadata": {
        "id": "8mEh8-FMDv6v"
      },
      "source": [
        ""
      ]
    },
    {
      "cell_type": "code",
      "execution_count": null,
      "metadata": {
        "id": "H0hFqH3KDv6v"
      },
      "outputs": [],
      "source": [
        ""
      ]
    }
  ],
  "metadata": {
    "kernelspec": {
      "display_name": "Python 3",
      "language": "python",
      "name": "python3"
    },
    "language_info": {
      "codemirror_mode": {
        "name": "ipython",
        "version": 3
      },
      "file_extension": ".py",
      "mimetype": "text/x-python",
      "name": "python",
      "nbconvert_exporter": "python",
      "pygments_lexer": "ipython3",
      "version": "3.8.8"
    },
    "colab": {
      "name": "Creating a Convolution Neural Network",
      "provenance": [],
      "collapsed_sections": [],
      "include_colab_link": true
    }
  },
  "nbformat": 4,
  "nbformat_minor": 0
}